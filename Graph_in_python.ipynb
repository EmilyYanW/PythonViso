{
 "cells": [
  {
   "cell_type": "code",
   "execution_count": 2,
   "metadata": {
    "collapsed": false,
    "deletable": true,
    "editable": true
   },
   "outputs": [
    {
     "data": {
      "text/html": [
       "<script>requirejs.config({paths: { 'plotly': ['https://cdn.plot.ly/plotly-latest.min']},});if(!window.Plotly) {{require(['plotly'],function(plotly) {window.Plotly=plotly;});}}</script>"
      ],
      "text/vnd.plotly.v1+html": [
       "<script>requirejs.config({paths: { 'plotly': ['https://cdn.plot.ly/plotly-latest.min']},});if(!window.Plotly) {{require(['plotly'],function(plotly) {window.Plotly=plotly;});}}</script>"
      ]
     },
     "metadata": {},
     "output_type": "display_data"
    }
   ],
   "source": [
    "import plotly.offline as offline\n",
    "import plotly.plotly as py\n",
    "from plotly.graph_objs import *\n",
    "import pandas as pd\n",
    "\n",
    "import networkx as nx\n",
    "offline.init_notebook_mode(connected=True)\n"
   ]
  },
  {
   "cell_type": "markdown",
   "metadata": {
    "deletable": true,
    "editable": true
   },
   "source": [
    "## Load File, Cetnral Name, Match Role"
   ]
  },
  {
   "cell_type": "code",
   "execution_count": 3,
   "metadata": {
    "collapsed": false,
    "deletable": true,
    "editable": true
   },
   "outputs": [
    {
     "name": "stdout",
     "output_type": "stream",
     "text": [
      "518\n"
     ]
    },
    {
     "data": {
      "text/plain": [
       "458"
      ]
     },
     "execution_count": 3,
     "metadata": {},
     "output_type": "execute_result"
    }
   ],
   "source": [
    "df = pd.read_csv('TEST_Network.csv')\n",
    "central_name = 'Talia P Thomas'\n",
    "df['Checked_Out_Book']=df['InvolvementType'].map({'SUSPECT':0,'VICTIM':1,'WITNESS/OTHER':2})\n",
    "print(len(df))\n",
    "names = df['FullName'].unique()\n",
    "len(names)"
   ]
  },
  {
   "cell_type": "markdown",
   "metadata": {
    "deletable": true,
    "editable": true
   },
   "source": [
    "## Include Roles"
   ]
  },
  {
   "cell_type": "code",
   "execution_count": 4,
   "metadata": {
    "collapsed": false,
    "deletable": true,
    "editable": true
   },
   "outputs": [
    {
     "data": {
      "text/html": [
       "<div>\n",
       "<style>\n",
       "    .dataframe thead tr:only-child th {\n",
       "        text-align: right;\n",
       "    }\n",
       "\n",
       "    .dataframe thead th {\n",
       "        text-align: left;\n",
       "    }\n",
       "\n",
       "    .dataframe tbody tr th {\n",
       "        vertical-align: top;\n",
       "    }\n",
       "</style>\n",
       "<table border=\"1\" class=\"dataframe\">\n",
       "  <thead>\n",
       "    <tr style=\"text-align: right;\">\n",
       "      <th></th>\n",
       "      <th>IncidentNumber</th>\n",
       "      <th>Agency</th>\n",
       "      <th>Code</th>\n",
       "      <th>IncidentDate</th>\n",
       "      <th>FirstName</th>\n",
       "      <th>MiddleName</th>\n",
       "      <th>LastName</th>\n",
       "      <th>FullName</th>\n",
       "      <th>DOB</th>\n",
       "      <th>DLNumber</th>\n",
       "      <th>IncidentLocationStreetAddress</th>\n",
       "      <th>IncidentCity</th>\n",
       "      <th>CrimeType</th>\n",
       "      <th>InvolvementType</th>\n",
       "      <th>Checked_Out_Book</th>\n",
       "    </tr>\n",
       "  </thead>\n",
       "  <tbody>\n",
       "    <tr>\n",
       "      <th>0</th>\n",
       "      <td>2015124371</td>\n",
       "      <td>SPD</td>\n",
       "      <td>SPD2015124371</td>\n",
       "      <td>16/04/2015</td>\n",
       "      <td>Talia</td>\n",
       "      <td>P</td>\n",
       "      <td>Thomas</td>\n",
       "      <td>Talia P Thomas</td>\n",
       "      <td>16/08/2000</td>\n",
       "      <td>NaN</td>\n",
       "      <td>13000 LAKE CITY WY NE</td>\n",
       "      <td>Seattle</td>\n",
       "      <td>Theft-Shoplift</td>\n",
       "      <td>SUSPECT</td>\n",
       "      <td>0</td>\n",
       "    </tr>\n",
       "    <tr>\n",
       "      <th>1</th>\n",
       "      <td>201600008455</td>\n",
       "      <td>RNTPD</td>\n",
       "      <td>RNTPD201600008455</td>\n",
       "      <td>03/07/2016</td>\n",
       "      <td>Samir</td>\n",
       "      <td>NaN</td>\n",
       "      <td>Mohammad</td>\n",
       "      <td>Samir  Mohammad</td>\n",
       "      <td>23/05/1988</td>\n",
       "      <td>MOHAMS*124K3</td>\n",
       "      <td>225 SUNSET BLVD N</td>\n",
       "      <td>Renton</td>\n",
       "      <td>6189 Theft +$201 All Other</td>\n",
       "      <td>WITNESS/OTHER</td>\n",
       "      <td>2</td>\n",
       "    </tr>\n",
       "    <tr>\n",
       "      <th>2</th>\n",
       "      <td>201600011828</td>\n",
       "      <td>RNTPD</td>\n",
       "      <td>RNTPD201600011828</td>\n",
       "      <td>17/09/2016</td>\n",
       "      <td>Nidia</td>\n",
       "      <td>NaN</td>\n",
       "      <td>Jimenez</td>\n",
       "      <td>Nidia  Jimenez</td>\n",
       "      <td>29/11/2001</td>\n",
       "      <td>NaN</td>\n",
       "      <td>601 S GRADY WAY</td>\n",
       "      <td>Renton</td>\n",
       "      <td>3134 Robbery-Firearms-Convenienc</td>\n",
       "      <td>WITNESS/OTHER</td>\n",
       "      <td>2</td>\n",
       "    </tr>\n",
       "    <tr>\n",
       "      <th>3</th>\n",
       "      <td>201600013928</td>\n",
       "      <td>RNTPD</td>\n",
       "      <td>RNTPD201600013928</td>\n",
       "      <td>31/10/2016</td>\n",
       "      <td>Dan</td>\n",
       "      <td>C</td>\n",
       "      <td>Oliver</td>\n",
       "      <td>Dan C Oliver</td>\n",
       "      <td>20/09/1998</td>\n",
       "      <td>OLIVEDC628OD</td>\n",
       "      <td>1190 UNION AVE NE</td>\n",
       "      <td>Renton</td>\n",
       "      <td>7200 Motor Vehic Theft-Truck/Bus</td>\n",
       "      <td>WITNESS/OTHER</td>\n",
       "      <td>2</td>\n",
       "    </tr>\n",
       "    <tr>\n",
       "      <th>4</th>\n",
       "      <td>201600011828</td>\n",
       "      <td>RNTPD</td>\n",
       "      <td>RNTPD201600011828</td>\n",
       "      <td>17/09/2016</td>\n",
       "      <td>Courtney</td>\n",
       "      <td>M</td>\n",
       "      <td>Hill</td>\n",
       "      <td>Courtney M Hill</td>\n",
       "      <td>07/01/2002</td>\n",
       "      <td>NaN</td>\n",
       "      <td>601 S GRADY WAY</td>\n",
       "      <td>Renton</td>\n",
       "      <td>3134 Robbery-Firearms-Convenienc</td>\n",
       "      <td>WITNESS/OTHER</td>\n",
       "      <td>2</td>\n",
       "    </tr>\n",
       "    <tr>\n",
       "      <th>5</th>\n",
       "      <td>201600014936</td>\n",
       "      <td>RNTPD</td>\n",
       "      <td>RNTPD201600014936</td>\n",
       "      <td>21/11/2016</td>\n",
       "      <td>Griselda</td>\n",
       "      <td>Lisett</td>\n",
       "      <td>Carrillo</td>\n",
       "      <td>Griselda Lisett Carrillo</td>\n",
       "      <td>14/09/1999</td>\n",
       "      <td>CARRIGL016OM</td>\n",
       "      <td>SHATTUCK AVE S &amp; S TOBIN ST</td>\n",
       "      <td>Renton</td>\n",
       "      <td>2693 Recovery OSA Stolen Vehicle</td>\n",
       "      <td>WITNESS/OTHER</td>\n",
       "      <td>2</td>\n",
       "    </tr>\n",
       "    <tr>\n",
       "      <th>6</th>\n",
       "      <td>201600011828</td>\n",
       "      <td>RNTPD</td>\n",
       "      <td>RNTPD201600011828</td>\n",
       "      <td>17/09/2016</td>\n",
       "      <td>Jazmayne</td>\n",
       "      <td>O</td>\n",
       "      <td>Valleieu</td>\n",
       "      <td>Jazmayne O Valleieu</td>\n",
       "      <td>09/06/2002</td>\n",
       "      <td>NaN</td>\n",
       "      <td>601 S GRADY WAY</td>\n",
       "      <td>Renton</td>\n",
       "      <td>3134 Robbery-Firearms-Convenienc</td>\n",
       "      <td>WITNESS/OTHER</td>\n",
       "      <td>2</td>\n",
       "    </tr>\n",
       "    <tr>\n",
       "      <th>7</th>\n",
       "      <td>201500009860</td>\n",
       "      <td>RNTPD</td>\n",
       "      <td>RNTPD201500009860</td>\n",
       "      <td>26/08/2015</td>\n",
       "      <td>Levi</td>\n",
       "      <td>Lynn</td>\n",
       "      <td>Russell</td>\n",
       "      <td>Levi Lynn Russell</td>\n",
       "      <td>23/05/1999</td>\n",
       "      <td>NaN</td>\n",
       "      <td>1150 UNION AVE NE</td>\n",
       "      <td>Renton</td>\n",
       "      <td>0292 Malicious Mischief</td>\n",
       "      <td>WITNESS/OTHER</td>\n",
       "      <td>2</td>\n",
       "    </tr>\n",
       "    <tr>\n",
       "      <th>8</th>\n",
       "      <td>201600002138</td>\n",
       "      <td>RNTPD</td>\n",
       "      <td>RNTPD201600002138</td>\n",
       "      <td>03/02/2016</td>\n",
       "      <td>Marco</td>\n",
       "      <td>A</td>\n",
       "      <td>Ontiveros-Guterrez</td>\n",
       "      <td>Marco A Ontiveros-Guterrez</td>\n",
       "      <td>14/09/1977</td>\n",
       "      <td>ONTIVMA234OM</td>\n",
       "      <td>1032 EDMONDS AVE NE</td>\n",
       "      <td>Renton</td>\n",
       "      <td>0021 Forcible Rape</td>\n",
       "      <td>WITNESS/OTHER</td>\n",
       "      <td>2</td>\n",
       "    </tr>\n",
       "    <tr>\n",
       "      <th>9</th>\n",
       "      <td>201600013875</td>\n",
       "      <td>RNTPD</td>\n",
       "      <td>RNTPD201600013875</td>\n",
       "      <td>30/10/2016</td>\n",
       "      <td>Ramla</td>\n",
       "      <td>M</td>\n",
       "      <td>Ibrahim</td>\n",
       "      <td>Ramla M Ibrahim</td>\n",
       "      <td>19/10/2000</td>\n",
       "      <td>IBRAHRM009C4</td>\n",
       "      <td>3000 SE ROYAL HILLS DR</td>\n",
       "      <td>Renton</td>\n",
       "      <td>5000 Domestic Dispute</td>\n",
       "      <td>WITNESS/OTHER</td>\n",
       "      <td>2</td>\n",
       "    </tr>\n",
       "    <tr>\n",
       "      <th>10</th>\n",
       "      <td>201500003298</td>\n",
       "      <td>RNTPD</td>\n",
       "      <td>RNTPD201500003298</td>\n",
       "      <td>21/03/2015</td>\n",
       "      <td>Steven</td>\n",
       "      <td>L</td>\n",
       "      <td>Spicer</td>\n",
       "      <td>Steven L Spicer</td>\n",
       "      <td>04/03/1983</td>\n",
       "      <td>NaN</td>\n",
       "      <td>743 RAINIER AVE S</td>\n",
       "      <td>Renton</td>\n",
       "      <td>6383 Theft $0-49 Shoplift</td>\n",
       "      <td>WITNESS/OTHER</td>\n",
       "      <td>2</td>\n",
       "    </tr>\n",
       "    <tr>\n",
       "      <th>11</th>\n",
       "      <td>201500009860</td>\n",
       "      <td>RNTPD</td>\n",
       "      <td>RNTPD201500009860</td>\n",
       "      <td>26/08/2015</td>\n",
       "      <td>Richard</td>\n",
       "      <td>NaN</td>\n",
       "      <td>Ortiz</td>\n",
       "      <td>Richard  Ortiz</td>\n",
       "      <td>NaN</td>\n",
       "      <td>NaN</td>\n",
       "      <td>1150 UNION AVE NE</td>\n",
       "      <td>Renton</td>\n",
       "      <td>0292 Malicious Mischief</td>\n",
       "      <td>WITNESS/OTHER</td>\n",
       "      <td>2</td>\n",
       "    </tr>\n",
       "    <tr>\n",
       "      <th>12</th>\n",
       "      <td>201500009860</td>\n",
       "      <td>RNTPD</td>\n",
       "      <td>RNTPD201500009860</td>\n",
       "      <td>26/08/2015</td>\n",
       "      <td>Elana</td>\n",
       "      <td>NaN</td>\n",
       "      <td>Mosiez</td>\n",
       "      <td>Elana  Mosiez</td>\n",
       "      <td>NaN</td>\n",
       "      <td>NaN</td>\n",
       "      <td>1150 UNION AVE NE</td>\n",
       "      <td>Renton</td>\n",
       "      <td>0292 Malicious Mischief</td>\n",
       "      <td>WITNESS/OTHER</td>\n",
       "      <td>2</td>\n",
       "    </tr>\n",
       "    <tr>\n",
       "      <th>13</th>\n",
       "      <td>201600006861</td>\n",
       "      <td>RNTPD</td>\n",
       "      <td>RNTPD201600006861</td>\n",
       "      <td>28/05/2016</td>\n",
       "      <td>Steven</td>\n",
       "      <td>P</td>\n",
       "      <td>Holm</td>\n",
       "      <td>Steven P Holm</td>\n",
       "      <td>08/04/1994</td>\n",
       "      <td>NaN</td>\n",
       "      <td>900 SE CARR RD</td>\n",
       "      <td>Renton</td>\n",
       "      <td>2693 Recovery OSA Stolen Vehicle</td>\n",
       "      <td>WITNESS/OTHER</td>\n",
       "      <td>2</td>\n",
       "    </tr>\n",
       "    <tr>\n",
       "      <th>14</th>\n",
       "      <td>201505299</td>\n",
       "      <td>TUKPD</td>\n",
       "      <td>TUKPD201505299</td>\n",
       "      <td>01/08/2015</td>\n",
       "      <td>Rushanique</td>\n",
       "      <td>Zhona</td>\n",
       "      <td>Jack</td>\n",
       "      <td>Rushanique Zhona Jack</td>\n",
       "      <td>08/07/1998</td>\n",
       "      <td>JACK*RZ022MZ</td>\n",
       "      <td>301 Strander Blvd</td>\n",
       "      <td>Tukwila</td>\n",
       "      <td>063 83 Theft 3 - Shoplifting</td>\n",
       "      <td>SUSPECT</td>\n",
       "      <td>0</td>\n",
       "    </tr>\n",
       "    <tr>\n",
       "      <th>15</th>\n",
       "      <td>201605121</td>\n",
       "      <td>TUKPD</td>\n",
       "      <td>TUKPD201605121</td>\n",
       "      <td>13/07/2016</td>\n",
       "      <td>Susan</td>\n",
       "      <td>Sek</td>\n",
       "      <td>Deng</td>\n",
       "      <td>Susan Sek Deng</td>\n",
       "      <td>09/06/1989</td>\n",
       "      <td>DENG*SS1173Z</td>\n",
       "      <td>16400 WVH</td>\n",
       "      <td>Tukwila</td>\n",
       "      <td>434 Traffic Violation - Criminal</td>\n",
       "      <td>SUSPECT</td>\n",
       "      <td>0</td>\n",
       "    </tr>\n",
       "    <tr>\n",
       "      <th>16</th>\n",
       "      <td>150008057</td>\n",
       "      <td>KNTPD</td>\n",
       "      <td>KNTPD150008057</td>\n",
       "      <td>14/06/2015</td>\n",
       "      <td>Laura</td>\n",
       "      <td>C</td>\n",
       "      <td>Alvarez</td>\n",
       "      <td>Laura C Alvarez</td>\n",
       "      <td>25/12/1974</td>\n",
       "      <td>ALVARLC260R5</td>\n",
       "      <td>1208 CENTRAL AV N</td>\n",
       "      <td>Kent</td>\n",
       "      <td>ROBBERY (A)</td>\n",
       "      <td>WITNESS/OTHER</td>\n",
       "      <td>2</td>\n",
       "    </tr>\n",
       "    <tr>\n",
       "      <th>17</th>\n",
       "      <td>150013894</td>\n",
       "      <td>KNTPD</td>\n",
       "      <td>KNTPD150013894</td>\n",
       "      <td>03/10/2015</td>\n",
       "      <td>Amanda</td>\n",
       "      <td>J</td>\n",
       "      <td>Blauer</td>\n",
       "      <td>Amanda J Blauer</td>\n",
       "      <td>29/08/1987</td>\n",
       "      <td>NaN</td>\n",
       "      <td>26301 104 AV SE</td>\n",
       "      <td>Kent</td>\n",
       "      <td>THEFT (A)</td>\n",
       "      <td>WITNESS/OTHER</td>\n",
       "      <td>2</td>\n",
       "    </tr>\n",
       "    <tr>\n",
       "      <th>18</th>\n",
       "      <td>170009342</td>\n",
       "      <td>KNTPD</td>\n",
       "      <td>KNTPD170009342</td>\n",
       "      <td>16/06/2017</td>\n",
       "      <td>Gary</td>\n",
       "      <td>T</td>\n",
       "      <td>Dean</td>\n",
       "      <td>Gary T Dean</td>\n",
       "      <td>02/12/1958</td>\n",
       "      <td>NaN</td>\n",
       "      <td>26301 104 AV SE</td>\n",
       "      <td>Kent</td>\n",
       "      <td>THEFT (A)</td>\n",
       "      <td>SUSPECT</td>\n",
       "      <td>0</td>\n",
       "    </tr>\n",
       "    <tr>\n",
       "      <th>19</th>\n",
       "      <td>170008271</td>\n",
       "      <td>KNTPD</td>\n",
       "      <td>KNTPD170008271</td>\n",
       "      <td>26/05/2017</td>\n",
       "      <td>Alexis</td>\n",
       "      <td>Michael</td>\n",
       "      <td>Valencia</td>\n",
       "      <td>Alexis Michael Valencia</td>\n",
       "      <td>16/03/1991</td>\n",
       "      <td>VALENAM010LC</td>\n",
       "      <td>105 WASHINGTON AV N</td>\n",
       "      <td>Kent</td>\n",
       "      <td>THEFT (A)</td>\n",
       "      <td>SUSPECT</td>\n",
       "      <td>0</td>\n",
       "    </tr>\n",
       "    <tr>\n",
       "      <th>20</th>\n",
       "      <td>170004100</td>\n",
       "      <td>KNTPD</td>\n",
       "      <td>KNTPD170004100</td>\n",
       "      <td>14/03/2017</td>\n",
       "      <td>Caden</td>\n",
       "      <td>Curtis</td>\n",
       "      <td>Rudin</td>\n",
       "      <td>Caden Curtis Rudin</td>\n",
       "      <td>19/01/1998</td>\n",
       "      <td>RUDINCC024BR</td>\n",
       "      <td>100 E RUSSELL ST</td>\n",
       "      <td>Kent</td>\n",
       "      <td>ID THEFT (A)</td>\n",
       "      <td>SUSPECT</td>\n",
       "      <td>0</td>\n",
       "    </tr>\n",
       "    <tr>\n",
       "      <th>21</th>\n",
       "      <td>150012067</td>\n",
       "      <td>KNTPD</td>\n",
       "      <td>KNTPD150012067</td>\n",
       "      <td>29/08/2015</td>\n",
       "      <td>Dolores</td>\n",
       "      <td>NaN</td>\n",
       "      <td>Raygoza</td>\n",
       "      <td>Dolores  Raygoza</td>\n",
       "      <td>10/05/1962</td>\n",
       "      <td>NaN</td>\n",
       "      <td>23900 MILITARY RD S</td>\n",
       "      <td>Kent</td>\n",
       "      <td>DRIVERS LICENSE (N)</td>\n",
       "      <td>SUSPECT</td>\n",
       "      <td>0</td>\n",
       "    </tr>\n",
       "    <tr>\n",
       "      <th>22</th>\n",
       "      <td>160003116</td>\n",
       "      <td>KNTPD</td>\n",
       "      <td>KNTPD160003116</td>\n",
       "      <td>01/03/2016</td>\n",
       "      <td>Edgar</td>\n",
       "      <td>NaN</td>\n",
       "      <td>Valdovinos</td>\n",
       "      <td>Edgar  Valdovinos</td>\n",
       "      <td>16/04/1990</td>\n",
       "      <td>102JW</td>\n",
       "      <td>1500 W MEEKER ST</td>\n",
       "      <td>Kent</td>\n",
       "      <td>ORDER VIOLATION (A)</td>\n",
       "      <td>SUSPECT</td>\n",
       "      <td>0</td>\n",
       "    </tr>\n",
       "    <tr>\n",
       "      <th>23</th>\n",
       "      <td>150008590</td>\n",
       "      <td>KNTPD</td>\n",
       "      <td>KNTPD150008590</td>\n",
       "      <td>24/06/2015</td>\n",
       "      <td>John</td>\n",
       "      <td>Terry</td>\n",
       "      <td>Manery</td>\n",
       "      <td>John Terry Manery</td>\n",
       "      <td>05/01/1989</td>\n",
       "      <td>NaN</td>\n",
       "      <td>24415 64 AV S #94</td>\n",
       "      <td>Kent</td>\n",
       "      <td>ASSAULT (A)</td>\n",
       "      <td>SUSPECT</td>\n",
       "      <td>0</td>\n",
       "    </tr>\n",
       "    <tr>\n",
       "      <th>24</th>\n",
       "      <td>170003927</td>\n",
       "      <td>KNTPD</td>\n",
       "      <td>KNTPD170003927</td>\n",
       "      <td>11/03/2017</td>\n",
       "      <td>Jeffrey</td>\n",
       "      <td>D</td>\n",
       "      <td>Harris</td>\n",
       "      <td>Jeffrey D Harris</td>\n",
       "      <td>04/05/1963</td>\n",
       "      <td>HARRIJD375KD</td>\n",
       "      <td>25250 PACIFIC HWY S</td>\n",
       "      <td>Kent</td>\n",
       "      <td>ASSAULT (A)</td>\n",
       "      <td>SUSPECT</td>\n",
       "      <td>0</td>\n",
       "    </tr>\n",
       "    <tr>\n",
       "      <th>25</th>\n",
       "      <td>160018507</td>\n",
       "      <td>KNTPD</td>\n",
       "      <td>KNTPD160018507</td>\n",
       "      <td>26/11/2016</td>\n",
       "      <td>Kai</td>\n",
       "      <td>Aaron</td>\n",
       "      <td>Okawara</td>\n",
       "      <td>Kai Aaron Okawara</td>\n",
       "      <td>18/03/2001</td>\n",
       "      <td>NaN</td>\n",
       "      <td>26301 104 AV SE</td>\n",
       "      <td>Kent</td>\n",
       "      <td>THEFT (A)</td>\n",
       "      <td>SUSPECT</td>\n",
       "      <td>0</td>\n",
       "    </tr>\n",
       "    <tr>\n",
       "      <th>26</th>\n",
       "      <td>170008598</td>\n",
       "      <td>KNTPD</td>\n",
       "      <td>KNTPD170008598</td>\n",
       "      <td>01/06/2017</td>\n",
       "      <td>Robert</td>\n",
       "      <td>David</td>\n",
       "      <td>Hanson</td>\n",
       "      <td>Robert David Hanson</td>\n",
       "      <td>25/02/2001</td>\n",
       "      <td>HANSORD994C5</td>\n",
       "      <td>26301 104 AV SE</td>\n",
       "      <td>Kent</td>\n",
       "      <td>THEFT (A)</td>\n",
       "      <td>SUSPECT</td>\n",
       "      <td>0</td>\n",
       "    </tr>\n",
       "    <tr>\n",
       "      <th>27</th>\n",
       "      <td>170002243</td>\n",
       "      <td>KNTPD</td>\n",
       "      <td>KNTPD170002243</td>\n",
       "      <td>09/02/2017</td>\n",
       "      <td>Robert</td>\n",
       "      <td>David</td>\n",
       "      <td>Hanson</td>\n",
       "      <td>Robert David Hanson</td>\n",
       "      <td>25/02/2001</td>\n",
       "      <td>HANSORD994C5</td>\n",
       "      <td>22845 105 PL SE</td>\n",
       "      <td>Kent</td>\n",
       "      <td>THEFT (A)</td>\n",
       "      <td>SUSPECT</td>\n",
       "      <td>0</td>\n",
       "    </tr>\n",
       "    <tr>\n",
       "      <th>28</th>\n",
       "      <td>170050109</td>\n",
       "      <td>KNTPD</td>\n",
       "      <td>KNTPD170050109</td>\n",
       "      <td>20/01/2017</td>\n",
       "      <td>Robert</td>\n",
       "      <td>David</td>\n",
       "      <td>Hanson</td>\n",
       "      <td>Robert David Hanson</td>\n",
       "      <td>25/02/2001</td>\n",
       "      <td>HANSORD994C5</td>\n",
       "      <td>22845 105 PL SE</td>\n",
       "      <td>Kent</td>\n",
       "      <td>HIT AND RUN-PROP DMG (N)</td>\n",
       "      <td>SUSPECT</td>\n",
       "      <td>0</td>\n",
       "    </tr>\n",
       "    <tr>\n",
       "      <th>29</th>\n",
       "      <td>150051875</td>\n",
       "      <td>KNTPD</td>\n",
       "      <td>KNTPD150051875</td>\n",
       "      <td>24/11/2015</td>\n",
       "      <td>Robert</td>\n",
       "      <td>David</td>\n",
       "      <td>Hanson</td>\n",
       "      <td>Robert David Hanson</td>\n",
       "      <td>25/02/2001</td>\n",
       "      <td>HANSORD994C5</td>\n",
       "      <td>22845 105 PL SE</td>\n",
       "      <td>Kent</td>\n",
       "      <td>THEFT (A)</td>\n",
       "      <td>SUSPECT</td>\n",
       "      <td>0</td>\n",
       "    </tr>\n",
       "    <tr>\n",
       "      <th>...</th>\n",
       "      <td>...</td>\n",
       "      <td>...</td>\n",
       "      <td>...</td>\n",
       "      <td>...</td>\n",
       "      <td>...</td>\n",
       "      <td>...</td>\n",
       "      <td>...</td>\n",
       "      <td>...</td>\n",
       "      <td>...</td>\n",
       "      <td>...</td>\n",
       "      <td>...</td>\n",
       "      <td>...</td>\n",
       "      <td>...</td>\n",
       "      <td>...</td>\n",
       "      <td>...</td>\n",
       "    </tr>\n",
       "    <tr>\n",
       "      <th>489</th>\n",
       "      <td>170006108</td>\n",
       "      <td>KNTPD</td>\n",
       "      <td>KNTPD170006108</td>\n",
       "      <td>18/04/2017</td>\n",
       "      <td>Maria</td>\n",
       "      <td>NaN</td>\n",
       "      <td>Marques</td>\n",
       "      <td>Maria  Marques</td>\n",
       "      <td>26/11/1977</td>\n",
       "      <td>NaN</td>\n",
       "      <td>1513 W MEEKER ST</td>\n",
       "      <td>Kent</td>\n",
       "      <td>HOMICIDE (A)</td>\n",
       "      <td>WITNESS/OTHER</td>\n",
       "      <td>2</td>\n",
       "    </tr>\n",
       "    <tr>\n",
       "      <th>490</th>\n",
       "      <td>170006108</td>\n",
       "      <td>KNTPD</td>\n",
       "      <td>KNTPD170006108</td>\n",
       "      <td>18/04/2017</td>\n",
       "      <td>Mario</td>\n",
       "      <td>NaN</td>\n",
       "      <td>Garcias</td>\n",
       "      <td>Mario  Garcias</td>\n",
       "      <td>21/04/1992</td>\n",
       "      <td>NaN</td>\n",
       "      <td>1513 W MEEKER ST</td>\n",
       "      <td>Kent</td>\n",
       "      <td>HOMICIDE (A)</td>\n",
       "      <td>WITNESS/OTHER</td>\n",
       "      <td>2</td>\n",
       "    </tr>\n",
       "    <tr>\n",
       "      <th>491</th>\n",
       "      <td>160006355</td>\n",
       "      <td>KNTPD</td>\n",
       "      <td>KNTPD160006355</td>\n",
       "      <td>29/04/2016</td>\n",
       "      <td>Mark</td>\n",
       "      <td>Allen</td>\n",
       "      <td>Dumler</td>\n",
       "      <td>Mark Allen Dumler</td>\n",
       "      <td>17/10/1956</td>\n",
       "      <td>NaN</td>\n",
       "      <td>21600 116 AV SE</td>\n",
       "      <td>Kent</td>\n",
       "      <td>PSV (A)</td>\n",
       "      <td>WITNESS/OTHER</td>\n",
       "      <td>2</td>\n",
       "    </tr>\n",
       "    <tr>\n",
       "      <th>492</th>\n",
       "      <td>170006108</td>\n",
       "      <td>KNTPD</td>\n",
       "      <td>KNTPD170006108</td>\n",
       "      <td>18/04/2017</td>\n",
       "      <td>Mary</td>\n",
       "      <td>M</td>\n",
       "      <td>Gomiez</td>\n",
       "      <td>Mary M Gomiez</td>\n",
       "      <td>13/08/1944</td>\n",
       "      <td>NaN</td>\n",
       "      <td>1513 W MEEKER ST</td>\n",
       "      <td>Kent</td>\n",
       "      <td>HOMICIDE (A)</td>\n",
       "      <td>WITNESS/OTHER</td>\n",
       "      <td>2</td>\n",
       "    </tr>\n",
       "    <tr>\n",
       "      <th>493</th>\n",
       "      <td>150008477</td>\n",
       "      <td>KNTPD</td>\n",
       "      <td>KNTPD150008477</td>\n",
       "      <td>22/06/2015</td>\n",
       "      <td>Melshiw</td>\n",
       "      <td>T</td>\n",
       "      <td>Amare</td>\n",
       "      <td>Melshiw T Amare</td>\n",
       "      <td>10/12/1984</td>\n",
       "      <td>NaN</td>\n",
       "      <td>10715 SE 240 ST</td>\n",
       "      <td>Kent</td>\n",
       "      <td>ASSAULT (A)</td>\n",
       "      <td>WITNESS/OTHER</td>\n",
       "      <td>2</td>\n",
       "    </tr>\n",
       "    <tr>\n",
       "      <th>494</th>\n",
       "      <td>150010126</td>\n",
       "      <td>KNTPD</td>\n",
       "      <td>KNTPD150010126</td>\n",
       "      <td>24/07/2015</td>\n",
       "      <td>Michael</td>\n",
       "      <td>J</td>\n",
       "      <td>Gerspach</td>\n",
       "      <td>Michael J Gerspach</td>\n",
       "      <td>27/07/1966</td>\n",
       "      <td>NaN</td>\n",
       "      <td>1313 W MEEKER ST</td>\n",
       "      <td>Kent</td>\n",
       "      <td>MAL MISCH (A)</td>\n",
       "      <td>WITNESS/OTHER</td>\n",
       "      <td>2</td>\n",
       "    </tr>\n",
       "    <tr>\n",
       "      <th>495</th>\n",
       "      <td>160006998</td>\n",
       "      <td>KNTPD</td>\n",
       "      <td>KNTPD160006998</td>\n",
       "      <td>11/05/2016</td>\n",
       "      <td>Michael</td>\n",
       "      <td>J</td>\n",
       "      <td>Martini</td>\n",
       "      <td>Michael J Martini</td>\n",
       "      <td>22/03/1975</td>\n",
       "      <td>NaN</td>\n",
       "      <td>26850 72 AV S</td>\n",
       "      <td>Kent</td>\n",
       "      <td>VEHICLE THEFT (A)</td>\n",
       "      <td>WITNESS/OTHER</td>\n",
       "      <td>2</td>\n",
       "    </tr>\n",
       "    <tr>\n",
       "      <th>496</th>\n",
       "      <td>170005307</td>\n",
       "      <td>KNTPD</td>\n",
       "      <td>KNTPD170005307</td>\n",
       "      <td>03/04/2017</td>\n",
       "      <td>Nicholas</td>\n",
       "      <td>T</td>\n",
       "      <td>Arnette</td>\n",
       "      <td>Nicholas T Arnette</td>\n",
       "      <td>24/05/1995</td>\n",
       "      <td>NaN</td>\n",
       "      <td>105 WASHINGTON AV N</td>\n",
       "      <td>Kent</td>\n",
       "      <td>THEFT (A)</td>\n",
       "      <td>WITNESS/OTHER</td>\n",
       "      <td>2</td>\n",
       "    </tr>\n",
       "    <tr>\n",
       "      <th>497</th>\n",
       "      <td>160016410</td>\n",
       "      <td>KNTPD</td>\n",
       "      <td>KNTPD160016410</td>\n",
       "      <td>21/10/2016</td>\n",
       "      <td>Nicolas</td>\n",
       "      <td>P</td>\n",
       "      <td>Mcartor</td>\n",
       "      <td>Nicolas P Mcartor</td>\n",
       "      <td>30/07/1999</td>\n",
       "      <td>NaN</td>\n",
       "      <td>18010 EAST VALLEY HWY S</td>\n",
       "      <td>Kent</td>\n",
       "      <td>ASSAULT (A)</td>\n",
       "      <td>WITNESS/OTHER</td>\n",
       "      <td>2</td>\n",
       "    </tr>\n",
       "    <tr>\n",
       "      <th>498</th>\n",
       "      <td>170006108</td>\n",
       "      <td>KNTPD</td>\n",
       "      <td>KNTPD170006108</td>\n",
       "      <td>18/04/2017</td>\n",
       "      <td>Oswald</td>\n",
       "      <td>NaN</td>\n",
       "      <td>Reyes</td>\n",
       "      <td>Oswald  Reyes</td>\n",
       "      <td>NaN</td>\n",
       "      <td>NaN</td>\n",
       "      <td>1513 W MEEKER ST</td>\n",
       "      <td>Kent</td>\n",
       "      <td>HOMICIDE (A)</td>\n",
       "      <td>WITNESS/OTHER</td>\n",
       "      <td>2</td>\n",
       "    </tr>\n",
       "    <tr>\n",
       "      <th>499</th>\n",
       "      <td>170010458</td>\n",
       "      <td>KNTPD</td>\n",
       "      <td>KNTPD170010458</td>\n",
       "      <td>08/07/2017</td>\n",
       "      <td>Rachel</td>\n",
       "      <td>L</td>\n",
       "      <td>Wilkinson</td>\n",
       "      <td>Rachel L Wilkinson</td>\n",
       "      <td>15/05/1976</td>\n",
       "      <td>NaN</td>\n",
       "      <td>10225 SE 256 ST</td>\n",
       "      <td>Kent</td>\n",
       "      <td>DUI (B)</td>\n",
       "      <td>WITNESS/OTHER</td>\n",
       "      <td>2</td>\n",
       "    </tr>\n",
       "    <tr>\n",
       "      <th>500</th>\n",
       "      <td>160020349</td>\n",
       "      <td>KNTPD</td>\n",
       "      <td>KNTPD160020349</td>\n",
       "      <td>30/12/2016</td>\n",
       "      <td>Rey</td>\n",
       "      <td>J</td>\n",
       "      <td>Shekona</td>\n",
       "      <td>Rey J Shekona</td>\n",
       "      <td>15/03/1999</td>\n",
       "      <td>NaN</td>\n",
       "      <td>15232 SE 272 ST #39</td>\n",
       "      <td>Kent</td>\n",
       "      <td>ASSAULT (A)</td>\n",
       "      <td>WITNESS/OTHER</td>\n",
       "      <td>2</td>\n",
       "    </tr>\n",
       "    <tr>\n",
       "      <th>501</th>\n",
       "      <td>170000736</td>\n",
       "      <td>KNTPD</td>\n",
       "      <td>KNTPD170000736</td>\n",
       "      <td>13/01/2017</td>\n",
       "      <td>Ricardo</td>\n",
       "      <td>Fernando</td>\n",
       "      <td>Valencia-Alvarez</td>\n",
       "      <td>Ricardo Fernando Valencia-Alvarez</td>\n",
       "      <td>02/08/2000</td>\n",
       "      <td>VALENRF001NB</td>\n",
       "      <td>10921 SE 256 PL #O104</td>\n",
       "      <td>Kent</td>\n",
       "      <td>RUNAWAY (N)</td>\n",
       "      <td>WITNESS/OTHER</td>\n",
       "      <td>2</td>\n",
       "    </tr>\n",
       "    <tr>\n",
       "      <th>502</th>\n",
       "      <td>160020349</td>\n",
       "      <td>KNTPD</td>\n",
       "      <td>KNTPD160020349</td>\n",
       "      <td>30/12/2016</td>\n",
       "      <td>Rid</td>\n",
       "      <td>I</td>\n",
       "      <td>Ibrih</td>\n",
       "      <td>Rid I Ibrih</td>\n",
       "      <td>10/04/2000</td>\n",
       "      <td>NaN</td>\n",
       "      <td>15232 SE 272 ST #39</td>\n",
       "      <td>Kent</td>\n",
       "      <td>ASSAULT (A)</td>\n",
       "      <td>WITNESS/OTHER</td>\n",
       "      <td>2</td>\n",
       "    </tr>\n",
       "    <tr>\n",
       "      <th>503</th>\n",
       "      <td>150015822</td>\n",
       "      <td>KNTPD</td>\n",
       "      <td>KNTPD150015822</td>\n",
       "      <td>09/11/2015</td>\n",
       "      <td>Rosa</td>\n",
       "      <td>M</td>\n",
       "      <td>Huerta-De-Valdovinos</td>\n",
       "      <td>Rosa M Huerta-De-Valdovinos</td>\n",
       "      <td>29/08/1958</td>\n",
       "      <td>NaN</td>\n",
       "      <td>24500 RUSSELL RD S #36</td>\n",
       "      <td>Kent</td>\n",
       "      <td>ORDER VIOLATION (A)</td>\n",
       "      <td>WITNESS/OTHER</td>\n",
       "      <td>2</td>\n",
       "    </tr>\n",
       "    <tr>\n",
       "      <th>504</th>\n",
       "      <td>170004228</td>\n",
       "      <td>KNTPD</td>\n",
       "      <td>KNTPD170004228</td>\n",
       "      <td>16/03/2017</td>\n",
       "      <td>Sarah</td>\n",
       "      <td>M</td>\n",
       "      <td>Dorman</td>\n",
       "      <td>Sarah M Dorman</td>\n",
       "      <td>14/09/1974</td>\n",
       "      <td>NaN</td>\n",
       "      <td>24400 64 AV S</td>\n",
       "      <td>Kent</td>\n",
       "      <td>WEAPON (A)</td>\n",
       "      <td>WITNESS/OTHER</td>\n",
       "      <td>2</td>\n",
       "    </tr>\n",
       "    <tr>\n",
       "      <th>505</th>\n",
       "      <td>170002497</td>\n",
       "      <td>KNTPD</td>\n",
       "      <td>KNTPD170002497</td>\n",
       "      <td>14/02/2017</td>\n",
       "      <td>Suzanne</td>\n",
       "      <td>L</td>\n",
       "      <td>Pfaff</td>\n",
       "      <td>Suzanne L Pfaff</td>\n",
       "      <td>15/08/1964</td>\n",
       "      <td>NaN</td>\n",
       "      <td>11816 SE 231 PL</td>\n",
       "      <td>Kent</td>\n",
       "      <td>TRESPASS (B)</td>\n",
       "      <td>WITNESS/OTHER</td>\n",
       "      <td>2</td>\n",
       "    </tr>\n",
       "    <tr>\n",
       "      <th>506</th>\n",
       "      <td>150014423</td>\n",
       "      <td>KNTPD</td>\n",
       "      <td>KNTPD150014423</td>\n",
       "      <td>13/10/2015</td>\n",
       "      <td>Tamela</td>\n",
       "      <td>R</td>\n",
       "      <td>Seamans</td>\n",
       "      <td>Tamela R Seamans</td>\n",
       "      <td>07/06/1994</td>\n",
       "      <td>NaN</td>\n",
       "      <td>26301 104 AV SE</td>\n",
       "      <td>Kent</td>\n",
       "      <td>THEFT (A)</td>\n",
       "      <td>WITNESS/OTHER</td>\n",
       "      <td>2</td>\n",
       "    </tr>\n",
       "    <tr>\n",
       "      <th>507</th>\n",
       "      <td>170006108</td>\n",
       "      <td>KNTPD</td>\n",
       "      <td>KNTPD170006108</td>\n",
       "      <td>18/04/2017</td>\n",
       "      <td>Taryn</td>\n",
       "      <td>J</td>\n",
       "      <td>Howard</td>\n",
       "      <td>Taryn J Howard</td>\n",
       "      <td>31/05/1962</td>\n",
       "      <td>NaN</td>\n",
       "      <td>1513 W MEEKER ST</td>\n",
       "      <td>Kent</td>\n",
       "      <td>HOMICIDE (A)</td>\n",
       "      <td>WITNESS/OTHER</td>\n",
       "      <td>2</td>\n",
       "    </tr>\n",
       "    <tr>\n",
       "      <th>508</th>\n",
       "      <td>160020394</td>\n",
       "      <td>KNTPD</td>\n",
       "      <td>KNTPD160020394</td>\n",
       "      <td>31/12/2016</td>\n",
       "      <td>Tawny</td>\n",
       "      <td>L</td>\n",
       "      <td>Fournier</td>\n",
       "      <td>Tawny L Fournier</td>\n",
       "      <td>10/04/1989</td>\n",
       "      <td>FOURNTL115JW</td>\n",
       "      <td>25615 109 AV SE</td>\n",
       "      <td>Kent</td>\n",
       "      <td>ASSAULT (A)</td>\n",
       "      <td>WITNESS/OTHER</td>\n",
       "      <td>2</td>\n",
       "    </tr>\n",
       "    <tr>\n",
       "      <th>509</th>\n",
       "      <td>170008968</td>\n",
       "      <td>KNTPD</td>\n",
       "      <td>KNTPD170008968</td>\n",
       "      <td>09/06/2017</td>\n",
       "      <td>Thanjavur</td>\n",
       "      <td>N</td>\n",
       "      <td>Manavalan</td>\n",
       "      <td>Thanjavur N Manavalan</td>\n",
       "      <td>29/08/1960</td>\n",
       "      <td>NaN</td>\n",
       "      <td>11712 SE 233 PL</td>\n",
       "      <td>Kent</td>\n",
       "      <td>TRESPASS (B)</td>\n",
       "      <td>WITNESS/OTHER</td>\n",
       "      <td>2</td>\n",
       "    </tr>\n",
       "    <tr>\n",
       "      <th>510</th>\n",
       "      <td>160016054</td>\n",
       "      <td>KNTPD</td>\n",
       "      <td>KNTPD160016054</td>\n",
       "      <td>16/10/2016</td>\n",
       "      <td>Theresa</td>\n",
       "      <td>NaN</td>\n",
       "      <td>Solis</td>\n",
       "      <td>Theresa  Solis</td>\n",
       "      <td>31/01/1991</td>\n",
       "      <td>NaN</td>\n",
       "      <td>11604 SE 221 ST</td>\n",
       "      <td>Kent</td>\n",
       "      <td>SUSPICIOUS CIRCS (N)</td>\n",
       "      <td>WITNESS/OTHER</td>\n",
       "      <td>2</td>\n",
       "    </tr>\n",
       "    <tr>\n",
       "      <th>511</th>\n",
       "      <td>170006108</td>\n",
       "      <td>KNTPD</td>\n",
       "      <td>KNTPD170006108</td>\n",
       "      <td>18/04/2017</td>\n",
       "      <td>Thomas</td>\n",
       "      <td>G</td>\n",
       "      <td>Evenson</td>\n",
       "      <td>Thomas G Evenson</td>\n",
       "      <td>03/12/1969</td>\n",
       "      <td>NaN</td>\n",
       "      <td>1513 W MEEKER ST</td>\n",
       "      <td>Kent</td>\n",
       "      <td>HOMICIDE (A)</td>\n",
       "      <td>WITNESS/OTHER</td>\n",
       "      <td>2</td>\n",
       "    </tr>\n",
       "    <tr>\n",
       "      <th>512</th>\n",
       "      <td>160020349</td>\n",
       "      <td>KNTPD</td>\n",
       "      <td>KNTPD160020349</td>\n",
       "      <td>30/12/2016</td>\n",
       "      <td>Timothy</td>\n",
       "      <td>Marshall</td>\n",
       "      <td>Westwood</td>\n",
       "      <td>Timothy Marshall Westwood</td>\n",
       "      <td>17/08/2001</td>\n",
       "      <td>NaN</td>\n",
       "      <td>15232 SE 272 ST #39</td>\n",
       "      <td>Kent</td>\n",
       "      <td>ASSAULT (A)</td>\n",
       "      <td>WITNESS/OTHER</td>\n",
       "      <td>2</td>\n",
       "    </tr>\n",
       "    <tr>\n",
       "      <th>513</th>\n",
       "      <td>150015856</td>\n",
       "      <td>KNTPD</td>\n",
       "      <td>KNTPD150015856</td>\n",
       "      <td>09/11/2015</td>\n",
       "      <td>Tracie</td>\n",
       "      <td>L</td>\n",
       "      <td>Hurd</td>\n",
       "      <td>Tracie L Hurd</td>\n",
       "      <td>22/06/1980</td>\n",
       "      <td>NaN</td>\n",
       "      <td>20500 108 AV SE</td>\n",
       "      <td>Kent</td>\n",
       "      <td>COLLISION (N)</td>\n",
       "      <td>WITNESS/OTHER</td>\n",
       "      <td>2</td>\n",
       "    </tr>\n",
       "    <tr>\n",
       "      <th>514</th>\n",
       "      <td>160016410</td>\n",
       "      <td>KNTPD</td>\n",
       "      <td>KNTPD160016410</td>\n",
       "      <td>21/10/2016</td>\n",
       "      <td>Tylor</td>\n",
       "      <td>D</td>\n",
       "      <td>Lacktorin</td>\n",
       "      <td>Tylor D Lacktorin</td>\n",
       "      <td>05/03/1997</td>\n",
       "      <td>NaN</td>\n",
       "      <td>18010 EAST VALLEY HWY S</td>\n",
       "      <td>Kent</td>\n",
       "      <td>ASSAULT (A)</td>\n",
       "      <td>WITNESS/OTHER</td>\n",
       "      <td>2</td>\n",
       "    </tr>\n",
       "    <tr>\n",
       "      <th>515</th>\n",
       "      <td>170005178</td>\n",
       "      <td>KNTPD</td>\n",
       "      <td>KNTPD170005178</td>\n",
       "      <td>01/04/2017</td>\n",
       "      <td>Vincent</td>\n",
       "      <td>C</td>\n",
       "      <td>Mcqueen</td>\n",
       "      <td>Vincent C Mcqueen</td>\n",
       "      <td>04/07/1988</td>\n",
       "      <td>NaN</td>\n",
       "      <td>12931 SE 275 ST SE</td>\n",
       "      <td>Kent</td>\n",
       "      <td>VEHICLE THEFT (A)</td>\n",
       "      <td>WITNESS/OTHER</td>\n",
       "      <td>2</td>\n",
       "    </tr>\n",
       "    <tr>\n",
       "      <th>516</th>\n",
       "      <td>150003943</td>\n",
       "      <td>KNTPD</td>\n",
       "      <td>KNTPD150003943</td>\n",
       "      <td>26/03/2015</td>\n",
       "      <td>Yoshiko</td>\n",
       "      <td>NaN</td>\n",
       "      <td>Morgus</td>\n",
       "      <td>Yoshiko  Morgus</td>\n",
       "      <td>12/10/1957</td>\n",
       "      <td>NaN</td>\n",
       "      <td>25621 27 PL S #C104</td>\n",
       "      <td>Kent</td>\n",
       "      <td>ROBBERY (A)</td>\n",
       "      <td>WITNESS/OTHER</td>\n",
       "      <td>2</td>\n",
       "    </tr>\n",
       "    <tr>\n",
       "      <th>517</th>\n",
       "      <td>170006108</td>\n",
       "      <td>KNTPD</td>\n",
       "      <td>KNTPD170006108</td>\n",
       "      <td>18/04/2017</td>\n",
       "      <td>Young</td>\n",
       "      <td>NaN</td>\n",
       "      <td>Chon</td>\n",
       "      <td>Young  Chon</td>\n",
       "      <td>26/04/1950</td>\n",
       "      <td>NaN</td>\n",
       "      <td>1513 W MEEKER ST</td>\n",
       "      <td>Kent</td>\n",
       "      <td>HOMICIDE (A)</td>\n",
       "      <td>WITNESS/OTHER</td>\n",
       "      <td>2</td>\n",
       "    </tr>\n",
       "    <tr>\n",
       "      <th>518</th>\n",
       "      <td>2015375738</td>\n",
       "      <td>SPD</td>\n",
       "      <td>SPD2015375738</td>\n",
       "      <td>27/10/2015</td>\n",
       "      <td>Maria</td>\n",
       "      <td>NaN</td>\n",
       "      <td>Bautista</td>\n",
       "      <td>Maria  Bautista</td>\n",
       "      <td>02/02/1961</td>\n",
       "      <td>NaN</td>\n",
       "      <td>GREENWOOD AVE N &amp; N 120 ST</td>\n",
       "      <td>Seattle</td>\n",
       "      <td>Collision - Traffic</td>\n",
       "      <td>WITNESS/OTHER</td>\n",
       "      <td>2</td>\n",
       "    </tr>\n",
       "  </tbody>\n",
       "</table>\n",
       "<p>519 rows × 15 columns</p>\n",
       "</div>"
      ],
      "text/plain": [
       "    IncidentNumber Agency               Code IncidentDate   FirstName  \\\n",
       "0       2015124371    SPD      SPD2015124371   16/04/2015       Talia   \n",
       "1     201600008455  RNTPD  RNTPD201600008455   03/07/2016       Samir   \n",
       "2     201600011828  RNTPD  RNTPD201600011828   17/09/2016       Nidia   \n",
       "3     201600013928  RNTPD  RNTPD201600013928   31/10/2016         Dan   \n",
       "4     201600011828  RNTPD  RNTPD201600011828   17/09/2016    Courtney   \n",
       "5     201600014936  RNTPD  RNTPD201600014936   21/11/2016    Griselda   \n",
       "6     201600011828  RNTPD  RNTPD201600011828   17/09/2016    Jazmayne   \n",
       "7     201500009860  RNTPD  RNTPD201500009860   26/08/2015        Levi   \n",
       "8     201600002138  RNTPD  RNTPD201600002138   03/02/2016       Marco   \n",
       "9     201600013875  RNTPD  RNTPD201600013875   30/10/2016       Ramla   \n",
       "10    201500003298  RNTPD  RNTPD201500003298   21/03/2015      Steven   \n",
       "11    201500009860  RNTPD  RNTPD201500009860   26/08/2015     Richard   \n",
       "12    201500009860  RNTPD  RNTPD201500009860   26/08/2015       Elana   \n",
       "13    201600006861  RNTPD  RNTPD201600006861   28/05/2016      Steven   \n",
       "14       201505299  TUKPD     TUKPD201505299   01/08/2015  Rushanique   \n",
       "15       201605121  TUKPD     TUKPD201605121   13/07/2016       Susan   \n",
       "16       150008057  KNTPD     KNTPD150008057   14/06/2015       Laura   \n",
       "17       150013894  KNTPD     KNTPD150013894   03/10/2015      Amanda   \n",
       "18       170009342  KNTPD     KNTPD170009342   16/06/2017        Gary   \n",
       "19       170008271  KNTPD     KNTPD170008271   26/05/2017      Alexis   \n",
       "20       170004100  KNTPD     KNTPD170004100   14/03/2017       Caden   \n",
       "21       150012067  KNTPD     KNTPD150012067   29/08/2015     Dolores   \n",
       "22       160003116  KNTPD     KNTPD160003116   01/03/2016       Edgar   \n",
       "23       150008590  KNTPD     KNTPD150008590   24/06/2015        John   \n",
       "24       170003927  KNTPD     KNTPD170003927   11/03/2017     Jeffrey   \n",
       "25       160018507  KNTPD     KNTPD160018507   26/11/2016         Kai   \n",
       "26       170008598  KNTPD     KNTPD170008598   01/06/2017      Robert   \n",
       "27       170002243  KNTPD     KNTPD170002243   09/02/2017      Robert   \n",
       "28       170050109  KNTPD     KNTPD170050109   20/01/2017      Robert   \n",
       "29       150051875  KNTPD     KNTPD150051875   24/11/2015      Robert   \n",
       "..             ...    ...                ...          ...         ...   \n",
       "489      170006108  KNTPD     KNTPD170006108   18/04/2017       Maria   \n",
       "490      170006108  KNTPD     KNTPD170006108   18/04/2017       Mario   \n",
       "491      160006355  KNTPD     KNTPD160006355   29/04/2016        Mark   \n",
       "492      170006108  KNTPD     KNTPD170006108   18/04/2017        Mary   \n",
       "493      150008477  KNTPD     KNTPD150008477   22/06/2015     Melshiw   \n",
       "494      150010126  KNTPD     KNTPD150010126   24/07/2015     Michael   \n",
       "495      160006998  KNTPD     KNTPD160006998   11/05/2016     Michael   \n",
       "496      170005307  KNTPD     KNTPD170005307   03/04/2017    Nicholas   \n",
       "497      160016410  KNTPD     KNTPD160016410   21/10/2016     Nicolas   \n",
       "498      170006108  KNTPD     KNTPD170006108   18/04/2017      Oswald   \n",
       "499      170010458  KNTPD     KNTPD170010458   08/07/2017      Rachel   \n",
       "500      160020349  KNTPD     KNTPD160020349   30/12/2016         Rey   \n",
       "501      170000736  KNTPD     KNTPD170000736   13/01/2017     Ricardo   \n",
       "502      160020349  KNTPD     KNTPD160020349   30/12/2016         Rid   \n",
       "503      150015822  KNTPD     KNTPD150015822   09/11/2015        Rosa   \n",
       "504      170004228  KNTPD     KNTPD170004228   16/03/2017       Sarah   \n",
       "505      170002497  KNTPD     KNTPD170002497   14/02/2017     Suzanne   \n",
       "506      150014423  KNTPD     KNTPD150014423   13/10/2015      Tamela   \n",
       "507      170006108  KNTPD     KNTPD170006108   18/04/2017       Taryn   \n",
       "508      160020394  KNTPD     KNTPD160020394   31/12/2016       Tawny   \n",
       "509      170008968  KNTPD     KNTPD170008968   09/06/2017   Thanjavur   \n",
       "510      160016054  KNTPD     KNTPD160016054   16/10/2016     Theresa   \n",
       "511      170006108  KNTPD     KNTPD170006108   18/04/2017      Thomas   \n",
       "512      160020349  KNTPD     KNTPD160020349   30/12/2016     Timothy   \n",
       "513      150015856  KNTPD     KNTPD150015856   09/11/2015      Tracie   \n",
       "514      160016410  KNTPD     KNTPD160016410   21/10/2016       Tylor   \n",
       "515      170005178  KNTPD     KNTPD170005178   01/04/2017     Vincent   \n",
       "516      150003943  KNTPD     KNTPD150003943   26/03/2015     Yoshiko   \n",
       "517      170006108  KNTPD     KNTPD170006108   18/04/2017       Young   \n",
       "518     2015375738    SPD      SPD2015375738   27/10/2015       Maria   \n",
       "\n",
       "    MiddleName              LastName                           FullName  \\\n",
       "0            P                Thomas                     Talia P Thomas   \n",
       "1          NaN              Mohammad                    Samir  Mohammad   \n",
       "2          NaN               Jimenez                     Nidia  Jimenez   \n",
       "3            C                Oliver                       Dan C Oliver   \n",
       "4            M                  Hill                    Courtney M Hill   \n",
       "5       Lisett              Carrillo           Griselda Lisett Carrillo   \n",
       "6            O              Valleieu                Jazmayne O Valleieu   \n",
       "7         Lynn               Russell                  Levi Lynn Russell   \n",
       "8            A    Ontiveros-Guterrez         Marco A Ontiveros-Guterrez   \n",
       "9            M               Ibrahim                    Ramla M Ibrahim   \n",
       "10           L                Spicer                    Steven L Spicer   \n",
       "11         NaN                 Ortiz                     Richard  Ortiz   \n",
       "12         NaN                Mosiez                      Elana  Mosiez   \n",
       "13           P                  Holm                      Steven P Holm   \n",
       "14       Zhona                  Jack              Rushanique Zhona Jack   \n",
       "15         Sek                  Deng                     Susan Sek Deng   \n",
       "16           C               Alvarez                    Laura C Alvarez   \n",
       "17           J                Blauer                    Amanda J Blauer   \n",
       "18           T                  Dean                        Gary T Dean   \n",
       "19     Michael              Valencia            Alexis Michael Valencia   \n",
       "20      Curtis                 Rudin                 Caden Curtis Rudin   \n",
       "21         NaN               Raygoza                   Dolores  Raygoza   \n",
       "22         NaN            Valdovinos                  Edgar  Valdovinos   \n",
       "23       Terry                Manery                  John Terry Manery   \n",
       "24           D                Harris                   Jeffrey D Harris   \n",
       "25       Aaron               Okawara                  Kai Aaron Okawara   \n",
       "26       David                Hanson                Robert David Hanson   \n",
       "27       David                Hanson                Robert David Hanson   \n",
       "28       David                Hanson                Robert David Hanson   \n",
       "29       David                Hanson                Robert David Hanson   \n",
       "..         ...                   ...                                ...   \n",
       "489        NaN               Marques                     Maria  Marques   \n",
       "490        NaN               Garcias                     Mario  Garcias   \n",
       "491      Allen                Dumler                  Mark Allen Dumler   \n",
       "492          M                Gomiez                      Mary M Gomiez   \n",
       "493          T                 Amare                    Melshiw T Amare   \n",
       "494          J              Gerspach                 Michael J Gerspach   \n",
       "495          J               Martini                  Michael J Martini   \n",
       "496          T               Arnette                 Nicholas T Arnette   \n",
       "497          P               Mcartor                  Nicolas P Mcartor   \n",
       "498        NaN                 Reyes                      Oswald  Reyes   \n",
       "499          L             Wilkinson                 Rachel L Wilkinson   \n",
       "500          J               Shekona                      Rey J Shekona   \n",
       "501   Fernando      Valencia-Alvarez  Ricardo Fernando Valencia-Alvarez   \n",
       "502          I                 Ibrih                        Rid I Ibrih   \n",
       "503          M  Huerta-De-Valdovinos        Rosa M Huerta-De-Valdovinos   \n",
       "504          M                Dorman                     Sarah M Dorman   \n",
       "505          L                 Pfaff                    Suzanne L Pfaff   \n",
       "506          R               Seamans                   Tamela R Seamans   \n",
       "507          J                Howard                     Taryn J Howard   \n",
       "508          L              Fournier                   Tawny L Fournier   \n",
       "509          N             Manavalan              Thanjavur N Manavalan   \n",
       "510        NaN                 Solis                     Theresa  Solis   \n",
       "511          G               Evenson                   Thomas G Evenson   \n",
       "512   Marshall              Westwood          Timothy Marshall Westwood   \n",
       "513          L                  Hurd                      Tracie L Hurd   \n",
       "514          D             Lacktorin                  Tylor D Lacktorin   \n",
       "515          C               Mcqueen                  Vincent C Mcqueen   \n",
       "516        NaN                Morgus                    Yoshiko  Morgus   \n",
       "517        NaN                  Chon                        Young  Chon   \n",
       "518        NaN              Bautista                    Maria  Bautista   \n",
       "\n",
       "            DOB      DLNumber IncidentLocationStreetAddress IncidentCity  \\\n",
       "0    16/08/2000           NaN         13000 LAKE CITY WY NE      Seattle   \n",
       "1    23/05/1988  MOHAMS*124K3             225 SUNSET BLVD N       Renton   \n",
       "2    29/11/2001           NaN               601 S GRADY WAY       Renton   \n",
       "3    20/09/1998  OLIVEDC628OD             1190 UNION AVE NE       Renton   \n",
       "4    07/01/2002           NaN               601 S GRADY WAY       Renton   \n",
       "5    14/09/1999  CARRIGL016OM   SHATTUCK AVE S & S TOBIN ST       Renton   \n",
       "6    09/06/2002           NaN               601 S GRADY WAY       Renton   \n",
       "7    23/05/1999           NaN             1150 UNION AVE NE       Renton   \n",
       "8    14/09/1977  ONTIVMA234OM           1032 EDMONDS AVE NE       Renton   \n",
       "9    19/10/2000  IBRAHRM009C4        3000 SE ROYAL HILLS DR       Renton   \n",
       "10   04/03/1983           NaN             743 RAINIER AVE S       Renton   \n",
       "11          NaN           NaN             1150 UNION AVE NE       Renton   \n",
       "12          NaN           NaN             1150 UNION AVE NE       Renton   \n",
       "13   08/04/1994           NaN                900 SE CARR RD       Renton   \n",
       "14   08/07/1998  JACK*RZ022MZ             301 Strander Blvd      Tukwila   \n",
       "15   09/06/1989  DENG*SS1173Z                     16400 WVH      Tukwila   \n",
       "16   25/12/1974  ALVARLC260R5             1208 CENTRAL AV N         Kent   \n",
       "17   29/08/1987           NaN               26301 104 AV SE         Kent   \n",
       "18   02/12/1958           NaN               26301 104 AV SE         Kent   \n",
       "19   16/03/1991  VALENAM010LC           105 WASHINGTON AV N         Kent   \n",
       "20   19/01/1998  RUDINCC024BR              100 E RUSSELL ST         Kent   \n",
       "21   10/05/1962           NaN           23900 MILITARY RD S         Kent   \n",
       "22   16/04/1990         102JW              1500 W MEEKER ST         Kent   \n",
       "23   05/01/1989           NaN             24415 64 AV S #94         Kent   \n",
       "24   04/05/1963  HARRIJD375KD           25250 PACIFIC HWY S         Kent   \n",
       "25   18/03/2001           NaN               26301 104 AV SE         Kent   \n",
       "26   25/02/2001  HANSORD994C5               26301 104 AV SE         Kent   \n",
       "27   25/02/2001  HANSORD994C5               22845 105 PL SE         Kent   \n",
       "28   25/02/2001  HANSORD994C5               22845 105 PL SE         Kent   \n",
       "29   25/02/2001  HANSORD994C5               22845 105 PL SE         Kent   \n",
       "..          ...           ...                           ...          ...   \n",
       "489  26/11/1977           NaN              1513 W MEEKER ST         Kent   \n",
       "490  21/04/1992           NaN              1513 W MEEKER ST         Kent   \n",
       "491  17/10/1956           NaN               21600 116 AV SE         Kent   \n",
       "492  13/08/1944           NaN              1513 W MEEKER ST         Kent   \n",
       "493  10/12/1984           NaN               10715 SE 240 ST         Kent   \n",
       "494  27/07/1966           NaN              1313 W MEEKER ST         Kent   \n",
       "495  22/03/1975           NaN                 26850 72 AV S         Kent   \n",
       "496  24/05/1995           NaN           105 WASHINGTON AV N         Kent   \n",
       "497  30/07/1999           NaN       18010 EAST VALLEY HWY S         Kent   \n",
       "498         NaN           NaN              1513 W MEEKER ST         Kent   \n",
       "499  15/05/1976           NaN               10225 SE 256 ST         Kent   \n",
       "500  15/03/1999           NaN           15232 SE 272 ST #39         Kent   \n",
       "501  02/08/2000  VALENRF001NB         10921 SE 256 PL #O104         Kent   \n",
       "502  10/04/2000           NaN           15232 SE 272 ST #39         Kent   \n",
       "503  29/08/1958           NaN        24500 RUSSELL RD S #36         Kent   \n",
       "504  14/09/1974           NaN                 24400 64 AV S         Kent   \n",
       "505  15/08/1964           NaN               11816 SE 231 PL         Kent   \n",
       "506  07/06/1994           NaN               26301 104 AV SE         Kent   \n",
       "507  31/05/1962           NaN              1513 W MEEKER ST         Kent   \n",
       "508  10/04/1989  FOURNTL115JW               25615 109 AV SE         Kent   \n",
       "509  29/08/1960           NaN               11712 SE 233 PL         Kent   \n",
       "510  31/01/1991           NaN               11604 SE 221 ST         Kent   \n",
       "511  03/12/1969           NaN              1513 W MEEKER ST         Kent   \n",
       "512  17/08/2001           NaN           15232 SE 272 ST #39         Kent   \n",
       "513  22/06/1980           NaN               20500 108 AV SE         Kent   \n",
       "514  05/03/1997           NaN       18010 EAST VALLEY HWY S         Kent   \n",
       "515  04/07/1988           NaN            12931 SE 275 ST SE         Kent   \n",
       "516  12/10/1957           NaN           25621 27 PL S #C104         Kent   \n",
       "517  26/04/1950           NaN              1513 W MEEKER ST         Kent   \n",
       "518  02/02/1961           NaN    GREENWOOD AVE N & N 120 ST      Seattle   \n",
       "\n",
       "                            CrimeType InvolvementType  Checked_Out_Book  \n",
       "0                      Theft-Shoplift         SUSPECT                 0  \n",
       "1          6189 Theft +$201 All Other   WITNESS/OTHER                 2  \n",
       "2    3134 Robbery-Firearms-Convenienc   WITNESS/OTHER                 2  \n",
       "3    7200 Motor Vehic Theft-Truck/Bus   WITNESS/OTHER                 2  \n",
       "4    3134 Robbery-Firearms-Convenienc   WITNESS/OTHER                 2  \n",
       "5    2693 Recovery OSA Stolen Vehicle   WITNESS/OTHER                 2  \n",
       "6    3134 Robbery-Firearms-Convenienc   WITNESS/OTHER                 2  \n",
       "7             0292 Malicious Mischief   WITNESS/OTHER                 2  \n",
       "8                  0021 Forcible Rape   WITNESS/OTHER                 2  \n",
       "9               5000 Domestic Dispute   WITNESS/OTHER                 2  \n",
       "10          6383 Theft $0-49 Shoplift   WITNESS/OTHER                 2  \n",
       "11            0292 Malicious Mischief   WITNESS/OTHER                 2  \n",
       "12            0292 Malicious Mischief   WITNESS/OTHER                 2  \n",
       "13   2693 Recovery OSA Stolen Vehicle   WITNESS/OTHER                 2  \n",
       "14       063 83 Theft 3 - Shoplifting         SUSPECT                 0  \n",
       "15   434 Traffic Violation - Criminal         SUSPECT                 0  \n",
       "16                        ROBBERY (A)   WITNESS/OTHER                 2  \n",
       "17                          THEFT (A)   WITNESS/OTHER                 2  \n",
       "18                          THEFT (A)         SUSPECT                 0  \n",
       "19                          THEFT (A)         SUSPECT                 0  \n",
       "20                       ID THEFT (A)         SUSPECT                 0  \n",
       "21                DRIVERS LICENSE (N)         SUSPECT                 0  \n",
       "22                ORDER VIOLATION (A)         SUSPECT                 0  \n",
       "23                        ASSAULT (A)         SUSPECT                 0  \n",
       "24                        ASSAULT (A)         SUSPECT                 0  \n",
       "25                          THEFT (A)         SUSPECT                 0  \n",
       "26                          THEFT (A)         SUSPECT                 0  \n",
       "27                          THEFT (A)         SUSPECT                 0  \n",
       "28           HIT AND RUN-PROP DMG (N)         SUSPECT                 0  \n",
       "29                          THEFT (A)         SUSPECT                 0  \n",
       "..                                ...             ...               ...  \n",
       "489                      HOMICIDE (A)   WITNESS/OTHER                 2  \n",
       "490                      HOMICIDE (A)   WITNESS/OTHER                 2  \n",
       "491                           PSV (A)   WITNESS/OTHER                 2  \n",
       "492                      HOMICIDE (A)   WITNESS/OTHER                 2  \n",
       "493                       ASSAULT (A)   WITNESS/OTHER                 2  \n",
       "494                     MAL MISCH (A)   WITNESS/OTHER                 2  \n",
       "495                 VEHICLE THEFT (A)   WITNESS/OTHER                 2  \n",
       "496                         THEFT (A)   WITNESS/OTHER                 2  \n",
       "497                       ASSAULT (A)   WITNESS/OTHER                 2  \n",
       "498                      HOMICIDE (A)   WITNESS/OTHER                 2  \n",
       "499                           DUI (B)   WITNESS/OTHER                 2  \n",
       "500                       ASSAULT (A)   WITNESS/OTHER                 2  \n",
       "501                       RUNAWAY (N)   WITNESS/OTHER                 2  \n",
       "502                       ASSAULT (A)   WITNESS/OTHER                 2  \n",
       "503               ORDER VIOLATION (A)   WITNESS/OTHER                 2  \n",
       "504                        WEAPON (A)   WITNESS/OTHER                 2  \n",
       "505                      TRESPASS (B)   WITNESS/OTHER                 2  \n",
       "506                         THEFT (A)   WITNESS/OTHER                 2  \n",
       "507                      HOMICIDE (A)   WITNESS/OTHER                 2  \n",
       "508                       ASSAULT (A)   WITNESS/OTHER                 2  \n",
       "509                      TRESPASS (B)   WITNESS/OTHER                 2  \n",
       "510              SUSPICIOUS CIRCS (N)   WITNESS/OTHER                 2  \n",
       "511                      HOMICIDE (A)   WITNESS/OTHER                 2  \n",
       "512                       ASSAULT (A)   WITNESS/OTHER                 2  \n",
       "513                     COLLISION (N)   WITNESS/OTHER                 2  \n",
       "514                       ASSAULT (A)   WITNESS/OTHER                 2  \n",
       "515                 VEHICLE THEFT (A)   WITNESS/OTHER                 2  \n",
       "516                       ROBBERY (A)   WITNESS/OTHER                 2  \n",
       "517                      HOMICIDE (A)   WITNESS/OTHER                 2  \n",
       "518               Collision - Traffic   WITNESS/OTHER                 2  \n",
       "\n",
       "[519 rows x 15 columns]"
      ]
     },
     "execution_count": 4,
     "metadata": {},
     "output_type": "execute_result"
    }
   ],
   "source": [
    "roles=[0,1,2]\n",
    "def include_roles(role, df,central_name):\n",
    "    \n",
    "    df1 = df[ df['FullName']==central_name]\n",
    "    \n",
    "    df = df[ df.Checked_Out_Book.isin(role)]\n",
    "    \n",
    "    frames = [df1, df]\n",
    "    newdf = pd.concat(frames,ignore_index=True,verify_integrity= True)\n",
    "    return newdf\n",
    "\n",
    "df = include_roles(roles,df,central_name)\n",
    "df"
   ]
  },
  {
   "cell_type": "markdown",
   "metadata": {
    "deletable": true,
    "editable": true
   },
   "source": [
    "## Create BG, G"
   ]
  },
  {
   "cell_type": "code",
   "execution_count": 15,
   "metadata": {
    "collapsed": false,
    "deletable": true,
    "editable": true
   },
   "outputs": [],
   "source": [
    "names = df.FullName.values\n",
    "BG = nx.from_pandas_edgelist(df, 'FullName', 'Code', 'Checked_Out_Book')"
   ]
  },
  {
   "cell_type": "code",
   "execution_count": 14,
   "metadata": {
    "collapsed": false
   },
   "outputs": [
    {
     "name": "stdout",
     "output_type": "stream",
     "text": [
      "\n",
      "{'SPD2015124371'}\n",
      "\n",
      "{'SPD2015124371'}\n",
      "\n",
      "{'RNTPD201600011828'}\n",
      "\n",
      "{'RNTPD201600011828'}\n",
      "\n",
      "{'RNTPD201600011828'}\n",
      "\n",
      "{'RNTPD201600011828'}\n",
      "\n",
      "{'RNTPD201600011828'}\n",
      "\n",
      "{'RNTPD201600011828'}\n",
      "\n",
      "{'RNTPD201500009860'}\n",
      "\n",
      "{'RNTPD201500009860'}\n",
      "\n",
      "{'RNTPD201500009860'}\n",
      "\n",
      "{'RNTPD201500009860'}\n",
      "\n",
      "{'RNTPD201500009860'}\n",
      "\n",
      "{'RNTPD201500009860'}\n",
      "\n",
      "{'RNTPD201600006861'}\n",
      "\n",
      "{'KNTPD170006108'}\n",
      "\n",
      "{'KNTPD170006108'}\n",
      "\n",
      "{'KNTPD170006108'}\n",
      "\n",
      "{'KNTPD170006108'}\n",
      "\n",
      "{'KNTPD170006108'}\n",
      "\n",
      "{'KNTPD170006108'}\n",
      "\n",
      "{'KNTPD170006108'}\n",
      "\n",
      "{'KNTPD170006108'}\n",
      "\n",
      "{'KNTPD170006108'}\n",
      "\n",
      "{'KNTPD170006108'}\n",
      "\n",
      "{'KNTPD170006108'}\n",
      "\n",
      "{'KNTPD170006108'}\n",
      "\n",
      "{'KNTPD150010482'}\n",
      "\n",
      "{'KNTPD170006108'}\n",
      "\n",
      "{'KNTPD170006108'}\n",
      "\n",
      "{'KNTPD170006108'}\n",
      "\n",
      "{'KNTPD170006108'}\n",
      "\n",
      "{'KNTPD170006108'}\n",
      "\n",
      "{'KNTPD150010482'}\n",
      "\n",
      "{'KNTPD170006108'}\n",
      "\n",
      "{'KNTPD170006108'}\n",
      "\n",
      "{'KNTPD170006108'}\n",
      "\n",
      "{'KNTPD170006108'}\n",
      "\n",
      "{'KNTPD170006108'}\n",
      "\n",
      "{'KNTPD170006108'}\n",
      "\n",
      "{'KNTPD170006108'}\n",
      "\n",
      "{'KNTPD170006108'}\n",
      "\n",
      "{'KNTPD170006108'}\n",
      "\n",
      "{'KNTPD170006108'}\n",
      "\n",
      "{'KNTPD170006108'}\n",
      "\n",
      "{'KNTPD150010482'}\n",
      "\n",
      "{'KNTPD170003046'}\n",
      "\n",
      "{'KNTPD170003046'}\n",
      "\n",
      "{'KNTPD170003046'}\n",
      "\n",
      "{'KNTPD170003046'}\n",
      "\n",
      "{'KNTPD170003046'}\n",
      "\n",
      "{'KNTPD170003046'}\n",
      "\n",
      "{'KNTPD160020349'}\n",
      "\n",
      "{'KNTPD170008271'}\n",
      "\n",
      "{'SPD201613439'}\n",
      "\n",
      "{'AUBPD1606223'}\n",
      "\n",
      "{'KNTPD160020349'}\n",
      "\n",
      "{'KNTPD160020349'}\n",
      "\n",
      "{'KNTPD160020349'}\n",
      "\n",
      "{'SPD201613439'}\n",
      "\n",
      "{'SPD201613439'}\n",
      "\n",
      "{'AUBPD1606223'}\n",
      "\n",
      "{'KNTPD160020349'}\n",
      "\n",
      "{'KNTPD160020349'}\n",
      "\n",
      "{'KNTPD160020349'}\n",
      "\n",
      "{'KNTPD170008271'}\n",
      "\n",
      "{'KNTPD160020349'}\n",
      "\n",
      "{'KNTPD160020349'}\n",
      "\n",
      "{'KNTPD160020349'}\n",
      "\n",
      "{'SPD201613439'}\n",
      "\n",
      "{'KNTPD170004100'}\n",
      "\n",
      "{'KNTPD170004100'}\n",
      "\n",
      "{'KNTPD150013054'}\n",
      "\n",
      "{'KNTPD170003927'}\n",
      "\n",
      "{'KNTPD150015480'}\n",
      "\n",
      "{'KNTPD170006108'}\n",
      "\n",
      "{'KNTPD170003256'}\n",
      "\n",
      "{'KNTPD170006108'}\n",
      "\n",
      "{'KNTPD170006108'}\n",
      "\n",
      "{'KNTPD170006108'}\n",
      "\n",
      "{'KNTPD170006108'}\n",
      "\n",
      "{'KNTPD170006108'}\n",
      "\n",
      "{'KNTPD170006108'}\n",
      "\n",
      "{'KNTPD170006108'}\n",
      "\n",
      "{'KNTPD170006108'}\n",
      "\n",
      "{'KNTPD170006108'}\n",
      "\n",
      "{'KNTPD170005645'}\n",
      "\n",
      "{'KNTPD170006108'}\n",
      "\n",
      "{'KNTPD150051875'}\n",
      "\n",
      "{'KNTPD170006108'}\n",
      "\n",
      "{'KNTPD170006108'}\n",
      "\n",
      "{'KNTPD170006108'}\n",
      "\n",
      "{'KNTPD170006108'}\n",
      "\n",
      "{'KNTPD170006108'}\n",
      "\n",
      "{'KNTPD170006108'}\n",
      "\n",
      "{'KNTPD150013858'}\n",
      "\n",
      "{'KNTPD170006108'}\n",
      "\n",
      "{'KNTPD170003256'}\n",
      "\n",
      "{'KNTPD170006108'}\n",
      "\n",
      "{'KNTPD170006108'}\n",
      "\n",
      "{'KNTPD170006108'}\n",
      "\n",
      "{'KNTPD170006108'}\n",
      "\n",
      "{'KNTPD170006108'}\n",
      "\n",
      "{'KNTPD170006108'}\n",
      "\n",
      "{'KNTPD170006108'}\n",
      "\n",
      "{'KNTPD170000462'}\n",
      "\n",
      "{'KNTPD170006108'}\n",
      "\n",
      "{'KNTPD150013858'}\n",
      "\n",
      "{'KNTPD170006108'}\n",
      "\n",
      "{'KNTPD160003655'}\n",
      "\n",
      "{'KNTPD160003655'}\n",
      "\n",
      "{'KNTPD160003655'}\n",
      "\n",
      "{'KNTPD160003655'}\n",
      "\n",
      "{'KNTPD160006355'}\n",
      "\n",
      "{'KNTPD160006355'}\n",
      "\n",
      "{'KNTPD160006355'}\n",
      "\n",
      "{'KNTPD160014623'}\n",
      "\n",
      "{'SPD2015124371'}\n",
      "\n",
      "{'KNTPD160014623'}\n",
      "\n",
      "{'KNTPD160007778'}\n",
      "\n",
      "{'KNTPD160007778'}\n",
      "\n",
      "{'FWPD160004834'}\n",
      "\n",
      "{'KNTPD170005307'}\n",
      "\n",
      "{'KNTPD170008271'}\n",
      "\n",
      "{'KNTPD160010763'}\n",
      "\n",
      "{'KNTPD160010763'}\n",
      "\n",
      "{'KNTPD160010763'}\n",
      "\n",
      "{'KNTPD150015437'}\n",
      "\n",
      "{'KNTPD170005555'}\n",
      "\n",
      "{'KNTPD170005555'}\n",
      "\n",
      "{'KNTPD160001902'}\n",
      "\n",
      "{'KNTPD160007166'}\n",
      "\n",
      "{'KNTPD170005555'}\n",
      "\n",
      "{'KNTPD160004361'}\n",
      "\n",
      "{'KNTPD170006108'}\n",
      "\n",
      "{'KNTPD170006108'}\n",
      "\n",
      "{'KNTPD170006108'}\n",
      "\n",
      "{'KNTPD170006108'}\n",
      "\n",
      "{'KNTPD170006108'}\n",
      "\n",
      "{'KNTPD170006108'}\n",
      "\n",
      "{'KNTPD170006108'}\n",
      "\n",
      "{'KNTPD170006108'}\n",
      "\n",
      "{'KNTPD170006108'}\n",
      "\n",
      "{'KNTPD170006108'}\n",
      "\n",
      "{'KNTPD170006108'}\n",
      "\n",
      "{'KNTPD170006108'}\n",
      "\n",
      "{'KNTPD170006108'}\n",
      "\n",
      "{'KNTPD170006108'}\n",
      "\n",
      "{'KNTPD170006108'}\n",
      "\n",
      "{'KNTPD170006108'}\n",
      "\n",
      "{'KNTPD170006108'}\n",
      "\n",
      "{'KNTPD170006108'}\n",
      "\n",
      "{'KNTPD170006108'}\n",
      "\n",
      "{'KNTPD170006108'}\n",
      "\n",
      "{'KNTPD170006108'}\n",
      "\n",
      "{'KNTPD170006108'}\n",
      "\n",
      "{'KNTPD170006108'}\n",
      "\n",
      "{'KNTPD170006108'}\n",
      "\n",
      "{'KNTPD170006108'}\n",
      "\n",
      "{'KNTPD170006108'}\n",
      "\n",
      "{'FWPD160001459'}\n",
      "\n",
      "{'FWPD160001459'}\n",
      "\n",
      "{'FWPD160001459'}\n",
      "\n",
      "{'FWPD160001459'}\n",
      "\n",
      "{'FWPD160001459'}\n",
      "\n",
      "{'FWPD150016361'}\n",
      "\n",
      "{'FWPD150016361'}\n",
      "\n",
      "{'FWPD150016361'}\n",
      "\n",
      "{'KCSOC15291278'}\n",
      "\n",
      "{'FWPD160001459'}\n",
      "\n",
      "{'KNTPD150013686'}\n",
      "\n",
      "{'KNTPD150013686'}\n",
      "\n",
      "{'KNTPD150015856'}\n",
      "\n",
      "{'KNTPD150015856'}\n",
      "\n",
      "{'KNTPD150015856'}\n",
      "\n",
      "{'KNTPD150015856'}\n",
      "\n",
      "{'KNTPD150015856'}\n",
      "\n",
      "{'KNTPD170006108'}\n",
      "\n",
      "{'KNTPD170006108'}\n",
      "\n",
      "{'KNTPD170006108'}\n",
      "\n",
      "{'KNTPD170006108'}\n",
      "\n",
      "{'KNTPD170006108'}\n",
      "\n",
      "{'KNTPD170006108'}\n",
      "\n",
      "{'KNTPD170006108'}\n",
      "\n",
      "{'KNTPD170006108'}\n",
      "\n",
      "{'KNTPD170006108'}\n",
      "\n",
      "{'KNTPD170006108'}\n",
      "\n",
      "{'KNTPD170006108'}\n",
      "\n",
      "{'KNTPD170006108'}\n",
      "\n",
      "{'KNTPD170006108'}\n",
      "\n",
      "{'KNTPD170006108'}\n",
      "\n",
      "{'KNTPD170006108'}\n",
      "\n",
      "{'KNTPD170006108'}\n",
      "\n",
      "{'KNTPD170006108'}\n",
      "\n",
      "{'KNTPD160014623'}\n",
      "\n",
      "{'KNTPD170006108'}\n",
      "\n",
      "{'KNTPD170006108'}\n",
      "\n",
      "{'KNTPD170006108'}\n",
      "\n",
      "{'KNTPD170006108'}\n",
      "\n",
      "{'KNTPD170006108'}\n",
      "\n",
      "{'KNTPD170006108'}\n",
      "\n",
      "{'KNTPD170006108'}\n",
      "\n",
      "{'KNTPD170006108'}\n",
      "\n",
      "{'KNTPD150010482'}\n",
      "\n",
      "{'KNTPD150010482'}\n",
      "\n",
      "{'KNTPD150008694'}\n",
      "\n",
      "{'SPD2015382227'}\n",
      "\n",
      "{'SPD2015382227'}\n",
      "\n",
      "{'SPD2015375738'}\n",
      "\n",
      "{'SPD2015375738'}\n",
      "\n",
      "{'SPD2015375738'}\n",
      "\n",
      "{'KNTPD160014542'}\n",
      "\n",
      "{'KNTPD160014542'}\n",
      "\n",
      "{'KNTPD160014542'}\n",
      "\n",
      "{'SPD201613439'}\n",
      "\n",
      "{'SPD201613439'}\n",
      "\n",
      "{'SPD201613439'}\n",
      "\n",
      "{'SPD201613439'}\n",
      "\n",
      "{'SPD201613439'}\n",
      "\n",
      "{'SPD2017214797'}\n",
      "\n",
      "{'SPD2017214797'}\n",
      "\n",
      "{'KNTPD170006108'}\n",
      "\n",
      "{'KNTPD170006108'}\n",
      "\n",
      "{'KNTPD170006108'}\n",
      "\n",
      "{'KNTPD170006108'}\n",
      "\n",
      "{'KNTPD170006108'}\n",
      "\n",
      "{'KNTPD170006108'}\n",
      "\n",
      "{'KNTPD170006108'}\n",
      "\n",
      "{'KNTPD170006108'}\n",
      "\n",
      "{'KNTPD170006108'}\n",
      "\n",
      "{'SPD2017214797'}\n",
      "\n",
      "{'KNTPD170006108'}\n",
      "\n",
      "{'KNTPD170006108'}\n",
      "\n",
      "{'KNTPD170006108'}\n",
      "\n",
      "{'KNTPD170006108'}\n",
      "\n",
      "{'KNTPD170006108'}\n",
      "\n",
      "{'KNTPD170006108'}\n",
      "\n",
      "{'KNTPD170006108'}\n",
      "\n",
      "{'KNTPD170006108'}\n",
      "\n",
      "{'KNTPD170006108'}\n",
      "\n",
      "{'KNTPD170006108'}\n",
      "\n",
      "{'KNTPD170006108'}\n",
      "\n",
      "{'KNTPD170006108'}\n",
      "\n",
      "{'KNTPD170006108'}\n",
      "\n",
      "{'KNTPD170006108'}\n",
      "\n",
      "{'KNTPD170006108'}\n",
      "\n",
      "{'SPD201613439'}\n",
      "\n",
      "{'KNTPD170002518'}\n",
      "\n",
      "{'KNTPD170002518'}\n",
      "\n",
      "{'KNTPD170002518'}\n",
      "\n",
      "{'KNTPD170002518'}\n",
      "\n",
      "{'KNTPD160012862'}\n",
      "\n",
      "{'KNTPD170003314', 'KNTPD170003046'}\n",
      "\n",
      "{'KNTPD170003046'}\n",
      "\n",
      "{'KNTPD170003046'}\n",
      "\n",
      "{'KNTPD170003046'}\n",
      "\n",
      "{'KNTPD170003046'}\n",
      "\n",
      "{'KNTPD170003046'}\n",
      "\n",
      "{'KNTPD170003046'}\n",
      "\n",
      "{'KNTPD170003046'}\n",
      "\n",
      "{'KNTPD170003046'}\n",
      "\n",
      "{'KNTPD170003046'}\n",
      "\n",
      "{'KNTPD170003046'}\n",
      "\n",
      "{'KNTPD170003046'}\n",
      "\n",
      "{'KNTPD170003046'}\n",
      "\n",
      "{'KNTPD170003046'}\n",
      "\n",
      "{'KNTPD160013658'}\n",
      "\n",
      "{'KNTPD170003046'}\n",
      "\n",
      "{'KNTPD160003655'}\n",
      "\n",
      "{'KNTPD160003655'}\n",
      "\n",
      "{'KNTPD160003655'}\n",
      "\n",
      "{'SPD2015382227'}\n",
      "\n",
      "{'KNTPD150013686'}\n",
      "\n",
      "{'KNTPD170006041'}\n",
      "\n",
      "{'KNTPD150010482'}\n",
      "\n",
      "{'KNTPD150010457'}\n",
      "\n",
      "{'KNTPD150011397'}\n",
      "\n",
      "{'KNTPD150011397'}\n",
      "\n",
      "{'KNTPD150010457'}\n",
      "\n",
      "{'KNTPD150011397'}\n",
      "\n",
      "{'KNTPD150010457'}\n",
      "\n",
      "{'KNTPD150010457'}\n",
      "\n",
      "{'KNTPD150011397'}\n",
      "\n",
      "{'KNTPD160020342'}\n",
      "\n",
      "{'KNTPD150011397'}\n",
      "\n",
      "{'KNTPD150010457'}\n",
      "\n",
      "{'KNTPD160014542'}\n",
      "\n",
      "{'KNTPD160014542'}\n",
      "\n",
      "{'KNTPD170009668'}\n",
      "\n",
      "{'KNTPD170009668'}\n",
      "\n",
      "{'KNTPD150001685'}\n",
      "\n",
      "{'KNTPD170006108'}\n",
      "\n",
      "{'KNTPD170006108'}\n",
      "\n",
      "{'KNTPD170006108'}\n",
      "\n",
      "{'KNTPD170006108'}\n",
      "\n",
      "{'KNTPD170006108'}\n",
      "\n",
      "{'KNTPD170006108'}\n",
      "\n",
      "{'KNTPD170006108'}\n",
      "\n",
      "{'KNTPD170006108'}\n",
      "\n",
      "{'KNTPD170006108'}\n",
      "\n",
      "{'KNTPD170006108'}\n",
      "\n",
      "{'KNTPD170006108'}\n",
      "\n",
      "{'KNTPD170006108'}\n",
      "\n",
      "{'KNTPD170006108'}\n",
      "\n",
      "{'KNTPD170006108'}\n",
      "\n",
      "{'KNTPD170006108'}\n",
      "\n",
      "{'KNTPD170006108'}\n",
      "\n",
      "{'KNTPD170006108'}\n",
      "\n",
      "{'KNTPD170006108'}\n",
      "\n",
      "{'KNTPD170006108'}\n",
      "\n",
      "{'KNTPD170006108'}\n",
      "\n",
      "{'KNTPD170006108'}\n",
      "\n",
      "{'KNTPD170006108'}\n",
      "\n",
      "{'KNTPD170006108'}\n",
      "\n",
      "{'KNTPD170002518'}\n",
      "\n",
      "{'KNTPD170002518'}\n",
      "\n",
      "{'KNTPD170002518'}\n",
      "\n",
      "{'KNTPD170000736'}\n",
      "\n",
      "{'KNTPD170000736'}\n",
      "\n",
      "{'KNTPD160003655'}\n",
      "\n",
      "{'KNTPD160003655'}\n",
      "\n",
      "{'KNTPD160006676'}\n",
      "\n",
      "{'KNTPD160006676'}\n",
      "\n",
      "{'KNTPD160014542'}\n",
      "\n",
      "{'KNTPD150011397'}\n",
      "\n",
      "{'KNTPD150011397'}\n",
      "\n",
      "{'KNTPD150011397'}\n",
      "\n",
      "{'KNTPD150011397'}\n",
      "\n",
      "{'KNTPD160016410'}\n",
      "\n",
      "{'KNTPD160016410'}\n",
      "\n",
      "{'KNTPD160016410'}\n",
      "\n",
      "{'KNTPD160016410'}\n",
      "\n",
      "{'KNTPD160016410'}\n",
      "\n",
      "{'KNTPD160016410'}\n",
      "\n",
      "{'KNTPD160016410'}\n",
      "\n",
      "{'KNTPD160016410'}\n",
      "\n",
      "{'KNTPD160016410'}\n",
      "\n",
      "{'KNTPD160016410'}\n",
      "\n",
      "{'KNTPD160016410'}\n",
      "\n",
      "{'KNTPD160005001'}\n",
      "\n",
      "{'KNTPD150017897'}\n",
      "\n",
      "{'KNTPD150011397'}\n",
      "\n",
      "{'KNTPD150011397'}\n",
      "\n",
      "{'KNTPD150011397'}\n",
      "\n",
      "{'KNTPD170002518'}\n",
      "\n",
      "{'KNTPD170002518'}\n",
      "\n",
      "{'KNTPD160006676'}\n",
      "\n",
      "{'KNTPD170003256'}\n",
      "\n",
      "{'KNTPD160007510'}\n",
      "\n",
      "{'KNTPD150003663'}\n",
      "\n",
      "{'KNTPD150003663'}\n",
      "\n",
      "{'KNTPD170006931'}\n",
      "\n",
      "{'KNTPD160006998'}\n",
      "\n",
      "{'KNTPD150003663'}\n",
      "\n",
      "{'KNTPD170005178'}\n",
      "\n",
      "{'KNTPD170005178'}\n",
      "\n",
      "{'KNTPD150017158'}\n",
      "\n",
      "{'KNTPD150017158'}\n",
      "\n",
      "{'KNTPD150017158'}\n",
      "\n",
      "{'KNTPD170004228'}\n",
      "\n",
      "{'KNTPD170004228'}\n",
      "\n",
      "{'KNTPD150015856'}\n",
      "\n",
      "{'KNTPD170005017'}\n",
      "\n",
      "{'KNTPD170005017'}\n",
      "\n",
      "{'KNTPD170005017'}\n",
      "\n",
      "{'KNTPD170005017'}\n",
      "\n",
      "{'KNTPD170005017'}\n",
      "\n",
      "{'KNTPD170005017'}\n",
      "\n",
      "{'KNTPD170005017'}\n",
      "\n",
      "{'KNTPD170005017'}\n",
      "\n",
      "{'KNTPD150013858'}\n",
      "\n",
      "{'KNTPD160016054'}\n",
      "\n",
      "{'KNTPD160016054'}\n",
      "\n",
      "{'KNTPD170000736'}\n",
      "\n",
      "{'KNTPD150010457'}\n",
      "\n",
      "{'KNTPD150010457'}\n",
      "\n",
      "{'KNTPD150010457'}\n",
      "\n",
      "{'KNTPD150010457'}\n",
      "\n",
      "{'AUBPD1703316'}\n",
      "\n",
      "{'KNTPD150010457'}\n",
      "\n",
      "{'KNTPD150010457'}\n",
      "\n",
      "{'KNTPD150010457'}\n",
      "\n",
      "{'KNTPD170004100'}\n",
      "\n",
      "{'KNTPD150011397'}\n",
      "\n",
      "{'KNTPD150011397'}\n",
      "\n",
      "{'KNTPD170004228'}\n",
      "\n",
      "{'KNTPD160005594'}\n",
      "\n",
      "{'KNTPD160005594'}\n",
      "\n",
      "{'KNTPD160007778'}\n",
      "\n",
      "{'KNTPD160005594'}\n",
      "\n",
      "{'KNTPD150011397'}\n",
      "\n",
      "{'KNTPD150008911'}\n",
      "\n",
      "{'AUBPD1606223'}\n",
      "\n",
      "{'KNTPD170005017'}\n",
      "\n",
      "{'KNTPD170005017'}\n",
      "\n",
      "{'KNTPD170005017'}\n",
      "\n",
      "{'KNTPD170005017'}\n",
      "\n",
      "{'KNTPD170005017'}\n",
      "\n",
      "{'KNTPD170005017'}\n",
      "\n",
      "{'KNTPD170005017'}\n",
      "\n",
      "{'KNTPD170002497'}\n",
      "\n",
      "{'KNTPD160016410'}\n",
      "\n",
      "{'KNTPD160016410'}\n",
      "\n",
      "{'KNTPD160016410'}\n",
      "\n",
      "{'KNTPD160016410'}\n",
      "\n",
      "{'KNTPD160016410'}\n",
      "\n",
      "{'KNTPD160016410'}\n",
      "\n",
      "{'KNTPD160016410'}\n",
      "\n",
      "{'KNTPD160016410'}\n",
      "\n",
      "{'KNTPD160016410'}\n",
      "\n",
      "{'KNTPD160016410'}\n",
      "\n",
      "{'KNTPD160010763'}\n",
      "\n",
      "{'KNTPD160010763'}\n",
      "\n",
      "{'KNTPD160020349'}\n",
      "\n",
      "{'KNTPD160020349'}\n",
      "\n",
      "{'KNTPD160020349'}\n",
      "\n",
      "{'KNTPD160020349'}\n",
      "\n",
      "{'KNTPD160020349'}\n",
      "\n",
      "{'KNTPD160020349'}\n",
      "\n",
      "{'KNTPD160020349'}\n",
      "\n",
      "{'KNTPD160020349'}\n",
      "\n",
      "{'KNTPD160020349'}\n",
      "\n",
      "{'KNTPD150018367'}\n",
      "\n",
      "{'KNTPD170005017'}\n",
      "\n",
      "{'KNTPD170005017'}\n",
      "\n",
      "{'KNTPD170005017'}\n",
      "\n",
      "{'KNTPD170005017'}\n",
      "\n",
      "{'KNTPD170005017'}\n",
      "\n",
      "{'KNTPD170005017'}\n",
      "\n",
      "{'KNTPD160002899'}\n",
      "\n",
      "{'KNTPD160002899'}\n",
      "\n",
      "{'KNTPD160003348'}\n",
      "\n",
      "{'KNTPD170005017'}\n",
      "\n",
      "{'KNTPD170005017'}\n",
      "\n",
      "{'KNTPD170005017'}\n",
      "\n",
      "{'KNTPD170005017'}\n",
      "\n",
      "{'KNTPD170005017'}\n",
      "\n",
      "{'KNTPD160010763'}\n",
      "\n",
      "{'KNTPD150001855'}\n",
      "\n",
      "{'KNTPD160020394'}\n",
      "\n",
      "{'KNTPD170005178'}\n",
      "\n",
      "{'KNTPD160005962'}\n",
      "\n",
      "{'KNTPD160008151'}\n",
      "\n",
      "{'KNTPD170005017'}\n",
      "\n",
      "{'KNTPD170005017'}\n",
      "\n",
      "{'KNTPD170005017'}\n",
      "\n",
      "{'KNTPD170005017'}\n",
      "\n",
      "{'KNTPD160003655'}\n",
      "\n",
      "{'KNTPD170006108'}\n",
      "\n",
      "{'KNTPD170006108'}\n",
      "\n",
      "{'KNTPD170006108'}\n",
      "\n",
      "{'KNTPD170006108'}\n",
      "\n",
      "{'KNTPD170006108'}\n",
      "\n",
      "{'KNTPD170006108'}\n",
      "\n",
      "{'KNTPD170006108'}\n",
      "\n",
      "{'KNTPD170006108'}\n",
      "\n",
      "{'KNTPD170006108'}\n",
      "\n",
      "{'KNTPD170006108'}\n",
      "\n",
      "{'KNTPD170006108'}\n",
      "\n",
      "{'KNTPD170006108'}\n",
      "\n",
      "{'KNTPD170006108'}\n",
      "\n",
      "{'KNTPD170006108'}\n",
      "\n",
      "{'KNTPD170006108'}\n",
      "\n",
      "{'KNTPD170006108'}\n",
      "\n",
      "{'KNTPD170006108'}\n",
      "\n",
      "{'KNTPD170006108'}\n",
      "\n",
      "{'KNTPD170006108'}\n",
      "\n",
      "{'KNTPD170006108'}\n",
      "\n",
      "{'KNTPD170006108'}\n",
      "\n",
      "{'KNTPD170006108'}\n",
      "\n",
      "{'KNTPD150015119'}\n",
      "\n",
      "{'KNTPD170005017'}\n",
      "\n",
      "{'KNTPD170005017'}\n",
      "\n",
      "{'KNTPD170005017'}\n",
      "\n",
      "{'KNTPD170006108'}\n",
      "\n",
      "{'KNTPD170006108'}\n",
      "\n",
      "{'KNTPD170006108'}\n",
      "\n",
      "{'KNTPD170006108'}\n",
      "\n",
      "{'KNTPD170006108'}\n",
      "\n",
      "{'KNTPD170006108'}\n",
      "\n",
      "{'KNTPD170006108'}\n",
      "\n",
      "{'KNTPD170006108'}\n",
      "\n",
      "{'KNTPD170006108'}\n",
      "\n",
      "{'KNTPD170006108'}\n",
      "\n",
      "{'KNTPD170006108'}\n",
      "\n",
      "{'KNTPD170006108'}\n",
      "\n",
      "{'KNTPD170006108'}\n",
      "\n",
      "{'KNTPD170006108'}\n",
      "\n",
      "{'KNTPD170006108'}\n",
      "\n",
      "{'KNTPD170006108'}\n",
      "\n",
      "{'KNTPD170006108'}\n",
      "\n",
      "{'KNTPD170006108'}\n",
      "\n",
      "{'KNTPD170006108'}\n",
      "\n",
      "{'KNTPD170006108'}\n",
      "\n",
      "{'KNTPD170006108'}\n",
      "\n",
      "{'KNTPD170006108'}\n",
      "\n",
      "{'KNTPD170006108'}\n",
      "\n",
      "{'KNTPD170006108'}\n",
      "\n",
      "{'KNTPD170006108'}\n",
      "\n",
      "{'KNTPD170006108'}\n",
      "\n",
      "{'KNTPD170006108'}\n",
      "\n",
      "{'KNTPD170006108'}\n",
      "\n",
      "{'KNTPD170006108'}\n",
      "\n",
      "{'KNTPD170006108'}\n",
      "\n",
      "{'KNTPD170006108'}\n",
      "\n",
      "{'KNTPD170006108'}\n",
      "\n",
      "{'KNTPD170006108'}\n",
      "\n",
      "{'KNTPD170006108'}\n",
      "\n",
      "{'KNTPD170006108'}\n",
      "\n",
      "{'KNTPD170006108'}\n",
      "\n",
      "{'KNTPD170006108'}\n",
      "\n",
      "{'KNTPD170006108'}\n",
      "\n",
      "{'KNTPD170006108'}\n",
      "\n",
      "{'KNTPD170006108'}\n",
      "\n",
      "{'KNTPD170006108'}\n",
      "\n",
      "{'KNTPD150010457'}\n",
      "\n",
      "{'KNTPD150010457'}\n",
      "\n",
      "{'KNTPD160020349'}\n",
      "\n",
      "{'KNTPD160020349'}\n",
      "\n",
      "{'KNTPD160020349'}\n",
      "\n",
      "{'KNTPD160020349'}\n",
      "\n",
      "{'KNTPD160020349'}\n",
      "\n",
      "{'KNTPD160020349'}\n",
      "\n",
      "{'KNTPD160020349'}\n",
      "\n",
      "{'KNTPD160020349'}\n",
      "\n",
      "{'KNTPD170009668'}\n",
      "\n",
      "{'KNTPD160020349'}\n",
      "\n",
      "{'KNTPD160020349'}\n",
      "\n",
      "{'KNTPD160020349'}\n",
      "\n",
      "{'KNTPD160020349'}\n",
      "\n",
      "{'KNTPD160020349'}\n",
      "\n",
      "{'KNTPD160020349'}\n",
      "\n",
      "{'KNTPD160020349'}\n",
      "\n",
      "{'KNTPD170006108'}\n",
      "\n",
      "{'KNTPD170006108'}\n",
      "\n",
      "{'KNTPD170006108'}\n",
      "\n",
      "{'KNTPD170006108'}\n",
      "\n",
      "{'KNTPD170006108'}\n",
      "\n",
      "{'KNTPD170006108'}\n",
      "\n",
      "{'KNTPD170006108'}\n",
      "\n",
      "{'KNTPD170006108'}\n",
      "\n",
      "{'KNTPD170006108'}\n",
      "\n",
      "{'KNTPD170006108'}\n",
      "\n",
      "{'KNTPD170006108'}\n",
      "\n",
      "{'KNTPD170006108'}\n",
      "\n",
      "{'KNTPD170006108'}\n",
      "\n",
      "{'KNTPD170006108'}\n",
      "\n",
      "{'KNTPD170006108'}\n",
      "\n",
      "{'KNTPD170006108'}\n",
      "\n",
      "{'KNTPD170006108'}\n",
      "\n",
      "{'KNTPD170006108'}\n",
      "\n",
      "{'KNTPD170006108'}\n",
      "\n",
      "{'KNTPD160020349'}\n",
      "\n",
      "{'KNTPD160020349'}\n",
      "\n",
      "{'KNTPD160020349'}\n",
      "\n",
      "{'KNTPD160020349'}\n",
      "\n",
      "{'KNTPD160020349'}\n",
      "\n",
      "{'KNTPD160020349'}\n",
      "\n",
      "{'KNTPD170002518'}\n",
      "\n",
      "{'KNTPD170005017'}\n",
      "\n",
      "{'KNTPD170005017'}\n",
      "\n",
      "{'KNTPD160020349'}\n",
      "\n",
      "{'KNTPD160020349'}\n",
      "\n",
      "{'KNTPD160020349'}\n",
      "\n",
      "{'KNTPD160020349'}\n",
      "\n",
      "{'KNTPD160020349'}\n",
      "\n",
      "{'KNTPD160016410'}\n",
      "\n",
      "{'KNTPD160016410'}\n",
      "\n",
      "{'KNTPD160016410'}\n",
      "\n",
      "{'KNTPD160016410'}\n",
      "\n",
      "{'KNTPD160016410'}\n",
      "\n",
      "{'KNTPD160016410'}\n",
      "\n",
      "{'KNTPD160016410'}\n",
      "\n",
      "{'KNTPD160016410'}\n",
      "\n",
      "{'KNTPD160016410'}\n",
      "\n",
      "{'KNTPD170006108'}\n",
      "\n",
      "{'KNTPD170006108'}\n",
      "\n",
      "{'KNTPD170006108'}\n",
      "\n",
      "{'KNTPD170006108'}\n",
      "\n",
      "{'KNTPD170006108'}\n",
      "\n",
      "{'KNTPD170006108'}\n",
      "\n",
      "{'KNTPD170006108'}\n",
      "\n",
      "{'KNTPD170006108'}\n",
      "\n",
      "{'KNTPD170006108'}\n",
      "\n",
      "{'KNTPD170006108'}\n",
      "\n",
      "{'KNTPD170006108'}\n",
      "\n",
      "{'KNTPD170006108'}\n",
      "\n",
      "{'KNTPD170006108'}\n",
      "\n",
      "{'KNTPD170006108'}\n",
      "\n",
      "{'KNTPD170006108'}\n",
      "\n",
      "{'KNTPD170006108'}\n",
      "\n",
      "{'KNTPD170006108'}\n",
      "\n",
      "{'KNTPD170006108'}\n",
      "\n",
      "{'KNTPD170005017'}\n",
      "\n",
      "{'KNTPD160016410'}\n",
      "\n",
      "{'KNTPD160016410'}\n",
      "\n",
      "{'KNTPD160016410'}\n",
      "\n",
      "{'KNTPD160016410'}\n",
      "\n",
      "{'KNTPD160016410'}\n",
      "\n",
      "{'KNTPD160016410'}\n",
      "\n",
      "{'KNTPD160016410'}\n",
      "\n",
      "{'KNTPD160016410'}\n",
      "\n",
      "{'KNTPD150010126'}\n",
      "\n",
      "{'KNTPD150010126'}\n",
      "\n",
      "{'KNTPD150010126'}\n",
      "\n",
      "{'KNTPD170006108'}\n",
      "\n",
      "{'KNTPD170006108'}\n",
      "\n",
      "{'KNTPD170006108'}\n",
      "\n",
      "{'KNTPD170006108'}\n",
      "\n",
      "{'KNTPD170006108'}\n",
      "\n",
      "{'KNTPD170006108'}\n",
      "\n",
      "{'KNTPD170006108'}\n",
      "\n",
      "{'KNTPD170006108'}\n",
      "\n",
      "{'KNTPD170006108'}\n",
      "\n",
      "{'KNTPD170006108'}\n",
      "\n",
      "{'KNTPD170006108'}\n",
      "\n",
      "{'KNTPD170006108'}\n",
      "\n",
      "{'KNTPD170006108'}\n",
      "\n",
      "{'KNTPD170006108'}\n",
      "\n",
      "{'KNTPD170006108'}\n",
      "\n",
      "{'KNTPD170006108'}\n",
      "\n",
      "{'KNTPD170006108'}\n",
      "\n",
      "{'KNTPD170006108'}\n",
      "\n",
      "{'KNTPD170006108'}\n",
      "\n",
      "{'KNTPD170006108'}\n",
      "\n",
      "{'KNTPD170006108'}\n",
      "\n",
      "{'KNTPD170006108'}\n",
      "\n",
      "{'KNTPD170006108'}\n",
      "\n",
      "{'KNTPD170006108'}\n",
      "\n",
      "{'KNTPD170006108'}\n",
      "\n",
      "{'KNTPD170006108'}\n",
      "\n",
      "{'KNTPD170006108'}\n",
      "\n",
      "{'KNTPD170006108'}\n",
      "\n",
      "{'KNTPD170006108'}\n",
      "\n",
      "{'KNTPD170006108'}\n",
      "\n",
      "{'KNTPD170006108'}\n",
      "\n",
      "{'KNTPD170006108'}\n",
      "\n",
      "{'KNTPD170006108'}\n",
      "\n",
      "{'KNTPD170006108'}\n",
      "\n",
      "{'KNTPD170006108'}\n",
      "\n",
      "{'KNTPD170006108'}\n",
      "\n",
      "{'KNTPD170006108'}\n",
      "\n",
      "{'KNTPD170006108'}\n",
      "\n",
      "{'KNTPD170006108'}\n",
      "\n",
      "{'KNTPD170006108'}\n",
      "\n",
      "{'KNTPD170006108'}\n",
      "\n",
      "{'KNTPD170006108'}\n",
      "\n",
      "{'KNTPD170006108'}\n",
      "\n",
      "{'KNTPD170006108'}\n",
      "\n",
      "{'KNTPD170006108'}\n",
      "\n",
      "{'KNTPD170006108'}\n",
      "\n",
      "{'KNTPD170006108'}\n",
      "\n",
      "{'KNTPD170006108'}\n",
      "\n",
      "{'KNTPD160016054'}\n",
      "\n",
      "{'KNTPD170006108'}\n",
      "\n",
      "{'KNTPD170006108'}\n",
      "\n",
      "{'KNTPD170006108'}\n",
      "\n",
      "{'KNTPD170006108'}\n",
      "\n",
      "{'KNTPD170006108'}\n",
      "\n",
      "{'KNTPD170006108'}\n",
      "\n",
      "{'KNTPD170006108'}\n",
      "\n",
      "{'KNTPD170006108'}\n",
      "\n",
      "{'KNTPD170006108'}\n",
      "\n",
      "{'KNTPD170006108'}\n",
      "\n",
      "{'KNTPD170006108'}\n",
      "\n",
      "{'KNTPD170006108'}\n",
      "\n",
      "{'KNTPD170006108'}\n",
      "\n",
      "{'KNTPD170006108'}\n",
      "\n",
      "{'KNTPD170006108'}\n",
      "\n",
      "{'KNTPD170006108'}\n",
      "\n",
      "{'KNTPD170006108'}\n",
      "\n",
      "{'KNTPD170006108'}\n",
      "\n",
      "{'KNTPD170006108'}\n",
      "\n",
      "{'KNTPD170006108'}\n",
      "\n",
      "{'KNTPD170006108'}\n",
      "\n",
      "{'KNTPD170006108'}\n",
      "\n",
      "{'KNTPD170006108'}\n",
      "\n",
      "{'KNTPD170006108'}\n",
      "\n",
      "{'KNTPD170006108'}\n",
      "\n",
      "{'KNTPD170006108'}\n",
      "\n",
      "{'KNTPD170006108'}\n",
      "\n",
      "{'KNTPD160002899'}\n",
      "\n",
      "{'KNTPD160016410'}\n",
      "\n",
      "{'KNTPD160016410'}\n",
      "\n",
      "{'KNTPD160016410'}\n",
      "\n",
      "{'KNTPD160016410'}\n",
      "\n",
      "{'KNTPD160016410'}\n",
      "\n",
      "{'KNTPD160016410'}\n",
      "\n",
      "{'KNTPD160016410'}\n",
      "\n",
      "{'KNTPD150010457'}\n",
      "\n",
      "{'KNTPD170006108'}\n",
      "\n",
      "{'KNTPD170006108'}\n",
      "\n",
      "{'KNTPD170006108'}\n",
      "\n",
      "{'KNTPD170006108'}\n",
      "\n",
      "{'KNTPD170006108'}\n",
      "\n",
      "{'KNTPD170006108'}\n",
      "\n",
      "{'KNTPD170006108'}\n",
      "\n",
      "{'KNTPD170006108'}\n",
      "\n",
      "{'KNTPD170006108'}\n",
      "\n",
      "{'KNTPD170006108'}\n",
      "\n",
      "{'KNTPD170006108'}\n",
      "\n",
      "{'KNTPD170006108'}\n",
      "\n",
      "{'KNTPD170006108'}\n",
      "\n",
      "{'KNTPD170006108'}\n",
      "\n",
      "{'KNTPD170006108'}\n",
      "\n",
      "{'KNTPD170006108'}\n",
      "\n",
      "{'KNTPD170006108'}\n",
      "\n",
      "{'KNTPD170006108'}\n",
      "\n",
      "{'KNTPD170006108'}\n",
      "\n",
      "{'KNTPD170006108'}\n",
      "\n",
      "{'KNTPD170006108'}\n",
      "\n",
      "{'KNTPD170006108'}\n",
      "\n",
      "{'KNTPD170006108'}\n",
      "\n",
      "{'KNTPD160006355'}\n",
      "\n",
      "{'KNTPD160006355'}\n",
      "\n",
      "{'KNTPD160013234'}\n",
      "\n",
      "{'KNTPD170006108'}\n",
      "\n",
      "{'KNTPD170006108'}\n",
      "\n",
      "{'KNTPD170006108'}\n",
      "\n",
      "{'KNTPD170006108'}\n",
      "\n",
      "{'KNTPD170006108'}\n",
      "\n",
      "{'KNTPD170006108'}\n",
      "\n",
      "{'KNTPD170006108'}\n",
      "\n",
      "{'KNTPD170006108'}\n",
      "\n",
      "{'KNTPD170006108'}\n",
      "\n",
      "{'KNTPD170006108'}\n",
      "\n",
      "{'KNTPD160006735'}\n",
      "\n",
      "{'KNTPD160020349'}\n",
      "\n",
      "{'KNTPD160020349'}\n",
      "\n",
      "{'KNTPD160020349'}\n",
      "\n",
      "{'KNTPD160020349'}\n",
      "\n",
      "{'KNTPD160016410'}\n",
      "\n",
      "{'KNTPD160016410'}\n",
      "\n",
      "{'KNTPD160016410'}\n",
      "\n",
      "{'KNTPD160016410'}\n",
      "\n",
      "{'KNTPD160016410'}\n",
      "\n",
      "{'KNTPD160016410'}\n",
      "\n",
      "{'KNTPD170006108'}\n",
      "\n",
      "{'KNTPD170006108'}\n",
      "\n",
      "{'KNTPD170006108'}\n",
      "\n",
      "{'KNTPD170006108'}\n",
      "\n",
      "{'KNTPD170006108'}\n",
      "\n",
      "{'KNTPD170006108'}\n",
      "\n",
      "{'KNTPD170006108'}\n",
      "\n",
      "{'KNTPD170006108'}\n",
      "\n",
      "{'KNTPD170006108'}\n",
      "\n",
      "{'KNTPD160020349'}\n",
      "\n",
      "{'KNTPD160020349'}\n",
      "\n",
      "{'KNTPD160020349'}\n",
      "\n",
      "{'KNTPD170006108'}\n",
      "\n",
      "{'KNTPD170006108'}\n",
      "\n",
      "{'KNTPD170006108'}\n",
      "\n",
      "{'KNTPD170006108'}\n",
      "\n",
      "{'KNTPD170006108'}\n",
      "\n",
      "{'KNTPD170006108'}\n",
      "\n",
      "{'KNTPD170006108'}\n",
      "\n",
      "{'KNTPD170006108'}\n",
      "\n",
      "{'KNTPD150010126'}\n",
      "\n",
      "{'KNTPD150010126'}\n",
      "\n",
      "{'KNTPD160016410'}\n",
      "\n",
      "{'KNTPD160016410'}\n",
      "\n",
      "{'KNTPD160016410'}\n",
      "\n",
      "{'KNTPD160016410'}\n",
      "\n",
      "{'KNTPD160016410'}\n",
      "\n",
      "{'KNTPD160016410'}\n",
      "\n",
      "{'KNTPD160016410'}\n",
      "\n",
      "{'KNTPD160016410'}\n",
      "\n",
      "{'KNTPD160016410'}\n",
      "\n",
      "{'KNTPD160016410'}\n",
      "\n",
      "{'KNTPD160016410'}\n",
      "\n",
      "{'KNTPD160016410'}\n",
      "\n",
      "{'KNTPD170006108'}\n",
      "\n",
      "{'KNTPD170006108'}\n",
      "\n",
      "{'KNTPD170006108'}\n",
      "\n",
      "{'KNTPD170006108'}\n",
      "\n",
      "{'KNTPD170006108'}\n",
      "\n",
      "{'KNTPD170006108'}\n",
      "\n",
      "{'KNTPD170006108'}\n",
      "\n",
      "{'KNTPD160006355'}\n",
      "\n",
      "{'KNTPD150010126'}\n",
      "\n",
      "{'KNTPD160016410'}\n",
      "\n",
      "{'KNTPD160016410'}\n",
      "\n",
      "{'KNTPD170006108'}\n",
      "\n",
      "{'KNTPD170006108'}\n",
      "\n",
      "{'KNTPD170006108'}\n",
      "\n",
      "{'KNTPD170006108'}\n",
      "\n",
      "{'KNTPD170006108'}\n",
      "\n",
      "{'KNTPD170006108'}\n",
      "\n",
      "{'KNTPD170006108'}\n",
      "\n",
      "{'KNTPD170006108'}\n",
      "\n",
      "{'KNTPD170006108'}\n",
      "\n",
      "{'KNTPD170006108'}\n",
      "\n",
      "{'KNTPD170006108'}\n",
      "\n",
      "{'KNTPD170006108'}\n",
      "\n",
      "{'KNTPD170006108'}\n",
      "\n",
      "{'KNTPD170006108'}\n",
      "\n",
      "{'KNTPD170006108'}\n",
      "\n",
      "{'KNTPD160016410'}\n",
      "\n",
      "{'KNTPD170006108'}\n",
      "\n",
      "{'KNTPD170006108'}\n",
      "\n",
      "{'KNTPD170006108'}\n",
      "\n",
      "{'KNTPD160020349'}\n",
      "\n",
      "{'KNTPD160020349'}\n",
      "\n",
      "{'KNTPD160020349'}\n",
      "\n",
      "{'KNTPD170006108'}\n",
      "\n",
      "{'KNTPD170006108'}\n",
      "\n",
      "{'KNTPD170006108'}\n"
     ]
    }
   ],
   "source": [
    "G = nx.bipartite.projected_graph(BG, names)\n",
    "\n",
    "for i, (u,v) in enumerate(G.edges()):\n",
    "    unbrs = set(BG[u])\n",
    "    vnbrs = set(BG[v])\n",
    "    \n",
    "    print()\n",
    "    print(unbrs & vnbrs)\n",
    "    "
   ]
  },
  {
   "cell_type": "markdown",
   "metadata": {
    "deletable": true,
    "editable": true
   },
   "source": [
    "## Centrality for G"
   ]
  },
  {
   "cell_type": "code",
   "execution_count": 16,
   "metadata": {
    "collapsed": false,
    "deletable": true,
    "editable": true
   },
   "outputs": [
    {
     "name": "stdout",
     "output_type": "stream",
     "text": [
      "22.891156462585034\n",
      "15.0\n",
      "16.64461247637051\n",
      "15.0\n",
      "16.64461247637051\n",
      "15.0\n",
      "16.64461247637051\n",
      "16.64461247637051\n",
      "15.0\n",
      "15.0\n",
      "15.0\n",
      "16.64461247637051\n",
      "16.64461247637051\n",
      "18.84704672835207\n",
      "15.0\n",
      "15.0\n",
      "33.125\n",
      "15.0\n",
      "18.28922495274102\n",
      "24.967348341639457\n",
      "16.09640831758034\n",
      "15.0\n",
      "15.0\n",
      "15.54820415879017\n",
      "15.54820415879017\n",
      "15.0\n",
      "35.0\n",
      "17.192816635160682\n",
      "16.64461247637051\n",
      "26.2621359223301\n",
      "15.0\n",
      "15.0\n",
      "15.0\n",
      "16.64461247637051\n",
      "20.770570092528107\n",
      "15.0\n",
      "15.0\n",
      "15.0\n",
      "15.0\n",
      "16.64461247637051\n",
      "15.54820415879017\n",
      "15.0\n",
      "15.0\n",
      "15.0\n",
      "15.0\n",
      "15.0\n",
      "16.09640831758034\n",
      "15.54820415879017\n",
      "15.0\n",
      "15.0\n",
      "15.0\n",
      "15.54820415879017\n",
      "15.0\n",
      "15.0\n",
      "16.09640831758034\n",
      "15.0\n",
      "15.0\n",
      "15.0\n",
      "15.0\n",
      "15.0\n",
      "15.0\n",
      "15.0\n",
      "15.0\n",
      "15.0\n",
      "15.0\n",
      "15.0\n",
      "15.54820415879017\n",
      "15.0\n",
      "15.0\n",
      "32.3134328358209\n",
      "15.0\n",
      "15.0\n",
      "16.64461247637051\n",
      "15.0\n",
      "15.0\n",
      "15.0\n",
      "15.0\n",
      "15.0\n",
      "15.0\n",
      "16.64461247637051\n",
      "15.0\n",
      "16.09640831758034\n",
      "15.0\n",
      "16.09640831758034\n",
      "15.0\n",
      "15.0\n",
      "15.0\n",
      "15.54820415879017\n",
      "15.0\n",
      "15.0\n",
      "15.986767485822305\n",
      "15.0\n",
      "16.64461247637051\n",
      "15.0\n",
      "15.0\n",
      "15.0\n",
      "15.0\n",
      "15.0\n",
      "15.0\n",
      "16.09640831758034\n",
      "16.64461247637051\n",
      "15.0\n",
      "15.0\n",
      "15.54820415879017\n",
      "15.0\n",
      "15.0\n",
      "16.09640831758034\n",
      "16.64461247637051\n",
      "16.64461247637051\n",
      "15.0\n",
      "15.0\n",
      "15.0\n",
      "33.41269841269841\n",
      "22.891156462585034\n",
      "15.0\n",
      "25.8411214953271\n",
      "15.54820415879017\n",
      "16.09640831758034\n",
      "15.0\n",
      "16.09640831758034\n",
      "16.09640831758034\n",
      "16.64461247637051\n",
      "15.0\n",
      "15.0\n",
      "15.0\n",
      "15.0\n",
      "15.0\n",
      "16.64461247637051\n",
      "16.64461247637051\n",
      "15.0\n",
      "15.0\n",
      "15.0\n",
      "20.770570092528107\n",
      "15.0\n",
      "15.0\n",
      "20.770570092528107\n",
      "15.0\n",
      "15.0\n",
      "25.642201834862384\n",
      "15.0\n",
      "32.846153846153854\n",
      "15.0\n",
      "15.0\n",
      "20.770570092528107\n",
      "17.192816635160682\n",
      "15.54820415879017\n",
      "15.0\n",
      "15.0\n",
      "18.28922495274102\n",
      "15.0\n",
      "18.28922495274102\n",
      "18.28922495274102\n",
      "18.28922495274102\n",
      "15.54820415879017\n",
      "18.28922495274102\n",
      "17.192816635160682\n",
      "15.0\n",
      "15.0\n",
      "15.0\n",
      "18.28922495274102\n",
      "15.0\n",
      "15.0\n",
      "16.09640831758034\n",
      "16.09640831758034\n",
      "16.09640831758034\n",
      "15.0\n",
      "15.54820415879017\n",
      "15.54820415879017\n",
      "15.54820415879017\n",
      "25.8411214953271\n",
      "15.0\n",
      "16.09640831758034\n",
      "15.0\n",
      "15.0\n",
      "21.03024574669187\n",
      "15.0\n",
      "16.64461247637051\n",
      "15.0\n",
      "16.09640831758034\n",
      "15.54820415879017\n",
      "32.3134328358209\n",
      "17.192816635160682\n",
      "16.09640831758034\n",
      "17.192816635160682\n",
      "16.09640831758034\n",
      "26.2621359223301\n",
      "15.0\n",
      "15.0\n",
      "16.64461247637051\n",
      "16.09640831758034\n",
      "15.0\n",
      "15.0\n",
      "18.901923718447684\n",
      "21.03024574669187\n",
      "15.54820415879017\n",
      "15.54820415879017\n",
      "18.901923718447684\n",
      "17.192816635160682\n",
      "15.0\n",
      "15.0\n",
      "15.0\n",
      "16.09640831758034\n",
      "26.6\n",
      "16.09640831758034\n",
      "15.54820415879017\n",
      "15.54820415879017\n",
      "15.54820415879017\n",
      "15.0\n",
      "16.09640831758034\n",
      "16.09640831758034\n",
      "16.09640831758034\n",
      "26.04761904761905\n",
      "15.0\n",
      "15.0\n",
      "15.54820415879017\n",
      "15.0\n",
      "23.0\n",
      "15.0\n",
      "15.0\n",
      "15.0\n",
      "15.0\n",
      "25.8411214953271\n",
      "15.0\n",
      "16.09640831758034\n",
      "15.54820415879017\n",
      "16.09640831758034\n",
      "16.64461247637051\n",
      "15.0\n",
      "19.38563327032136\n",
      "15.0\n",
      "18.158700153029077\n",
      "26.372549019607845\n",
      "15.54820415879017\n",
      "26.2621359223301\n",
      "15.0\n",
      "16.09640831758034\n",
      "15.0\n",
      "16.09640831758034\n",
      "20.622606756822258\n",
      "18.901923718447684\n",
      "15.0\n",
      "15.54820415879017\n",
      "15.0\n",
      "15.0\n",
      "20.770570092528107\n",
      "15.54820415879017\n",
      "25.642201834862384\n",
      "15.0\n",
      "15.0\n",
      "15.0\n",
      "15.0\n",
      "15.54820415879017\n",
      "18.901923718447684\n",
      "15.0\n",
      "15.0\n",
      "15.0\n",
      "16.09640831758034\n",
      "15.0\n",
      "18.901923718447684\n",
      "16.09640831758034\n",
      "16.09640831758034\n",
      "16.233459357277884\n",
      "15.54820415879017\n",
      "16.233459357277884\n",
      "15.0\n",
      "16.09640831758034\n",
      "15.0\n",
      "18.901923718447684\n",
      "15.0\n",
      "16.09640831758034\n",
      "15.0\n",
      "15.0\n",
      "15.0\n",
      "15.54820415879017\n",
      "15.0\n",
      "15.0\n",
      "20.770570092528107\n",
      "15.0\n",
      "15.0\n",
      "15.0\n",
      "15.0\n",
      "15.0\n",
      "15.0\n",
      "20.622606756822258\n",
      "15.0\n",
      "15.0\n",
      "15.0\n",
      "15.0\n",
      "15.0\n",
      "15.0\n",
      "19.38563327032136\n",
      "15.54820415879017\n",
      "16.64461247637051\n",
      "21.03024574669187\n",
      "16.09640831758034\n",
      "15.0\n",
      "15.0\n",
      "15.0\n",
      "16.64461247637051\n",
      "21.852551984877124\n",
      "15.0\n",
      "15.54820415879017\n",
      "19.38563327032136\n",
      "16.09640831758034\n",
      "26.2621359223301\n",
      "26.372549019607845\n",
      "15.54820415879017\n",
      "26.485148514851485\n",
      "15.54820415879017\n",
      "19.38563327032136\n",
      "16.64461247637051\n",
      "15.0\n",
      "15.54820415879017\n",
      "16.09640831758034\n",
      "15.54820415879017\n",
      "16.09640831758034\n",
      "15.0\n",
      "15.0\n",
      "15.0\n",
      "15.54820415879017\n",
      "15.54820415879017\n",
      "15.0\n",
      "15.0\n",
      "15.54820415879017\n",
      "19.38563327032136\n",
      "17.192816635160682\n",
      "15.54820415879017\n",
      "15.0\n",
      "32.3134328358209\n",
      "15.0\n",
      "15.0\n",
      "15.54820415879017\n",
      "15.0\n",
      "15.0\n",
      "15.0\n",
      "15.0\n",
      "15.0\n",
      "15.0\n",
      "15.0\n",
      "15.0\n",
      "19.38563327032136\n",
      "15.0\n",
      "32.3134328358209\n",
      "15.0\n",
      "32.3134328358209\n",
      "15.54820415879017\n",
      "18.901923718447684\n",
      "21.852551984877124\n",
      "15.54820415879017\n",
      "16.09640831758034\n",
      "16.09640831758034\n",
      "15.0\n",
      "21.852551984877124\n",
      "15.0\n",
      "15.0\n",
      "15.0\n",
      "15.54820415879017\n",
      "32.3134328358209\n",
      "21.852551984877124\n",
      "17.192816635160682\n",
      "15.0\n",
      "15.0\n",
      "19.38563327032136\n",
      "21.852551984877124\n",
      "21.03024574669187\n",
      "17.192816635160682\n",
      "32.3134328358209\n",
      "19.38563327032136\n",
      "21.03024574669187\n",
      "16.64461247637051\n",
      "32.3134328358209\n",
      "16.09640831758034\n",
      "15.54820415879017\n",
      "32.3134328358209\n",
      "17.192816635160682\n",
      "32.3134328358209\n",
      "15.54820415879017\n",
      "16.09640831758034\n",
      "32.3134328358209\n",
      "32.3134328358209\n",
      "16.09640831758034\n",
      "16.64461247637051\n",
      "15.0\n",
      "15.0\n",
      "21.03024574669187\n",
      "18.901923718447684\n",
      "32.3134328358209\n",
      "16.09640831758034\n",
      "32.3134328358209\n",
      "26.2621359223301\n",
      "16.64461247637051\n",
      "15.54820415879017\n",
      "32.3134328358209\n",
      "15.54820415879017\n",
      "15.54820415879017\n",
      "21.852551984877124\n",
      "18.901923718447684\n",
      "21.03024574669187\n",
      "32.3134328358209\n",
      "15.0\n",
      "15.0\n",
      "15.0\n",
      "16.09640831758034\n",
      "19.38563327032136\n",
      "21.852551984877124\n",
      "15.0\n",
      "15.0\n",
      "15.54820415879017\n",
      "32.3134328358209\n",
      "15.0\n",
      "16.64461247637051\n",
      "21.03024574669187\n",
      "15.54820415879017\n",
      "15.0\n",
      "21.03024574669187\n",
      "15.54820415879017\n",
      "21.03024574669187\n",
      "15.0\n",
      "15.0\n",
      "32.3134328358209\n",
      "16.64461247637051\n",
      "15.0\n",
      "16.64461247637051\n",
      "18.901923718447684\n",
      "21.03024574669187\n",
      "15.54820415879017\n",
      "15.54820415879017\n",
      "15.54820415879017\n",
      "32.3134328358209\n",
      "32.3134328358209\n",
      "16.64461247637051\n",
      "32.3134328358209\n",
      "15.0\n",
      "16.64461247637051\n",
      "15.54820415879017\n",
      "18.84704672835207\n",
      "21.03024574669187\n",
      "32.3134328358209\n",
      "15.0\n",
      "21.852551984877124\n",
      "16.09640831758034\n",
      "21.852551984877124\n",
      "15.0\n",
      "16.09640831758034\n",
      "15.54820415879017\n",
      "15.0\n",
      "32.3134328358209\n",
      "15.54820415879017\n",
      "15.0\n",
      "16.09640831758034\n",
      "32.3134328358209\n",
      "21.852551984877124\n",
      "16.64461247637051\n",
      "21.03024574669187\n",
      "16.09640831758034\n",
      "15.0\n",
      "32.3134328358209\n",
      "16.09640831758034\n"
     ]
    }
   ],
   "source": [
    "centrality = 'closeness'\n",
    "def add_centrality(centrality, G):\n",
    "    \n",
    "    if centrality == 'betweenness':\n",
    "        Dict = nx.algorithms.centrality.betweenness_centrality(G)\n",
    "        Min = min(Dict.values())\n",
    "        Max = max(Dict.values())\n",
    "        \n",
    "    elif centrality == 'closeness':\n",
    "        Dict = nx.algorithms.centrality.closeness_centrality(G)\n",
    "        Min = min(Dict.values())\n",
    "        Max = max(Dict.values())\n",
    "        \n",
    "    elif centrality == 'degree':\n",
    "        Dict = nx.algorithms.centrality.degree_centrality(G)\n",
    "        Min = min(Dict.values())\n",
    "        Max = max(Dict.values())\n",
    "        \n",
    "    #print(Dict)\n",
    "    for i, u  in enumerate(G.nodes()):\n",
    "        if  Max == Min:\n",
    "            G.nodes[u]['centrality'] = 20\n",
    "        else:\n",
    "            G.nodes[u]['centrality'] = (((Dict[u]- Min)*(40))/(Max -Min))/2+15\n",
    "        print(G.nodes[u]['centrality'])\n",
    "            \n",
    "    return Dict\n",
    "Dict = add_centrality(centrality, G)"
   ]
  },
  {
   "cell_type": "markdown",
   "metadata": {
    "deletable": true,
    "editable": true
   },
   "source": [
    "## Central Graph"
   ]
  },
  {
   "cell_type": "code",
   "execution_count": 22,
   "metadata": {
    "collapsed": false,
    "deletable": true,
    "editable": true
   },
   "outputs": [
    {
     "name": "stdout",
     "output_type": "stream",
     "text": [
      "[('Peter  Mendoza', {'centrality': 32.3134328358209}), ('Jackie M Munez', {'centrality': 32.3134328358209}), ('James  Tyrone', {'centrality': 32.3134328358209}), ('Chris L Patterson', {'centrality': 32.3134328358209}), ('Laura C Alvarez', {'centrality': 33.125}), ('Olivia L Lynch', {'centrality': 32.846153846153854}), ('Brenda  Ricardo', {'centrality': 32.3134328358209}), ('Elizabeth T Baker', {'centrality': 26.2621359223301}), ('Maria  Marques', {'centrality': 32.3134328358209}), ('Amber Lynn Harris', {'centrality': 32.3134328358209}), ('Kenneth K Shores', {'centrality': 32.3134328358209}), ('Timothy  West', {'centrality': 32.3134328358209}), ('Betriz A Valera-Galeana', {'centrality': 32.3134328358209}), ('Thomas G Evenson', {'centrality': 32.3134328358209}), ('Young  Chon', {'centrality': 32.3134328358209}), ('Taryn J Howard', {'centrality': 32.3134328358209}), ('Tom  Williams', {'centrality': 32.3134328358209}), ('Charles A Grimm', {'centrality': 32.3134328358209}), ('Debbie A Krout', {'centrality': 32.3134328358209}), ('Shawn Michael Peters', {'centrality': 32.3134328358209}), ('Robert David Hanson', {'centrality': 35.0}), ('Herman Jd Rene Levant', {'centrality': 26.04761904761905}), ('Mary M Gomiez', {'centrality': 32.3134328358209}), ('Deborah A Jefferson', {'centrality': 33.41269841269841}), ('Ricardo Perez Martinez-Perez', {'centrality': 32.3134328358209}), ('Maria G Martinez', {'centrality': 32.3134328358209}), ('Oswald  Reyes', {'centrality': 32.3134328358209}), ('Paul  Smith', {'centrality': 32.3134328358209}), ('Chris T Haycock', {'centrality': 22.891156462585034}), ('Juan  Munez', {'centrality': 32.3134328358209}), ('Mark Joseph Umlauf', {'centrality': 32.3134328358209}), ('Mario  Garcias', {'centrality': 32.3134328358209}), ('Talia P Thomas', {'centrality': 22.891156462585034, 'role': 3})]\n"
     ]
    }
   ],
   "source": [
    "## central_node steps is now 3\n",
    "def central_graph(central_name, G, steps):\n",
    "\n",
    "    from networkx import generators as gr\n",
    "    subG = gr.ego_graph(G,central_name,undirected=True, radius = steps, distance = None)\n",
    "    \n",
    "    # Color of central node : 3\n",
    "    subG.nodes[central_name]['role'] = 3\n",
    "    for nd in subG.nodes.data():\n",
    "        node = nd[0]\n",
    "        nd[1]['centrality'] = G.nodes[node]['centrality']\n",
    "    return subG\n",
    "subG = central_graph(central_name, G, 3)\n",
    "print(subG.nodes.data())"
   ]
  },
  {
   "cell_type": "markdown",
   "metadata": {
    "deletable": true,
    "editable": true
   },
   "source": [
    "## Add role to nodes and edges"
   ]
  },
  {
   "cell_type": "code",
   "execution_count": 24,
   "metadata": {
    "collapsed": false,
    "deletable": true,
    "editable": true
   },
   "outputs": [],
   "source": [
    "def color_code_nodes(subG, BG, df, central_name):\n",
    "    \n",
    "    for i, (u,v) in enumerate(subG.edges()):\n",
    "        if u != central_name:\n",
    "            subG.nodes[u]['role'] = None\n",
    "        if v != central_name:\n",
    "            subG.nodes[v]['role'] = None\n",
    "            \n",
    "        subG.edges[u,v]['role'] = None\n",
    "        subG.edges[u,v]['role'] = None\n",
    "        \n",
    "    for i, (u,v) in enumerate(subG.edges()):\n",
    "        unbrs = set(BG[u]) \n",
    "        vnbrs = set(BG[v])\n",
    "    \n",
    "        indic = unbrs & vnbrs\n",
    "            \n",
    "            # if u and v are involved in the same case \n",
    "        for index in indic:\n",
    "\n",
    "            # find the role of u invovled in the case\n",
    "            df_u = df[(df['Code'] == index) & (df['FullName'] == u)]\n",
    "            role_u = df_u['Checked_Out_Book']\n",
    "\n",
    "            # find the role of v invovled in the case\n",
    "            df_v = df[(df['Code'] == index) & (df['FullName']==v)]\n",
    "            role_v = df_v['Checked_Out_Book']\n",
    "\n",
    "            # If u already has a role as a suspect, it will be kept that way\n",
    "            for temp in role_u:\n",
    "                r_u = temp\n",
    "                if subG.nodes[u]['role'] == None:\n",
    "                    subG.nodes[u]['role'] = r_u\n",
    "                else:\n",
    "                    if subG.nodes[u]['role'] == 0:\n",
    "                        pass\n",
    "                    # If u already has a role as a victim and a new row as a victim\n",
    "                    # it will remain a victim\n",
    "                    elif (subG.nodes[u]['role'] ==1) and r_u == 2:\n",
    "                        pass\n",
    "                    else:\n",
    "                        subG.nodes[u]['role'] = r_u\n",
    "\n",
    "            for temp in role_v:\n",
    "                r_v = temp\n",
    "                if subG.nodes[v]['role'] == None:\n",
    "                    subG.nodes[v]['role'] = r_v\n",
    "                else:\n",
    "                    if subG.nodes[v]['role'] == 0:\n",
    "                        pass\n",
    "                    elif (subG.nodes[u]['role'] ==1) and r_u == 2:\n",
    "                        pass\n",
    "                    else:\n",
    "                        subG.nodes[v]['role'] = r_v\n",
    "\n",
    "    for i, (u,v) in enumerate(subG.edges()):\n",
    "        r_u = subG.nodes[u]['role']\n",
    "        r_v = subG.nodes[v]['role']\n",
    "    \n",
    "    # Set edge relationships, if both are suspects, they are in a gang\n",
    "    # If only one side is the victim then the relationship is victim\n",
    "    # If one of the nodes is witness, then the relationship is witness\n",
    "    \n",
    "        if r_u == 0 and r_v == 0:\n",
    "            subG.edges[u,v]['role'] = 'Gang'\n",
    "        elif (r_u == 0 and r_v == 1) or (r_u == 1 and r_v == 0):\n",
    "            subG.edges[u, v]['role'] = 'Victim'\n",
    "        elif r_u == 2 or r_v == 2:\n",
    "            subG.edges[u, v]['role'] = 'Witness'\n",
    "\n",
    "color_code_nodes(subG, BG, df, central_name)"
   ]
  },
  {
   "cell_type": "markdown",
   "metadata": {
    "deletable": true,
    "editable": true
   },
   "source": [
    "## set centrality for subG nodes"
   ]
  },
  {
   "cell_type": "code",
   "execution_count": 25,
   "metadata": {
    "collapsed": false,
    "deletable": true,
    "editable": true
   },
   "outputs": [
    {
     "data": {
      "text/plain": [
       "EdgeDataView([('Peter  Mendoza', 'Laura C Alvarez', {'role': 'Witness'}), ('Peter  Mendoza', 'Robert David Hanson', {'role': 'Witness'}), ('Peter  Mendoza', 'Chris L Patterson', {'role': 'Witness'}), ('Peter  Mendoza', 'Deborah A Jefferson', {'role': 'Witness'}), ('Peter  Mendoza', 'Olivia L Lynch', {'role': 'Witness'}), ('Peter  Mendoza', 'Juan  Munez', {'role': 'Witness'}), ('Peter  Mendoza', 'Mark Joseph Umlauf', {'role': 'Witness'}), ('Peter  Mendoza', 'Paul  Smith', {'role': 'Witness'}), ('Peter  Mendoza', 'Amber Lynn Harris', {'role': 'Witness'}), ('Peter  Mendoza', 'Jackie M Munez', {'role': 'Witness'}), ('Peter  Mendoza', 'Maria G Martinez', {'role': 'Witness'}), ('Peter  Mendoza', 'Ricardo Perez Martinez-Perez', {'role': 'Witness'}), ('Peter  Mendoza', 'Shawn Michael Peters', {'role': 'Witness'}), ('Peter  Mendoza', 'Tom  Williams', {'role': 'Witness'}), ('Peter  Mendoza', 'Timothy  West', {'role': 'Witness'}), ('Peter  Mendoza', 'James  Tyrone', {'role': 'Witness'}), ('Peter  Mendoza', 'Brenda  Ricardo', {'role': 'Witness'}), ('Peter  Mendoza', 'Maria  Marques', {'role': 'Witness'}), ('Peter  Mendoza', 'Kenneth K Shores', {'role': 'Witness'}), ('Peter  Mendoza', 'Thomas G Evenson', {'role': 'Witness'}), ('Peter  Mendoza', 'Young  Chon', {'role': 'Witness'}), ('Peter  Mendoza', 'Taryn J Howard', {'role': 'Witness'}), ('Peter  Mendoza', 'Charles A Grimm', {'role': 'Witness'}), ('Peter  Mendoza', 'Debbie A Krout', {'role': 'Witness'}), ('Peter  Mendoza', 'Mary M Gomiez', {'role': 'Witness'}), ('Peter  Mendoza', 'Oswald  Reyes', {'role': 'Witness'}), ('Peter  Mendoza', 'Betriz A Valera-Galeana', {'role': 'Witness'}), ('Peter  Mendoza', 'Mario  Garcias', {'role': 'Witness'}), ('Jackie M Munez', 'Laura C Alvarez', {'role': 'Witness'}), ('Jackie M Munez', 'Robert David Hanson', {'role': 'Witness'}), ('Jackie M Munez', 'Chris L Patterson', {'role': 'Witness'}), ('Jackie M Munez', 'Deborah A Jefferson', {'role': 'Witness'}), ('Jackie M Munez', 'Olivia L Lynch', {'role': 'Witness'}), ('Jackie M Munez', 'Juan  Munez', {'role': 'Witness'}), ('Jackie M Munez', 'Mark Joseph Umlauf', {'role': 'Witness'}), ('Jackie M Munez', 'Paul  Smith', {'role': 'Witness'}), ('Jackie M Munez', 'Amber Lynn Harris', {'role': 'Witness'}), ('Jackie M Munez', 'James  Tyrone', {'role': 'Witness'}), ('Jackie M Munez', 'Brenda  Ricardo', {'role': 'Witness'}), ('Jackie M Munez', 'Maria  Marques', {'role': 'Witness'}), ('Jackie M Munez', 'Kenneth K Shores', {'role': 'Witness'}), ('Jackie M Munez', 'Timothy  West', {'role': 'Witness'}), ('Jackie M Munez', 'Thomas G Evenson', {'role': 'Witness'}), ('Jackie M Munez', 'Young  Chon', {'role': 'Witness'}), ('Jackie M Munez', 'Taryn J Howard', {'role': 'Witness'}), ('Jackie M Munez', 'Tom  Williams', {'role': 'Witness'}), ('Jackie M Munez', 'Charles A Grimm', {'role': 'Witness'}), ('Jackie M Munez', 'Debbie A Krout', {'role': 'Witness'}), ('Jackie M Munez', 'Shawn Michael Peters', {'role': 'Witness'}), ('Jackie M Munez', 'Mary M Gomiez', {'role': 'Witness'}), ('Jackie M Munez', 'Ricardo Perez Martinez-Perez', {'role': 'Witness'}), ('Jackie M Munez', 'Maria G Martinez', {'role': 'Witness'}), ('Jackie M Munez', 'Oswald  Reyes', {'role': 'Witness'}), ('Jackie M Munez', 'Betriz A Valera-Galeana', {'role': 'Witness'}), ('Jackie M Munez', 'Mario  Garcias', {'role': 'Witness'}), ('James  Tyrone', 'Laura C Alvarez', {'role': 'Witness'}), ('James  Tyrone', 'Robert David Hanson', {'role': 'Witness'}), ('James  Tyrone', 'Chris L Patterson', {'role': 'Witness'}), ('James  Tyrone', 'Deborah A Jefferson', {'role': 'Witness'}), ('James  Tyrone', 'Olivia L Lynch', {'role': 'Witness'}), ('James  Tyrone', 'Juan  Munez', {'role': 'Witness'}), ('James  Tyrone', 'Mark Joseph Umlauf', {'role': 'Witness'}), ('James  Tyrone', 'Paul  Smith', {'role': 'Witness'}), ('James  Tyrone', 'Amber Lynn Harris', {'role': 'Witness'}), ('James  Tyrone', 'Maria G Martinez', {'role': 'Witness'}), ('James  Tyrone', 'Ricardo Perez Martinez-Perez', {'role': 'Witness'}), ('James  Tyrone', 'Shawn Michael Peters', {'role': 'Witness'}), ('James  Tyrone', 'Tom  Williams', {'role': 'Witness'}), ('James  Tyrone', 'Timothy  West', {'role': 'Witness'}), ('James  Tyrone', 'Betriz A Valera-Galeana', {'role': 'Witness'}), ('James  Tyrone', 'Brenda  Ricardo', {'role': 'Witness'}), ('James  Tyrone', 'Charles A Grimm', {'role': 'Witness'}), ('James  Tyrone', 'Debbie A Krout', {'role': 'Witness'}), ('James  Tyrone', 'Maria  Marques', {'role': 'Witness'}), ('James  Tyrone', 'Kenneth K Shores', {'role': 'Witness'}), ('James  Tyrone', 'Thomas G Evenson', {'role': 'Witness'}), ('James  Tyrone', 'Young  Chon', {'role': 'Witness'}), ('James  Tyrone', 'Taryn J Howard', {'role': 'Witness'}), ('James  Tyrone', 'Mary M Gomiez', {'role': 'Witness'}), ('James  Tyrone', 'Oswald  Reyes', {'role': 'Witness'}), ('James  Tyrone', 'Mario  Garcias', {'role': 'Witness'}), ('Chris L Patterson', 'Laura C Alvarez', {'role': 'Witness'}), ('Chris L Patterson', 'Robert David Hanson', {'role': 'Witness'}), ('Chris L Patterson', 'Mark Joseph Umlauf', {'role': 'Witness'}), ('Chris L Patterson', 'Olivia L Lynch', {'role': 'Witness'}), ('Chris L Patterson', 'Brenda  Ricardo', {'role': 'Witness'}), ('Chris L Patterson', 'Maria  Marques', {'role': 'Witness'}), ('Chris L Patterson', 'Amber Lynn Harris', {'role': 'Witness'}), ('Chris L Patterson', 'Kenneth K Shores', {'role': 'Witness'}), ('Chris L Patterson', 'Timothy  West', {'role': 'Witness'}), ('Chris L Patterson', 'Thomas G Evenson', {'role': 'Witness'}), ('Chris L Patterson', 'Young  Chon', {'role': 'Witness'}), ('Chris L Patterson', 'Taryn J Howard', {'role': 'Witness'}), ('Chris L Patterson', 'Tom  Williams', {'role': 'Witness'}), ('Chris L Patterson', 'Charles A Grimm', {'role': 'Witness'}), ('Chris L Patterson', 'Debbie A Krout', {'role': 'Witness'}), ('Chris L Patterson', 'Shawn Michael Peters', {'role': 'Witness'}), ('Chris L Patterson', 'Mary M Gomiez', {'role': 'Witness'}), ('Chris L Patterson', 'Deborah A Jefferson', {'role': 'Witness'}), ('Chris L Patterson', 'Ricardo Perez Martinez-Perez', {'role': 'Witness'}), ('Chris L Patterson', 'Maria G Martinez', {'role': 'Witness'}), ('Chris L Patterson', 'Oswald  Reyes', {'role': 'Witness'}), ('Chris L Patterson', 'Paul  Smith', {'role': 'Witness'}), ('Chris L Patterson', 'Juan  Munez', {'role': 'Witness'}), ('Chris L Patterson', 'Betriz A Valera-Galeana', {'role': 'Witness'}), ('Chris L Patterson', 'Mario  Garcias', {'role': 'Witness'}), ('Laura C Alvarez', 'Mark Joseph Umlauf', {'role': 'Witness'}), ('Laura C Alvarez', 'Mario  Garcias', {'role': 'Witness'}), ('Laura C Alvarez', 'Olivia L Lynch', {'role': 'Witness'}), ('Laura C Alvarez', 'Brenda  Ricardo', {'role': 'Witness'}), ('Laura C Alvarez', 'Maria  Marques', {'role': 'Witness'}), ('Laura C Alvarez', 'Amber Lynn Harris', {'role': 'Witness'}), ('Laura C Alvarez', 'Kenneth K Shores', {'role': 'Witness'}), ('Laura C Alvarez', 'Timothy  West', {'role': 'Witness'}), ('Laura C Alvarez', 'Thomas G Evenson', {'role': 'Witness'}), ('Laura C Alvarez', 'Young  Chon', {'role': 'Witness'}), ('Laura C Alvarez', 'Taryn J Howard', {'role': 'Witness'}), ('Laura C Alvarez', 'Tom  Williams', {'role': 'Witness'}), ('Laura C Alvarez', 'Charles A Grimm', {'role': 'Witness'}), ('Laura C Alvarez', 'Debbie A Krout', {'role': 'Witness'}), ('Laura C Alvarez', 'Shawn Michael Peters', {'role': 'Witness'}), ('Laura C Alvarez', 'Robert David Hanson', {'role': 'Witness'}), ('Laura C Alvarez', 'Mary M Gomiez', {'role': 'Witness'}), ('Laura C Alvarez', 'Deborah A Jefferson', {'role': 'Witness'}), ('Laura C Alvarez', 'Ricardo Perez Martinez-Perez', {'role': 'Witness'}), ('Laura C Alvarez', 'Maria G Martinez', {'role': 'Witness'}), ('Laura C Alvarez', 'Oswald  Reyes', {'role': 'Witness'}), ('Laura C Alvarez', 'Paul  Smith', {'role': 'Witness'}), ('Laura C Alvarez', 'Juan  Munez', {'role': 'Witness'}), ('Laura C Alvarez', 'Betriz A Valera-Galeana', {'role': 'Witness'}), ('Olivia L Lynch', 'Robert David Hanson', {'role': 'Witness'}), ('Olivia L Lynch', 'Deborah A Jefferson', {'role': 'Witness'}), ('Olivia L Lynch', 'Mark Joseph Umlauf', {'role': 'Witness'}), ('Olivia L Lynch', 'Brenda  Ricardo', {'role': 'Witness'}), ('Olivia L Lynch', 'Maria  Marques', {'role': 'Witness'}), ('Olivia L Lynch', 'Amber Lynn Harris', {'role': 'Witness'}), ('Olivia L Lynch', 'Kenneth K Shores', {'role': 'Witness'}), ('Olivia L Lynch', 'Timothy  West', {'role': 'Witness'}), ('Olivia L Lynch', 'Thomas G Evenson', {'role': 'Witness'}), ('Olivia L Lynch', 'Young  Chon', {'role': 'Witness'}), ('Olivia L Lynch', 'Taryn J Howard', {'role': 'Witness'}), ('Olivia L Lynch', 'Tom  Williams', {'role': 'Witness'}), ('Olivia L Lynch', 'Charles A Grimm', {'role': 'Witness'}), ('Olivia L Lynch', 'Debbie A Krout', {'role': 'Witness'}), ('Olivia L Lynch', 'Shawn Michael Peters', {'role': 'Witness'}), ('Olivia L Lynch', 'Mary M Gomiez', {'role': 'Witness'}), ('Olivia L Lynch', 'Ricardo Perez Martinez-Perez', {'role': 'Witness'}), ('Olivia L Lynch', 'Maria G Martinez', {'role': 'Witness'}), ('Olivia L Lynch', 'Oswald  Reyes', {'role': 'Witness'}), ('Olivia L Lynch', 'Paul  Smith', {'role': 'Witness'}), ('Olivia L Lynch', 'Juan  Munez', {'role': 'Witness'}), ('Olivia L Lynch', 'Betriz A Valera-Galeana', {'role': 'Witness'}), ('Olivia L Lynch', 'Mario  Garcias', {'role': 'Witness'}), ('Brenda  Ricardo', 'Robert David Hanson', {'role': 'Witness'}), ('Brenda  Ricardo', 'Deborah A Jefferson', {'role': 'Witness'}), ('Brenda  Ricardo', 'Juan  Munez', {'role': 'Witness'}), ('Brenda  Ricardo', 'Mark Joseph Umlauf', {'role': 'Witness'}), ('Brenda  Ricardo', 'Paul  Smith', {'role': 'Witness'}), ('Brenda  Ricardo', 'Amber Lynn Harris', {'role': 'Witness'}), ('Brenda  Ricardo', 'Maria G Martinez', {'role': 'Witness'}), ('Brenda  Ricardo', 'Ricardo Perez Martinez-Perez', {'role': 'Witness'}), ('Brenda  Ricardo', 'Shawn Michael Peters', {'role': 'Witness'}), ('Brenda  Ricardo', 'Tom  Williams', {'role': 'Witness'}), ('Brenda  Ricardo', 'Timothy  West', {'role': 'Witness'}), ('Brenda  Ricardo', 'Betriz A Valera-Galeana', {'role': 'Witness'}), ('Brenda  Ricardo', 'Maria  Marques', {'role': 'Witness'}), ('Brenda  Ricardo', 'Kenneth K Shores', {'role': 'Witness'}), ('Brenda  Ricardo', 'Thomas G Evenson', {'role': 'Witness'}), ('Brenda  Ricardo', 'Young  Chon', {'role': 'Witness'}), ('Brenda  Ricardo', 'Taryn J Howard', {'role': 'Witness'}), ('Brenda  Ricardo', 'Charles A Grimm', {'role': 'Witness'}), ('Brenda  Ricardo', 'Debbie A Krout', {'role': 'Witness'}), ('Brenda  Ricardo', 'Mary M Gomiez', {'role': 'Witness'}), ('Brenda  Ricardo', 'Oswald  Reyes', {'role': 'Witness'}), ('Brenda  Ricardo', 'Mario  Garcias', {'role': 'Witness'}), ('Elizabeth T Baker', 'Talia P Thomas', {'role': 'Gang'}), ('Elizabeth T Baker', 'Herman Jd Rene Levant', {'role': 'Gang'}), ('Elizabeth T Baker', 'Chris T Haycock', {'role': 'Witness'}), ('Elizabeth T Baker', 'Deborah A Jefferson', {'role': 'Witness'}), ('Maria  Marques', 'Robert David Hanson', {'role': 'Witness'}), ('Maria  Marques', 'Deborah A Jefferson', {'role': 'Witness'}), ('Maria  Marques', 'Juan  Munez', {'role': 'Witness'}), ('Maria  Marques', 'Mark Joseph Umlauf', {'role': 'Witness'}), ('Maria  Marques', 'Paul  Smith', {'role': 'Witness'}), ('Maria  Marques', 'Amber Lynn Harris', {'role': 'Witness'}), ('Maria  Marques', 'Maria G Martinez', {'role': 'Witness'}), ('Maria  Marques', 'Ricardo Perez Martinez-Perez', {'role': 'Witness'}), ('Maria  Marques', 'Shawn Michael Peters', {'role': 'Witness'}), ('Maria  Marques', 'Tom  Williams', {'role': 'Witness'}), ('Maria  Marques', 'Timothy  West', {'role': 'Witness'}), ('Maria  Marques', 'Betriz A Valera-Galeana', {'role': 'Witness'}), ('Maria  Marques', 'Charles A Grimm', {'role': 'Witness'}), ('Maria  Marques', 'Debbie A Krout', {'role': 'Witness'}), ('Maria  Marques', 'Kenneth K Shores', {'role': 'Witness'}), ('Maria  Marques', 'Thomas G Evenson', {'role': 'Witness'}), ('Maria  Marques', 'Young  Chon', {'role': 'Witness'}), ('Maria  Marques', 'Taryn J Howard', {'role': 'Witness'}), ('Maria  Marques', 'Mary M Gomiez', {'role': 'Witness'}), ('Maria  Marques', 'Oswald  Reyes', {'role': 'Witness'}), ('Maria  Marques', 'Mario  Garcias', {'role': 'Witness'}), ('Amber Lynn Harris', 'Robert David Hanson', {'role': 'Witness'}), ('Amber Lynn Harris', 'Deborah A Jefferson', {'role': 'Witness'}), ('Amber Lynn Harris', 'Juan  Munez', {'role': 'Witness'}), ('Amber Lynn Harris', 'Mark Joseph Umlauf', {'role': 'Witness'}), ('Amber Lynn Harris', 'Paul  Smith', {'role': 'Witness'}), ('Amber Lynn Harris', 'Kenneth K Shores', {'role': 'Witness'}), ('Amber Lynn Harris', 'Timothy  West', {'role': 'Witness'}), ('Amber Lynn Harris', 'Thomas G Evenson', {'role': 'Witness'}), ('Amber Lynn Harris', 'Young  Chon', {'role': 'Witness'}), ('Amber Lynn Harris', 'Taryn J Howard', {'role': 'Witness'}), ('Amber Lynn Harris', 'Tom  Williams', {'role': 'Witness'}), ('Amber Lynn Harris', 'Charles A Grimm', {'role': 'Witness'}), ('Amber Lynn Harris', 'Debbie A Krout', {'role': 'Witness'}), ('Amber Lynn Harris', 'Shawn Michael Peters', {'role': 'Witness'}), ('Amber Lynn Harris', 'Mary M Gomiez', {'role': 'Witness'}), ('Amber Lynn Harris', 'Ricardo Perez Martinez-Perez', {'role': 'Witness'}), ('Amber Lynn Harris', 'Maria G Martinez', {'role': 'Witness'}), ('Amber Lynn Harris', 'Oswald  Reyes', {'role': 'Witness'}), ('Amber Lynn Harris', 'Betriz A Valera-Galeana', {'role': 'Witness'}), ('Amber Lynn Harris', 'Mario  Garcias', {'role': 'Witness'}), ('Kenneth K Shores', 'Robert David Hanson', {'role': 'Witness'}), ('Kenneth K Shores', 'Deborah A Jefferson', {'role': 'Witness'}), ('Kenneth K Shores', 'Juan  Munez', {'role': 'Witness'}), ('Kenneth K Shores', 'Mark Joseph Umlauf', {'role': 'Witness'}), ('Kenneth K Shores', 'Paul  Smith', {'role': 'Witness'}), ('Kenneth K Shores', 'Maria G Martinez', {'role': 'Witness'}), ('Kenneth K Shores', 'Ricardo Perez Martinez-Perez', {'role': 'Witness'}), ('Kenneth K Shores', 'Shawn Michael Peters', {'role': 'Witness'}), ('Kenneth K Shores', 'Tom  Williams', {'role': 'Witness'}), ('Kenneth K Shores', 'Timothy  West', {'role': 'Witness'}), ('Kenneth K Shores', 'Betriz A Valera-Galeana', {'role': 'Witness'}), ('Kenneth K Shores', 'Charles A Grimm', {'role': 'Witness'}), ('Kenneth K Shores', 'Debbie A Krout', {'role': 'Witness'}), ('Kenneth K Shores', 'Thomas G Evenson', {'role': 'Witness'}), ('Kenneth K Shores', 'Young  Chon', {'role': 'Witness'}), ('Kenneth K Shores', 'Taryn J Howard', {'role': 'Witness'}), ('Kenneth K Shores', 'Mary M Gomiez', {'role': 'Witness'}), ('Kenneth K Shores', 'Oswald  Reyes', {'role': 'Witness'}), ('Kenneth K Shores', 'Mario  Garcias', {'role': 'Witness'}), ('Timothy  West', 'Robert David Hanson', {'role': 'Witness'}), ('Timothy  West', 'Deborah A Jefferson', {'role': 'Witness'}), ('Timothy  West', 'Juan  Munez', {'role': 'Witness'}), ('Timothy  West', 'Mark Joseph Umlauf', {'role': 'Witness'}), ('Timothy  West', 'Paul  Smith', {'role': 'Witness'}), ('Timothy  West', 'Maria G Martinez', {'role': 'Witness'}), ('Timothy  West', 'Ricardo Perez Martinez-Perez', {'role': 'Witness'}), ('Timothy  West', 'Shawn Michael Peters', {'role': 'Witness'}), ('Timothy  West', 'Tom  Williams', {'role': 'Witness'}), ('Timothy  West', 'Thomas G Evenson', {'role': 'Witness'}), ('Timothy  West', 'Young  Chon', {'role': 'Witness'}), ('Timothy  West', 'Taryn J Howard', {'role': 'Witness'}), ('Timothy  West', 'Charles A Grimm', {'role': 'Witness'}), ('Timothy  West', 'Debbie A Krout', {'role': 'Witness'}), ('Timothy  West', 'Mary M Gomiez', {'role': 'Witness'}), ('Timothy  West', 'Oswald  Reyes', {'role': 'Witness'}), ('Timothy  West', 'Betriz A Valera-Galeana', {'role': 'Witness'}), ('Timothy  West', 'Mario  Garcias', {'role': 'Witness'}), ('Betriz A Valera-Galeana', 'Robert David Hanson', {'role': 'Witness'}), ('Betriz A Valera-Galeana', 'Deborah A Jefferson', {'role': 'Witness'}), ('Betriz A Valera-Galeana', 'Juan  Munez', {'role': 'Witness'}), ('Betriz A Valera-Galeana', 'Mark Joseph Umlauf', {'role': 'Witness'}), ('Betriz A Valera-Galeana', 'Paul  Smith', {'role': 'Witness'}), ('Betriz A Valera-Galeana', 'Maria G Martinez', {'role': 'Witness'}), ('Betriz A Valera-Galeana', 'Ricardo Perez Martinez-Perez', {'role': 'Witness'}), ('Betriz A Valera-Galeana', 'Shawn Michael Peters', {'role': 'Witness'}), ('Betriz A Valera-Galeana', 'Tom  Williams', {'role': 'Witness'}), ('Betriz A Valera-Galeana', 'Thomas G Evenson', {'role': 'Witness'}), ('Betriz A Valera-Galeana', 'Young  Chon', {'role': 'Witness'}), ('Betriz A Valera-Galeana', 'Taryn J Howard', {'role': 'Witness'}), ('Betriz A Valera-Galeana', 'Charles A Grimm', {'role': 'Witness'}), ('Betriz A Valera-Galeana', 'Debbie A Krout', {'role': 'Witness'}), ('Betriz A Valera-Galeana', 'Mary M Gomiez', {'role': 'Witness'}), ('Betriz A Valera-Galeana', 'Oswald  Reyes', {'role': 'Witness'}), ('Betriz A Valera-Galeana', 'Mario  Garcias', {'role': 'Witness'}), ('Thomas G Evenson', 'Robert David Hanson', {'role': 'Witness'}), ('Thomas G Evenson', 'Deborah A Jefferson', {'role': 'Witness'}), ('Thomas G Evenson', 'Juan  Munez', {'role': 'Witness'}), ('Thomas G Evenson', 'Mark Joseph Umlauf', {'role': 'Witness'}), ('Thomas G Evenson', 'Paul  Smith', {'role': 'Witness'}), ('Thomas G Evenson', 'Maria G Martinez', {'role': 'Witness'}), ('Thomas G Evenson', 'Ricardo Perez Martinez-Perez', {'role': 'Witness'}), ('Thomas G Evenson', 'Shawn Michael Peters', {'role': 'Witness'}), ('Thomas G Evenson', 'Tom  Williams', {'role': 'Witness'}), ('Thomas G Evenson', 'Charles A Grimm', {'role': 'Witness'}), ('Thomas G Evenson', 'Debbie A Krout', {'role': 'Witness'}), ('Thomas G Evenson', 'Mario  Garcias', {'role': 'Witness'}), ('Thomas G Evenson', 'Mary M Gomiez', {'role': 'Witness'}), ('Thomas G Evenson', 'Oswald  Reyes', {'role': 'Witness'}), ('Thomas G Evenson', 'Taryn J Howard', {'role': 'Witness'}), ('Thomas G Evenson', 'Young  Chon', {'role': 'Witness'}), ('Young  Chon', 'Robert David Hanson', {'role': 'Witness'}), ('Young  Chon', 'Deborah A Jefferson', {'role': 'Witness'}), ('Young  Chon', 'Juan  Munez', {'role': 'Witness'}), ('Young  Chon', 'Mark Joseph Umlauf', {'role': 'Witness'}), ('Young  Chon', 'Paul  Smith', {'role': 'Witness'}), ('Young  Chon', 'Maria G Martinez', {'role': 'Witness'}), ('Young  Chon', 'Ricardo Perez Martinez-Perez', {'role': 'Witness'}), ('Young  Chon', 'Shawn Michael Peters', {'role': 'Witness'}), ('Young  Chon', 'Tom  Williams', {'role': 'Witness'}), ('Young  Chon', 'Charles A Grimm', {'role': 'Witness'}), ('Young  Chon', 'Debbie A Krout', {'role': 'Witness'}), ('Young  Chon', 'Mario  Garcias', {'role': 'Witness'}), ('Young  Chon', 'Mary M Gomiez', {'role': 'Witness'}), ('Young  Chon', 'Oswald  Reyes', {'role': 'Witness'}), ('Young  Chon', 'Taryn J Howard', {'role': 'Witness'}), ('Taryn J Howard', 'Robert David Hanson', {'role': 'Witness'}), ('Taryn J Howard', 'Deborah A Jefferson', {'role': 'Witness'}), ('Taryn J Howard', 'Juan  Munez', {'role': 'Witness'}), ('Taryn J Howard', 'Mark Joseph Umlauf', {'role': 'Witness'}), ('Taryn J Howard', 'Paul  Smith', {'role': 'Witness'}), ('Taryn J Howard', 'Maria G Martinez', {'role': 'Witness'}), ('Taryn J Howard', 'Ricardo Perez Martinez-Perez', {'role': 'Witness'}), ('Taryn J Howard', 'Shawn Michael Peters', {'role': 'Witness'}), ('Taryn J Howard', 'Tom  Williams', {'role': 'Witness'}), ('Taryn J Howard', 'Charles A Grimm', {'role': 'Witness'}), ('Taryn J Howard', 'Debbie A Krout', {'role': 'Witness'}), ('Taryn J Howard', 'Mario  Garcias', {'role': 'Witness'}), ('Taryn J Howard', 'Mary M Gomiez', {'role': 'Witness'}), ('Taryn J Howard', 'Oswald  Reyes', {'role': 'Witness'}), ('Tom  Williams', 'Robert David Hanson', {'role': 'Witness'}), ('Tom  Williams', 'Deborah A Jefferson', {'role': 'Witness'}), ('Tom  Williams', 'Juan  Munez', {'role': 'Witness'}), ('Tom  Williams', 'Mark Joseph Umlauf', {'role': 'Witness'}), ('Tom  Williams', 'Paul  Smith', {'role': 'Witness'}), ('Tom  Williams', 'Maria G Martinez', {'role': 'Witness'}), ('Tom  Williams', 'Ricardo Perez Martinez-Perez', {'role': 'Witness'}), ('Tom  Williams', 'Shawn Michael Peters', {'role': 'Witness'}), ('Tom  Williams', 'Charles A Grimm', {'role': 'Witness'}), ('Tom  Williams', 'Debbie A Krout', {'role': 'Witness'}), ('Tom  Williams', 'Mary M Gomiez', {'role': 'Witness'}), ('Tom  Williams', 'Oswald  Reyes', {'role': 'Witness'}), ('Tom  Williams', 'Mario  Garcias', {'role': 'Witness'}), ('Charles A Grimm', 'Robert David Hanson', {'role': 'Witness'}), ('Charles A Grimm', 'Deborah A Jefferson', {'role': 'Witness'}), ('Charles A Grimm', 'Juan  Munez', {'role': 'Witness'}), ('Charles A Grimm', 'Mark Joseph Umlauf', {'role': 'Witness'}), ('Charles A Grimm', 'Paul  Smith', {'role': 'Witness'}), ('Charles A Grimm', 'Maria G Martinez', {'role': 'Witness'}), ('Charles A Grimm', 'Ricardo Perez Martinez-Perez', {'role': 'Witness'}), ('Charles A Grimm', 'Shawn Michael Peters', {'role': 'Witness'}), ('Charles A Grimm', 'Debbie A Krout', {'role': 'Witness'}), ('Charles A Grimm', 'Mary M Gomiez', {'role': 'Witness'}), ('Charles A Grimm', 'Oswald  Reyes', {'role': 'Witness'}), ('Charles A Grimm', 'Mario  Garcias', {'role': 'Witness'}), ('Debbie A Krout', 'Robert David Hanson', {'role': 'Witness'}), ('Debbie A Krout', 'Deborah A Jefferson', {'role': 'Witness'}), ('Debbie A Krout', 'Juan  Munez', {'role': 'Witness'}), ('Debbie A Krout', 'Mark Joseph Umlauf', {'role': 'Witness'}), ('Debbie A Krout', 'Paul  Smith', {'role': 'Witness'}), ('Debbie A Krout', 'Maria G Martinez', {'role': 'Witness'}), ('Debbie A Krout', 'Ricardo Perez Martinez-Perez', {'role': 'Witness'}), ('Debbie A Krout', 'Shawn Michael Peters', {'role': 'Witness'}), ('Debbie A Krout', 'Mary M Gomiez', {'role': 'Witness'}), ('Debbie A Krout', 'Oswald  Reyes', {'role': 'Witness'}), ('Debbie A Krout', 'Mario  Garcias', {'role': 'Witness'}), ('Shawn Michael Peters', 'Robert David Hanson', {'role': 'Witness'}), ('Shawn Michael Peters', 'Deborah A Jefferson', {'role': 'Witness'}), ('Shawn Michael Peters', 'Juan  Munez', {'role': 'Witness'}), ('Shawn Michael Peters', 'Mark Joseph Umlauf', {'role': 'Witness'}), ('Shawn Michael Peters', 'Paul  Smith', {'role': 'Witness'}), ('Shawn Michael Peters', 'Maria G Martinez', {'role': 'Witness'}), ('Shawn Michael Peters', 'Ricardo Perez Martinez-Perez', {'role': 'Witness'}), ('Shawn Michael Peters', 'Mary M Gomiez', {'role': 'Witness'}), ('Shawn Michael Peters', 'Oswald  Reyes', {'role': 'Witness'}), ('Shawn Michael Peters', 'Mario  Garcias', {'role': 'Witness'}), ('Robert David Hanson', 'Mary M Gomiez', {'role': 'Witness'}), ('Robert David Hanson', 'Deborah A Jefferson', {'role': 'Witness'}), ('Robert David Hanson', 'Ricardo Perez Martinez-Perez', {'role': 'Witness'}), ('Robert David Hanson', 'Maria G Martinez', {'role': 'Witness'}), ('Robert David Hanson', 'Oswald  Reyes', {'role': 'Witness'}), ('Robert David Hanson', 'Paul  Smith', {'role': 'Witness'}), ('Robert David Hanson', 'Juan  Munez', {'role': 'Witness'}), ('Robert David Hanson', 'Mark Joseph Umlauf', {'role': None}), ('Robert David Hanson', 'Mario  Garcias', {'role': 'Witness'}), ('Herman Jd Rene Levant', 'Deborah A Jefferson', {'role': 'Witness'}), ('Mary M Gomiez', 'Deborah A Jefferson', {'role': 'Witness'}), ('Mary M Gomiez', 'Juan  Munez', {'role': 'Witness'}), ('Mary M Gomiez', 'Mark Joseph Umlauf', {'role': 'Witness'}), ('Mary M Gomiez', 'Paul  Smith', {'role': 'Witness'}), ('Mary M Gomiez', 'Maria G Martinez', {'role': 'Witness'}), ('Mary M Gomiez', 'Ricardo Perez Martinez-Perez', {'role': 'Witness'}), ('Mary M Gomiez', 'Mario  Garcias', {'role': 'Witness'}), ('Mary M Gomiez', 'Oswald  Reyes', {'role': 'Witness'}), ('Deborah A Jefferson', 'Mark Joseph Umlauf', {'role': 'Witness'}), ('Deborah A Jefferson', 'Ricardo Perez Martinez-Perez', {'role': 'Witness'}), ('Deborah A Jefferson', 'Maria G Martinez', {'role': 'Witness'}), ('Deborah A Jefferson', 'Oswald  Reyes', {'role': 'Witness'}), ('Deborah A Jefferson', 'Paul  Smith', {'role': 'Witness'}), ('Deborah A Jefferson', 'Juan  Munez', {'role': 'Witness'}), ('Deborah A Jefferson', 'Mario  Garcias', {'role': 'Witness'}), ('Ricardo Perez Martinez-Perez', 'Juan  Munez', {'role': 'Witness'}), ('Ricardo Perez Martinez-Perez', 'Mark Joseph Umlauf', {'role': 'Witness'}), ('Ricardo Perez Martinez-Perez', 'Paul  Smith', {'role': 'Witness'}), ('Ricardo Perez Martinez-Perez', 'Maria G Martinez', {'role': 'Witness'}), ('Ricardo Perez Martinez-Perez', 'Oswald  Reyes', {'role': 'Witness'}), ('Ricardo Perez Martinez-Perez', 'Mario  Garcias', {'role': 'Witness'}), ('Maria G Martinez', 'Juan  Munez', {'role': 'Witness'}), ('Maria G Martinez', 'Mark Joseph Umlauf', {'role': 'Witness'}), ('Maria G Martinez', 'Paul  Smith', {'role': 'Witness'}), ('Maria G Martinez', 'Oswald  Reyes', {'role': 'Witness'}), ('Maria G Martinez', 'Mario  Garcias', {'role': 'Witness'}), ('Oswald  Reyes', 'Juan  Munez', {'role': 'Witness'}), ('Oswald  Reyes', 'Mark Joseph Umlauf', {'role': 'Witness'}), ('Oswald  Reyes', 'Paul  Smith', {'role': 'Witness'}), ('Oswald  Reyes', 'Mario  Garcias', {'role': 'Witness'}), ('Paul  Smith', 'Juan  Munez', {'role': 'Witness'}), ('Paul  Smith', 'Mark Joseph Umlauf', {'role': 'Witness'}), ('Paul  Smith', 'Mario  Garcias', {'role': 'Witness'}), ('Chris T Haycock', 'Talia P Thomas', {'role': 'Witness'}), ('Juan  Munez', 'Mark Joseph Umlauf', {'role': 'Witness'}), ('Juan  Munez', 'Mario  Garcias', {'role': 'Witness'}), ('Mark Joseph Umlauf', 'Mario  Garcias', {'role': 'Witness'})])"
      ]
     },
     "execution_count": 25,
     "metadata": {},
     "output_type": "execute_result"
    }
   ],
   "source": [
    "subG.edges.data()\n"
   ]
  },
  {
   "cell_type": "code",
   "execution_count": 26,
   "metadata": {
    "collapsed": false,
    "deletable": true,
    "editable": true
   },
   "outputs": [
    {
     "name": "stdout",
     "output_type": "stream",
     "text": [
      "412\n",
      "33\n"
     ]
    }
   ],
   "source": [
    "print(len(subG.edges.data()))\n",
    "print(len(subG.nodes.data()))"
   ]
  },
  {
   "cell_type": "markdown",
   "metadata": {
    "deletable": true,
    "editable": true
   },
   "source": [
    "## Add edges to edge_data and set color"
   ]
  },
  {
   "cell_type": "code",
   "execution_count": 27,
   "metadata": {
    "collapsed": false,
    "deletable": true,
    "editable": true
   },
   "outputs": [],
   "source": [
    "\n",
    "# Create a default postition for each node\n",
    "# 'k' is for the distance between nodes\n",
    "pos=nx.spring_layout(subG,k=.30, dim = 3)\n",
    "\n",
    "# Create a list of scatter() objects to store edge printing information\n",
    "edge_data =[]\n",
    "i = 0\n",
    "\n",
    "# Create a scatter.() object for each edge\n",
    "for edge in subG.edges.data():\n",
    "\n",
    "# Set the color the edge based on edge attribute 'role'\n",
    "    role = edge[2]['role']\n",
    "\n",
    "    if role == 'Gang':\n",
    "        Color = 'black'\n",
    "    elif role == 'Victim':\n",
    "        Color = '#888'\n",
    "    elif role == 'Witness':\n",
    "        Color = 'white'\n",
    "   \n",
    " # If the two nodes are both suspect, they are in the gang \n",
    "# The width of the edge will be bolder\n",
    "    Width = 1\n",
    "    if role == 'Gang':\n",
    "        Width = 2\n",
    "\n",
    "    edge_trace = Scatter3d(\n",
    "\n",
    "        x=[],\n",
    "        y=[],\n",
    "        z=[],\n",
    "        line=Line(width=Width,color=Color),\n",
    "        hoverinfo='none',\n",
    "        mode='lines')\n",
    "\n",
    "    edge_trace['x'] += [pos[edge[0]][0],pos[edge[1]][0], None]\n",
    "    edge_trace['y'] += [pos[edge[0]][1],pos[edge[1]][1], None] \n",
    "    edge_trace['z'] += [pos[edge[0]][2],pos[edge[1]][2], None] \n",
    "\n",
    "    edge_data.append(edge_trace)\n"
   ]
  },
  {
   "cell_type": "markdown",
   "metadata": {
    "deletable": true,
    "editable": true
   },
   "source": [
    "## Add nodes to node_trace"
   ]
  },
  {
   "cell_type": "code",
   "execution_count": 28,
   "metadata": {
    "collapsed": false,
    "deletable": true,
    "editable": true
   },
   "outputs": [],
   "source": [
    "node_trace = Scatter3d(\n",
    "        \n",
    "        x=[],\n",
    "        y=[],\n",
    "        z=[],\n",
    "        text=[],\n",
    "        mode='markers',\n",
    "        hoverinfo='text',\n",
    "        marker=Marker(\n",
    "            showscale=False,\n",
    "        # colorscale options\n",
    "        # 'Greys' | 'Greens' | 'Bluered' | 'Hot' | 'Picnic' | 'Portland' |\n",
    "        # Jet' | 'RdBu' | 'Blackbody' | 'Earth' | 'Electric' | 'YIOrRd' | 'YIGnBu'\n",
    "            colorscale='Portland',\n",
    "            reversescale=True,\n",
    "            opacity = 1,\n",
    "            color= [],\n",
    "            size=[],\n",
    "            line=dict(width=2)))\n",
    "\n",
    "\n",
    "for nd in subG.nodes.data():\n",
    "\n",
    "    node = nd[0]\n",
    "    node_trace['x'].append(pos[node][0])\n",
    "    node_trace['y'].append(pos[node][1])\n",
    "    node_trace['z'].append(pos[node][2])\n",
    "\n",
    "\n",
    "    tmp = nd[1]['role']\n",
    "\n",
    "    if tmp == 1:\n",
    "        node_info = node + ' ' + \"Victim\"\n",
    "    elif tmp == 0:\n",
    "        node_info = node + ' ' + \"Suspect\"\n",
    "    elif tmp == 2: \n",
    "        node_info = node + ' ' + \"Witness\"\n",
    "    else:\n",
    "        node_info = node + ' ' + \"Center\"\n",
    "\n",
    "    node_trace['text'].append(node_info)\n",
    "\n",
    "    if nd[0] == central_name:\n",
    "        node_trace['marker']['color'].append(3)\n",
    "    else:\n",
    "        role = nd[1]['role']\n",
    "        node_trace['marker']['color'].append(role)\n",
    "\n",
    "    # node_trace['marker']['size'].append((nd[1]['centrality']))\n",
    "    node_trace['marker']['size'].append((nd[1]['centrality']))\n",
    "\n",
    "edge_data.append(node_trace)\n",
    "data = Data(edge_data)"
   ]
  },
  {
   "cell_type": "code",
   "execution_count": 29,
   "metadata": {
    "collapsed": false,
    "deletable": true,
    "editable": true
   },
   "outputs": [
    {
     "data": {
      "application/vnd.plotly.v1+json": {
       "data": [
        {
         "hoverinfo": "none",
         "line": {
          "color": "white",
          "width": 1
         },
         "mode": "lines",
         "type": "scatter3d",
         "x": [
          0.010368251129315977,
          0.1491090764705074,
          null
         ],
         "y": [
          -0.01758933581398996,
          0.10091051911798132,
          null
         ],
         "z": [
          0.05105041134911236,
          -0.03670661615221019,
          null
         ]
        },
        {
         "hoverinfo": "none",
         "line": {
          "color": "white",
          "width": 1
         },
         "mode": "lines",
         "type": "scatter3d",
         "x": [
          0.010368251129315977,
          0.02898842012282331,
          null
         ],
         "y": [
          -0.01758933581398996,
          0.0013474462159668336,
          null
         ],
         "z": [
          0.05105041134911236,
          0.1168506455324738,
          null
         ]
        },
        {
         "hoverinfo": "none",
         "line": {
          "color": "white",
          "width": 1
         },
         "mode": "lines",
         "type": "scatter3d",
         "x": [
          0.010368251129315977,
          0.10041847163453094,
          null
         ],
         "y": [
          -0.01758933581398996,
          0.11743237110551957,
          null
         ],
         "z": [
          0.05105041134911236,
          0.099332588018368,
          null
         ]
        },
        {
         "hoverinfo": "none",
         "line": {
          "color": "white",
          "width": 1
         },
         "mode": "lines",
         "type": "scatter3d",
         "x": [
          0.010368251129315977,
          -0.058433738424554044,
          null
         ],
         "y": [
          -0.01758933581398996,
          -0.01179025137682218,
          null
         ],
         "z": [
          0.05105041134911236,
          -0.021510363207252674,
          null
         ]
        },
        {
         "hoverinfo": "none",
         "line": {
          "color": "white",
          "width": 1
         },
         "mode": "lines",
         "type": "scatter3d",
         "x": [
          0.010368251129315977,
          0.10481593019714143,
          null
         ],
         "y": [
          -0.01758933581398996,
          0.04710618729610153,
          null
         ],
         "z": [
          0.05105041134911236,
          0.14805961750399171,
          null
         ]
        },
        {
         "hoverinfo": "none",
         "line": {
          "color": "white",
          "width": 1
         },
         "mode": "lines",
         "type": "scatter3d",
         "x": [
          0.010368251129315977,
          0.07139446778532593,
          null
         ],
         "y": [
          -0.01758933581398996,
          0.12838531173079115,
          null
         ],
         "z": [
          0.05105041134911236,
          0.01606052036642238,
          null
         ]
        },
        {
         "hoverinfo": "none",
         "line": {
          "color": "white",
          "width": 1
         },
         "mode": "lines",
         "type": "scatter3d",
         "x": [
          0.010368251129315977,
          0.2040653545386135,
          null
         ],
         "y": [
          -0.01758933581398996,
          0.03867151303375133,
          null
         ],
         "z": [
          0.05105041134911236,
          -0.015719654999540707,
          null
         ]
        },
        {
         "hoverinfo": "none",
         "line": {
          "color": "white",
          "width": 1
         },
         "mode": "lines",
         "type": "scatter3d",
         "x": [
          0.010368251129315977,
          0.08698956797436821,
          null
         ],
         "y": [
          -0.01758933581398996,
          -0.03818543608748077,
          null
         ],
         "z": [
          0.05105041134911236,
          0.12656041357925446,
          null
         ]
        },
        {
         "hoverinfo": "none",
         "line": {
          "color": "white",
          "width": 1
         },
         "mode": "lines",
         "type": "scatter3d",
         "x": [
          0.010368251129315977,
          0.17301966995753737,
          null
         ],
         "y": [
          -0.01758933581398996,
          0.03343395264610534,
          null
         ],
         "z": [
          0.05105041134911236,
          0.09502498228342302,
          null
         ]
        },
        {
         "hoverinfo": "none",
         "line": {
          "color": "white",
          "width": 1
         },
         "mode": "lines",
         "type": "scatter3d",
         "x": [
          0.010368251129315977,
          0.19247254099181169,
          null
         ],
         "y": [
          -0.01758933581398996,
          -0.047564167433613816,
          null
         ],
         "z": [
          0.05105041134911236,
          0.041370235927608634,
          null
         ]
        },
        {
         "hoverinfo": "none",
         "line": {
          "color": "white",
          "width": 1
         },
         "mode": "lines",
         "type": "scatter3d",
         "x": [
          0.010368251129315977,
          0.05111763959501187,
          null
         ],
         "y": [
          -0.01758933581398996,
          0.061827624122324565,
          null
         ],
         "z": [
          0.05105041134911236,
          0.1073852653359946,
          null
         ]
        },
        {
         "hoverinfo": "none",
         "line": {
          "color": "white",
          "width": 1
         },
         "mode": "lines",
         "type": "scatter3d",
         "x": [
          0.010368251129315977,
          0.08171157809820943,
          null
         ],
         "y": [
          -0.01758933581398996,
          0.09062485247644866,
          null
         ],
         "z": [
          0.05105041134911236,
          -0.04819826574401871,
          null
         ]
        },
        {
         "hoverinfo": "none",
         "line": {
          "color": "white",
          "width": 1
         },
         "mode": "lines",
         "type": "scatter3d",
         "x": [
          0.010368251129315977,
          0.20049981714077705,
          null
         ],
         "y": [
          -0.01758933581398996,
          0.09296284826576588,
          null
         ],
         "z": [
          0.05105041134911236,
          0.02762900578252081,
          null
         ]
        },
        {
         "hoverinfo": "none",
         "line": {
          "color": "white",
          "width": 1
         },
         "mode": "lines",
         "type": "scatter3d",
         "x": [
          0.010368251129315977,
          0.22161962706438096,
          null
         ],
         "y": [
          -0.01758933581398996,
          0.012632380227110142,
          null
         ],
         "z": [
          0.05105041134911236,
          0.06240550933931012,
          null
         ]
        },
        {
         "hoverinfo": "none",
         "line": {
          "color": "white",
          "width": 1
         },
         "mode": "lines",
         "type": "scatter3d",
         "x": [
          0.010368251129315977,
          0.12657890072753847,
          null
         ],
         "y": [
          -0.01758933581398996,
          -0.0840705418669723,
          null
         ],
         "z": [
          0.05105041134911236,
          0.011079308003001428,
          null
         ]
        },
        {
         "hoverinfo": "none",
         "line": {
          "color": "white",
          "width": 1
         },
         "mode": "lines",
         "type": "scatter3d",
         "x": [
          0.010368251129315977,
          0.12169561560229054,
          null
         ],
         "y": [
          -0.01758933581398996,
          -0.04187796712183215,
          null
         ],
         "z": [
          0.05105041134911236,
          -0.05425244435338347,
          null
         ]
        },
        {
         "hoverinfo": "none",
         "line": {
          "color": "white",
          "width": 1
         },
         "mode": "lines",
         "type": "scatter3d",
         "x": [
          0.010368251129315977,
          0.1495837050966847,
          null
         ],
         "y": [
          -0.01758933581398996,
          0.031659920785054606,
          null
         ],
         "z": [
          0.05105041134911236,
          -0.07161070361086974,
          null
         ]
        },
        {
         "hoverinfo": "none",
         "line": {
          "color": "white",
          "width": 1
         },
         "mode": "lines",
         "type": "scatter3d",
         "x": [
          0.010368251129315977,
          0.06553395185952163,
          null
         ],
         "y": [
          -0.01758933581398996,
          -0.07765335082962689,
          null
         ],
         "z": [
          0.05105041134911236,
          0.06509022858251749,
          null
         ]
        },
        {
         "hoverinfo": "none",
         "line": {
          "color": "white",
          "width": 1
         },
         "mode": "lines",
         "type": "scatter3d",
         "x": [
          0.010368251129315977,
          0.0676826826973529,
          null
         ],
         "y": [
          -0.01758933581398996,
          0.020027382280947637,
          null
         ],
         "z": [
          0.05105041134911236,
          -0.07349607635658016,
          null
         ]
        },
        {
         "hoverinfo": "none",
         "line": {
          "color": "white",
          "width": 1
         },
         "mode": "lines",
         "type": "scatter3d",
         "x": [
          0.010368251129315977,
          0.1733446336774246,
          null
         ],
         "y": [
          -0.01758933581398996,
          0.09270320526187634,
          null
         ],
         "z": [
          0.05105041134911236,
          0.10995807748237776,
          null
         ]
        },
        {
         "hoverinfo": "none",
         "line": {
          "color": "white",
          "width": 1
         },
         "mode": "lines",
         "type": "scatter3d",
         "x": [
          0.010368251129315977,
          0.01320629538927007,
          null
         ],
         "y": [
          -0.01758933581398996,
          0.06653968755803646,
          null
         ],
         "z": [
          0.05105041134911236,
          -0.0023844290418191267,
          null
         ]
        },
        {
         "hoverinfo": "none",
         "line": {
          "color": "white",
          "width": 1
         },
         "mode": "lines",
         "type": "scatter3d",
         "x": [
          0.010368251129315977,
          0.15571362449872603,
          null
         ],
         "y": [
          -0.01758933581398996,
          -0.01373139735063719,
          null
         ],
         "z": [
          0.05105041134911236,
          0.1333715053169754,
          null
         ]
        },
        {
         "hoverinfo": "none",
         "line": {
          "color": "white",
          "width": 1
         },
         "mode": "lines",
         "type": "scatter3d",
         "x": [
          0.010368251129315977,
          0.020499246096886727,
          null
         ],
         "y": [
          -0.01758933581398996,
          0.09634161498327377,
          null
         ],
         "z": [
          0.05105041134911236,
          0.06514604016159398,
          null
         ]
        },
        {
         "hoverinfo": "none",
         "line": {
          "color": "white",
          "width": 1
         },
         "mode": "lines",
         "type": "scatter3d",
         "x": [
          0.010368251129315977,
          0.14448585718302293,
          null
         ],
         "y": [
          -0.01758933581398996,
          -0.0724728161365025,
          null
         ],
         "z": [
          0.05105041134911236,
          0.08521470911714414,
          null
         ]
        },
        {
         "hoverinfo": "none",
         "line": {
          "color": "white",
          "width": 1
         },
         "mode": "lines",
         "type": "scatter3d",
         "x": [
          0.010368251129315977,
          0.19011359226042795,
          null
         ],
         "y": [
          -0.01758933581398996,
          -0.03157750363351596,
          null
         ],
         "z": [
          0.05105041134911236,
          -0.02876449690571877,
          null
         ]
        },
        {
         "hoverinfo": "none",
         "line": {
          "color": "white",
          "width": 1
         },
         "mode": "lines",
         "type": "scatter3d",
         "x": [
          0.010368251129315977,
          0.1396991382998311,
          null
         ],
         "y": [
          -0.01758933581398996,
          0.13211039749676276,
          null
         ],
         "z": [
          0.05105041134911236,
          0.036667504346245154,
          null
         ]
        },
        {
         "hoverinfo": "none",
         "line": {
          "color": "white",
          "width": 1
         },
         "mode": "lines",
         "type": "scatter3d",
         "x": [
          0.010368251129315977,
          0.06694941049076106,
          null
         ],
         "y": [
          -0.01758933581398996,
          0.010850575204346926,
          null
         ],
         "z": [
          0.05105041134911236,
          -0.003919914442102045,
          null
         ]
        },
        {
         "hoverinfo": "none",
         "line": {
          "color": "white",
          "width": 1
         },
         "mode": "lines",
         "type": "scatter3d",
         "x": [
          0.010368251129315977,
          0.05481943499907112,
          null
         ],
         "y": [
          -0.01758933581398996,
          -0.061170050688860673,
          null
         ],
         "z": [
          0.05105041134911236,
          -0.0148324707403163,
          null
         ]
        },
        {
         "hoverinfo": "none",
         "line": {
          "color": "white",
          "width": 1
         },
         "mode": "lines",
         "type": "scatter3d",
         "x": [
          0.19247254099181169,
          0.1491090764705074,
          null
         ],
         "y": [
          -0.047564167433613816,
          0.10091051911798132,
          null
         ],
         "z": [
          0.041370235927608634,
          -0.03670661615221019,
          null
         ]
        },
        {
         "hoverinfo": "none",
         "line": {
          "color": "white",
          "width": 1
         },
         "mode": "lines",
         "type": "scatter3d",
         "x": [
          0.19247254099181169,
          0.02898842012282331,
          null
         ],
         "y": [
          -0.047564167433613816,
          0.0013474462159668336,
          null
         ],
         "z": [
          0.041370235927608634,
          0.1168506455324738,
          null
         ]
        },
        {
         "hoverinfo": "none",
         "line": {
          "color": "white",
          "width": 1
         },
         "mode": "lines",
         "type": "scatter3d",
         "x": [
          0.19247254099181169,
          0.10041847163453094,
          null
         ],
         "y": [
          -0.047564167433613816,
          0.11743237110551957,
          null
         ],
         "z": [
          0.041370235927608634,
          0.099332588018368,
          null
         ]
        },
        {
         "hoverinfo": "none",
         "line": {
          "color": "white",
          "width": 1
         },
         "mode": "lines",
         "type": "scatter3d",
         "x": [
          0.19247254099181169,
          -0.058433738424554044,
          null
         ],
         "y": [
          -0.047564167433613816,
          -0.01179025137682218,
          null
         ],
         "z": [
          0.041370235927608634,
          -0.021510363207252674,
          null
         ]
        },
        {
         "hoverinfo": "none",
         "line": {
          "color": "white",
          "width": 1
         },
         "mode": "lines",
         "type": "scatter3d",
         "x": [
          0.19247254099181169,
          0.10481593019714143,
          null
         ],
         "y": [
          -0.047564167433613816,
          0.04710618729610153,
          null
         ],
         "z": [
          0.041370235927608634,
          0.14805961750399171,
          null
         ]
        },
        {
         "hoverinfo": "none",
         "line": {
          "color": "white",
          "width": 1
         },
         "mode": "lines",
         "type": "scatter3d",
         "x": [
          0.19247254099181169,
          0.07139446778532593,
          null
         ],
         "y": [
          -0.047564167433613816,
          0.12838531173079115,
          null
         ],
         "z": [
          0.041370235927608634,
          0.01606052036642238,
          null
         ]
        },
        {
         "hoverinfo": "none",
         "line": {
          "color": "white",
          "width": 1
         },
         "mode": "lines",
         "type": "scatter3d",
         "x": [
          0.19247254099181169,
          0.2040653545386135,
          null
         ],
         "y": [
          -0.047564167433613816,
          0.03867151303375133,
          null
         ],
         "z": [
          0.041370235927608634,
          -0.015719654999540707,
          null
         ]
        },
        {
         "hoverinfo": "none",
         "line": {
          "color": "white",
          "width": 1
         },
         "mode": "lines",
         "type": "scatter3d",
         "x": [
          0.19247254099181169,
          0.08698956797436821,
          null
         ],
         "y": [
          -0.047564167433613816,
          -0.03818543608748077,
          null
         ],
         "z": [
          0.041370235927608634,
          0.12656041357925446,
          null
         ]
        },
        {
         "hoverinfo": "none",
         "line": {
          "color": "white",
          "width": 1
         },
         "mode": "lines",
         "type": "scatter3d",
         "x": [
          0.19247254099181169,
          0.17301966995753737,
          null
         ],
         "y": [
          -0.047564167433613816,
          0.03343395264610534,
          null
         ],
         "z": [
          0.041370235927608634,
          0.09502498228342302,
          null
         ]
        },
        {
         "hoverinfo": "none",
         "line": {
          "color": "white",
          "width": 1
         },
         "mode": "lines",
         "type": "scatter3d",
         "x": [
          0.19247254099181169,
          0.12169561560229054,
          null
         ],
         "y": [
          -0.047564167433613816,
          -0.04187796712183215,
          null
         ],
         "z": [
          0.041370235927608634,
          -0.05425244435338347,
          null
         ]
        },
        {
         "hoverinfo": "none",
         "line": {
          "color": "white",
          "width": 1
         },
         "mode": "lines",
         "type": "scatter3d",
         "x": [
          0.19247254099181169,
          0.1495837050966847,
          null
         ],
         "y": [
          -0.047564167433613816,
          0.031659920785054606,
          null
         ],
         "z": [
          0.041370235927608634,
          -0.07161070361086974,
          null
         ]
        },
        {
         "hoverinfo": "none",
         "line": {
          "color": "white",
          "width": 1
         },
         "mode": "lines",
         "type": "scatter3d",
         "x": [
          0.19247254099181169,
          0.06553395185952163,
          null
         ],
         "y": [
          -0.047564167433613816,
          -0.07765335082962689,
          null
         ],
         "z": [
          0.041370235927608634,
          0.06509022858251749,
          null
         ]
        },
        {
         "hoverinfo": "none",
         "line": {
          "color": "white",
          "width": 1
         },
         "mode": "lines",
         "type": "scatter3d",
         "x": [
          0.19247254099181169,
          0.0676826826973529,
          null
         ],
         "y": [
          -0.047564167433613816,
          0.020027382280947637,
          null
         ],
         "z": [
          0.041370235927608634,
          -0.07349607635658016,
          null
         ]
        },
        {
         "hoverinfo": "none",
         "line": {
          "color": "white",
          "width": 1
         },
         "mode": "lines",
         "type": "scatter3d",
         "x": [
          0.19247254099181169,
          0.12657890072753847,
          null
         ],
         "y": [
          -0.047564167433613816,
          -0.0840705418669723,
          null
         ],
         "z": [
          0.041370235927608634,
          0.011079308003001428,
          null
         ]
        },
        {
         "hoverinfo": "none",
         "line": {
          "color": "white",
          "width": 1
         },
         "mode": "lines",
         "type": "scatter3d",
         "x": [
          0.19247254099181169,
          0.1733446336774246,
          null
         ],
         "y": [
          -0.047564167433613816,
          0.09270320526187634,
          null
         ],
         "z": [
          0.041370235927608634,
          0.10995807748237776,
          null
         ]
        },
        {
         "hoverinfo": "none",
         "line": {
          "color": "white",
          "width": 1
         },
         "mode": "lines",
         "type": "scatter3d",
         "x": [
          0.19247254099181169,
          0.01320629538927007,
          null
         ],
         "y": [
          -0.047564167433613816,
          0.06653968755803646,
          null
         ],
         "z": [
          0.041370235927608634,
          -0.0023844290418191267,
          null
         ]
        },
        {
         "hoverinfo": "none",
         "line": {
          "color": "white",
          "width": 1
         },
         "mode": "lines",
         "type": "scatter3d",
         "x": [
          0.19247254099181169,
          0.15571362449872603,
          null
         ],
         "y": [
          -0.047564167433613816,
          -0.01373139735063719,
          null
         ],
         "z": [
          0.041370235927608634,
          0.1333715053169754,
          null
         ]
        },
        {
         "hoverinfo": "none",
         "line": {
          "color": "white",
          "width": 1
         },
         "mode": "lines",
         "type": "scatter3d",
         "x": [
          0.19247254099181169,
          0.22161962706438096,
          null
         ],
         "y": [
          -0.047564167433613816,
          0.012632380227110142,
          null
         ],
         "z": [
          0.041370235927608634,
          0.06240550933931012,
          null
         ]
        },
        {
         "hoverinfo": "none",
         "line": {
          "color": "white",
          "width": 1
         },
         "mode": "lines",
         "type": "scatter3d",
         "x": [
          0.19247254099181169,
          0.020499246096886727,
          null
         ],
         "y": [
          -0.047564167433613816,
          0.09634161498327377,
          null
         ],
         "z": [
          0.041370235927608634,
          0.06514604016159398,
          null
         ]
        },
        {
         "hoverinfo": "none",
         "line": {
          "color": "white",
          "width": 1
         },
         "mode": "lines",
         "type": "scatter3d",
         "x": [
          0.19247254099181169,
          0.14448585718302293,
          null
         ],
         "y": [
          -0.047564167433613816,
          -0.0724728161365025,
          null
         ],
         "z": [
          0.041370235927608634,
          0.08521470911714414,
          null
         ]
        },
        {
         "hoverinfo": "none",
         "line": {
          "color": "white",
          "width": 1
         },
         "mode": "lines",
         "type": "scatter3d",
         "x": [
          0.19247254099181169,
          0.20049981714077705,
          null
         ],
         "y": [
          -0.047564167433613816,
          0.09296284826576588,
          null
         ],
         "z": [
          0.041370235927608634,
          0.02762900578252081,
          null
         ]
        },
        {
         "hoverinfo": "none",
         "line": {
          "color": "white",
          "width": 1
         },
         "mode": "lines",
         "type": "scatter3d",
         "x": [
          0.19247254099181169,
          0.19011359226042795,
          null
         ],
         "y": [
          -0.047564167433613816,
          -0.03157750363351596,
          null
         ],
         "z": [
          0.041370235927608634,
          -0.02876449690571877,
          null
         ]
        },
        {
         "hoverinfo": "none",
         "line": {
          "color": "white",
          "width": 1
         },
         "mode": "lines",
         "type": "scatter3d",
         "x": [
          0.19247254099181169,
          0.08171157809820943,
          null
         ],
         "y": [
          -0.047564167433613816,
          0.09062485247644866,
          null
         ],
         "z": [
          0.041370235927608634,
          -0.04819826574401871,
          null
         ]
        },
        {
         "hoverinfo": "none",
         "line": {
          "color": "white",
          "width": 1
         },
         "mode": "lines",
         "type": "scatter3d",
         "x": [
          0.19247254099181169,
          0.05111763959501187,
          null
         ],
         "y": [
          -0.047564167433613816,
          0.061827624122324565,
          null
         ],
         "z": [
          0.041370235927608634,
          0.1073852653359946,
          null
         ]
        },
        {
         "hoverinfo": "none",
         "line": {
          "color": "white",
          "width": 1
         },
         "mode": "lines",
         "type": "scatter3d",
         "x": [
          0.19247254099181169,
          0.1396991382998311,
          null
         ],
         "y": [
          -0.047564167433613816,
          0.13211039749676276,
          null
         ],
         "z": [
          0.041370235927608634,
          0.036667504346245154,
          null
         ]
        },
        {
         "hoverinfo": "none",
         "line": {
          "color": "white",
          "width": 1
         },
         "mode": "lines",
         "type": "scatter3d",
         "x": [
          0.19247254099181169,
          0.06694941049076106,
          null
         ],
         "y": [
          -0.047564167433613816,
          0.010850575204346926,
          null
         ],
         "z": [
          0.041370235927608634,
          -0.003919914442102045,
          null
         ]
        },
        {
         "hoverinfo": "none",
         "line": {
          "color": "white",
          "width": 1
         },
         "mode": "lines",
         "type": "scatter3d",
         "x": [
          0.19247254099181169,
          0.05481943499907112,
          null
         ],
         "y": [
          -0.047564167433613816,
          -0.061170050688860673,
          null
         ],
         "z": [
          0.041370235927608634,
          -0.0148324707403163,
          null
         ]
        },
        {
         "hoverinfo": "none",
         "line": {
          "color": "white",
          "width": 1
         },
         "mode": "lines",
         "type": "scatter3d",
         "x": [
          0.12169561560229054,
          0.1491090764705074,
          null
         ],
         "y": [
          -0.04187796712183215,
          0.10091051911798132,
          null
         ],
         "z": [
          -0.05425244435338347,
          -0.03670661615221019,
          null
         ]
        },
        {
         "hoverinfo": "none",
         "line": {
          "color": "white",
          "width": 1
         },
         "mode": "lines",
         "type": "scatter3d",
         "x": [
          0.12169561560229054,
          0.02898842012282331,
          null
         ],
         "y": [
          -0.04187796712183215,
          0.0013474462159668336,
          null
         ],
         "z": [
          -0.05425244435338347,
          0.1168506455324738,
          null
         ]
        },
        {
         "hoverinfo": "none",
         "line": {
          "color": "white",
          "width": 1
         },
         "mode": "lines",
         "type": "scatter3d",
         "x": [
          0.12169561560229054,
          0.10041847163453094,
          null
         ],
         "y": [
          -0.04187796712183215,
          0.11743237110551957,
          null
         ],
         "z": [
          -0.05425244435338347,
          0.099332588018368,
          null
         ]
        },
        {
         "hoverinfo": "none",
         "line": {
          "color": "white",
          "width": 1
         },
         "mode": "lines",
         "type": "scatter3d",
         "x": [
          0.12169561560229054,
          -0.058433738424554044,
          null
         ],
         "y": [
          -0.04187796712183215,
          -0.01179025137682218,
          null
         ],
         "z": [
          -0.05425244435338347,
          -0.021510363207252674,
          null
         ]
        },
        {
         "hoverinfo": "none",
         "line": {
          "color": "white",
          "width": 1
         },
         "mode": "lines",
         "type": "scatter3d",
         "x": [
          0.12169561560229054,
          0.10481593019714143,
          null
         ],
         "y": [
          -0.04187796712183215,
          0.04710618729610153,
          null
         ],
         "z": [
          -0.05425244435338347,
          0.14805961750399171,
          null
         ]
        },
        {
         "hoverinfo": "none",
         "line": {
          "color": "white",
          "width": 1
         },
         "mode": "lines",
         "type": "scatter3d",
         "x": [
          0.12169561560229054,
          0.07139446778532593,
          null
         ],
         "y": [
          -0.04187796712183215,
          0.12838531173079115,
          null
         ],
         "z": [
          -0.05425244435338347,
          0.01606052036642238,
          null
         ]
        },
        {
         "hoverinfo": "none",
         "line": {
          "color": "white",
          "width": 1
         },
         "mode": "lines",
         "type": "scatter3d",
         "x": [
          0.12169561560229054,
          0.2040653545386135,
          null
         ],
         "y": [
          -0.04187796712183215,
          0.03867151303375133,
          null
         ],
         "z": [
          -0.05425244435338347,
          -0.015719654999540707,
          null
         ]
        },
        {
         "hoverinfo": "none",
         "line": {
          "color": "white",
          "width": 1
         },
         "mode": "lines",
         "type": "scatter3d",
         "x": [
          0.12169561560229054,
          0.08698956797436821,
          null
         ],
         "y": [
          -0.04187796712183215,
          -0.03818543608748077,
          null
         ],
         "z": [
          -0.05425244435338347,
          0.12656041357925446,
          null
         ]
        },
        {
         "hoverinfo": "none",
         "line": {
          "color": "white",
          "width": 1
         },
         "mode": "lines",
         "type": "scatter3d",
         "x": [
          0.12169561560229054,
          0.17301966995753737,
          null
         ],
         "y": [
          -0.04187796712183215,
          0.03343395264610534,
          null
         ],
         "z": [
          -0.05425244435338347,
          0.09502498228342302,
          null
         ]
        },
        {
         "hoverinfo": "none",
         "line": {
          "color": "white",
          "width": 1
         },
         "mode": "lines",
         "type": "scatter3d",
         "x": [
          0.12169561560229054,
          0.05111763959501187,
          null
         ],
         "y": [
          -0.04187796712183215,
          0.061827624122324565,
          null
         ],
         "z": [
          -0.05425244435338347,
          0.1073852653359946,
          null
         ]
        },
        {
         "hoverinfo": "none",
         "line": {
          "color": "white",
          "width": 1
         },
         "mode": "lines",
         "type": "scatter3d",
         "x": [
          0.12169561560229054,
          0.08171157809820943,
          null
         ],
         "y": [
          -0.04187796712183215,
          0.09062485247644866,
          null
         ],
         "z": [
          -0.05425244435338347,
          -0.04819826574401871,
          null
         ]
        },
        {
         "hoverinfo": "none",
         "line": {
          "color": "white",
          "width": 1
         },
         "mode": "lines",
         "type": "scatter3d",
         "x": [
          0.12169561560229054,
          0.20049981714077705,
          null
         ],
         "y": [
          -0.04187796712183215,
          0.09296284826576588,
          null
         ],
         "z": [
          -0.05425244435338347,
          0.02762900578252081,
          null
         ]
        },
        {
         "hoverinfo": "none",
         "line": {
          "color": "white",
          "width": 1
         },
         "mode": "lines",
         "type": "scatter3d",
         "x": [
          0.12169561560229054,
          0.22161962706438096,
          null
         ],
         "y": [
          -0.04187796712183215,
          0.012632380227110142,
          null
         ],
         "z": [
          -0.05425244435338347,
          0.06240550933931012,
          null
         ]
        },
        {
         "hoverinfo": "none",
         "line": {
          "color": "white",
          "width": 1
         },
         "mode": "lines",
         "type": "scatter3d",
         "x": [
          0.12169561560229054,
          0.12657890072753847,
          null
         ],
         "y": [
          -0.04187796712183215,
          -0.0840705418669723,
          null
         ],
         "z": [
          -0.05425244435338347,
          0.011079308003001428,
          null
         ]
        },
        {
         "hoverinfo": "none",
         "line": {
          "color": "white",
          "width": 1
         },
         "mode": "lines",
         "type": "scatter3d",
         "x": [
          0.12169561560229054,
          0.06694941049076106,
          null
         ],
         "y": [
          -0.04187796712183215,
          0.010850575204346926,
          null
         ],
         "z": [
          -0.05425244435338347,
          -0.003919914442102045,
          null
         ]
        },
        {
         "hoverinfo": "none",
         "line": {
          "color": "white",
          "width": 1
         },
         "mode": "lines",
         "type": "scatter3d",
         "x": [
          0.12169561560229054,
          0.1495837050966847,
          null
         ],
         "y": [
          -0.04187796712183215,
          0.031659920785054606,
          null
         ],
         "z": [
          -0.05425244435338347,
          -0.07161070361086974,
          null
         ]
        },
        {
         "hoverinfo": "none",
         "line": {
          "color": "white",
          "width": 1
         },
         "mode": "lines",
         "type": "scatter3d",
         "x": [
          0.12169561560229054,
          0.020499246096886727,
          null
         ],
         "y": [
          -0.04187796712183215,
          0.09634161498327377,
          null
         ],
         "z": [
          -0.05425244435338347,
          0.06514604016159398,
          null
         ]
        },
        {
         "hoverinfo": "none",
         "line": {
          "color": "white",
          "width": 1
         },
         "mode": "lines",
         "type": "scatter3d",
         "x": [
          0.12169561560229054,
          0.14448585718302293,
          null
         ],
         "y": [
          -0.04187796712183215,
          -0.0724728161365025,
          null
         ],
         "z": [
          -0.05425244435338347,
          0.08521470911714414,
          null
         ]
        },
        {
         "hoverinfo": "none",
         "line": {
          "color": "white",
          "width": 1
         },
         "mode": "lines",
         "type": "scatter3d",
         "x": [
          0.12169561560229054,
          0.06553395185952163,
          null
         ],
         "y": [
          -0.04187796712183215,
          -0.07765335082962689,
          null
         ],
         "z": [
          -0.05425244435338347,
          0.06509022858251749,
          null
         ]
        },
        {
         "hoverinfo": "none",
         "line": {
          "color": "white",
          "width": 1
         },
         "mode": "lines",
         "type": "scatter3d",
         "x": [
          0.12169561560229054,
          0.0676826826973529,
          null
         ],
         "y": [
          -0.04187796712183215,
          0.020027382280947637,
          null
         ],
         "z": [
          -0.05425244435338347,
          -0.07349607635658016,
          null
         ]
        },
        {
         "hoverinfo": "none",
         "line": {
          "color": "white",
          "width": 1
         },
         "mode": "lines",
         "type": "scatter3d",
         "x": [
          0.12169561560229054,
          0.1733446336774246,
          null
         ],
         "y": [
          -0.04187796712183215,
          0.09270320526187634,
          null
         ],
         "z": [
          -0.05425244435338347,
          0.10995807748237776,
          null
         ]
        },
        {
         "hoverinfo": "none",
         "line": {
          "color": "white",
          "width": 1
         },
         "mode": "lines",
         "type": "scatter3d",
         "x": [
          0.12169561560229054,
          0.01320629538927007,
          null
         ],
         "y": [
          -0.04187796712183215,
          0.06653968755803646,
          null
         ],
         "z": [
          -0.05425244435338347,
          -0.0023844290418191267,
          null
         ]
        },
        {
         "hoverinfo": "none",
         "line": {
          "color": "white",
          "width": 1
         },
         "mode": "lines",
         "type": "scatter3d",
         "x": [
          0.12169561560229054,
          0.15571362449872603,
          null
         ],
         "y": [
          -0.04187796712183215,
          -0.01373139735063719,
          null
         ],
         "z": [
          -0.05425244435338347,
          0.1333715053169754,
          null
         ]
        },
        {
         "hoverinfo": "none",
         "line": {
          "color": "white",
          "width": 1
         },
         "mode": "lines",
         "type": "scatter3d",
         "x": [
          0.12169561560229054,
          0.19011359226042795,
          null
         ],
         "y": [
          -0.04187796712183215,
          -0.03157750363351596,
          null
         ],
         "z": [
          -0.05425244435338347,
          -0.02876449690571877,
          null
         ]
        },
        {
         "hoverinfo": "none",
         "line": {
          "color": "white",
          "width": 1
         },
         "mode": "lines",
         "type": "scatter3d",
         "x": [
          0.12169561560229054,
          0.1396991382998311,
          null
         ],
         "y": [
          -0.04187796712183215,
          0.13211039749676276,
          null
         ],
         "z": [
          -0.05425244435338347,
          0.036667504346245154,
          null
         ]
        },
        {
         "hoverinfo": "none",
         "line": {
          "color": "white",
          "width": 1
         },
         "mode": "lines",
         "type": "scatter3d",
         "x": [
          0.12169561560229054,
          0.05481943499907112,
          null
         ],
         "y": [
          -0.04187796712183215,
          -0.061170050688860673,
          null
         ],
         "z": [
          -0.05425244435338347,
          -0.0148324707403163,
          null
         ]
        },
        {
         "hoverinfo": "none",
         "line": {
          "color": "white",
          "width": 1
         },
         "mode": "lines",
         "type": "scatter3d",
         "x": [
          0.10041847163453094,
          0.1491090764705074,
          null
         ],
         "y": [
          0.11743237110551957,
          0.10091051911798132,
          null
         ],
         "z": [
          0.099332588018368,
          -0.03670661615221019,
          null
         ]
        },
        {
         "hoverinfo": "none",
         "line": {
          "color": "white",
          "width": 1
         },
         "mode": "lines",
         "type": "scatter3d",
         "x": [
          0.10041847163453094,
          0.02898842012282331,
          null
         ],
         "y": [
          0.11743237110551957,
          0.0013474462159668336,
          null
         ],
         "z": [
          0.099332588018368,
          0.1168506455324738,
          null
         ]
        },
        {
         "hoverinfo": "none",
         "line": {
          "color": "white",
          "width": 1
         },
         "mode": "lines",
         "type": "scatter3d",
         "x": [
          0.10041847163453094,
          0.2040653545386135,
          null
         ],
         "y": [
          0.11743237110551957,
          0.03867151303375133,
          null
         ],
         "z": [
          0.099332588018368,
          -0.015719654999540707,
          null
         ]
        },
        {
         "hoverinfo": "none",
         "line": {
          "color": "white",
          "width": 1
         },
         "mode": "lines",
         "type": "scatter3d",
         "x": [
          0.10041847163453094,
          0.10481593019714143,
          null
         ],
         "y": [
          0.11743237110551957,
          0.04710618729610153,
          null
         ],
         "z": [
          0.099332588018368,
          0.14805961750399171,
          null
         ]
        },
        {
         "hoverinfo": "none",
         "line": {
          "color": "white",
          "width": 1
         },
         "mode": "lines",
         "type": "scatter3d",
         "x": [
          0.10041847163453094,
          0.1495837050966847,
          null
         ],
         "y": [
          0.11743237110551957,
          0.031659920785054606,
          null
         ],
         "z": [
          0.099332588018368,
          -0.07161070361086974,
          null
         ]
        },
        {
         "hoverinfo": "none",
         "line": {
          "color": "white",
          "width": 1
         },
         "mode": "lines",
         "type": "scatter3d",
         "x": [
          0.10041847163453094,
          0.06553395185952163,
          null
         ],
         "y": [
          0.11743237110551957,
          -0.07765335082962689,
          null
         ],
         "z": [
          0.099332588018368,
          0.06509022858251749,
          null
         ]
        },
        {
         "hoverinfo": "none",
         "line": {
          "color": "white",
          "width": 1
         },
         "mode": "lines",
         "type": "scatter3d",
         "x": [
          0.10041847163453094,
          0.17301966995753737,
          null
         ],
         "y": [
          0.11743237110551957,
          0.03343395264610534,
          null
         ],
         "z": [
          0.099332588018368,
          0.09502498228342302,
          null
         ]
        },
        {
         "hoverinfo": "none",
         "line": {
          "color": "white",
          "width": 1
         },
         "mode": "lines",
         "type": "scatter3d",
         "x": [
          0.10041847163453094,
          0.0676826826973529,
          null
         ],
         "y": [
          0.11743237110551957,
          0.020027382280947637,
          null
         ],
         "z": [
          0.099332588018368,
          -0.07349607635658016,
          null
         ]
        },
        {
         "hoverinfo": "none",
         "line": {
          "color": "white",
          "width": 1
         },
         "mode": "lines",
         "type": "scatter3d",
         "x": [
          0.10041847163453094,
          0.12657890072753847,
          null
         ],
         "y": [
          0.11743237110551957,
          -0.0840705418669723,
          null
         ],
         "z": [
          0.099332588018368,
          0.011079308003001428,
          null
         ]
        },
        {
         "hoverinfo": "none",
         "line": {
          "color": "white",
          "width": 1
         },
         "mode": "lines",
         "type": "scatter3d",
         "x": [
          0.10041847163453094,
          0.1733446336774246,
          null
         ],
         "y": [
          0.11743237110551957,
          0.09270320526187634,
          null
         ],
         "z": [
          0.099332588018368,
          0.10995807748237776,
          null
         ]
        },
        {
         "hoverinfo": "none",
         "line": {
          "color": "white",
          "width": 1
         },
         "mode": "lines",
         "type": "scatter3d",
         "x": [
          0.10041847163453094,
          0.01320629538927007,
          null
         ],
         "y": [
          0.11743237110551957,
          0.06653968755803646,
          null
         ],
         "z": [
          0.099332588018368,
          -0.0023844290418191267,
          null
         ]
        },
        {
         "hoverinfo": "none",
         "line": {
          "color": "white",
          "width": 1
         },
         "mode": "lines",
         "type": "scatter3d",
         "x": [
          0.10041847163453094,
          0.15571362449872603,
          null
         ],
         "y": [
          0.11743237110551957,
          -0.01373139735063719,
          null
         ],
         "z": [
          0.099332588018368,
          0.1333715053169754,
          null
         ]
        },
        {
         "hoverinfo": "none",
         "line": {
          "color": "white",
          "width": 1
         },
         "mode": "lines",
         "type": "scatter3d",
         "x": [
          0.10041847163453094,
          0.22161962706438096,
          null
         ],
         "y": [
          0.11743237110551957,
          0.012632380227110142,
          null
         ],
         "z": [
          0.099332588018368,
          0.06240550933931012,
          null
         ]
        },
        {
         "hoverinfo": "none",
         "line": {
          "color": "white",
          "width": 1
         },
         "mode": "lines",
         "type": "scatter3d",
         "x": [
          0.10041847163453094,
          0.020499246096886727,
          null
         ],
         "y": [
          0.11743237110551957,
          0.09634161498327377,
          null
         ],
         "z": [
          0.099332588018368,
          0.06514604016159398,
          null
         ]
        },
        {
         "hoverinfo": "none",
         "line": {
          "color": "white",
          "width": 1
         },
         "mode": "lines",
         "type": "scatter3d",
         "x": [
          0.10041847163453094,
          0.14448585718302293,
          null
         ],
         "y": [
          0.11743237110551957,
          -0.0724728161365025,
          null
         ],
         "z": [
          0.099332588018368,
          0.08521470911714414,
          null
         ]
        },
        {
         "hoverinfo": "none",
         "line": {
          "color": "white",
          "width": 1
         },
         "mode": "lines",
         "type": "scatter3d",
         "x": [
          0.10041847163453094,
          0.20049981714077705,
          null
         ],
         "y": [
          0.11743237110551957,
          0.09296284826576588,
          null
         ],
         "z": [
          0.099332588018368,
          0.02762900578252081,
          null
         ]
        },
        {
         "hoverinfo": "none",
         "line": {
          "color": "white",
          "width": 1
         },
         "mode": "lines",
         "type": "scatter3d",
         "x": [
          0.10041847163453094,
          0.19011359226042795,
          null
         ],
         "y": [
          0.11743237110551957,
          -0.03157750363351596,
          null
         ],
         "z": [
          0.099332588018368,
          -0.02876449690571877,
          null
         ]
        },
        {
         "hoverinfo": "none",
         "line": {
          "color": "white",
          "width": 1
         },
         "mode": "lines",
         "type": "scatter3d",
         "x": [
          0.10041847163453094,
          -0.058433738424554044,
          null
         ],
         "y": [
          0.11743237110551957,
          -0.01179025137682218,
          null
         ],
         "z": [
          0.099332588018368,
          -0.021510363207252674,
          null
         ]
        },
        {
         "hoverinfo": "none",
         "line": {
          "color": "white",
          "width": 1
         },
         "mode": "lines",
         "type": "scatter3d",
         "x": [
          0.10041847163453094,
          0.08171157809820943,
          null
         ],
         "y": [
          0.11743237110551957,
          0.09062485247644866,
          null
         ],
         "z": [
          0.099332588018368,
          -0.04819826574401871,
          null
         ]
        },
        {
         "hoverinfo": "none",
         "line": {
          "color": "white",
          "width": 1
         },
         "mode": "lines",
         "type": "scatter3d",
         "x": [
          0.10041847163453094,
          0.05111763959501187,
          null
         ],
         "y": [
          0.11743237110551957,
          0.061827624122324565,
          null
         ],
         "z": [
          0.099332588018368,
          0.1073852653359946,
          null
         ]
        },
        {
         "hoverinfo": "none",
         "line": {
          "color": "white",
          "width": 1
         },
         "mode": "lines",
         "type": "scatter3d",
         "x": [
          0.10041847163453094,
          0.1396991382998311,
          null
         ],
         "y": [
          0.11743237110551957,
          0.13211039749676276,
          null
         ],
         "z": [
          0.099332588018368,
          0.036667504346245154,
          null
         ]
        },
        {
         "hoverinfo": "none",
         "line": {
          "color": "white",
          "width": 1
         },
         "mode": "lines",
         "type": "scatter3d",
         "x": [
          0.10041847163453094,
          0.08698956797436821,
          null
         ],
         "y": [
          0.11743237110551957,
          -0.03818543608748077,
          null
         ],
         "z": [
          0.099332588018368,
          0.12656041357925446,
          null
         ]
        },
        {
         "hoverinfo": "none",
         "line": {
          "color": "white",
          "width": 1
         },
         "mode": "lines",
         "type": "scatter3d",
         "x": [
          0.10041847163453094,
          0.07139446778532593,
          null
         ],
         "y": [
          0.11743237110551957,
          0.12838531173079115,
          null
         ],
         "z": [
          0.099332588018368,
          0.01606052036642238,
          null
         ]
        },
        {
         "hoverinfo": "none",
         "line": {
          "color": "white",
          "width": 1
         },
         "mode": "lines",
         "type": "scatter3d",
         "x": [
          0.10041847163453094,
          0.06694941049076106,
          null
         ],
         "y": [
          0.11743237110551957,
          0.010850575204346926,
          null
         ],
         "z": [
          0.099332588018368,
          -0.003919914442102045,
          null
         ]
        },
        {
         "hoverinfo": "none",
         "line": {
          "color": "white",
          "width": 1
         },
         "mode": "lines",
         "type": "scatter3d",
         "x": [
          0.10041847163453094,
          0.05481943499907112,
          null
         ],
         "y": [
          0.11743237110551957,
          -0.061170050688860673,
          null
         ],
         "z": [
          0.099332588018368,
          -0.0148324707403163,
          null
         ]
        },
        {
         "hoverinfo": "none",
         "line": {
          "color": "white",
          "width": 1
         },
         "mode": "lines",
         "type": "scatter3d",
         "x": [
          0.1491090764705074,
          0.2040653545386135,
          null
         ],
         "y": [
          0.10091051911798132,
          0.03867151303375133,
          null
         ],
         "z": [
          -0.03670661615221019,
          -0.015719654999540707,
          null
         ]
        },
        {
         "hoverinfo": "none",
         "line": {
          "color": "white",
          "width": 1
         },
         "mode": "lines",
         "type": "scatter3d",
         "x": [
          0.1491090764705074,
          0.05481943499907112,
          null
         ],
         "y": [
          0.10091051911798132,
          -0.061170050688860673,
          null
         ],
         "z": [
          -0.03670661615221019,
          -0.0148324707403163,
          null
         ]
        },
        {
         "hoverinfo": "none",
         "line": {
          "color": "white",
          "width": 1
         },
         "mode": "lines",
         "type": "scatter3d",
         "x": [
          0.1491090764705074,
          0.10481593019714143,
          null
         ],
         "y": [
          0.10091051911798132,
          0.04710618729610153,
          null
         ],
         "z": [
          -0.03670661615221019,
          0.14805961750399171,
          null
         ]
        },
        {
         "hoverinfo": "none",
         "line": {
          "color": "white",
          "width": 1
         },
         "mode": "lines",
         "type": "scatter3d",
         "x": [
          0.1491090764705074,
          0.1495837050966847,
          null
         ],
         "y": [
          0.10091051911798132,
          0.031659920785054606,
          null
         ],
         "z": [
          -0.03670661615221019,
          -0.07161070361086974,
          null
         ]
        },
        {
         "hoverinfo": "none",
         "line": {
          "color": "white",
          "width": 1
         },
         "mode": "lines",
         "type": "scatter3d",
         "x": [
          0.1491090764705074,
          0.06553395185952163,
          null
         ],
         "y": [
          0.10091051911798132,
          -0.07765335082962689,
          null
         ],
         "z": [
          -0.03670661615221019,
          0.06509022858251749,
          null
         ]
        },
        {
         "hoverinfo": "none",
         "line": {
          "color": "white",
          "width": 1
         },
         "mode": "lines",
         "type": "scatter3d",
         "x": [
          0.1491090764705074,
          0.17301966995753737,
          null
         ],
         "y": [
          0.10091051911798132,
          0.03343395264610534,
          null
         ],
         "z": [
          -0.03670661615221019,
          0.09502498228342302,
          null
         ]
        },
        {
         "hoverinfo": "none",
         "line": {
          "color": "white",
          "width": 1
         },
         "mode": "lines",
         "type": "scatter3d",
         "x": [
          0.1491090764705074,
          0.0676826826973529,
          null
         ],
         "y": [
          0.10091051911798132,
          0.020027382280947637,
          null
         ],
         "z": [
          -0.03670661615221019,
          -0.07349607635658016,
          null
         ]
        },
        {
         "hoverinfo": "none",
         "line": {
          "color": "white",
          "width": 1
         },
         "mode": "lines",
         "type": "scatter3d",
         "x": [
          0.1491090764705074,
          0.12657890072753847,
          null
         ],
         "y": [
          0.10091051911798132,
          -0.0840705418669723,
          null
         ],
         "z": [
          -0.03670661615221019,
          0.011079308003001428,
          null
         ]
        },
        {
         "hoverinfo": "none",
         "line": {
          "color": "white",
          "width": 1
         },
         "mode": "lines",
         "type": "scatter3d",
         "x": [
          0.1491090764705074,
          0.1733446336774246,
          null
         ],
         "y": [
          0.10091051911798132,
          0.09270320526187634,
          null
         ],
         "z": [
          -0.03670661615221019,
          0.10995807748237776,
          null
         ]
        },
        {
         "hoverinfo": "none",
         "line": {
          "color": "white",
          "width": 1
         },
         "mode": "lines",
         "type": "scatter3d",
         "x": [
          0.1491090764705074,
          0.01320629538927007,
          null
         ],
         "y": [
          0.10091051911798132,
          0.06653968755803646,
          null
         ],
         "z": [
          -0.03670661615221019,
          -0.0023844290418191267,
          null
         ]
        },
        {
         "hoverinfo": "none",
         "line": {
          "color": "white",
          "width": 1
         },
         "mode": "lines",
         "type": "scatter3d",
         "x": [
          0.1491090764705074,
          0.15571362449872603,
          null
         ],
         "y": [
          0.10091051911798132,
          -0.01373139735063719,
          null
         ],
         "z": [
          -0.03670661615221019,
          0.1333715053169754,
          null
         ]
        },
        {
         "hoverinfo": "none",
         "line": {
          "color": "white",
          "width": 1
         },
         "mode": "lines",
         "type": "scatter3d",
         "x": [
          0.1491090764705074,
          0.22161962706438096,
          null
         ],
         "y": [
          0.10091051911798132,
          0.012632380227110142,
          null
         ],
         "z": [
          -0.03670661615221019,
          0.06240550933931012,
          null
         ]
        },
        {
         "hoverinfo": "none",
         "line": {
          "color": "white",
          "width": 1
         },
         "mode": "lines",
         "type": "scatter3d",
         "x": [
          0.1491090764705074,
          0.020499246096886727,
          null
         ],
         "y": [
          0.10091051911798132,
          0.09634161498327377,
          null
         ],
         "z": [
          -0.03670661615221019,
          0.06514604016159398,
          null
         ]
        },
        {
         "hoverinfo": "none",
         "line": {
          "color": "white",
          "width": 1
         },
         "mode": "lines",
         "type": "scatter3d",
         "x": [
          0.1491090764705074,
          0.14448585718302293,
          null
         ],
         "y": [
          0.10091051911798132,
          -0.0724728161365025,
          null
         ],
         "z": [
          -0.03670661615221019,
          0.08521470911714414,
          null
         ]
        },
        {
         "hoverinfo": "none",
         "line": {
          "color": "white",
          "width": 1
         },
         "mode": "lines",
         "type": "scatter3d",
         "x": [
          0.1491090764705074,
          0.20049981714077705,
          null
         ],
         "y": [
          0.10091051911798132,
          0.09296284826576588,
          null
         ],
         "z": [
          -0.03670661615221019,
          0.02762900578252081,
          null
         ]
        },
        {
         "hoverinfo": "none",
         "line": {
          "color": "white",
          "width": 1
         },
         "mode": "lines",
         "type": "scatter3d",
         "x": [
          0.1491090764705074,
          0.02898842012282331,
          null
         ],
         "y": [
          0.10091051911798132,
          0.0013474462159668336,
          null
         ],
         "z": [
          -0.03670661615221019,
          0.1168506455324738,
          null
         ]
        },
        {
         "hoverinfo": "none",
         "line": {
          "color": "white",
          "width": 1
         },
         "mode": "lines",
         "type": "scatter3d",
         "x": [
          0.1491090764705074,
          0.19011359226042795,
          null
         ],
         "y": [
          0.10091051911798132,
          -0.03157750363351596,
          null
         ],
         "z": [
          -0.03670661615221019,
          -0.02876449690571877,
          null
         ]
        },
        {
         "hoverinfo": "none",
         "line": {
          "color": "white",
          "width": 1
         },
         "mode": "lines",
         "type": "scatter3d",
         "x": [
          0.1491090764705074,
          -0.058433738424554044,
          null
         ],
         "y": [
          0.10091051911798132,
          -0.01179025137682218,
          null
         ],
         "z": [
          -0.03670661615221019,
          -0.021510363207252674,
          null
         ]
        },
        {
         "hoverinfo": "none",
         "line": {
          "color": "white",
          "width": 1
         },
         "mode": "lines",
         "type": "scatter3d",
         "x": [
          0.1491090764705074,
          0.08171157809820943,
          null
         ],
         "y": [
          0.10091051911798132,
          0.09062485247644866,
          null
         ],
         "z": [
          -0.03670661615221019,
          -0.04819826574401871,
          null
         ]
        },
        {
         "hoverinfo": "none",
         "line": {
          "color": "white",
          "width": 1
         },
         "mode": "lines",
         "type": "scatter3d",
         "x": [
          0.1491090764705074,
          0.05111763959501187,
          null
         ],
         "y": [
          0.10091051911798132,
          0.061827624122324565,
          null
         ],
         "z": [
          -0.03670661615221019,
          0.1073852653359946,
          null
         ]
        },
        {
         "hoverinfo": "none",
         "line": {
          "color": "white",
          "width": 1
         },
         "mode": "lines",
         "type": "scatter3d",
         "x": [
          0.1491090764705074,
          0.1396991382998311,
          null
         ],
         "y": [
          0.10091051911798132,
          0.13211039749676276,
          null
         ],
         "z": [
          -0.03670661615221019,
          0.036667504346245154,
          null
         ]
        },
        {
         "hoverinfo": "none",
         "line": {
          "color": "white",
          "width": 1
         },
         "mode": "lines",
         "type": "scatter3d",
         "x": [
          0.1491090764705074,
          0.08698956797436821,
          null
         ],
         "y": [
          0.10091051911798132,
          -0.03818543608748077,
          null
         ],
         "z": [
          -0.03670661615221019,
          0.12656041357925446,
          null
         ]
        },
        {
         "hoverinfo": "none",
         "line": {
          "color": "white",
          "width": 1
         },
         "mode": "lines",
         "type": "scatter3d",
         "x": [
          0.1491090764705074,
          0.07139446778532593,
          null
         ],
         "y": [
          0.10091051911798132,
          0.12838531173079115,
          null
         ],
         "z": [
          -0.03670661615221019,
          0.01606052036642238,
          null
         ]
        },
        {
         "hoverinfo": "none",
         "line": {
          "color": "white",
          "width": 1
         },
         "mode": "lines",
         "type": "scatter3d",
         "x": [
          0.1491090764705074,
          0.06694941049076106,
          null
         ],
         "y": [
          0.10091051911798132,
          0.010850575204346926,
          null
         ],
         "z": [
          -0.03670661615221019,
          -0.003919914442102045,
          null
         ]
        },
        {
         "hoverinfo": "none",
         "line": {
          "color": "white",
          "width": 1
         },
         "mode": "lines",
         "type": "scatter3d",
         "x": [
          0.10481593019714143,
          0.02898842012282331,
          null
         ],
         "y": [
          0.04710618729610153,
          0.0013474462159668336,
          null
         ],
         "z": [
          0.14805961750399171,
          0.1168506455324738,
          null
         ]
        },
        {
         "hoverinfo": "none",
         "line": {
          "color": "white",
          "width": 1
         },
         "mode": "lines",
         "type": "scatter3d",
         "x": [
          0.10481593019714143,
          -0.058433738424554044,
          null
         ],
         "y": [
          0.04710618729610153,
          -0.01179025137682218,
          null
         ],
         "z": [
          0.14805961750399171,
          -0.021510363207252674,
          null
         ]
        },
        {
         "hoverinfo": "none",
         "line": {
          "color": "white",
          "width": 1
         },
         "mode": "lines",
         "type": "scatter3d",
         "x": [
          0.10481593019714143,
          0.2040653545386135,
          null
         ],
         "y": [
          0.04710618729610153,
          0.03867151303375133,
          null
         ],
         "z": [
          0.14805961750399171,
          -0.015719654999540707,
          null
         ]
        },
        {
         "hoverinfo": "none",
         "line": {
          "color": "white",
          "width": 1
         },
         "mode": "lines",
         "type": "scatter3d",
         "x": [
          0.10481593019714143,
          0.1495837050966847,
          null
         ],
         "y": [
          0.04710618729610153,
          0.031659920785054606,
          null
         ],
         "z": [
          0.14805961750399171,
          -0.07161070361086974,
          null
         ]
        },
        {
         "hoverinfo": "none",
         "line": {
          "color": "white",
          "width": 1
         },
         "mode": "lines",
         "type": "scatter3d",
         "x": [
          0.10481593019714143,
          0.06553395185952163,
          null
         ],
         "y": [
          0.04710618729610153,
          -0.07765335082962689,
          null
         ],
         "z": [
          0.14805961750399171,
          0.06509022858251749,
          null
         ]
        },
        {
         "hoverinfo": "none",
         "line": {
          "color": "white",
          "width": 1
         },
         "mode": "lines",
         "type": "scatter3d",
         "x": [
          0.10481593019714143,
          0.17301966995753737,
          null
         ],
         "y": [
          0.04710618729610153,
          0.03343395264610534,
          null
         ],
         "z": [
          0.14805961750399171,
          0.09502498228342302,
          null
         ]
        },
        {
         "hoverinfo": "none",
         "line": {
          "color": "white",
          "width": 1
         },
         "mode": "lines",
         "type": "scatter3d",
         "x": [
          0.10481593019714143,
          0.0676826826973529,
          null
         ],
         "y": [
          0.04710618729610153,
          0.020027382280947637,
          null
         ],
         "z": [
          0.14805961750399171,
          -0.07349607635658016,
          null
         ]
        },
        {
         "hoverinfo": "none",
         "line": {
          "color": "white",
          "width": 1
         },
         "mode": "lines",
         "type": "scatter3d",
         "x": [
          0.10481593019714143,
          0.12657890072753847,
          null
         ],
         "y": [
          0.04710618729610153,
          -0.0840705418669723,
          null
         ],
         "z": [
          0.14805961750399171,
          0.011079308003001428,
          null
         ]
        },
        {
         "hoverinfo": "none",
         "line": {
          "color": "white",
          "width": 1
         },
         "mode": "lines",
         "type": "scatter3d",
         "x": [
          0.10481593019714143,
          0.1733446336774246,
          null
         ],
         "y": [
          0.04710618729610153,
          0.09270320526187634,
          null
         ],
         "z": [
          0.14805961750399171,
          0.10995807748237776,
          null
         ]
        },
        {
         "hoverinfo": "none",
         "line": {
          "color": "white",
          "width": 1
         },
         "mode": "lines",
         "type": "scatter3d",
         "x": [
          0.10481593019714143,
          0.01320629538927007,
          null
         ],
         "y": [
          0.04710618729610153,
          0.06653968755803646,
          null
         ],
         "z": [
          0.14805961750399171,
          -0.0023844290418191267,
          null
         ]
        },
        {
         "hoverinfo": "none",
         "line": {
          "color": "white",
          "width": 1
         },
         "mode": "lines",
         "type": "scatter3d",
         "x": [
          0.10481593019714143,
          0.15571362449872603,
          null
         ],
         "y": [
          0.04710618729610153,
          -0.01373139735063719,
          null
         ],
         "z": [
          0.14805961750399171,
          0.1333715053169754,
          null
         ]
        },
        {
         "hoverinfo": "none",
         "line": {
          "color": "white",
          "width": 1
         },
         "mode": "lines",
         "type": "scatter3d",
         "x": [
          0.10481593019714143,
          0.22161962706438096,
          null
         ],
         "y": [
          0.04710618729610153,
          0.012632380227110142,
          null
         ],
         "z": [
          0.14805961750399171,
          0.06240550933931012,
          null
         ]
        },
        {
         "hoverinfo": "none",
         "line": {
          "color": "white",
          "width": 1
         },
         "mode": "lines",
         "type": "scatter3d",
         "x": [
          0.10481593019714143,
          0.020499246096886727,
          null
         ],
         "y": [
          0.04710618729610153,
          0.09634161498327377,
          null
         ],
         "z": [
          0.14805961750399171,
          0.06514604016159398,
          null
         ]
        },
        {
         "hoverinfo": "none",
         "line": {
          "color": "white",
          "width": 1
         },
         "mode": "lines",
         "type": "scatter3d",
         "x": [
          0.10481593019714143,
          0.14448585718302293,
          null
         ],
         "y": [
          0.04710618729610153,
          -0.0724728161365025,
          null
         ],
         "z": [
          0.14805961750399171,
          0.08521470911714414,
          null
         ]
        },
        {
         "hoverinfo": "none",
         "line": {
          "color": "white",
          "width": 1
         },
         "mode": "lines",
         "type": "scatter3d",
         "x": [
          0.10481593019714143,
          0.20049981714077705,
          null
         ],
         "y": [
          0.04710618729610153,
          0.09296284826576588,
          null
         ],
         "z": [
          0.14805961750399171,
          0.02762900578252081,
          null
         ]
        },
        {
         "hoverinfo": "none",
         "line": {
          "color": "white",
          "width": 1
         },
         "mode": "lines",
         "type": "scatter3d",
         "x": [
          0.10481593019714143,
          0.19011359226042795,
          null
         ],
         "y": [
          0.04710618729610153,
          -0.03157750363351596,
          null
         ],
         "z": [
          0.14805961750399171,
          -0.02876449690571877,
          null
         ]
        },
        {
         "hoverinfo": "none",
         "line": {
          "color": "white",
          "width": 1
         },
         "mode": "lines",
         "type": "scatter3d",
         "x": [
          0.10481593019714143,
          0.08171157809820943,
          null
         ],
         "y": [
          0.04710618729610153,
          0.09062485247644866,
          null
         ],
         "z": [
          0.14805961750399171,
          -0.04819826574401871,
          null
         ]
        },
        {
         "hoverinfo": "none",
         "line": {
          "color": "white",
          "width": 1
         },
         "mode": "lines",
         "type": "scatter3d",
         "x": [
          0.10481593019714143,
          0.05111763959501187,
          null
         ],
         "y": [
          0.04710618729610153,
          0.061827624122324565,
          null
         ],
         "z": [
          0.14805961750399171,
          0.1073852653359946,
          null
         ]
        },
        {
         "hoverinfo": "none",
         "line": {
          "color": "white",
          "width": 1
         },
         "mode": "lines",
         "type": "scatter3d",
         "x": [
          0.10481593019714143,
          0.1396991382998311,
          null
         ],
         "y": [
          0.04710618729610153,
          0.13211039749676276,
          null
         ],
         "z": [
          0.14805961750399171,
          0.036667504346245154,
          null
         ]
        },
        {
         "hoverinfo": "none",
         "line": {
          "color": "white",
          "width": 1
         },
         "mode": "lines",
         "type": "scatter3d",
         "x": [
          0.10481593019714143,
          0.08698956797436821,
          null
         ],
         "y": [
          0.04710618729610153,
          -0.03818543608748077,
          null
         ],
         "z": [
          0.14805961750399171,
          0.12656041357925446,
          null
         ]
        },
        {
         "hoverinfo": "none",
         "line": {
          "color": "white",
          "width": 1
         },
         "mode": "lines",
         "type": "scatter3d",
         "x": [
          0.10481593019714143,
          0.07139446778532593,
          null
         ],
         "y": [
          0.04710618729610153,
          0.12838531173079115,
          null
         ],
         "z": [
          0.14805961750399171,
          0.01606052036642238,
          null
         ]
        },
        {
         "hoverinfo": "none",
         "line": {
          "color": "white",
          "width": 1
         },
         "mode": "lines",
         "type": "scatter3d",
         "x": [
          0.10481593019714143,
          0.06694941049076106,
          null
         ],
         "y": [
          0.04710618729610153,
          0.010850575204346926,
          null
         ],
         "z": [
          0.14805961750399171,
          -0.003919914442102045,
          null
         ]
        },
        {
         "hoverinfo": "none",
         "line": {
          "color": "white",
          "width": 1
         },
         "mode": "lines",
         "type": "scatter3d",
         "x": [
          0.10481593019714143,
          0.05481943499907112,
          null
         ],
         "y": [
          0.04710618729610153,
          -0.061170050688860673,
          null
         ],
         "z": [
          0.14805961750399171,
          -0.0148324707403163,
          null
         ]
        },
        {
         "hoverinfo": "none",
         "line": {
          "color": "white",
          "width": 1
         },
         "mode": "lines",
         "type": "scatter3d",
         "x": [
          0.1495837050966847,
          0.02898842012282331,
          null
         ],
         "y": [
          0.031659920785054606,
          0.0013474462159668336,
          null
         ],
         "z": [
          -0.07161070361086974,
          0.1168506455324738,
          null
         ]
        },
        {
         "hoverinfo": "none",
         "line": {
          "color": "white",
          "width": 1
         },
         "mode": "lines",
         "type": "scatter3d",
         "x": [
          0.1495837050966847,
          -0.058433738424554044,
          null
         ],
         "y": [
          0.031659920785054606,
          -0.01179025137682218,
          null
         ],
         "z": [
          -0.07161070361086974,
          -0.021510363207252674,
          null
         ]
        },
        {
         "hoverinfo": "none",
         "line": {
          "color": "white",
          "width": 1
         },
         "mode": "lines",
         "type": "scatter3d",
         "x": [
          0.1495837050966847,
          0.07139446778532593,
          null
         ],
         "y": [
          0.031659920785054606,
          0.12838531173079115,
          null
         ],
         "z": [
          -0.07161070361086974,
          0.01606052036642238,
          null
         ]
        },
        {
         "hoverinfo": "none",
         "line": {
          "color": "white",
          "width": 1
         },
         "mode": "lines",
         "type": "scatter3d",
         "x": [
          0.1495837050966847,
          0.2040653545386135,
          null
         ],
         "y": [
          0.031659920785054606,
          0.03867151303375133,
          null
         ],
         "z": [
          -0.07161070361086974,
          -0.015719654999540707,
          null
         ]
        },
        {
         "hoverinfo": "none",
         "line": {
          "color": "white",
          "width": 1
         },
         "mode": "lines",
         "type": "scatter3d",
         "x": [
          0.1495837050966847,
          0.08698956797436821,
          null
         ],
         "y": [
          0.031659920785054606,
          -0.03818543608748077,
          null
         ],
         "z": [
          -0.07161070361086974,
          0.12656041357925446,
          null
         ]
        },
        {
         "hoverinfo": "none",
         "line": {
          "color": "white",
          "width": 1
         },
         "mode": "lines",
         "type": "scatter3d",
         "x": [
          0.1495837050966847,
          0.17301966995753737,
          null
         ],
         "y": [
          0.031659920785054606,
          0.03343395264610534,
          null
         ],
         "z": [
          -0.07161070361086974,
          0.09502498228342302,
          null
         ]
        },
        {
         "hoverinfo": "none",
         "line": {
          "color": "white",
          "width": 1
         },
         "mode": "lines",
         "type": "scatter3d",
         "x": [
          0.1495837050966847,
          0.05111763959501187,
          null
         ],
         "y": [
          0.031659920785054606,
          0.061827624122324565,
          null
         ],
         "z": [
          -0.07161070361086974,
          0.1073852653359946,
          null
         ]
        },
        {
         "hoverinfo": "none",
         "line": {
          "color": "white",
          "width": 1
         },
         "mode": "lines",
         "type": "scatter3d",
         "x": [
          0.1495837050966847,
          0.08171157809820943,
          null
         ],
         "y": [
          0.031659920785054606,
          0.09062485247644866,
          null
         ],
         "z": [
          -0.07161070361086974,
          -0.04819826574401871,
          null
         ]
        },
        {
         "hoverinfo": "none",
         "line": {
          "color": "white",
          "width": 1
         },
         "mode": "lines",
         "type": "scatter3d",
         "x": [
          0.1495837050966847,
          0.20049981714077705,
          null
         ],
         "y": [
          0.031659920785054606,
          0.09296284826576588,
          null
         ],
         "z": [
          -0.07161070361086974,
          0.02762900578252081,
          null
         ]
        },
        {
         "hoverinfo": "none",
         "line": {
          "color": "white",
          "width": 1
         },
         "mode": "lines",
         "type": "scatter3d",
         "x": [
          0.1495837050966847,
          0.22161962706438096,
          null
         ],
         "y": [
          0.031659920785054606,
          0.012632380227110142,
          null
         ],
         "z": [
          -0.07161070361086974,
          0.06240550933931012,
          null
         ]
        },
        {
         "hoverinfo": "none",
         "line": {
          "color": "white",
          "width": 1
         },
         "mode": "lines",
         "type": "scatter3d",
         "x": [
          0.1495837050966847,
          0.12657890072753847,
          null
         ],
         "y": [
          0.031659920785054606,
          -0.0840705418669723,
          null
         ],
         "z": [
          -0.07161070361086974,
          0.011079308003001428,
          null
         ]
        },
        {
         "hoverinfo": "none",
         "line": {
          "color": "white",
          "width": 1
         },
         "mode": "lines",
         "type": "scatter3d",
         "x": [
          0.1495837050966847,
          0.06694941049076106,
          null
         ],
         "y": [
          0.031659920785054606,
          0.010850575204346926,
          null
         ],
         "z": [
          -0.07161070361086974,
          -0.003919914442102045,
          null
         ]
        },
        {
         "hoverinfo": "none",
         "line": {
          "color": "white",
          "width": 1
         },
         "mode": "lines",
         "type": "scatter3d",
         "x": [
          0.1495837050966847,
          0.06553395185952163,
          null
         ],
         "y": [
          0.031659920785054606,
          -0.07765335082962689,
          null
         ],
         "z": [
          -0.07161070361086974,
          0.06509022858251749,
          null
         ]
        },
        {
         "hoverinfo": "none",
         "line": {
          "color": "white",
          "width": 1
         },
         "mode": "lines",
         "type": "scatter3d",
         "x": [
          0.1495837050966847,
          0.0676826826973529,
          null
         ],
         "y": [
          0.031659920785054606,
          0.020027382280947637,
          null
         ],
         "z": [
          -0.07161070361086974,
          -0.07349607635658016,
          null
         ]
        },
        {
         "hoverinfo": "none",
         "line": {
          "color": "white",
          "width": 1
         },
         "mode": "lines",
         "type": "scatter3d",
         "x": [
          0.1495837050966847,
          0.1733446336774246,
          null
         ],
         "y": [
          0.031659920785054606,
          0.09270320526187634,
          null
         ],
         "z": [
          -0.07161070361086974,
          0.10995807748237776,
          null
         ]
        },
        {
         "hoverinfo": "none",
         "line": {
          "color": "white",
          "width": 1
         },
         "mode": "lines",
         "type": "scatter3d",
         "x": [
          0.1495837050966847,
          0.01320629538927007,
          null
         ],
         "y": [
          0.031659920785054606,
          0.06653968755803646,
          null
         ],
         "z": [
          -0.07161070361086974,
          -0.0023844290418191267,
          null
         ]
        },
        {
         "hoverinfo": "none",
         "line": {
          "color": "white",
          "width": 1
         },
         "mode": "lines",
         "type": "scatter3d",
         "x": [
          0.1495837050966847,
          0.15571362449872603,
          null
         ],
         "y": [
          0.031659920785054606,
          -0.01373139735063719,
          null
         ],
         "z": [
          -0.07161070361086974,
          0.1333715053169754,
          null
         ]
        },
        {
         "hoverinfo": "none",
         "line": {
          "color": "white",
          "width": 1
         },
         "mode": "lines",
         "type": "scatter3d",
         "x": [
          0.1495837050966847,
          0.020499246096886727,
          null
         ],
         "y": [
          0.031659920785054606,
          0.09634161498327377,
          null
         ],
         "z": [
          -0.07161070361086974,
          0.06514604016159398,
          null
         ]
        },
        {
         "hoverinfo": "none",
         "line": {
          "color": "white",
          "width": 1
         },
         "mode": "lines",
         "type": "scatter3d",
         "x": [
          0.1495837050966847,
          0.14448585718302293,
          null
         ],
         "y": [
          0.031659920785054606,
          -0.0724728161365025,
          null
         ],
         "z": [
          -0.07161070361086974,
          0.08521470911714414,
          null
         ]
        },
        {
         "hoverinfo": "none",
         "line": {
          "color": "white",
          "width": 1
         },
         "mode": "lines",
         "type": "scatter3d",
         "x": [
          0.1495837050966847,
          0.19011359226042795,
          null
         ],
         "y": [
          0.031659920785054606,
          -0.03157750363351596,
          null
         ],
         "z": [
          -0.07161070361086974,
          -0.02876449690571877,
          null
         ]
        },
        {
         "hoverinfo": "none",
         "line": {
          "color": "white",
          "width": 1
         },
         "mode": "lines",
         "type": "scatter3d",
         "x": [
          0.1495837050966847,
          0.1396991382998311,
          null
         ],
         "y": [
          0.031659920785054606,
          0.13211039749676276,
          null
         ],
         "z": [
          -0.07161070361086974,
          0.036667504346245154,
          null
         ]
        },
        {
         "hoverinfo": "none",
         "line": {
          "color": "white",
          "width": 1
         },
         "mode": "lines",
         "type": "scatter3d",
         "x": [
          0.1495837050966847,
          0.05481943499907112,
          null
         ],
         "y": [
          0.031659920785054606,
          -0.061170050688860673,
          null
         ],
         "z": [
          -0.07161070361086974,
          -0.0148324707403163,
          null
         ]
        },
        {
         "hoverinfo": "none",
         "line": {
          "color": "black",
          "width": 2
         },
         "mode": "lines",
         "type": "scatter3d",
         "x": [
          -0.6503147056557225,
          -0.9805995752100826,
          null
         ],
         "y": [
          -0.1438887532973297,
          -0.18453633941306008,
          null
         ],
         "z": [
          -0.2125913945161545,
          -0.37734384494269435,
          null
         ]
        },
        {
         "hoverinfo": "none",
         "line": {
          "color": "black",
          "width": 2
         },
         "mode": "lines",
         "type": "scatter3d",
         "x": [
          -0.6503147056557225,
          -0.4771484822888056,
          null
         ],
         "y": [
          -0.1438887532973297,
          -0.09159752374745991,
          null
         ],
         "z": [
          -0.2125913945161545,
          -0.1748618697926978,
          null
         ]
        },
        {
         "hoverinfo": "none",
         "line": {
          "color": "white",
          "width": 1
         },
         "mode": "lines",
         "type": "scatter3d",
         "x": [
          -0.6503147056557225,
          -1,
          null
         ],
         "y": [
          -0.1438887532973297,
          -0.25786235501046123,
          null
         ],
         "z": [
          -0.2125913945161545,
          -0.26206402322297556,
          null
         ]
        },
        {
         "hoverinfo": "none",
         "line": {
          "color": "white",
          "width": 1
         },
         "mode": "lines",
         "type": "scatter3d",
         "x": [
          -0.6503147056557225,
          -0.058433738424554044,
          null
         ],
         "y": [
          -0.1438887532973297,
          -0.01179025137682218,
          null
         ],
         "z": [
          -0.2125913945161545,
          -0.021510363207252674,
          null
         ]
        },
        {
         "hoverinfo": "none",
         "line": {
          "color": "white",
          "width": 1
         },
         "mode": "lines",
         "type": "scatter3d",
         "x": [
          0.06553395185952163,
          0.02898842012282331,
          null
         ],
         "y": [
          -0.07765335082962689,
          0.0013474462159668336,
          null
         ],
         "z": [
          0.06509022858251749,
          0.1168506455324738,
          null
         ]
        },
        {
         "hoverinfo": "none",
         "line": {
          "color": "white",
          "width": 1
         },
         "mode": "lines",
         "type": "scatter3d",
         "x": [
          0.06553395185952163,
          -0.058433738424554044,
          null
         ],
         "y": [
          -0.07765335082962689,
          -0.01179025137682218,
          null
         ],
         "z": [
          0.06509022858251749,
          -0.021510363207252674,
          null
         ]
        },
        {
         "hoverinfo": "none",
         "line": {
          "color": "white",
          "width": 1
         },
         "mode": "lines",
         "type": "scatter3d",
         "x": [
          0.06553395185952163,
          0.07139446778532593,
          null
         ],
         "y": [
          -0.07765335082962689,
          0.12838531173079115,
          null
         ],
         "z": [
          0.06509022858251749,
          0.01606052036642238,
          null
         ]
        },
        {
         "hoverinfo": "none",
         "line": {
          "color": "white",
          "width": 1
         },
         "mode": "lines",
         "type": "scatter3d",
         "x": [
          0.06553395185952163,
          0.2040653545386135,
          null
         ],
         "y": [
          -0.07765335082962689,
          0.03867151303375133,
          null
         ],
         "z": [
          0.06509022858251749,
          -0.015719654999540707,
          null
         ]
        },
        {
         "hoverinfo": "none",
         "line": {
          "color": "white",
          "width": 1
         },
         "mode": "lines",
         "type": "scatter3d",
         "x": [
          0.06553395185952163,
          0.08698956797436821,
          null
         ],
         "y": [
          -0.07765335082962689,
          -0.03818543608748077,
          null
         ],
         "z": [
          0.06509022858251749,
          0.12656041357925446,
          null
         ]
        },
        {
         "hoverinfo": "none",
         "line": {
          "color": "white",
          "width": 1
         },
         "mode": "lines",
         "type": "scatter3d",
         "x": [
          0.06553395185952163,
          0.17301966995753737,
          null
         ],
         "y": [
          -0.07765335082962689,
          0.03343395264610534,
          null
         ],
         "z": [
          0.06509022858251749,
          0.09502498228342302,
          null
         ]
        },
        {
         "hoverinfo": "none",
         "line": {
          "color": "white",
          "width": 1
         },
         "mode": "lines",
         "type": "scatter3d",
         "x": [
          0.06553395185952163,
          0.05111763959501187,
          null
         ],
         "y": [
          -0.07765335082962689,
          0.061827624122324565,
          null
         ],
         "z": [
          0.06509022858251749,
          0.1073852653359946,
          null
         ]
        },
        {
         "hoverinfo": "none",
         "line": {
          "color": "white",
          "width": 1
         },
         "mode": "lines",
         "type": "scatter3d",
         "x": [
          0.06553395185952163,
          0.08171157809820943,
          null
         ],
         "y": [
          -0.07765335082962689,
          0.09062485247644866,
          null
         ],
         "z": [
          0.06509022858251749,
          -0.04819826574401871,
          null
         ]
        },
        {
         "hoverinfo": "none",
         "line": {
          "color": "white",
          "width": 1
         },
         "mode": "lines",
         "type": "scatter3d",
         "x": [
          0.06553395185952163,
          0.20049981714077705,
          null
         ],
         "y": [
          -0.07765335082962689,
          0.09296284826576588,
          null
         ],
         "z": [
          0.06509022858251749,
          0.02762900578252081,
          null
         ]
        },
        {
         "hoverinfo": "none",
         "line": {
          "color": "white",
          "width": 1
         },
         "mode": "lines",
         "type": "scatter3d",
         "x": [
          0.06553395185952163,
          0.22161962706438096,
          null
         ],
         "y": [
          -0.07765335082962689,
          0.012632380227110142,
          null
         ],
         "z": [
          0.06509022858251749,
          0.06240550933931012,
          null
         ]
        },
        {
         "hoverinfo": "none",
         "line": {
          "color": "white",
          "width": 1
         },
         "mode": "lines",
         "type": "scatter3d",
         "x": [
          0.06553395185952163,
          0.12657890072753847,
          null
         ],
         "y": [
          -0.07765335082962689,
          -0.0840705418669723,
          null
         ],
         "z": [
          0.06509022858251749,
          0.011079308003001428,
          null
         ]
        },
        {
         "hoverinfo": "none",
         "line": {
          "color": "white",
          "width": 1
         },
         "mode": "lines",
         "type": "scatter3d",
         "x": [
          0.06553395185952163,
          0.06694941049076106,
          null
         ],
         "y": [
          -0.07765335082962689,
          0.010850575204346926,
          null
         ],
         "z": [
          0.06509022858251749,
          -0.003919914442102045,
          null
         ]
        },
        {
         "hoverinfo": "none",
         "line": {
          "color": "white",
          "width": 1
         },
         "mode": "lines",
         "type": "scatter3d",
         "x": [
          0.06553395185952163,
          0.020499246096886727,
          null
         ],
         "y": [
          -0.07765335082962689,
          0.09634161498327377,
          null
         ],
         "z": [
          0.06509022858251749,
          0.06514604016159398,
          null
         ]
        },
        {
         "hoverinfo": "none",
         "line": {
          "color": "white",
          "width": 1
         },
         "mode": "lines",
         "type": "scatter3d",
         "x": [
          0.06553395185952163,
          0.14448585718302293,
          null
         ],
         "y": [
          -0.07765335082962689,
          -0.0724728161365025,
          null
         ],
         "z": [
          0.06509022858251749,
          0.08521470911714414,
          null
         ]
        },
        {
         "hoverinfo": "none",
         "line": {
          "color": "white",
          "width": 1
         },
         "mode": "lines",
         "type": "scatter3d",
         "x": [
          0.06553395185952163,
          0.0676826826973529,
          null
         ],
         "y": [
          -0.07765335082962689,
          0.020027382280947637,
          null
         ],
         "z": [
          0.06509022858251749,
          -0.07349607635658016,
          null
         ]
        },
        {
         "hoverinfo": "none",
         "line": {
          "color": "white",
          "width": 1
         },
         "mode": "lines",
         "type": "scatter3d",
         "x": [
          0.06553395185952163,
          0.1733446336774246,
          null
         ],
         "y": [
          -0.07765335082962689,
          0.09270320526187634,
          null
         ],
         "z": [
          0.06509022858251749,
          0.10995807748237776,
          null
         ]
        },
        {
         "hoverinfo": "none",
         "line": {
          "color": "white",
          "width": 1
         },
         "mode": "lines",
         "type": "scatter3d",
         "x": [
          0.06553395185952163,
          0.01320629538927007,
          null
         ],
         "y": [
          -0.07765335082962689,
          0.06653968755803646,
          null
         ],
         "z": [
          0.06509022858251749,
          -0.0023844290418191267,
          null
         ]
        },
        {
         "hoverinfo": "none",
         "line": {
          "color": "white",
          "width": 1
         },
         "mode": "lines",
         "type": "scatter3d",
         "x": [
          0.06553395185952163,
          0.15571362449872603,
          null
         ],
         "y": [
          -0.07765335082962689,
          -0.01373139735063719,
          null
         ],
         "z": [
          0.06509022858251749,
          0.1333715053169754,
          null
         ]
        },
        {
         "hoverinfo": "none",
         "line": {
          "color": "white",
          "width": 1
         },
         "mode": "lines",
         "type": "scatter3d",
         "x": [
          0.06553395185952163,
          0.19011359226042795,
          null
         ],
         "y": [
          -0.07765335082962689,
          -0.03157750363351596,
          null
         ],
         "z": [
          0.06509022858251749,
          -0.02876449690571877,
          null
         ]
        },
        {
         "hoverinfo": "none",
         "line": {
          "color": "white",
          "width": 1
         },
         "mode": "lines",
         "type": "scatter3d",
         "x": [
          0.06553395185952163,
          0.1396991382998311,
          null
         ],
         "y": [
          -0.07765335082962689,
          0.13211039749676276,
          null
         ],
         "z": [
          0.06509022858251749,
          0.036667504346245154,
          null
         ]
        },
        {
         "hoverinfo": "none",
         "line": {
          "color": "white",
          "width": 1
         },
         "mode": "lines",
         "type": "scatter3d",
         "x": [
          0.06553395185952163,
          0.05481943499907112,
          null
         ],
         "y": [
          -0.07765335082962689,
          -0.061170050688860673,
          null
         ],
         "z": [
          0.06509022858251749,
          -0.0148324707403163,
          null
         ]
        },
        {
         "hoverinfo": "none",
         "line": {
          "color": "white",
          "width": 1
         },
         "mode": "lines",
         "type": "scatter3d",
         "x": [
          0.17301966995753737,
          0.02898842012282331,
          null
         ],
         "y": [
          0.03343395264610534,
          0.0013474462159668336,
          null
         ],
         "z": [
          0.09502498228342302,
          0.1168506455324738,
          null
         ]
        },
        {
         "hoverinfo": "none",
         "line": {
          "color": "white",
          "width": 1
         },
         "mode": "lines",
         "type": "scatter3d",
         "x": [
          0.17301966995753737,
          -0.058433738424554044,
          null
         ],
         "y": [
          0.03343395264610534,
          -0.01179025137682218,
          null
         ],
         "z": [
          0.09502498228342302,
          -0.021510363207252674,
          null
         ]
        },
        {
         "hoverinfo": "none",
         "line": {
          "color": "white",
          "width": 1
         },
         "mode": "lines",
         "type": "scatter3d",
         "x": [
          0.17301966995753737,
          0.07139446778532593,
          null
         ],
         "y": [
          0.03343395264610534,
          0.12838531173079115,
          null
         ],
         "z": [
          0.09502498228342302,
          0.01606052036642238,
          null
         ]
        },
        {
         "hoverinfo": "none",
         "line": {
          "color": "white",
          "width": 1
         },
         "mode": "lines",
         "type": "scatter3d",
         "x": [
          0.17301966995753737,
          0.2040653545386135,
          null
         ],
         "y": [
          0.03343395264610534,
          0.03867151303375133,
          null
         ],
         "z": [
          0.09502498228342302,
          -0.015719654999540707,
          null
         ]
        },
        {
         "hoverinfo": "none",
         "line": {
          "color": "white",
          "width": 1
         },
         "mode": "lines",
         "type": "scatter3d",
         "x": [
          0.17301966995753737,
          0.08698956797436821,
          null
         ],
         "y": [
          0.03343395264610534,
          -0.03818543608748077,
          null
         ],
         "z": [
          0.09502498228342302,
          0.12656041357925446,
          null
         ]
        },
        {
         "hoverinfo": "none",
         "line": {
          "color": "white",
          "width": 1
         },
         "mode": "lines",
         "type": "scatter3d",
         "x": [
          0.17301966995753737,
          0.0676826826973529,
          null
         ],
         "y": [
          0.03343395264610534,
          0.020027382280947637,
          null
         ],
         "z": [
          0.09502498228342302,
          -0.07349607635658016,
          null
         ]
        },
        {
         "hoverinfo": "none",
         "line": {
          "color": "white",
          "width": 1
         },
         "mode": "lines",
         "type": "scatter3d",
         "x": [
          0.17301966995753737,
          0.12657890072753847,
          null
         ],
         "y": [
          0.03343395264610534,
          -0.0840705418669723,
          null
         ],
         "z": [
          0.09502498228342302,
          0.011079308003001428,
          null
         ]
        },
        {
         "hoverinfo": "none",
         "line": {
          "color": "white",
          "width": 1
         },
         "mode": "lines",
         "type": "scatter3d",
         "x": [
          0.17301966995753737,
          0.1733446336774246,
          null
         ],
         "y": [
          0.03343395264610534,
          0.09270320526187634,
          null
         ],
         "z": [
          0.09502498228342302,
          0.10995807748237776,
          null
         ]
        },
        {
         "hoverinfo": "none",
         "line": {
          "color": "white",
          "width": 1
         },
         "mode": "lines",
         "type": "scatter3d",
         "x": [
          0.17301966995753737,
          0.01320629538927007,
          null
         ],
         "y": [
          0.03343395264610534,
          0.06653968755803646,
          null
         ],
         "z": [
          0.09502498228342302,
          -0.0023844290418191267,
          null
         ]
        },
        {
         "hoverinfo": "none",
         "line": {
          "color": "white",
          "width": 1
         },
         "mode": "lines",
         "type": "scatter3d",
         "x": [
          0.17301966995753737,
          0.15571362449872603,
          null
         ],
         "y": [
          0.03343395264610534,
          -0.01373139735063719,
          null
         ],
         "z": [
          0.09502498228342302,
          0.1333715053169754,
          null
         ]
        },
        {
         "hoverinfo": "none",
         "line": {
          "color": "white",
          "width": 1
         },
         "mode": "lines",
         "type": "scatter3d",
         "x": [
          0.17301966995753737,
          0.22161962706438096,
          null
         ],
         "y": [
          0.03343395264610534,
          0.012632380227110142,
          null
         ],
         "z": [
          0.09502498228342302,
          0.06240550933931012,
          null
         ]
        },
        {
         "hoverinfo": "none",
         "line": {
          "color": "white",
          "width": 1
         },
         "mode": "lines",
         "type": "scatter3d",
         "x": [
          0.17301966995753737,
          0.020499246096886727,
          null
         ],
         "y": [
          0.03343395264610534,
          0.09634161498327377,
          null
         ],
         "z": [
          0.09502498228342302,
          0.06514604016159398,
          null
         ]
        },
        {
         "hoverinfo": "none",
         "line": {
          "color": "white",
          "width": 1
         },
         "mode": "lines",
         "type": "scatter3d",
         "x": [
          0.17301966995753737,
          0.14448585718302293,
          null
         ],
         "y": [
          0.03343395264610534,
          -0.0724728161365025,
          null
         ],
         "z": [
          0.09502498228342302,
          0.08521470911714414,
          null
         ]
        },
        {
         "hoverinfo": "none",
         "line": {
          "color": "white",
          "width": 1
         },
         "mode": "lines",
         "type": "scatter3d",
         "x": [
          0.17301966995753737,
          0.20049981714077705,
          null
         ],
         "y": [
          0.03343395264610534,
          0.09296284826576588,
          null
         ],
         "z": [
          0.09502498228342302,
          0.02762900578252081,
          null
         ]
        },
        {
         "hoverinfo": "none",
         "line": {
          "color": "white",
          "width": 1
         },
         "mode": "lines",
         "type": "scatter3d",
         "x": [
          0.17301966995753737,
          0.19011359226042795,
          null
         ],
         "y": [
          0.03343395264610534,
          -0.03157750363351596,
          null
         ],
         "z": [
          0.09502498228342302,
          -0.02876449690571877,
          null
         ]
        },
        {
         "hoverinfo": "none",
         "line": {
          "color": "white",
          "width": 1
         },
         "mode": "lines",
         "type": "scatter3d",
         "x": [
          0.17301966995753737,
          0.08171157809820943,
          null
         ],
         "y": [
          0.03343395264610534,
          0.09062485247644866,
          null
         ],
         "z": [
          0.09502498228342302,
          -0.04819826574401871,
          null
         ]
        },
        {
         "hoverinfo": "none",
         "line": {
          "color": "white",
          "width": 1
         },
         "mode": "lines",
         "type": "scatter3d",
         "x": [
          0.17301966995753737,
          0.05111763959501187,
          null
         ],
         "y": [
          0.03343395264610534,
          0.061827624122324565,
          null
         ],
         "z": [
          0.09502498228342302,
          0.1073852653359946,
          null
         ]
        },
        {
         "hoverinfo": "none",
         "line": {
          "color": "white",
          "width": 1
         },
         "mode": "lines",
         "type": "scatter3d",
         "x": [
          0.17301966995753737,
          0.1396991382998311,
          null
         ],
         "y": [
          0.03343395264610534,
          0.13211039749676276,
          null
         ],
         "z": [
          0.09502498228342302,
          0.036667504346245154,
          null
         ]
        },
        {
         "hoverinfo": "none",
         "line": {
          "color": "white",
          "width": 1
         },
         "mode": "lines",
         "type": "scatter3d",
         "x": [
          0.17301966995753737,
          0.06694941049076106,
          null
         ],
         "y": [
          0.03343395264610534,
          0.010850575204346926,
          null
         ],
         "z": [
          0.09502498228342302,
          -0.003919914442102045,
          null
         ]
        },
        {
         "hoverinfo": "none",
         "line": {
          "color": "white",
          "width": 1
         },
         "mode": "lines",
         "type": "scatter3d",
         "x": [
          0.17301966995753737,
          0.05481943499907112,
          null
         ],
         "y": [
          0.03343395264610534,
          -0.061170050688860673,
          null
         ],
         "z": [
          0.09502498228342302,
          -0.0148324707403163,
          null
         ]
        },
        {
         "hoverinfo": "none",
         "line": {
          "color": "white",
          "width": 1
         },
         "mode": "lines",
         "type": "scatter3d",
         "x": [
          0.0676826826973529,
          0.02898842012282331,
          null
         ],
         "y": [
          0.020027382280947637,
          0.0013474462159668336,
          null
         ],
         "z": [
          -0.07349607635658016,
          0.1168506455324738,
          null
         ]
        },
        {
         "hoverinfo": "none",
         "line": {
          "color": "white",
          "width": 1
         },
         "mode": "lines",
         "type": "scatter3d",
         "x": [
          0.0676826826973529,
          -0.058433738424554044,
          null
         ],
         "y": [
          0.020027382280947637,
          -0.01179025137682218,
          null
         ],
         "z": [
          -0.07349607635658016,
          -0.021510363207252674,
          null
         ]
        },
        {
         "hoverinfo": "none",
         "line": {
          "color": "white",
          "width": 1
         },
         "mode": "lines",
         "type": "scatter3d",
         "x": [
          0.0676826826973529,
          0.07139446778532593,
          null
         ],
         "y": [
          0.020027382280947637,
          0.12838531173079115,
          null
         ],
         "z": [
          -0.07349607635658016,
          0.01606052036642238,
          null
         ]
        },
        {
         "hoverinfo": "none",
         "line": {
          "color": "white",
          "width": 1
         },
         "mode": "lines",
         "type": "scatter3d",
         "x": [
          0.0676826826973529,
          0.2040653545386135,
          null
         ],
         "y": [
          0.020027382280947637,
          0.03867151303375133,
          null
         ],
         "z": [
          -0.07349607635658016,
          -0.015719654999540707,
          null
         ]
        },
        {
         "hoverinfo": "none",
         "line": {
          "color": "white",
          "width": 1
         },
         "mode": "lines",
         "type": "scatter3d",
         "x": [
          0.0676826826973529,
          0.08698956797436821,
          null
         ],
         "y": [
          0.020027382280947637,
          -0.03818543608748077,
          null
         ],
         "z": [
          -0.07349607635658016,
          0.12656041357925446,
          null
         ]
        },
        {
         "hoverinfo": "none",
         "line": {
          "color": "white",
          "width": 1
         },
         "mode": "lines",
         "type": "scatter3d",
         "x": [
          0.0676826826973529,
          0.05111763959501187,
          null
         ],
         "y": [
          0.020027382280947637,
          0.061827624122324565,
          null
         ],
         "z": [
          -0.07349607635658016,
          0.1073852653359946,
          null
         ]
        },
        {
         "hoverinfo": "none",
         "line": {
          "color": "white",
          "width": 1
         },
         "mode": "lines",
         "type": "scatter3d",
         "x": [
          0.0676826826973529,
          0.08171157809820943,
          null
         ],
         "y": [
          0.020027382280947637,
          0.09062485247644866,
          null
         ],
         "z": [
          -0.07349607635658016,
          -0.04819826574401871,
          null
         ]
        },
        {
         "hoverinfo": "none",
         "line": {
          "color": "white",
          "width": 1
         },
         "mode": "lines",
         "type": "scatter3d",
         "x": [
          0.0676826826973529,
          0.20049981714077705,
          null
         ],
         "y": [
          0.020027382280947637,
          0.09296284826576588,
          null
         ],
         "z": [
          -0.07349607635658016,
          0.02762900578252081,
          null
         ]
        },
        {
         "hoverinfo": "none",
         "line": {
          "color": "white",
          "width": 1
         },
         "mode": "lines",
         "type": "scatter3d",
         "x": [
          0.0676826826973529,
          0.22161962706438096,
          null
         ],
         "y": [
          0.020027382280947637,
          0.012632380227110142,
          null
         ],
         "z": [
          -0.07349607635658016,
          0.06240550933931012,
          null
         ]
        },
        {
         "hoverinfo": "none",
         "line": {
          "color": "white",
          "width": 1
         },
         "mode": "lines",
         "type": "scatter3d",
         "x": [
          0.0676826826973529,
          0.12657890072753847,
          null
         ],
         "y": [
          0.020027382280947637,
          -0.0840705418669723,
          null
         ],
         "z": [
          -0.07349607635658016,
          0.011079308003001428,
          null
         ]
        },
        {
         "hoverinfo": "none",
         "line": {
          "color": "white",
          "width": 1
         },
         "mode": "lines",
         "type": "scatter3d",
         "x": [
          0.0676826826973529,
          0.06694941049076106,
          null
         ],
         "y": [
          0.020027382280947637,
          0.010850575204346926,
          null
         ],
         "z": [
          -0.07349607635658016,
          -0.003919914442102045,
          null
         ]
        },
        {
         "hoverinfo": "none",
         "line": {
          "color": "white",
          "width": 1
         },
         "mode": "lines",
         "type": "scatter3d",
         "x": [
          0.0676826826973529,
          0.020499246096886727,
          null
         ],
         "y": [
          0.020027382280947637,
          0.09634161498327377,
          null
         ],
         "z": [
          -0.07349607635658016,
          0.06514604016159398,
          null
         ]
        },
        {
         "hoverinfo": "none",
         "line": {
          "color": "white",
          "width": 1
         },
         "mode": "lines",
         "type": "scatter3d",
         "x": [
          0.0676826826973529,
          0.14448585718302293,
          null
         ],
         "y": [
          0.020027382280947637,
          -0.0724728161365025,
          null
         ],
         "z": [
          -0.07349607635658016,
          0.08521470911714414,
          null
         ]
        },
        {
         "hoverinfo": "none",
         "line": {
          "color": "white",
          "width": 1
         },
         "mode": "lines",
         "type": "scatter3d",
         "x": [
          0.0676826826973529,
          0.1733446336774246,
          null
         ],
         "y": [
          0.020027382280947637,
          0.09270320526187634,
          null
         ],
         "z": [
          -0.07349607635658016,
          0.10995807748237776,
          null
         ]
        },
        {
         "hoverinfo": "none",
         "line": {
          "color": "white",
          "width": 1
         },
         "mode": "lines",
         "type": "scatter3d",
         "x": [
          0.0676826826973529,
          0.01320629538927007,
          null
         ],
         "y": [
          0.020027382280947637,
          0.06653968755803646,
          null
         ],
         "z": [
          -0.07349607635658016,
          -0.0023844290418191267,
          null
         ]
        },
        {
         "hoverinfo": "none",
         "line": {
          "color": "white",
          "width": 1
         },
         "mode": "lines",
         "type": "scatter3d",
         "x": [
          0.0676826826973529,
          0.15571362449872603,
          null
         ],
         "y": [
          0.020027382280947637,
          -0.01373139735063719,
          null
         ],
         "z": [
          -0.07349607635658016,
          0.1333715053169754,
          null
         ]
        },
        {
         "hoverinfo": "none",
         "line": {
          "color": "white",
          "width": 1
         },
         "mode": "lines",
         "type": "scatter3d",
         "x": [
          0.0676826826973529,
          0.19011359226042795,
          null
         ],
         "y": [
          0.020027382280947637,
          -0.03157750363351596,
          null
         ],
         "z": [
          -0.07349607635658016,
          -0.02876449690571877,
          null
         ]
        },
        {
         "hoverinfo": "none",
         "line": {
          "color": "white",
          "width": 1
         },
         "mode": "lines",
         "type": "scatter3d",
         "x": [
          0.0676826826973529,
          0.1396991382998311,
          null
         ],
         "y": [
          0.020027382280947637,
          0.13211039749676276,
          null
         ],
         "z": [
          -0.07349607635658016,
          0.036667504346245154,
          null
         ]
        },
        {
         "hoverinfo": "none",
         "line": {
          "color": "white",
          "width": 1
         },
         "mode": "lines",
         "type": "scatter3d",
         "x": [
          0.0676826826973529,
          0.05481943499907112,
          null
         ],
         "y": [
          0.020027382280947637,
          -0.061170050688860673,
          null
         ],
         "z": [
          -0.07349607635658016,
          -0.0148324707403163,
          null
         ]
        },
        {
         "hoverinfo": "none",
         "line": {
          "color": "white",
          "width": 1
         },
         "mode": "lines",
         "type": "scatter3d",
         "x": [
          0.12657890072753847,
          0.02898842012282331,
          null
         ],
         "y": [
          -0.0840705418669723,
          0.0013474462159668336,
          null
         ],
         "z": [
          0.011079308003001428,
          0.1168506455324738,
          null
         ]
        },
        {
         "hoverinfo": "none",
         "line": {
          "color": "white",
          "width": 1
         },
         "mode": "lines",
         "type": "scatter3d",
         "x": [
          0.12657890072753847,
          -0.058433738424554044,
          null
         ],
         "y": [
          -0.0840705418669723,
          -0.01179025137682218,
          null
         ],
         "z": [
          0.011079308003001428,
          -0.021510363207252674,
          null
         ]
        },
        {
         "hoverinfo": "none",
         "line": {
          "color": "white",
          "width": 1
         },
         "mode": "lines",
         "type": "scatter3d",
         "x": [
          0.12657890072753847,
          0.07139446778532593,
          null
         ],
         "y": [
          -0.0840705418669723,
          0.12838531173079115,
          null
         ],
         "z": [
          0.011079308003001428,
          0.01606052036642238,
          null
         ]
        },
        {
         "hoverinfo": "none",
         "line": {
          "color": "white",
          "width": 1
         },
         "mode": "lines",
         "type": "scatter3d",
         "x": [
          0.12657890072753847,
          0.2040653545386135,
          null
         ],
         "y": [
          -0.0840705418669723,
          0.03867151303375133,
          null
         ],
         "z": [
          0.011079308003001428,
          -0.015719654999540707,
          null
         ]
        },
        {
         "hoverinfo": "none",
         "line": {
          "color": "white",
          "width": 1
         },
         "mode": "lines",
         "type": "scatter3d",
         "x": [
          0.12657890072753847,
          0.08698956797436821,
          null
         ],
         "y": [
          -0.0840705418669723,
          -0.03818543608748077,
          null
         ],
         "z": [
          0.011079308003001428,
          0.12656041357925446,
          null
         ]
        },
        {
         "hoverinfo": "none",
         "line": {
          "color": "white",
          "width": 1
         },
         "mode": "lines",
         "type": "scatter3d",
         "x": [
          0.12657890072753847,
          0.05111763959501187,
          null
         ],
         "y": [
          -0.0840705418669723,
          0.061827624122324565,
          null
         ],
         "z": [
          0.011079308003001428,
          0.1073852653359946,
          null
         ]
        },
        {
         "hoverinfo": "none",
         "line": {
          "color": "white",
          "width": 1
         },
         "mode": "lines",
         "type": "scatter3d",
         "x": [
          0.12657890072753847,
          0.08171157809820943,
          null
         ],
         "y": [
          -0.0840705418669723,
          0.09062485247644866,
          null
         ],
         "z": [
          0.011079308003001428,
          -0.04819826574401871,
          null
         ]
        },
        {
         "hoverinfo": "none",
         "line": {
          "color": "white",
          "width": 1
         },
         "mode": "lines",
         "type": "scatter3d",
         "x": [
          0.12657890072753847,
          0.20049981714077705,
          null
         ],
         "y": [
          -0.0840705418669723,
          0.09296284826576588,
          null
         ],
         "z": [
          0.011079308003001428,
          0.02762900578252081,
          null
         ]
        },
        {
         "hoverinfo": "none",
         "line": {
          "color": "white",
          "width": 1
         },
         "mode": "lines",
         "type": "scatter3d",
         "x": [
          0.12657890072753847,
          0.22161962706438096,
          null
         ],
         "y": [
          -0.0840705418669723,
          0.012632380227110142,
          null
         ],
         "z": [
          0.011079308003001428,
          0.06240550933931012,
          null
         ]
        },
        {
         "hoverinfo": "none",
         "line": {
          "color": "white",
          "width": 1
         },
         "mode": "lines",
         "type": "scatter3d",
         "x": [
          0.12657890072753847,
          0.1733446336774246,
          null
         ],
         "y": [
          -0.0840705418669723,
          0.09270320526187634,
          null
         ],
         "z": [
          0.011079308003001428,
          0.10995807748237776,
          null
         ]
        },
        {
         "hoverinfo": "none",
         "line": {
          "color": "white",
          "width": 1
         },
         "mode": "lines",
         "type": "scatter3d",
         "x": [
          0.12657890072753847,
          0.01320629538927007,
          null
         ],
         "y": [
          -0.0840705418669723,
          0.06653968755803646,
          null
         ],
         "z": [
          0.011079308003001428,
          -0.0023844290418191267,
          null
         ]
        },
        {
         "hoverinfo": "none",
         "line": {
          "color": "white",
          "width": 1
         },
         "mode": "lines",
         "type": "scatter3d",
         "x": [
          0.12657890072753847,
          0.15571362449872603,
          null
         ],
         "y": [
          -0.0840705418669723,
          -0.01373139735063719,
          null
         ],
         "z": [
          0.011079308003001428,
          0.1333715053169754,
          null
         ]
        },
        {
         "hoverinfo": "none",
         "line": {
          "color": "white",
          "width": 1
         },
         "mode": "lines",
         "type": "scatter3d",
         "x": [
          0.12657890072753847,
          0.020499246096886727,
          null
         ],
         "y": [
          -0.0840705418669723,
          0.09634161498327377,
          null
         ],
         "z": [
          0.011079308003001428,
          0.06514604016159398,
          null
         ]
        },
        {
         "hoverinfo": "none",
         "line": {
          "color": "white",
          "width": 1
         },
         "mode": "lines",
         "type": "scatter3d",
         "x": [
          0.12657890072753847,
          0.14448585718302293,
          null
         ],
         "y": [
          -0.0840705418669723,
          -0.0724728161365025,
          null
         ],
         "z": [
          0.011079308003001428,
          0.08521470911714414,
          null
         ]
        },
        {
         "hoverinfo": "none",
         "line": {
          "color": "white",
          "width": 1
         },
         "mode": "lines",
         "type": "scatter3d",
         "x": [
          0.12657890072753847,
          0.19011359226042795,
          null
         ],
         "y": [
          -0.0840705418669723,
          -0.03157750363351596,
          null
         ],
         "z": [
          0.011079308003001428,
          -0.02876449690571877,
          null
         ]
        },
        {
         "hoverinfo": "none",
         "line": {
          "color": "white",
          "width": 1
         },
         "mode": "lines",
         "type": "scatter3d",
         "x": [
          0.12657890072753847,
          0.1396991382998311,
          null
         ],
         "y": [
          -0.0840705418669723,
          0.13211039749676276,
          null
         ],
         "z": [
          0.011079308003001428,
          0.036667504346245154,
          null
         ]
        },
        {
         "hoverinfo": "none",
         "line": {
          "color": "white",
          "width": 1
         },
         "mode": "lines",
         "type": "scatter3d",
         "x": [
          0.12657890072753847,
          0.06694941049076106,
          null
         ],
         "y": [
          -0.0840705418669723,
          0.010850575204346926,
          null
         ],
         "z": [
          0.011079308003001428,
          -0.003919914442102045,
          null
         ]
        },
        {
         "hoverinfo": "none",
         "line": {
          "color": "white",
          "width": 1
         },
         "mode": "lines",
         "type": "scatter3d",
         "x": [
          0.12657890072753847,
          0.05481943499907112,
          null
         ],
         "y": [
          -0.0840705418669723,
          -0.061170050688860673,
          null
         ],
         "z": [
          0.011079308003001428,
          -0.0148324707403163,
          null
         ]
        },
        {
         "hoverinfo": "none",
         "line": {
          "color": "white",
          "width": 1
         },
         "mode": "lines",
         "type": "scatter3d",
         "x": [
          0.06694941049076106,
          0.02898842012282331,
          null
         ],
         "y": [
          0.010850575204346926,
          0.0013474462159668336,
          null
         ],
         "z": [
          -0.003919914442102045,
          0.1168506455324738,
          null
         ]
        },
        {
         "hoverinfo": "none",
         "line": {
          "color": "white",
          "width": 1
         },
         "mode": "lines",
         "type": "scatter3d",
         "x": [
          0.06694941049076106,
          -0.058433738424554044,
          null
         ],
         "y": [
          0.010850575204346926,
          -0.01179025137682218,
          null
         ],
         "z": [
          -0.003919914442102045,
          -0.021510363207252674,
          null
         ]
        },
        {
         "hoverinfo": "none",
         "line": {
          "color": "white",
          "width": 1
         },
         "mode": "lines",
         "type": "scatter3d",
         "x": [
          0.06694941049076106,
          0.07139446778532593,
          null
         ],
         "y": [
          0.010850575204346926,
          0.12838531173079115,
          null
         ],
         "z": [
          -0.003919914442102045,
          0.01606052036642238,
          null
         ]
        },
        {
         "hoverinfo": "none",
         "line": {
          "color": "white",
          "width": 1
         },
         "mode": "lines",
         "type": "scatter3d",
         "x": [
          0.06694941049076106,
          0.2040653545386135,
          null
         ],
         "y": [
          0.010850575204346926,
          0.03867151303375133,
          null
         ],
         "z": [
          -0.003919914442102045,
          -0.015719654999540707,
          null
         ]
        },
        {
         "hoverinfo": "none",
         "line": {
          "color": "white",
          "width": 1
         },
         "mode": "lines",
         "type": "scatter3d",
         "x": [
          0.06694941049076106,
          0.08698956797436821,
          null
         ],
         "y": [
          0.010850575204346926,
          -0.03818543608748077,
          null
         ],
         "z": [
          -0.003919914442102045,
          0.12656041357925446,
          null
         ]
        },
        {
         "hoverinfo": "none",
         "line": {
          "color": "white",
          "width": 1
         },
         "mode": "lines",
         "type": "scatter3d",
         "x": [
          0.06694941049076106,
          0.05111763959501187,
          null
         ],
         "y": [
          0.010850575204346926,
          0.061827624122324565,
          null
         ],
         "z": [
          -0.003919914442102045,
          0.1073852653359946,
          null
         ]
        },
        {
         "hoverinfo": "none",
         "line": {
          "color": "white",
          "width": 1
         },
         "mode": "lines",
         "type": "scatter3d",
         "x": [
          0.06694941049076106,
          0.08171157809820943,
          null
         ],
         "y": [
          0.010850575204346926,
          0.09062485247644866,
          null
         ],
         "z": [
          -0.003919914442102045,
          -0.04819826574401871,
          null
         ]
        },
        {
         "hoverinfo": "none",
         "line": {
          "color": "white",
          "width": 1
         },
         "mode": "lines",
         "type": "scatter3d",
         "x": [
          0.06694941049076106,
          0.20049981714077705,
          null
         ],
         "y": [
          0.010850575204346926,
          0.09296284826576588,
          null
         ],
         "z": [
          -0.003919914442102045,
          0.02762900578252081,
          null
         ]
        },
        {
         "hoverinfo": "none",
         "line": {
          "color": "white",
          "width": 1
         },
         "mode": "lines",
         "type": "scatter3d",
         "x": [
          0.06694941049076106,
          0.22161962706438096,
          null
         ],
         "y": [
          0.010850575204346926,
          0.012632380227110142,
          null
         ],
         "z": [
          -0.003919914442102045,
          0.06240550933931012,
          null
         ]
        },
        {
         "hoverinfo": "none",
         "line": {
          "color": "white",
          "width": 1
         },
         "mode": "lines",
         "type": "scatter3d",
         "x": [
          0.06694941049076106,
          0.1733446336774246,
          null
         ],
         "y": [
          0.010850575204346926,
          0.09270320526187634,
          null
         ],
         "z": [
          -0.003919914442102045,
          0.10995807748237776,
          null
         ]
        },
        {
         "hoverinfo": "none",
         "line": {
          "color": "white",
          "width": 1
         },
         "mode": "lines",
         "type": "scatter3d",
         "x": [
          0.06694941049076106,
          0.01320629538927007,
          null
         ],
         "y": [
          0.010850575204346926,
          0.06653968755803646,
          null
         ],
         "z": [
          -0.003919914442102045,
          -0.0023844290418191267,
          null
         ]
        },
        {
         "hoverinfo": "none",
         "line": {
          "color": "white",
          "width": 1
         },
         "mode": "lines",
         "type": "scatter3d",
         "x": [
          0.06694941049076106,
          0.15571362449872603,
          null
         ],
         "y": [
          0.010850575204346926,
          -0.01373139735063719,
          null
         ],
         "z": [
          -0.003919914442102045,
          0.1333715053169754,
          null
         ]
        },
        {
         "hoverinfo": "none",
         "line": {
          "color": "white",
          "width": 1
         },
         "mode": "lines",
         "type": "scatter3d",
         "x": [
          0.06694941049076106,
          0.020499246096886727,
          null
         ],
         "y": [
          0.010850575204346926,
          0.09634161498327377,
          null
         ],
         "z": [
          -0.003919914442102045,
          0.06514604016159398,
          null
         ]
        },
        {
         "hoverinfo": "none",
         "line": {
          "color": "white",
          "width": 1
         },
         "mode": "lines",
         "type": "scatter3d",
         "x": [
          0.06694941049076106,
          0.14448585718302293,
          null
         ],
         "y": [
          0.010850575204346926,
          -0.0724728161365025,
          null
         ],
         "z": [
          -0.003919914442102045,
          0.08521470911714414,
          null
         ]
        },
        {
         "hoverinfo": "none",
         "line": {
          "color": "white",
          "width": 1
         },
         "mode": "lines",
         "type": "scatter3d",
         "x": [
          0.06694941049076106,
          0.19011359226042795,
          null
         ],
         "y": [
          0.010850575204346926,
          -0.03157750363351596,
          null
         ],
         "z": [
          -0.003919914442102045,
          -0.02876449690571877,
          null
         ]
        },
        {
         "hoverinfo": "none",
         "line": {
          "color": "white",
          "width": 1
         },
         "mode": "lines",
         "type": "scatter3d",
         "x": [
          0.06694941049076106,
          0.1396991382998311,
          null
         ],
         "y": [
          0.010850575204346926,
          0.13211039749676276,
          null
         ],
         "z": [
          -0.003919914442102045,
          0.036667504346245154,
          null
         ]
        },
        {
         "hoverinfo": "none",
         "line": {
          "color": "white",
          "width": 1
         },
         "mode": "lines",
         "type": "scatter3d",
         "x": [
          0.06694941049076106,
          0.05481943499907112,
          null
         ],
         "y": [
          0.010850575204346926,
          -0.061170050688860673,
          null
         ],
         "z": [
          -0.003919914442102045,
          -0.0148324707403163,
          null
         ]
        },
        {
         "hoverinfo": "none",
         "line": {
          "color": "white",
          "width": 1
         },
         "mode": "lines",
         "type": "scatter3d",
         "x": [
          0.1733446336774246,
          0.02898842012282331,
          null
         ],
         "y": [
          0.09270320526187634,
          0.0013474462159668336,
          null
         ],
         "z": [
          0.10995807748237776,
          0.1168506455324738,
          null
         ]
        },
        {
         "hoverinfo": "none",
         "line": {
          "color": "white",
          "width": 1
         },
         "mode": "lines",
         "type": "scatter3d",
         "x": [
          0.1733446336774246,
          -0.058433738424554044,
          null
         ],
         "y": [
          0.09270320526187634,
          -0.01179025137682218,
          null
         ],
         "z": [
          0.10995807748237776,
          -0.021510363207252674,
          null
         ]
        },
        {
         "hoverinfo": "none",
         "line": {
          "color": "white",
          "width": 1
         },
         "mode": "lines",
         "type": "scatter3d",
         "x": [
          0.1733446336774246,
          0.07139446778532593,
          null
         ],
         "y": [
          0.09270320526187634,
          0.12838531173079115,
          null
         ],
         "z": [
          0.10995807748237776,
          0.01606052036642238,
          null
         ]
        },
        {
         "hoverinfo": "none",
         "line": {
          "color": "white",
          "width": 1
         },
         "mode": "lines",
         "type": "scatter3d",
         "x": [
          0.1733446336774246,
          0.2040653545386135,
          null
         ],
         "y": [
          0.09270320526187634,
          0.03867151303375133,
          null
         ],
         "z": [
          0.10995807748237776,
          -0.015719654999540707,
          null
         ]
        },
        {
         "hoverinfo": "none",
         "line": {
          "color": "white",
          "width": 1
         },
         "mode": "lines",
         "type": "scatter3d",
         "x": [
          0.1733446336774246,
          0.08698956797436821,
          null
         ],
         "y": [
          0.09270320526187634,
          -0.03818543608748077,
          null
         ],
         "z": [
          0.10995807748237776,
          0.12656041357925446,
          null
         ]
        },
        {
         "hoverinfo": "none",
         "line": {
          "color": "white",
          "width": 1
         },
         "mode": "lines",
         "type": "scatter3d",
         "x": [
          0.1733446336774246,
          0.05111763959501187,
          null
         ],
         "y": [
          0.09270320526187634,
          0.061827624122324565,
          null
         ],
         "z": [
          0.10995807748237776,
          0.1073852653359946,
          null
         ]
        },
        {
         "hoverinfo": "none",
         "line": {
          "color": "white",
          "width": 1
         },
         "mode": "lines",
         "type": "scatter3d",
         "x": [
          0.1733446336774246,
          0.08171157809820943,
          null
         ],
         "y": [
          0.09270320526187634,
          0.09062485247644866,
          null
         ],
         "z": [
          0.10995807748237776,
          -0.04819826574401871,
          null
         ]
        },
        {
         "hoverinfo": "none",
         "line": {
          "color": "white",
          "width": 1
         },
         "mode": "lines",
         "type": "scatter3d",
         "x": [
          0.1733446336774246,
          0.20049981714077705,
          null
         ],
         "y": [
          0.09270320526187634,
          0.09296284826576588,
          null
         ],
         "z": [
          0.10995807748237776,
          0.02762900578252081,
          null
         ]
        },
        {
         "hoverinfo": "none",
         "line": {
          "color": "white",
          "width": 1
         },
         "mode": "lines",
         "type": "scatter3d",
         "x": [
          0.1733446336774246,
          0.22161962706438096,
          null
         ],
         "y": [
          0.09270320526187634,
          0.012632380227110142,
          null
         ],
         "z": [
          0.10995807748237776,
          0.06240550933931012,
          null
         ]
        },
        {
         "hoverinfo": "none",
         "line": {
          "color": "white",
          "width": 1
         },
         "mode": "lines",
         "type": "scatter3d",
         "x": [
          0.1733446336774246,
          0.020499246096886727,
          null
         ],
         "y": [
          0.09270320526187634,
          0.09634161498327377,
          null
         ],
         "z": [
          0.10995807748237776,
          0.06514604016159398,
          null
         ]
        },
        {
         "hoverinfo": "none",
         "line": {
          "color": "white",
          "width": 1
         },
         "mode": "lines",
         "type": "scatter3d",
         "x": [
          0.1733446336774246,
          0.14448585718302293,
          null
         ],
         "y": [
          0.09270320526187634,
          -0.0724728161365025,
          null
         ],
         "z": [
          0.10995807748237776,
          0.08521470911714414,
          null
         ]
        },
        {
         "hoverinfo": "none",
         "line": {
          "color": "white",
          "width": 1
         },
         "mode": "lines",
         "type": "scatter3d",
         "x": [
          0.1733446336774246,
          0.05481943499907112,
          null
         ],
         "y": [
          0.09270320526187634,
          -0.061170050688860673,
          null
         ],
         "z": [
          0.10995807748237776,
          -0.0148324707403163,
          null
         ]
        },
        {
         "hoverinfo": "none",
         "line": {
          "color": "white",
          "width": 1
         },
         "mode": "lines",
         "type": "scatter3d",
         "x": [
          0.1733446336774246,
          0.19011359226042795,
          null
         ],
         "y": [
          0.09270320526187634,
          -0.03157750363351596,
          null
         ],
         "z": [
          0.10995807748237776,
          -0.02876449690571877,
          null
         ]
        },
        {
         "hoverinfo": "none",
         "line": {
          "color": "white",
          "width": 1
         },
         "mode": "lines",
         "type": "scatter3d",
         "x": [
          0.1733446336774246,
          0.1396991382998311,
          null
         ],
         "y": [
          0.09270320526187634,
          0.13211039749676276,
          null
         ],
         "z": [
          0.10995807748237776,
          0.036667504346245154,
          null
         ]
        },
        {
         "hoverinfo": "none",
         "line": {
          "color": "white",
          "width": 1
         },
         "mode": "lines",
         "type": "scatter3d",
         "x": [
          0.1733446336774246,
          0.15571362449872603,
          null
         ],
         "y": [
          0.09270320526187634,
          -0.01373139735063719,
          null
         ],
         "z": [
          0.10995807748237776,
          0.1333715053169754,
          null
         ]
        },
        {
         "hoverinfo": "none",
         "line": {
          "color": "white",
          "width": 1
         },
         "mode": "lines",
         "type": "scatter3d",
         "x": [
          0.1733446336774246,
          0.01320629538927007,
          null
         ],
         "y": [
          0.09270320526187634,
          0.06653968755803646,
          null
         ],
         "z": [
          0.10995807748237776,
          -0.0023844290418191267,
          null
         ]
        },
        {
         "hoverinfo": "none",
         "line": {
          "color": "white",
          "width": 1
         },
         "mode": "lines",
         "type": "scatter3d",
         "x": [
          0.01320629538927007,
          0.02898842012282331,
          null
         ],
         "y": [
          0.06653968755803646,
          0.0013474462159668336,
          null
         ],
         "z": [
          -0.0023844290418191267,
          0.1168506455324738,
          null
         ]
        },
        {
         "hoverinfo": "none",
         "line": {
          "color": "white",
          "width": 1
         },
         "mode": "lines",
         "type": "scatter3d",
         "x": [
          0.01320629538927007,
          -0.058433738424554044,
          null
         ],
         "y": [
          0.06653968755803646,
          -0.01179025137682218,
          null
         ],
         "z": [
          -0.0023844290418191267,
          -0.021510363207252674,
          null
         ]
        },
        {
         "hoverinfo": "none",
         "line": {
          "color": "white",
          "width": 1
         },
         "mode": "lines",
         "type": "scatter3d",
         "x": [
          0.01320629538927007,
          0.07139446778532593,
          null
         ],
         "y": [
          0.06653968755803646,
          0.12838531173079115,
          null
         ],
         "z": [
          -0.0023844290418191267,
          0.01606052036642238,
          null
         ]
        },
        {
         "hoverinfo": "none",
         "line": {
          "color": "white",
          "width": 1
         },
         "mode": "lines",
         "type": "scatter3d",
         "x": [
          0.01320629538927007,
          0.2040653545386135,
          null
         ],
         "y": [
          0.06653968755803646,
          0.03867151303375133,
          null
         ],
         "z": [
          -0.0023844290418191267,
          -0.015719654999540707,
          null
         ]
        },
        {
         "hoverinfo": "none",
         "line": {
          "color": "white",
          "width": 1
         },
         "mode": "lines",
         "type": "scatter3d",
         "x": [
          0.01320629538927007,
          0.08698956797436821,
          null
         ],
         "y": [
          0.06653968755803646,
          -0.03818543608748077,
          null
         ],
         "z": [
          -0.0023844290418191267,
          0.12656041357925446,
          null
         ]
        },
        {
         "hoverinfo": "none",
         "line": {
          "color": "white",
          "width": 1
         },
         "mode": "lines",
         "type": "scatter3d",
         "x": [
          0.01320629538927007,
          0.05111763959501187,
          null
         ],
         "y": [
          0.06653968755803646,
          0.061827624122324565,
          null
         ],
         "z": [
          -0.0023844290418191267,
          0.1073852653359946,
          null
         ]
        },
        {
         "hoverinfo": "none",
         "line": {
          "color": "white",
          "width": 1
         },
         "mode": "lines",
         "type": "scatter3d",
         "x": [
          0.01320629538927007,
          0.08171157809820943,
          null
         ],
         "y": [
          0.06653968755803646,
          0.09062485247644866,
          null
         ],
         "z": [
          -0.0023844290418191267,
          -0.04819826574401871,
          null
         ]
        },
        {
         "hoverinfo": "none",
         "line": {
          "color": "white",
          "width": 1
         },
         "mode": "lines",
         "type": "scatter3d",
         "x": [
          0.01320629538927007,
          0.20049981714077705,
          null
         ],
         "y": [
          0.06653968755803646,
          0.09296284826576588,
          null
         ],
         "z": [
          -0.0023844290418191267,
          0.02762900578252081,
          null
         ]
        },
        {
         "hoverinfo": "none",
         "line": {
          "color": "white",
          "width": 1
         },
         "mode": "lines",
         "type": "scatter3d",
         "x": [
          0.01320629538927007,
          0.22161962706438096,
          null
         ],
         "y": [
          0.06653968755803646,
          0.012632380227110142,
          null
         ],
         "z": [
          -0.0023844290418191267,
          0.06240550933931012,
          null
         ]
        },
        {
         "hoverinfo": "none",
         "line": {
          "color": "white",
          "width": 1
         },
         "mode": "lines",
         "type": "scatter3d",
         "x": [
          0.01320629538927007,
          0.020499246096886727,
          null
         ],
         "y": [
          0.06653968755803646,
          0.09634161498327377,
          null
         ],
         "z": [
          -0.0023844290418191267,
          0.06514604016159398,
          null
         ]
        },
        {
         "hoverinfo": "none",
         "line": {
          "color": "white",
          "width": 1
         },
         "mode": "lines",
         "type": "scatter3d",
         "x": [
          0.01320629538927007,
          0.14448585718302293,
          null
         ],
         "y": [
          0.06653968755803646,
          -0.0724728161365025,
          null
         ],
         "z": [
          -0.0023844290418191267,
          0.08521470911714414,
          null
         ]
        },
        {
         "hoverinfo": "none",
         "line": {
          "color": "white",
          "width": 1
         },
         "mode": "lines",
         "type": "scatter3d",
         "x": [
          0.01320629538927007,
          0.05481943499907112,
          null
         ],
         "y": [
          0.06653968755803646,
          -0.061170050688860673,
          null
         ],
         "z": [
          -0.0023844290418191267,
          -0.0148324707403163,
          null
         ]
        },
        {
         "hoverinfo": "none",
         "line": {
          "color": "white",
          "width": 1
         },
         "mode": "lines",
         "type": "scatter3d",
         "x": [
          0.01320629538927007,
          0.19011359226042795,
          null
         ],
         "y": [
          0.06653968755803646,
          -0.03157750363351596,
          null
         ],
         "z": [
          -0.0023844290418191267,
          -0.02876449690571877,
          null
         ]
        },
        {
         "hoverinfo": "none",
         "line": {
          "color": "white",
          "width": 1
         },
         "mode": "lines",
         "type": "scatter3d",
         "x": [
          0.01320629538927007,
          0.1396991382998311,
          null
         ],
         "y": [
          0.06653968755803646,
          0.13211039749676276,
          null
         ],
         "z": [
          -0.0023844290418191267,
          0.036667504346245154,
          null
         ]
        },
        {
         "hoverinfo": "none",
         "line": {
          "color": "white",
          "width": 1
         },
         "mode": "lines",
         "type": "scatter3d",
         "x": [
          0.01320629538927007,
          0.15571362449872603,
          null
         ],
         "y": [
          0.06653968755803646,
          -0.01373139735063719,
          null
         ],
         "z": [
          -0.0023844290418191267,
          0.1333715053169754,
          null
         ]
        },
        {
         "hoverinfo": "none",
         "line": {
          "color": "white",
          "width": 1
         },
         "mode": "lines",
         "type": "scatter3d",
         "x": [
          0.15571362449872603,
          0.02898842012282331,
          null
         ],
         "y": [
          -0.01373139735063719,
          0.0013474462159668336,
          null
         ],
         "z": [
          0.1333715053169754,
          0.1168506455324738,
          null
         ]
        },
        {
         "hoverinfo": "none",
         "line": {
          "color": "white",
          "width": 1
         },
         "mode": "lines",
         "type": "scatter3d",
         "x": [
          0.15571362449872603,
          -0.058433738424554044,
          null
         ],
         "y": [
          -0.01373139735063719,
          -0.01179025137682218,
          null
         ],
         "z": [
          0.1333715053169754,
          -0.021510363207252674,
          null
         ]
        },
        {
         "hoverinfo": "none",
         "line": {
          "color": "white",
          "width": 1
         },
         "mode": "lines",
         "type": "scatter3d",
         "x": [
          0.15571362449872603,
          0.07139446778532593,
          null
         ],
         "y": [
          -0.01373139735063719,
          0.12838531173079115,
          null
         ],
         "z": [
          0.1333715053169754,
          0.01606052036642238,
          null
         ]
        },
        {
         "hoverinfo": "none",
         "line": {
          "color": "white",
          "width": 1
         },
         "mode": "lines",
         "type": "scatter3d",
         "x": [
          0.15571362449872603,
          0.2040653545386135,
          null
         ],
         "y": [
          -0.01373139735063719,
          0.03867151303375133,
          null
         ],
         "z": [
          0.1333715053169754,
          -0.015719654999540707,
          null
         ]
        },
        {
         "hoverinfo": "none",
         "line": {
          "color": "white",
          "width": 1
         },
         "mode": "lines",
         "type": "scatter3d",
         "x": [
          0.15571362449872603,
          0.08698956797436821,
          null
         ],
         "y": [
          -0.01373139735063719,
          -0.03818543608748077,
          null
         ],
         "z": [
          0.1333715053169754,
          0.12656041357925446,
          null
         ]
        },
        {
         "hoverinfo": "none",
         "line": {
          "color": "white",
          "width": 1
         },
         "mode": "lines",
         "type": "scatter3d",
         "x": [
          0.15571362449872603,
          0.05111763959501187,
          null
         ],
         "y": [
          -0.01373139735063719,
          0.061827624122324565,
          null
         ],
         "z": [
          0.1333715053169754,
          0.1073852653359946,
          null
         ]
        },
        {
         "hoverinfo": "none",
         "line": {
          "color": "white",
          "width": 1
         },
         "mode": "lines",
         "type": "scatter3d",
         "x": [
          0.15571362449872603,
          0.08171157809820943,
          null
         ],
         "y": [
          -0.01373139735063719,
          0.09062485247644866,
          null
         ],
         "z": [
          0.1333715053169754,
          -0.04819826574401871,
          null
         ]
        },
        {
         "hoverinfo": "none",
         "line": {
          "color": "white",
          "width": 1
         },
         "mode": "lines",
         "type": "scatter3d",
         "x": [
          0.15571362449872603,
          0.20049981714077705,
          null
         ],
         "y": [
          -0.01373139735063719,
          0.09296284826576588,
          null
         ],
         "z": [
          0.1333715053169754,
          0.02762900578252081,
          null
         ]
        },
        {
         "hoverinfo": "none",
         "line": {
          "color": "white",
          "width": 1
         },
         "mode": "lines",
         "type": "scatter3d",
         "x": [
          0.15571362449872603,
          0.22161962706438096,
          null
         ],
         "y": [
          -0.01373139735063719,
          0.012632380227110142,
          null
         ],
         "z": [
          0.1333715053169754,
          0.06240550933931012,
          null
         ]
        },
        {
         "hoverinfo": "none",
         "line": {
          "color": "white",
          "width": 1
         },
         "mode": "lines",
         "type": "scatter3d",
         "x": [
          0.15571362449872603,
          0.020499246096886727,
          null
         ],
         "y": [
          -0.01373139735063719,
          0.09634161498327377,
          null
         ],
         "z": [
          0.1333715053169754,
          0.06514604016159398,
          null
         ]
        },
        {
         "hoverinfo": "none",
         "line": {
          "color": "white",
          "width": 1
         },
         "mode": "lines",
         "type": "scatter3d",
         "x": [
          0.15571362449872603,
          0.14448585718302293,
          null
         ],
         "y": [
          -0.01373139735063719,
          -0.0724728161365025,
          null
         ],
         "z": [
          0.1333715053169754,
          0.08521470911714414,
          null
         ]
        },
        {
         "hoverinfo": "none",
         "line": {
          "color": "white",
          "width": 1
         },
         "mode": "lines",
         "type": "scatter3d",
         "x": [
          0.15571362449872603,
          0.05481943499907112,
          null
         ],
         "y": [
          -0.01373139735063719,
          -0.061170050688860673,
          null
         ],
         "z": [
          0.1333715053169754,
          -0.0148324707403163,
          null
         ]
        },
        {
         "hoverinfo": "none",
         "line": {
          "color": "white",
          "width": 1
         },
         "mode": "lines",
         "type": "scatter3d",
         "x": [
          0.15571362449872603,
          0.19011359226042795,
          null
         ],
         "y": [
          -0.01373139735063719,
          -0.03157750363351596,
          null
         ],
         "z": [
          0.1333715053169754,
          -0.02876449690571877,
          null
         ]
        },
        {
         "hoverinfo": "none",
         "line": {
          "color": "white",
          "width": 1
         },
         "mode": "lines",
         "type": "scatter3d",
         "x": [
          0.15571362449872603,
          0.1396991382998311,
          null
         ],
         "y": [
          -0.01373139735063719,
          0.13211039749676276,
          null
         ],
         "z": [
          0.1333715053169754,
          0.036667504346245154,
          null
         ]
        },
        {
         "hoverinfo": "none",
         "line": {
          "color": "white",
          "width": 1
         },
         "mode": "lines",
         "type": "scatter3d",
         "x": [
          0.22161962706438096,
          0.02898842012282331,
          null
         ],
         "y": [
          0.012632380227110142,
          0.0013474462159668336,
          null
         ],
         "z": [
          0.06240550933931012,
          0.1168506455324738,
          null
         ]
        },
        {
         "hoverinfo": "none",
         "line": {
          "color": "white",
          "width": 1
         },
         "mode": "lines",
         "type": "scatter3d",
         "x": [
          0.22161962706438096,
          -0.058433738424554044,
          null
         ],
         "y": [
          0.012632380227110142,
          -0.01179025137682218,
          null
         ],
         "z": [
          0.06240550933931012,
          -0.021510363207252674,
          null
         ]
        },
        {
         "hoverinfo": "none",
         "line": {
          "color": "white",
          "width": 1
         },
         "mode": "lines",
         "type": "scatter3d",
         "x": [
          0.22161962706438096,
          0.07139446778532593,
          null
         ],
         "y": [
          0.012632380227110142,
          0.12838531173079115,
          null
         ],
         "z": [
          0.06240550933931012,
          0.01606052036642238,
          null
         ]
        },
        {
         "hoverinfo": "none",
         "line": {
          "color": "white",
          "width": 1
         },
         "mode": "lines",
         "type": "scatter3d",
         "x": [
          0.22161962706438096,
          0.2040653545386135,
          null
         ],
         "y": [
          0.012632380227110142,
          0.03867151303375133,
          null
         ],
         "z": [
          0.06240550933931012,
          -0.015719654999540707,
          null
         ]
        },
        {
         "hoverinfo": "none",
         "line": {
          "color": "white",
          "width": 1
         },
         "mode": "lines",
         "type": "scatter3d",
         "x": [
          0.22161962706438096,
          0.08698956797436821,
          null
         ],
         "y": [
          0.012632380227110142,
          -0.03818543608748077,
          null
         ],
         "z": [
          0.06240550933931012,
          0.12656041357925446,
          null
         ]
        },
        {
         "hoverinfo": "none",
         "line": {
          "color": "white",
          "width": 1
         },
         "mode": "lines",
         "type": "scatter3d",
         "x": [
          0.22161962706438096,
          0.05111763959501187,
          null
         ],
         "y": [
          0.012632380227110142,
          0.061827624122324565,
          null
         ],
         "z": [
          0.06240550933931012,
          0.1073852653359946,
          null
         ]
        },
        {
         "hoverinfo": "none",
         "line": {
          "color": "white",
          "width": 1
         },
         "mode": "lines",
         "type": "scatter3d",
         "x": [
          0.22161962706438096,
          0.08171157809820943,
          null
         ],
         "y": [
          0.012632380227110142,
          0.09062485247644866,
          null
         ],
         "z": [
          0.06240550933931012,
          -0.04819826574401871,
          null
         ]
        },
        {
         "hoverinfo": "none",
         "line": {
          "color": "white",
          "width": 1
         },
         "mode": "lines",
         "type": "scatter3d",
         "x": [
          0.22161962706438096,
          0.20049981714077705,
          null
         ],
         "y": [
          0.012632380227110142,
          0.09296284826576588,
          null
         ],
         "z": [
          0.06240550933931012,
          0.02762900578252081,
          null
         ]
        },
        {
         "hoverinfo": "none",
         "line": {
          "color": "white",
          "width": 1
         },
         "mode": "lines",
         "type": "scatter3d",
         "x": [
          0.22161962706438096,
          0.020499246096886727,
          null
         ],
         "y": [
          0.012632380227110142,
          0.09634161498327377,
          null
         ],
         "z": [
          0.06240550933931012,
          0.06514604016159398,
          null
         ]
        },
        {
         "hoverinfo": "none",
         "line": {
          "color": "white",
          "width": 1
         },
         "mode": "lines",
         "type": "scatter3d",
         "x": [
          0.22161962706438096,
          0.14448585718302293,
          null
         ],
         "y": [
          0.012632380227110142,
          -0.0724728161365025,
          null
         ],
         "z": [
          0.06240550933931012,
          0.08521470911714414,
          null
         ]
        },
        {
         "hoverinfo": "none",
         "line": {
          "color": "white",
          "width": 1
         },
         "mode": "lines",
         "type": "scatter3d",
         "x": [
          0.22161962706438096,
          0.19011359226042795,
          null
         ],
         "y": [
          0.012632380227110142,
          -0.03157750363351596,
          null
         ],
         "z": [
          0.06240550933931012,
          -0.02876449690571877,
          null
         ]
        },
        {
         "hoverinfo": "none",
         "line": {
          "color": "white",
          "width": 1
         },
         "mode": "lines",
         "type": "scatter3d",
         "x": [
          0.22161962706438096,
          0.1396991382998311,
          null
         ],
         "y": [
          0.012632380227110142,
          0.13211039749676276,
          null
         ],
         "z": [
          0.06240550933931012,
          0.036667504346245154,
          null
         ]
        },
        {
         "hoverinfo": "none",
         "line": {
          "color": "white",
          "width": 1
         },
         "mode": "lines",
         "type": "scatter3d",
         "x": [
          0.22161962706438096,
          0.05481943499907112,
          null
         ],
         "y": [
          0.012632380227110142,
          -0.061170050688860673,
          null
         ],
         "z": [
          0.06240550933931012,
          -0.0148324707403163,
          null
         ]
        },
        {
         "hoverinfo": "none",
         "line": {
          "color": "white",
          "width": 1
         },
         "mode": "lines",
         "type": "scatter3d",
         "x": [
          0.020499246096886727,
          0.02898842012282331,
          null
         ],
         "y": [
          0.09634161498327377,
          0.0013474462159668336,
          null
         ],
         "z": [
          0.06514604016159398,
          0.1168506455324738,
          null
         ]
        },
        {
         "hoverinfo": "none",
         "line": {
          "color": "white",
          "width": 1
         },
         "mode": "lines",
         "type": "scatter3d",
         "x": [
          0.020499246096886727,
          -0.058433738424554044,
          null
         ],
         "y": [
          0.09634161498327377,
          -0.01179025137682218,
          null
         ],
         "z": [
          0.06514604016159398,
          -0.021510363207252674,
          null
         ]
        },
        {
         "hoverinfo": "none",
         "line": {
          "color": "white",
          "width": 1
         },
         "mode": "lines",
         "type": "scatter3d",
         "x": [
          0.020499246096886727,
          0.07139446778532593,
          null
         ],
         "y": [
          0.09634161498327377,
          0.12838531173079115,
          null
         ],
         "z": [
          0.06514604016159398,
          0.01606052036642238,
          null
         ]
        },
        {
         "hoverinfo": "none",
         "line": {
          "color": "white",
          "width": 1
         },
         "mode": "lines",
         "type": "scatter3d",
         "x": [
          0.020499246096886727,
          0.2040653545386135,
          null
         ],
         "y": [
          0.09634161498327377,
          0.03867151303375133,
          null
         ],
         "z": [
          0.06514604016159398,
          -0.015719654999540707,
          null
         ]
        },
        {
         "hoverinfo": "none",
         "line": {
          "color": "white",
          "width": 1
         },
         "mode": "lines",
         "type": "scatter3d",
         "x": [
          0.020499246096886727,
          0.08698956797436821,
          null
         ],
         "y": [
          0.09634161498327377,
          -0.03818543608748077,
          null
         ],
         "z": [
          0.06514604016159398,
          0.12656041357925446,
          null
         ]
        },
        {
         "hoverinfo": "none",
         "line": {
          "color": "white",
          "width": 1
         },
         "mode": "lines",
         "type": "scatter3d",
         "x": [
          0.020499246096886727,
          0.05111763959501187,
          null
         ],
         "y": [
          0.09634161498327377,
          0.061827624122324565,
          null
         ],
         "z": [
          0.06514604016159398,
          0.1073852653359946,
          null
         ]
        },
        {
         "hoverinfo": "none",
         "line": {
          "color": "white",
          "width": 1
         },
         "mode": "lines",
         "type": "scatter3d",
         "x": [
          0.020499246096886727,
          0.08171157809820943,
          null
         ],
         "y": [
          0.09634161498327377,
          0.09062485247644866,
          null
         ],
         "z": [
          0.06514604016159398,
          -0.04819826574401871,
          null
         ]
        },
        {
         "hoverinfo": "none",
         "line": {
          "color": "white",
          "width": 1
         },
         "mode": "lines",
         "type": "scatter3d",
         "x": [
          0.020499246096886727,
          0.20049981714077705,
          null
         ],
         "y": [
          0.09634161498327377,
          0.09296284826576588,
          null
         ],
         "z": [
          0.06514604016159398,
          0.02762900578252081,
          null
         ]
        },
        {
         "hoverinfo": "none",
         "line": {
          "color": "white",
          "width": 1
         },
         "mode": "lines",
         "type": "scatter3d",
         "x": [
          0.020499246096886727,
          0.14448585718302293,
          null
         ],
         "y": [
          0.09634161498327377,
          -0.0724728161365025,
          null
         ],
         "z": [
          0.06514604016159398,
          0.08521470911714414,
          null
         ]
        },
        {
         "hoverinfo": "none",
         "line": {
          "color": "white",
          "width": 1
         },
         "mode": "lines",
         "type": "scatter3d",
         "x": [
          0.020499246096886727,
          0.19011359226042795,
          null
         ],
         "y": [
          0.09634161498327377,
          -0.03157750363351596,
          null
         ],
         "z": [
          0.06514604016159398,
          -0.02876449690571877,
          null
         ]
        },
        {
         "hoverinfo": "none",
         "line": {
          "color": "white",
          "width": 1
         },
         "mode": "lines",
         "type": "scatter3d",
         "x": [
          0.020499246096886727,
          0.1396991382998311,
          null
         ],
         "y": [
          0.09634161498327377,
          0.13211039749676276,
          null
         ],
         "z": [
          0.06514604016159398,
          0.036667504346245154,
          null
         ]
        },
        {
         "hoverinfo": "none",
         "line": {
          "color": "white",
          "width": 1
         },
         "mode": "lines",
         "type": "scatter3d",
         "x": [
          0.020499246096886727,
          0.05481943499907112,
          null
         ],
         "y": [
          0.09634161498327377,
          -0.061170050688860673,
          null
         ],
         "z": [
          0.06514604016159398,
          -0.0148324707403163,
          null
         ]
        },
        {
         "hoverinfo": "none",
         "line": {
          "color": "white",
          "width": 1
         },
         "mode": "lines",
         "type": "scatter3d",
         "x": [
          0.14448585718302293,
          0.02898842012282331,
          null
         ],
         "y": [
          -0.0724728161365025,
          0.0013474462159668336,
          null
         ],
         "z": [
          0.08521470911714414,
          0.1168506455324738,
          null
         ]
        },
        {
         "hoverinfo": "none",
         "line": {
          "color": "white",
          "width": 1
         },
         "mode": "lines",
         "type": "scatter3d",
         "x": [
          0.14448585718302293,
          -0.058433738424554044,
          null
         ],
         "y": [
          -0.0724728161365025,
          -0.01179025137682218,
          null
         ],
         "z": [
          0.08521470911714414,
          -0.021510363207252674,
          null
         ]
        },
        {
         "hoverinfo": "none",
         "line": {
          "color": "white",
          "width": 1
         },
         "mode": "lines",
         "type": "scatter3d",
         "x": [
          0.14448585718302293,
          0.07139446778532593,
          null
         ],
         "y": [
          -0.0724728161365025,
          0.12838531173079115,
          null
         ],
         "z": [
          0.08521470911714414,
          0.01606052036642238,
          null
         ]
        },
        {
         "hoverinfo": "none",
         "line": {
          "color": "white",
          "width": 1
         },
         "mode": "lines",
         "type": "scatter3d",
         "x": [
          0.14448585718302293,
          0.2040653545386135,
          null
         ],
         "y": [
          -0.0724728161365025,
          0.03867151303375133,
          null
         ],
         "z": [
          0.08521470911714414,
          -0.015719654999540707,
          null
         ]
        },
        {
         "hoverinfo": "none",
         "line": {
          "color": "white",
          "width": 1
         },
         "mode": "lines",
         "type": "scatter3d",
         "x": [
          0.14448585718302293,
          0.08698956797436821,
          null
         ],
         "y": [
          -0.0724728161365025,
          -0.03818543608748077,
          null
         ],
         "z": [
          0.08521470911714414,
          0.12656041357925446,
          null
         ]
        },
        {
         "hoverinfo": "none",
         "line": {
          "color": "white",
          "width": 1
         },
         "mode": "lines",
         "type": "scatter3d",
         "x": [
          0.14448585718302293,
          0.05111763959501187,
          null
         ],
         "y": [
          -0.0724728161365025,
          0.061827624122324565,
          null
         ],
         "z": [
          0.08521470911714414,
          0.1073852653359946,
          null
         ]
        },
        {
         "hoverinfo": "none",
         "line": {
          "color": "white",
          "width": 1
         },
         "mode": "lines",
         "type": "scatter3d",
         "x": [
          0.14448585718302293,
          0.08171157809820943,
          null
         ],
         "y": [
          -0.0724728161365025,
          0.09062485247644866,
          null
         ],
         "z": [
          0.08521470911714414,
          -0.04819826574401871,
          null
         ]
        },
        {
         "hoverinfo": "none",
         "line": {
          "color": "white",
          "width": 1
         },
         "mode": "lines",
         "type": "scatter3d",
         "x": [
          0.14448585718302293,
          0.20049981714077705,
          null
         ],
         "y": [
          -0.0724728161365025,
          0.09296284826576588,
          null
         ],
         "z": [
          0.08521470911714414,
          0.02762900578252081,
          null
         ]
        },
        {
         "hoverinfo": "none",
         "line": {
          "color": "white",
          "width": 1
         },
         "mode": "lines",
         "type": "scatter3d",
         "x": [
          0.14448585718302293,
          0.19011359226042795,
          null
         ],
         "y": [
          -0.0724728161365025,
          -0.03157750363351596,
          null
         ],
         "z": [
          0.08521470911714414,
          -0.02876449690571877,
          null
         ]
        },
        {
         "hoverinfo": "none",
         "line": {
          "color": "white",
          "width": 1
         },
         "mode": "lines",
         "type": "scatter3d",
         "x": [
          0.14448585718302293,
          0.1396991382998311,
          null
         ],
         "y": [
          -0.0724728161365025,
          0.13211039749676276,
          null
         ],
         "z": [
          0.08521470911714414,
          0.036667504346245154,
          null
         ]
        },
        {
         "hoverinfo": "none",
         "line": {
          "color": "white",
          "width": 1
         },
         "mode": "lines",
         "type": "scatter3d",
         "x": [
          0.14448585718302293,
          0.05481943499907112,
          null
         ],
         "y": [
          -0.0724728161365025,
          -0.061170050688860673,
          null
         ],
         "z": [
          0.08521470911714414,
          -0.0148324707403163,
          null
         ]
        },
        {
         "hoverinfo": "none",
         "line": {
          "color": "white",
          "width": 1
         },
         "mode": "lines",
         "type": "scatter3d",
         "x": [
          0.20049981714077705,
          0.02898842012282331,
          null
         ],
         "y": [
          0.09296284826576588,
          0.0013474462159668336,
          null
         ],
         "z": [
          0.02762900578252081,
          0.1168506455324738,
          null
         ]
        },
        {
         "hoverinfo": "none",
         "line": {
          "color": "white",
          "width": 1
         },
         "mode": "lines",
         "type": "scatter3d",
         "x": [
          0.20049981714077705,
          -0.058433738424554044,
          null
         ],
         "y": [
          0.09296284826576588,
          -0.01179025137682218,
          null
         ],
         "z": [
          0.02762900578252081,
          -0.021510363207252674,
          null
         ]
        },
        {
         "hoverinfo": "none",
         "line": {
          "color": "white",
          "width": 1
         },
         "mode": "lines",
         "type": "scatter3d",
         "x": [
          0.20049981714077705,
          0.07139446778532593,
          null
         ],
         "y": [
          0.09296284826576588,
          0.12838531173079115,
          null
         ],
         "z": [
          0.02762900578252081,
          0.01606052036642238,
          null
         ]
        },
        {
         "hoverinfo": "none",
         "line": {
          "color": "white",
          "width": 1
         },
         "mode": "lines",
         "type": "scatter3d",
         "x": [
          0.20049981714077705,
          0.2040653545386135,
          null
         ],
         "y": [
          0.09296284826576588,
          0.03867151303375133,
          null
         ],
         "z": [
          0.02762900578252081,
          -0.015719654999540707,
          null
         ]
        },
        {
         "hoverinfo": "none",
         "line": {
          "color": "white",
          "width": 1
         },
         "mode": "lines",
         "type": "scatter3d",
         "x": [
          0.20049981714077705,
          0.08698956797436821,
          null
         ],
         "y": [
          0.09296284826576588,
          -0.03818543608748077,
          null
         ],
         "z": [
          0.02762900578252081,
          0.12656041357925446,
          null
         ]
        },
        {
         "hoverinfo": "none",
         "line": {
          "color": "white",
          "width": 1
         },
         "mode": "lines",
         "type": "scatter3d",
         "x": [
          0.20049981714077705,
          0.05111763959501187,
          null
         ],
         "y": [
          0.09296284826576588,
          0.061827624122324565,
          null
         ],
         "z": [
          0.02762900578252081,
          0.1073852653359946,
          null
         ]
        },
        {
         "hoverinfo": "none",
         "line": {
          "color": "white",
          "width": 1
         },
         "mode": "lines",
         "type": "scatter3d",
         "x": [
          0.20049981714077705,
          0.08171157809820943,
          null
         ],
         "y": [
          0.09296284826576588,
          0.09062485247644866,
          null
         ],
         "z": [
          0.02762900578252081,
          -0.04819826574401871,
          null
         ]
        },
        {
         "hoverinfo": "none",
         "line": {
          "color": "white",
          "width": 1
         },
         "mode": "lines",
         "type": "scatter3d",
         "x": [
          0.20049981714077705,
          0.19011359226042795,
          null
         ],
         "y": [
          0.09296284826576588,
          -0.03157750363351596,
          null
         ],
         "z": [
          0.02762900578252081,
          -0.02876449690571877,
          null
         ]
        },
        {
         "hoverinfo": "none",
         "line": {
          "color": "white",
          "width": 1
         },
         "mode": "lines",
         "type": "scatter3d",
         "x": [
          0.20049981714077705,
          0.1396991382998311,
          null
         ],
         "y": [
          0.09296284826576588,
          0.13211039749676276,
          null
         ],
         "z": [
          0.02762900578252081,
          0.036667504346245154,
          null
         ]
        },
        {
         "hoverinfo": "none",
         "line": {
          "color": "white",
          "width": 1
         },
         "mode": "lines",
         "type": "scatter3d",
         "x": [
          0.20049981714077705,
          0.05481943499907112,
          null
         ],
         "y": [
          0.09296284826576588,
          -0.061170050688860673,
          null
         ],
         "z": [
          0.02762900578252081,
          -0.0148324707403163,
          null
         ]
        },
        {
         "hoverinfo": "none",
         "line": {
          "color": "white",
          "width": 1
         },
         "mode": "lines",
         "type": "scatter3d",
         "x": [
          0.02898842012282331,
          0.19011359226042795,
          null
         ],
         "y": [
          0.0013474462159668336,
          -0.03157750363351596,
          null
         ],
         "z": [
          0.1168506455324738,
          -0.02876449690571877,
          null
         ]
        },
        {
         "hoverinfo": "none",
         "line": {
          "color": "white",
          "width": 1
         },
         "mode": "lines",
         "type": "scatter3d",
         "x": [
          0.02898842012282331,
          -0.058433738424554044,
          null
         ],
         "y": [
          0.0013474462159668336,
          -0.01179025137682218,
          null
         ],
         "z": [
          0.1168506455324738,
          -0.021510363207252674,
          null
         ]
        },
        {
         "hoverinfo": "none",
         "line": {
          "color": "white",
          "width": 1
         },
         "mode": "lines",
         "type": "scatter3d",
         "x": [
          0.02898842012282331,
          0.08171157809820943,
          null
         ],
         "y": [
          0.0013474462159668336,
          0.09062485247644866,
          null
         ],
         "z": [
          0.1168506455324738,
          -0.04819826574401871,
          null
         ]
        },
        {
         "hoverinfo": "none",
         "line": {
          "color": "white",
          "width": 1
         },
         "mode": "lines",
         "type": "scatter3d",
         "x": [
          0.02898842012282331,
          0.05111763959501187,
          null
         ],
         "y": [
          0.0013474462159668336,
          0.061827624122324565,
          null
         ],
         "z": [
          0.1168506455324738,
          0.1073852653359946,
          null
         ]
        },
        {
         "hoverinfo": "none",
         "line": {
          "color": "white",
          "width": 1
         },
         "mode": "lines",
         "type": "scatter3d",
         "x": [
          0.02898842012282331,
          0.1396991382998311,
          null
         ],
         "y": [
          0.0013474462159668336,
          0.13211039749676276,
          null
         ],
         "z": [
          0.1168506455324738,
          0.036667504346245154,
          null
         ]
        },
        {
         "hoverinfo": "none",
         "line": {
          "color": "white",
          "width": 1
         },
         "mode": "lines",
         "type": "scatter3d",
         "x": [
          0.02898842012282331,
          0.08698956797436821,
          null
         ],
         "y": [
          0.0013474462159668336,
          -0.03818543608748077,
          null
         ],
         "z": [
          0.1168506455324738,
          0.12656041357925446,
          null
         ]
        },
        {
         "hoverinfo": "none",
         "line": {
          "color": "white",
          "width": 1
         },
         "mode": "lines",
         "type": "scatter3d",
         "x": [
          0.02898842012282331,
          0.07139446778532593,
          null
         ],
         "y": [
          0.0013474462159668336,
          0.12838531173079115,
          null
         ],
         "z": [
          0.1168506455324738,
          0.01606052036642238,
          null
         ]
        },
        {
         "hoverinfo": "none",
         "line": {
          "color": "white",
          "width": 1
         },
         "mode": "lines",
         "type": "scatter3d",
         "x": [
          0.02898842012282331,
          0.2040653545386135,
          null
         ],
         "y": [
          0.0013474462159668336,
          0.03867151303375133,
          null
         ],
         "z": [
          0.1168506455324738,
          -0.015719654999540707,
          null
         ]
        },
        {
         "hoverinfo": "none",
         "line": {
          "color": "white",
          "width": 1
         },
         "mode": "lines",
         "type": "scatter3d",
         "x": [
          0.02898842012282331,
          0.05481943499907112,
          null
         ],
         "y": [
          0.0013474462159668336,
          -0.061170050688860673,
          null
         ],
         "z": [
          0.1168506455324738,
          -0.0148324707403163,
          null
         ]
        },
        {
         "hoverinfo": "none",
         "line": {
          "color": "white",
          "width": 1
         },
         "mode": "lines",
         "type": "scatter3d",
         "x": [
          -0.4771484822888056,
          -0.058433738424554044,
          null
         ],
         "y": [
          -0.09159752374745991,
          -0.01179025137682218,
          null
         ],
         "z": [
          -0.1748618697926978,
          -0.021510363207252674,
          null
         ]
        },
        {
         "hoverinfo": "none",
         "line": {
          "color": "white",
          "width": 1
         },
         "mode": "lines",
         "type": "scatter3d",
         "x": [
          0.19011359226042795,
          -0.058433738424554044,
          null
         ],
         "y": [
          -0.03157750363351596,
          -0.01179025137682218,
          null
         ],
         "z": [
          -0.02876449690571877,
          -0.021510363207252674,
          null
         ]
        },
        {
         "hoverinfo": "none",
         "line": {
          "color": "white",
          "width": 1
         },
         "mode": "lines",
         "type": "scatter3d",
         "x": [
          0.19011359226042795,
          0.07139446778532593,
          null
         ],
         "y": [
          -0.03157750363351596,
          0.12838531173079115,
          null
         ],
         "z": [
          -0.02876449690571877,
          0.01606052036642238,
          null
         ]
        },
        {
         "hoverinfo": "none",
         "line": {
          "color": "white",
          "width": 1
         },
         "mode": "lines",
         "type": "scatter3d",
         "x": [
          0.19011359226042795,
          0.2040653545386135,
          null
         ],
         "y": [
          -0.03157750363351596,
          0.03867151303375133,
          null
         ],
         "z": [
          -0.02876449690571877,
          -0.015719654999540707,
          null
         ]
        },
        {
         "hoverinfo": "none",
         "line": {
          "color": "white",
          "width": 1
         },
         "mode": "lines",
         "type": "scatter3d",
         "x": [
          0.19011359226042795,
          0.08698956797436821,
          null
         ],
         "y": [
          -0.03157750363351596,
          -0.03818543608748077,
          null
         ],
         "z": [
          -0.02876449690571877,
          0.12656041357925446,
          null
         ]
        },
        {
         "hoverinfo": "none",
         "line": {
          "color": "white",
          "width": 1
         },
         "mode": "lines",
         "type": "scatter3d",
         "x": [
          0.19011359226042795,
          0.05111763959501187,
          null
         ],
         "y": [
          -0.03157750363351596,
          0.061827624122324565,
          null
         ],
         "z": [
          -0.02876449690571877,
          0.1073852653359946,
          null
         ]
        },
        {
         "hoverinfo": "none",
         "line": {
          "color": "white",
          "width": 1
         },
         "mode": "lines",
         "type": "scatter3d",
         "x": [
          0.19011359226042795,
          0.08171157809820943,
          null
         ],
         "y": [
          -0.03157750363351596,
          0.09062485247644866,
          null
         ],
         "z": [
          -0.02876449690571877,
          -0.04819826574401871,
          null
         ]
        },
        {
         "hoverinfo": "none",
         "line": {
          "color": "white",
          "width": 1
         },
         "mode": "lines",
         "type": "scatter3d",
         "x": [
          0.19011359226042795,
          0.05481943499907112,
          null
         ],
         "y": [
          -0.03157750363351596,
          -0.061170050688860673,
          null
         ],
         "z": [
          -0.02876449690571877,
          -0.0148324707403163,
          null
         ]
        },
        {
         "hoverinfo": "none",
         "line": {
          "color": "white",
          "width": 1
         },
         "mode": "lines",
         "type": "scatter3d",
         "x": [
          0.19011359226042795,
          0.1396991382998311,
          null
         ],
         "y": [
          -0.03157750363351596,
          0.13211039749676276,
          null
         ],
         "z": [
          -0.02876449690571877,
          0.036667504346245154,
          null
         ]
        },
        {
         "hoverinfo": "none",
         "line": {
          "color": "white",
          "width": 1
         },
         "mode": "lines",
         "type": "scatter3d",
         "x": [
          -0.058433738424554044,
          0.2040653545386135,
          null
         ],
         "y": [
          -0.01179025137682218,
          0.03867151303375133,
          null
         ],
         "z": [
          -0.021510363207252674,
          -0.015719654999540707,
          null
         ]
        },
        {
         "hoverinfo": "none",
         "line": {
          "color": "white",
          "width": 1
         },
         "mode": "lines",
         "type": "scatter3d",
         "x": [
          -0.058433738424554044,
          0.08171157809820943,
          null
         ],
         "y": [
          -0.01179025137682218,
          0.09062485247644866,
          null
         ],
         "z": [
          -0.021510363207252674,
          -0.04819826574401871,
          null
         ]
        },
        {
         "hoverinfo": "none",
         "line": {
          "color": "white",
          "width": 1
         },
         "mode": "lines",
         "type": "scatter3d",
         "x": [
          -0.058433738424554044,
          0.05111763959501187,
          null
         ],
         "y": [
          -0.01179025137682218,
          0.061827624122324565,
          null
         ],
         "z": [
          -0.021510363207252674,
          0.1073852653359946,
          null
         ]
        },
        {
         "hoverinfo": "none",
         "line": {
          "color": "white",
          "width": 1
         },
         "mode": "lines",
         "type": "scatter3d",
         "x": [
          -0.058433738424554044,
          0.1396991382998311,
          null
         ],
         "y": [
          -0.01179025137682218,
          0.13211039749676276,
          null
         ],
         "z": [
          -0.021510363207252674,
          0.036667504346245154,
          null
         ]
        },
        {
         "hoverinfo": "none",
         "line": {
          "color": "white",
          "width": 1
         },
         "mode": "lines",
         "type": "scatter3d",
         "x": [
          -0.058433738424554044,
          0.08698956797436821,
          null
         ],
         "y": [
          -0.01179025137682218,
          -0.03818543608748077,
          null
         ],
         "z": [
          -0.021510363207252674,
          0.12656041357925446,
          null
         ]
        },
        {
         "hoverinfo": "none",
         "line": {
          "color": "white",
          "width": 1
         },
         "mode": "lines",
         "type": "scatter3d",
         "x": [
          -0.058433738424554044,
          0.07139446778532593,
          null
         ],
         "y": [
          -0.01179025137682218,
          0.12838531173079115,
          null
         ],
         "z": [
          -0.021510363207252674,
          0.01606052036642238,
          null
         ]
        },
        {
         "hoverinfo": "none",
         "line": {
          "color": "white",
          "width": 1
         },
         "mode": "lines",
         "type": "scatter3d",
         "x": [
          -0.058433738424554044,
          0.05481943499907112,
          null
         ],
         "y": [
          -0.01179025137682218,
          -0.061170050688860673,
          null
         ],
         "z": [
          -0.021510363207252674,
          -0.0148324707403163,
          null
         ]
        },
        {
         "hoverinfo": "none",
         "line": {
          "color": "white",
          "width": 1
         },
         "mode": "lines",
         "type": "scatter3d",
         "x": [
          0.08171157809820943,
          0.07139446778532593,
          null
         ],
         "y": [
          0.09062485247644866,
          0.12838531173079115,
          null
         ],
         "z": [
          -0.04819826574401871,
          0.01606052036642238,
          null
         ]
        },
        {
         "hoverinfo": "none",
         "line": {
          "color": "white",
          "width": 1
         },
         "mode": "lines",
         "type": "scatter3d",
         "x": [
          0.08171157809820943,
          0.2040653545386135,
          null
         ],
         "y": [
          0.09062485247644866,
          0.03867151303375133,
          null
         ],
         "z": [
          -0.04819826574401871,
          -0.015719654999540707,
          null
         ]
        },
        {
         "hoverinfo": "none",
         "line": {
          "color": "white",
          "width": 1
         },
         "mode": "lines",
         "type": "scatter3d",
         "x": [
          0.08171157809820943,
          0.08698956797436821,
          null
         ],
         "y": [
          0.09062485247644866,
          -0.03818543608748077,
          null
         ],
         "z": [
          -0.04819826574401871,
          0.12656041357925446,
          null
         ]
        },
        {
         "hoverinfo": "none",
         "line": {
          "color": "white",
          "width": 1
         },
         "mode": "lines",
         "type": "scatter3d",
         "x": [
          0.08171157809820943,
          0.05111763959501187,
          null
         ],
         "y": [
          0.09062485247644866,
          0.061827624122324565,
          null
         ],
         "z": [
          -0.04819826574401871,
          0.1073852653359946,
          null
         ]
        },
        {
         "hoverinfo": "none",
         "line": {
          "color": "white",
          "width": 1
         },
         "mode": "lines",
         "type": "scatter3d",
         "x": [
          0.08171157809820943,
          0.1396991382998311,
          null
         ],
         "y": [
          0.09062485247644866,
          0.13211039749676276,
          null
         ],
         "z": [
          -0.04819826574401871,
          0.036667504346245154,
          null
         ]
        },
        {
         "hoverinfo": "none",
         "line": {
          "color": "white",
          "width": 1
         },
         "mode": "lines",
         "type": "scatter3d",
         "x": [
          0.08171157809820943,
          0.05481943499907112,
          null
         ],
         "y": [
          0.09062485247644866,
          -0.061170050688860673,
          null
         ],
         "z": [
          -0.04819826574401871,
          -0.0148324707403163,
          null
         ]
        },
        {
         "hoverinfo": "none",
         "line": {
          "color": "white",
          "width": 1
         },
         "mode": "lines",
         "type": "scatter3d",
         "x": [
          0.05111763959501187,
          0.07139446778532593,
          null
         ],
         "y": [
          0.061827624122324565,
          0.12838531173079115,
          null
         ],
         "z": [
          0.1073852653359946,
          0.01606052036642238,
          null
         ]
        },
        {
         "hoverinfo": "none",
         "line": {
          "color": "white",
          "width": 1
         },
         "mode": "lines",
         "type": "scatter3d",
         "x": [
          0.05111763959501187,
          0.2040653545386135,
          null
         ],
         "y": [
          0.061827624122324565,
          0.03867151303375133,
          null
         ],
         "z": [
          0.1073852653359946,
          -0.015719654999540707,
          null
         ]
        },
        {
         "hoverinfo": "none",
         "line": {
          "color": "white",
          "width": 1
         },
         "mode": "lines",
         "type": "scatter3d",
         "x": [
          0.05111763959501187,
          0.08698956797436821,
          null
         ],
         "y": [
          0.061827624122324565,
          -0.03818543608748077,
          null
         ],
         "z": [
          0.1073852653359946,
          0.12656041357925446,
          null
         ]
        },
        {
         "hoverinfo": "none",
         "line": {
          "color": "white",
          "width": 1
         },
         "mode": "lines",
         "type": "scatter3d",
         "x": [
          0.05111763959501187,
          0.1396991382998311,
          null
         ],
         "y": [
          0.061827624122324565,
          0.13211039749676276,
          null
         ],
         "z": [
          0.1073852653359946,
          0.036667504346245154,
          null
         ]
        },
        {
         "hoverinfo": "none",
         "line": {
          "color": "white",
          "width": 1
         },
         "mode": "lines",
         "type": "scatter3d",
         "x": [
          0.05111763959501187,
          0.05481943499907112,
          null
         ],
         "y": [
          0.061827624122324565,
          -0.061170050688860673,
          null
         ],
         "z": [
          0.1073852653359946,
          -0.0148324707403163,
          null
         ]
        },
        {
         "hoverinfo": "none",
         "line": {
          "color": "white",
          "width": 1
         },
         "mode": "lines",
         "type": "scatter3d",
         "x": [
          0.1396991382998311,
          0.07139446778532593,
          null
         ],
         "y": [
          0.13211039749676276,
          0.12838531173079115,
          null
         ],
         "z": [
          0.036667504346245154,
          0.01606052036642238,
          null
         ]
        },
        {
         "hoverinfo": "none",
         "line": {
          "color": "white",
          "width": 1
         },
         "mode": "lines",
         "type": "scatter3d",
         "x": [
          0.1396991382998311,
          0.2040653545386135,
          null
         ],
         "y": [
          0.13211039749676276,
          0.03867151303375133,
          null
         ],
         "z": [
          0.036667504346245154,
          -0.015719654999540707,
          null
         ]
        },
        {
         "hoverinfo": "none",
         "line": {
          "color": "white",
          "width": 1
         },
         "mode": "lines",
         "type": "scatter3d",
         "x": [
          0.1396991382998311,
          0.08698956797436821,
          null
         ],
         "y": [
          0.13211039749676276,
          -0.03818543608748077,
          null
         ],
         "z": [
          0.036667504346245154,
          0.12656041357925446,
          null
         ]
        },
        {
         "hoverinfo": "none",
         "line": {
          "color": "white",
          "width": 1
         },
         "mode": "lines",
         "type": "scatter3d",
         "x": [
          0.1396991382998311,
          0.05481943499907112,
          null
         ],
         "y": [
          0.13211039749676276,
          -0.061170050688860673,
          null
         ],
         "z": [
          0.036667504346245154,
          -0.0148324707403163,
          null
         ]
        },
        {
         "hoverinfo": "none",
         "line": {
          "color": "white",
          "width": 1
         },
         "mode": "lines",
         "type": "scatter3d",
         "x": [
          0.08698956797436821,
          0.07139446778532593,
          null
         ],
         "y": [
          -0.03818543608748077,
          0.12838531173079115,
          null
         ],
         "z": [
          0.12656041357925446,
          0.01606052036642238,
          null
         ]
        },
        {
         "hoverinfo": "none",
         "line": {
          "color": "white",
          "width": 1
         },
         "mode": "lines",
         "type": "scatter3d",
         "x": [
          0.08698956797436821,
          0.2040653545386135,
          null
         ],
         "y": [
          -0.03818543608748077,
          0.03867151303375133,
          null
         ],
         "z": [
          0.12656041357925446,
          -0.015719654999540707,
          null
         ]
        },
        {
         "hoverinfo": "none",
         "line": {
          "color": "white",
          "width": 1
         },
         "mode": "lines",
         "type": "scatter3d",
         "x": [
          0.08698956797436821,
          0.05481943499907112,
          null
         ],
         "y": [
          -0.03818543608748077,
          -0.061170050688860673,
          null
         ],
         "z": [
          0.12656041357925446,
          -0.0148324707403163,
          null
         ]
        },
        {
         "hoverinfo": "none",
         "line": {
          "color": "white",
          "width": 1
         },
         "mode": "lines",
         "type": "scatter3d",
         "x": [
          -1,
          -0.9805995752100826,
          null
         ],
         "y": [
          -0.25786235501046123,
          -0.18453633941306008,
          null
         ],
         "z": [
          -0.26206402322297556,
          -0.37734384494269435,
          null
         ]
        },
        {
         "hoverinfo": "none",
         "line": {
          "color": "white",
          "width": 1
         },
         "mode": "lines",
         "type": "scatter3d",
         "x": [
          0.07139446778532593,
          0.2040653545386135,
          null
         ],
         "y": [
          0.12838531173079115,
          0.03867151303375133,
          null
         ],
         "z": [
          0.01606052036642238,
          -0.015719654999540707,
          null
         ]
        },
        {
         "hoverinfo": "none",
         "line": {
          "color": "white",
          "width": 1
         },
         "mode": "lines",
         "type": "scatter3d",
         "x": [
          0.07139446778532593,
          0.05481943499907112,
          null
         ],
         "y": [
          0.12838531173079115,
          -0.061170050688860673,
          null
         ],
         "z": [
          0.01606052036642238,
          -0.0148324707403163,
          null
         ]
        },
        {
         "hoverinfo": "none",
         "line": {
          "color": "white",
          "width": 1
         },
         "mode": "lines",
         "type": "scatter3d",
         "x": [
          0.2040653545386135,
          0.05481943499907112,
          null
         ],
         "y": [
          0.03867151303375133,
          -0.061170050688860673,
          null
         ],
         "z": [
          -0.015719654999540707,
          -0.0148324707403163,
          null
         ]
        },
        {
         "hoverinfo": "text",
         "marker": {
          "color": [
           2,
           2,
           2,
           2,
           2,
           2,
           2,
           0,
           2,
           2,
           2,
           2,
           2,
           2,
           2,
           2,
           2,
           2,
           2,
           2,
           1,
           0,
           2,
           2,
           2,
           2,
           2,
           2,
           2,
           2,
           1,
           2,
           3
          ],
          "colorscale": "Portland",
          "line": {
           "width": 2
          },
          "opacity": 1,
          "reversescale": true,
          "showscale": false,
          "size": [
           32.3134328358209,
           32.3134328358209,
           32.3134328358209,
           32.3134328358209,
           33.125,
           32.846153846153854,
           32.3134328358209,
           26.2621359223301,
           32.3134328358209,
           32.3134328358209,
           32.3134328358209,
           32.3134328358209,
           32.3134328358209,
           32.3134328358209,
           32.3134328358209,
           32.3134328358209,
           32.3134328358209,
           32.3134328358209,
           32.3134328358209,
           32.3134328358209,
           35,
           26.04761904761905,
           32.3134328358209,
           33.41269841269841,
           32.3134328358209,
           32.3134328358209,
           32.3134328358209,
           32.3134328358209,
           22.891156462585034,
           32.3134328358209,
           32.3134328358209,
           32.3134328358209,
           22.891156462585034
          ]
         },
         "mode": "markers",
         "text": [
          "Peter  Mendoza Witness",
          "Jackie M Munez Witness",
          "James  Tyrone Witness",
          "Chris L Patterson Witness",
          "Laura C Alvarez Witness",
          "Olivia L Lynch Witness",
          "Brenda  Ricardo Witness",
          "Elizabeth T Baker Suspect",
          "Maria  Marques Witness",
          "Amber Lynn Harris Witness",
          "Kenneth K Shores Witness",
          "Timothy  West Witness",
          "Betriz A Valera-Galeana Witness",
          "Thomas G Evenson Witness",
          "Young  Chon Witness",
          "Taryn J Howard Witness",
          "Tom  Williams Witness",
          "Charles A Grimm Witness",
          "Debbie A Krout Witness",
          "Shawn Michael Peters Witness",
          "Robert David Hanson Victim",
          "Herman Jd Rene Levant Suspect",
          "Mary M Gomiez Witness",
          "Deborah A Jefferson Witness",
          "Ricardo Perez Martinez-Perez Witness",
          "Maria G Martinez Witness",
          "Oswald  Reyes Witness",
          "Paul  Smith Witness",
          "Chris T Haycock Witness",
          "Juan  Munez Witness",
          "Mark Joseph Umlauf Victim",
          "Mario  Garcias Witness",
          "Talia P Thomas Suspect"
         ],
         "type": "scatter3d",
         "x": [
          0.010368251129315977,
          0.19247254099181169,
          0.12169561560229054,
          0.10041847163453094,
          0.1491090764705074,
          0.10481593019714143,
          0.1495837050966847,
          -0.6503147056557225,
          0.06553395185952163,
          0.17301966995753737,
          0.0676826826973529,
          0.12657890072753847,
          0.06694941049076106,
          0.1733446336774246,
          0.01320629538927007,
          0.15571362449872603,
          0.22161962706438096,
          0.020499246096886727,
          0.14448585718302293,
          0.20049981714077705,
          0.02898842012282331,
          -0.4771484822888056,
          0.19011359226042795,
          -0.058433738424554044,
          0.08171157809820943,
          0.05111763959501187,
          0.1396991382998311,
          0.08698956797436821,
          -1,
          0.07139446778532593,
          0.2040653545386135,
          0.05481943499907112,
          -0.9805995752100826
         ],
         "y": [
          -0.01758933581398996,
          -0.047564167433613816,
          -0.04187796712183215,
          0.11743237110551957,
          0.10091051911798132,
          0.04710618729610153,
          0.031659920785054606,
          -0.1438887532973297,
          -0.07765335082962689,
          0.03343395264610534,
          0.020027382280947637,
          -0.0840705418669723,
          0.010850575204346926,
          0.09270320526187634,
          0.06653968755803646,
          -0.01373139735063719,
          0.012632380227110142,
          0.09634161498327377,
          -0.0724728161365025,
          0.09296284826576588,
          0.0013474462159668336,
          -0.09159752374745991,
          -0.03157750363351596,
          -0.01179025137682218,
          0.09062485247644866,
          0.061827624122324565,
          0.13211039749676276,
          -0.03818543608748077,
          -0.25786235501046123,
          0.12838531173079115,
          0.03867151303375133,
          -0.061170050688860673,
          -0.18453633941306008
         ],
         "z": [
          0.05105041134911236,
          0.041370235927608634,
          -0.05425244435338347,
          0.099332588018368,
          -0.03670661615221019,
          0.14805961750399171,
          -0.07161070361086974,
          -0.2125913945161545,
          0.06509022858251749,
          0.09502498228342302,
          -0.07349607635658016,
          0.011079308003001428,
          -0.003919914442102045,
          0.10995807748237776,
          -0.0023844290418191267,
          0.1333715053169754,
          0.06240550933931012,
          0.06514604016159398,
          0.08521470911714414,
          0.02762900578252081,
          0.1168506455324738,
          -0.1748618697926978,
          -0.02876449690571877,
          -0.021510363207252674,
          -0.04819826574401871,
          0.1073852653359946,
          0.036667504346245154,
          0.12656041357925446,
          -0.26206402322297556,
          0.01606052036642238,
          -0.015719654999540707,
          -0.0148324707403163,
          -0.37734384494269435
         ]
        }
       ],
       "layout": {
        "hovermode": "closest",
        "margin": {
         "b": 20,
         "l": 5,
         "r": 5,
         "t": 40
        },
        "scene": {
         "xaxis": {
          "showgrid": false,
          "showticklabels": false,
          "visible": false,
          "zeroline": false
         },
         "yaxis": {
          "showgrid": false,
          "showticklabels": false,
          "visible": false,
          "zeroline": false
         },
         "zaxis": {
          "showgrid": false,
          "visible": false
         }
        },
        "showlegend": false,
        "title": "<br>Criminal network graph made with Python",
        "titlefont": {
         "size": 16
        }
       }
      },
      "text/html": [
       "<div id=\"9669cf63-ee51-488d-aee3-b60d689ccb36\" style=\"height: 525px; width: 100%;\" class=\"plotly-graph-div\"></div><script type=\"text/javascript\">require([\"plotly\"], function(Plotly) { window.PLOTLYENV=window.PLOTLYENV || {};window.PLOTLYENV.BASE_URL=\"https://plot.ly\";Plotly.newPlot(\"9669cf63-ee51-488d-aee3-b60d689ccb36\", [{\"type\": \"scatter3d\", \"x\": [0.010368251129315977, 0.1491090764705074, null], \"y\": [-0.01758933581398996, 0.10091051911798132, null], \"z\": [0.05105041134911236, -0.03670661615221019, null], \"line\": {\"width\": 1, \"color\": \"white\"}, \"hoverinfo\": \"none\", \"mode\": \"lines\"}, {\"type\": \"scatter3d\", \"x\": [0.010368251129315977, 0.02898842012282331, null], \"y\": [-0.01758933581398996, 0.0013474462159668336, null], \"z\": [0.05105041134911236, 0.1168506455324738, null], \"line\": {\"width\": 1, \"color\": \"white\"}, \"hoverinfo\": \"none\", \"mode\": \"lines\"}, {\"type\": \"scatter3d\", \"x\": [0.010368251129315977, 0.10041847163453094, null], \"y\": [-0.01758933581398996, 0.11743237110551957, null], \"z\": [0.05105041134911236, 0.099332588018368, null], \"line\": {\"width\": 1, \"color\": \"white\"}, \"hoverinfo\": \"none\", \"mode\": \"lines\"}, {\"type\": \"scatter3d\", \"x\": [0.010368251129315977, -0.058433738424554044, null], \"y\": [-0.01758933581398996, -0.01179025137682218, null], \"z\": [0.05105041134911236, -0.021510363207252674, null], \"line\": {\"width\": 1, \"color\": \"white\"}, \"hoverinfo\": \"none\", \"mode\": \"lines\"}, {\"type\": \"scatter3d\", \"x\": [0.010368251129315977, 0.10481593019714143, null], \"y\": [-0.01758933581398996, 0.04710618729610153, null], \"z\": [0.05105041134911236, 0.14805961750399171, null], \"line\": {\"width\": 1, \"color\": \"white\"}, \"hoverinfo\": \"none\", \"mode\": \"lines\"}, {\"type\": \"scatter3d\", \"x\": [0.010368251129315977, 0.07139446778532593, null], \"y\": [-0.01758933581398996, 0.12838531173079115, null], \"z\": [0.05105041134911236, 0.01606052036642238, null], \"line\": {\"width\": 1, \"color\": \"white\"}, \"hoverinfo\": \"none\", \"mode\": \"lines\"}, {\"type\": \"scatter3d\", \"x\": [0.010368251129315977, 0.2040653545386135, null], \"y\": [-0.01758933581398996, 0.03867151303375133, null], \"z\": [0.05105041134911236, -0.015719654999540707, null], \"line\": {\"width\": 1, \"color\": \"white\"}, \"hoverinfo\": \"none\", \"mode\": \"lines\"}, {\"type\": \"scatter3d\", \"x\": [0.010368251129315977, 0.08698956797436821, null], \"y\": [-0.01758933581398996, -0.03818543608748077, null], \"z\": [0.05105041134911236, 0.12656041357925446, null], \"line\": {\"width\": 1, \"color\": \"white\"}, \"hoverinfo\": \"none\", \"mode\": \"lines\"}, {\"type\": \"scatter3d\", \"x\": [0.010368251129315977, 0.17301966995753737, null], \"y\": [-0.01758933581398996, 0.03343395264610534, null], \"z\": [0.05105041134911236, 0.09502498228342302, null], \"line\": {\"width\": 1, \"color\": \"white\"}, \"hoverinfo\": \"none\", \"mode\": \"lines\"}, {\"type\": \"scatter3d\", \"x\": [0.010368251129315977, 0.19247254099181169, null], \"y\": [-0.01758933581398996, -0.047564167433613816, null], \"z\": [0.05105041134911236, 0.041370235927608634, null], \"line\": {\"width\": 1, \"color\": \"white\"}, \"hoverinfo\": \"none\", \"mode\": \"lines\"}, {\"type\": \"scatter3d\", \"x\": [0.010368251129315977, 0.05111763959501187, null], \"y\": [-0.01758933581398996, 0.061827624122324565, null], \"z\": [0.05105041134911236, 0.1073852653359946, null], \"line\": {\"width\": 1, \"color\": \"white\"}, \"hoverinfo\": \"none\", \"mode\": \"lines\"}, {\"type\": \"scatter3d\", \"x\": [0.010368251129315977, 0.08171157809820943, null], \"y\": [-0.01758933581398996, 0.09062485247644866, null], \"z\": [0.05105041134911236, -0.04819826574401871, null], \"line\": {\"width\": 1, \"color\": \"white\"}, \"hoverinfo\": \"none\", \"mode\": \"lines\"}, {\"type\": \"scatter3d\", \"x\": [0.010368251129315977, 0.20049981714077705, null], \"y\": [-0.01758933581398996, 0.09296284826576588, null], \"z\": [0.05105041134911236, 0.02762900578252081, null], \"line\": {\"width\": 1, \"color\": \"white\"}, \"hoverinfo\": \"none\", \"mode\": \"lines\"}, {\"type\": \"scatter3d\", \"x\": [0.010368251129315977, 0.22161962706438096, null], \"y\": [-0.01758933581398996, 0.012632380227110142, null], \"z\": [0.05105041134911236, 0.06240550933931012, null], \"line\": {\"width\": 1, \"color\": \"white\"}, \"hoverinfo\": \"none\", \"mode\": \"lines\"}, {\"type\": \"scatter3d\", \"x\": [0.010368251129315977, 0.12657890072753847, null], \"y\": [-0.01758933581398996, -0.0840705418669723, null], \"z\": [0.05105041134911236, 0.011079308003001428, null], \"line\": {\"width\": 1, \"color\": \"white\"}, \"hoverinfo\": \"none\", \"mode\": \"lines\"}, {\"type\": \"scatter3d\", \"x\": [0.010368251129315977, 0.12169561560229054, null], \"y\": [-0.01758933581398996, -0.04187796712183215, null], \"z\": [0.05105041134911236, -0.05425244435338347, null], \"line\": {\"width\": 1, \"color\": \"white\"}, \"hoverinfo\": \"none\", \"mode\": \"lines\"}, {\"type\": \"scatter3d\", \"x\": [0.010368251129315977, 0.1495837050966847, null], \"y\": [-0.01758933581398996, 0.031659920785054606, null], \"z\": [0.05105041134911236, -0.07161070361086974, null], \"line\": {\"width\": 1, \"color\": \"white\"}, \"hoverinfo\": \"none\", \"mode\": \"lines\"}, {\"type\": \"scatter3d\", \"x\": [0.010368251129315977, 0.06553395185952163, null], \"y\": [-0.01758933581398996, -0.07765335082962689, null], \"z\": [0.05105041134911236, 0.06509022858251749, null], \"line\": {\"width\": 1, \"color\": \"white\"}, \"hoverinfo\": \"none\", \"mode\": \"lines\"}, {\"type\": \"scatter3d\", \"x\": [0.010368251129315977, 0.0676826826973529, null], \"y\": [-0.01758933581398996, 0.020027382280947637, null], \"z\": [0.05105041134911236, -0.07349607635658016, null], \"line\": {\"width\": 1, \"color\": \"white\"}, \"hoverinfo\": \"none\", \"mode\": \"lines\"}, {\"type\": \"scatter3d\", \"x\": [0.010368251129315977, 0.1733446336774246, null], \"y\": [-0.01758933581398996, 0.09270320526187634, null], \"z\": [0.05105041134911236, 0.10995807748237776, null], \"line\": {\"width\": 1, \"color\": \"white\"}, \"hoverinfo\": \"none\", \"mode\": \"lines\"}, {\"type\": \"scatter3d\", \"x\": [0.010368251129315977, 0.01320629538927007, null], \"y\": [-0.01758933581398996, 0.06653968755803646, null], \"z\": [0.05105041134911236, -0.0023844290418191267, null], \"line\": {\"width\": 1, \"color\": \"white\"}, \"hoverinfo\": \"none\", \"mode\": \"lines\"}, {\"type\": \"scatter3d\", \"x\": [0.010368251129315977, 0.15571362449872603, null], \"y\": [-0.01758933581398996, -0.01373139735063719, null], \"z\": [0.05105041134911236, 0.1333715053169754, null], \"line\": {\"width\": 1, \"color\": \"white\"}, \"hoverinfo\": \"none\", \"mode\": \"lines\"}, {\"type\": \"scatter3d\", \"x\": [0.010368251129315977, 0.020499246096886727, null], \"y\": [-0.01758933581398996, 0.09634161498327377, null], \"z\": [0.05105041134911236, 0.06514604016159398, null], \"line\": {\"width\": 1, \"color\": \"white\"}, \"hoverinfo\": \"none\", \"mode\": \"lines\"}, {\"type\": \"scatter3d\", \"x\": [0.010368251129315977, 0.14448585718302293, null], \"y\": [-0.01758933581398996, -0.0724728161365025, null], \"z\": [0.05105041134911236, 0.08521470911714414, null], \"line\": {\"width\": 1, \"color\": \"white\"}, \"hoverinfo\": \"none\", \"mode\": \"lines\"}, {\"type\": \"scatter3d\", \"x\": [0.010368251129315977, 0.19011359226042795, null], \"y\": [-0.01758933581398996, -0.03157750363351596, null], \"z\": [0.05105041134911236, -0.02876449690571877, null], \"line\": {\"width\": 1, \"color\": \"white\"}, \"hoverinfo\": \"none\", \"mode\": \"lines\"}, {\"type\": \"scatter3d\", \"x\": [0.010368251129315977, 0.1396991382998311, null], \"y\": [-0.01758933581398996, 0.13211039749676276, null], \"z\": [0.05105041134911236, 0.036667504346245154, null], \"line\": {\"width\": 1, \"color\": \"white\"}, \"hoverinfo\": \"none\", \"mode\": \"lines\"}, {\"type\": \"scatter3d\", \"x\": [0.010368251129315977, 0.06694941049076106, null], \"y\": [-0.01758933581398996, 0.010850575204346926, null], \"z\": [0.05105041134911236, -0.003919914442102045, null], \"line\": {\"width\": 1, \"color\": \"white\"}, \"hoverinfo\": \"none\", \"mode\": \"lines\"}, {\"type\": \"scatter3d\", \"x\": [0.010368251129315977, 0.05481943499907112, null], \"y\": [-0.01758933581398996, -0.061170050688860673, null], \"z\": [0.05105041134911236, -0.0148324707403163, null], \"line\": {\"width\": 1, \"color\": \"white\"}, \"hoverinfo\": \"none\", \"mode\": \"lines\"}, {\"type\": \"scatter3d\", \"x\": [0.19247254099181169, 0.1491090764705074, null], \"y\": [-0.047564167433613816, 0.10091051911798132, null], \"z\": [0.041370235927608634, -0.03670661615221019, null], \"line\": {\"width\": 1, \"color\": \"white\"}, \"hoverinfo\": \"none\", \"mode\": \"lines\"}, {\"type\": \"scatter3d\", \"x\": [0.19247254099181169, 0.02898842012282331, null], \"y\": [-0.047564167433613816, 0.0013474462159668336, null], \"z\": [0.041370235927608634, 0.1168506455324738, null], \"line\": {\"width\": 1, \"color\": \"white\"}, \"hoverinfo\": \"none\", \"mode\": \"lines\"}, {\"type\": \"scatter3d\", \"x\": [0.19247254099181169, 0.10041847163453094, null], \"y\": [-0.047564167433613816, 0.11743237110551957, null], \"z\": [0.041370235927608634, 0.099332588018368, null], \"line\": {\"width\": 1, \"color\": \"white\"}, \"hoverinfo\": \"none\", \"mode\": \"lines\"}, {\"type\": \"scatter3d\", \"x\": [0.19247254099181169, -0.058433738424554044, null], \"y\": [-0.047564167433613816, -0.01179025137682218, null], \"z\": [0.041370235927608634, -0.021510363207252674, null], \"line\": {\"width\": 1, \"color\": \"white\"}, \"hoverinfo\": \"none\", \"mode\": \"lines\"}, {\"type\": \"scatter3d\", \"x\": [0.19247254099181169, 0.10481593019714143, null], \"y\": [-0.047564167433613816, 0.04710618729610153, null], \"z\": [0.041370235927608634, 0.14805961750399171, null], \"line\": {\"width\": 1, \"color\": \"white\"}, \"hoverinfo\": \"none\", \"mode\": \"lines\"}, {\"type\": \"scatter3d\", \"x\": [0.19247254099181169, 0.07139446778532593, null], \"y\": [-0.047564167433613816, 0.12838531173079115, null], \"z\": [0.041370235927608634, 0.01606052036642238, null], \"line\": {\"width\": 1, \"color\": \"white\"}, \"hoverinfo\": \"none\", \"mode\": \"lines\"}, {\"type\": \"scatter3d\", \"x\": [0.19247254099181169, 0.2040653545386135, null], \"y\": [-0.047564167433613816, 0.03867151303375133, null], \"z\": [0.041370235927608634, -0.015719654999540707, null], \"line\": {\"width\": 1, \"color\": \"white\"}, \"hoverinfo\": \"none\", \"mode\": \"lines\"}, {\"type\": \"scatter3d\", \"x\": [0.19247254099181169, 0.08698956797436821, null], \"y\": [-0.047564167433613816, -0.03818543608748077, null], \"z\": [0.041370235927608634, 0.12656041357925446, null], \"line\": {\"width\": 1, \"color\": \"white\"}, \"hoverinfo\": \"none\", \"mode\": \"lines\"}, {\"type\": \"scatter3d\", \"x\": [0.19247254099181169, 0.17301966995753737, null], \"y\": [-0.047564167433613816, 0.03343395264610534, null], \"z\": [0.041370235927608634, 0.09502498228342302, null], \"line\": {\"width\": 1, \"color\": \"white\"}, \"hoverinfo\": \"none\", \"mode\": \"lines\"}, {\"type\": \"scatter3d\", \"x\": [0.19247254099181169, 0.12169561560229054, null], \"y\": [-0.047564167433613816, -0.04187796712183215, null], \"z\": [0.041370235927608634, -0.05425244435338347, null], \"line\": {\"width\": 1, \"color\": \"white\"}, \"hoverinfo\": \"none\", \"mode\": \"lines\"}, {\"type\": \"scatter3d\", \"x\": [0.19247254099181169, 0.1495837050966847, null], \"y\": [-0.047564167433613816, 0.031659920785054606, null], \"z\": [0.041370235927608634, -0.07161070361086974, null], \"line\": {\"width\": 1, \"color\": \"white\"}, \"hoverinfo\": \"none\", \"mode\": \"lines\"}, {\"type\": \"scatter3d\", \"x\": [0.19247254099181169, 0.06553395185952163, null], \"y\": [-0.047564167433613816, -0.07765335082962689, null], \"z\": [0.041370235927608634, 0.06509022858251749, null], \"line\": {\"width\": 1, \"color\": \"white\"}, \"hoverinfo\": \"none\", \"mode\": \"lines\"}, {\"type\": \"scatter3d\", \"x\": [0.19247254099181169, 0.0676826826973529, null], \"y\": [-0.047564167433613816, 0.020027382280947637, null], \"z\": [0.041370235927608634, -0.07349607635658016, null], \"line\": {\"width\": 1, \"color\": \"white\"}, \"hoverinfo\": \"none\", \"mode\": \"lines\"}, {\"type\": \"scatter3d\", \"x\": [0.19247254099181169, 0.12657890072753847, null], \"y\": [-0.047564167433613816, -0.0840705418669723, null], \"z\": [0.041370235927608634, 0.011079308003001428, null], \"line\": {\"width\": 1, \"color\": \"white\"}, \"hoverinfo\": \"none\", \"mode\": \"lines\"}, {\"type\": \"scatter3d\", \"x\": [0.19247254099181169, 0.1733446336774246, null], \"y\": [-0.047564167433613816, 0.09270320526187634, null], \"z\": [0.041370235927608634, 0.10995807748237776, null], \"line\": {\"width\": 1, \"color\": \"white\"}, \"hoverinfo\": \"none\", \"mode\": \"lines\"}, {\"type\": \"scatter3d\", \"x\": [0.19247254099181169, 0.01320629538927007, null], \"y\": [-0.047564167433613816, 0.06653968755803646, null], \"z\": [0.041370235927608634, -0.0023844290418191267, null], \"line\": {\"width\": 1, \"color\": \"white\"}, \"hoverinfo\": \"none\", \"mode\": \"lines\"}, {\"type\": \"scatter3d\", \"x\": [0.19247254099181169, 0.15571362449872603, null], \"y\": [-0.047564167433613816, -0.01373139735063719, null], \"z\": [0.041370235927608634, 0.1333715053169754, null], \"line\": {\"width\": 1, \"color\": \"white\"}, \"hoverinfo\": \"none\", \"mode\": \"lines\"}, {\"type\": \"scatter3d\", \"x\": [0.19247254099181169, 0.22161962706438096, null], \"y\": [-0.047564167433613816, 0.012632380227110142, null], \"z\": [0.041370235927608634, 0.06240550933931012, null], \"line\": {\"width\": 1, \"color\": \"white\"}, \"hoverinfo\": \"none\", \"mode\": \"lines\"}, {\"type\": \"scatter3d\", \"x\": [0.19247254099181169, 0.020499246096886727, null], \"y\": [-0.047564167433613816, 0.09634161498327377, null], \"z\": [0.041370235927608634, 0.06514604016159398, null], \"line\": {\"width\": 1, \"color\": \"white\"}, \"hoverinfo\": \"none\", \"mode\": \"lines\"}, {\"type\": \"scatter3d\", \"x\": [0.19247254099181169, 0.14448585718302293, null], \"y\": [-0.047564167433613816, -0.0724728161365025, null], \"z\": [0.041370235927608634, 0.08521470911714414, null], \"line\": {\"width\": 1, \"color\": \"white\"}, \"hoverinfo\": \"none\", \"mode\": \"lines\"}, {\"type\": \"scatter3d\", \"x\": [0.19247254099181169, 0.20049981714077705, null], \"y\": [-0.047564167433613816, 0.09296284826576588, null], \"z\": [0.041370235927608634, 0.02762900578252081, null], \"line\": {\"width\": 1, \"color\": \"white\"}, \"hoverinfo\": \"none\", \"mode\": \"lines\"}, {\"type\": \"scatter3d\", \"x\": [0.19247254099181169, 0.19011359226042795, null], \"y\": [-0.047564167433613816, -0.03157750363351596, null], \"z\": [0.041370235927608634, -0.02876449690571877, null], \"line\": {\"width\": 1, \"color\": \"white\"}, \"hoverinfo\": \"none\", \"mode\": \"lines\"}, {\"type\": \"scatter3d\", \"x\": [0.19247254099181169, 0.08171157809820943, null], \"y\": [-0.047564167433613816, 0.09062485247644866, null], \"z\": [0.041370235927608634, -0.04819826574401871, null], \"line\": {\"width\": 1, \"color\": \"white\"}, \"hoverinfo\": \"none\", \"mode\": \"lines\"}, {\"type\": \"scatter3d\", \"x\": [0.19247254099181169, 0.05111763959501187, null], \"y\": [-0.047564167433613816, 0.061827624122324565, null], \"z\": [0.041370235927608634, 0.1073852653359946, null], \"line\": {\"width\": 1, \"color\": \"white\"}, \"hoverinfo\": \"none\", \"mode\": \"lines\"}, {\"type\": \"scatter3d\", \"x\": [0.19247254099181169, 0.1396991382998311, null], \"y\": [-0.047564167433613816, 0.13211039749676276, null], \"z\": [0.041370235927608634, 0.036667504346245154, null], \"line\": {\"width\": 1, \"color\": \"white\"}, \"hoverinfo\": \"none\", \"mode\": \"lines\"}, {\"type\": \"scatter3d\", \"x\": [0.19247254099181169, 0.06694941049076106, null], \"y\": [-0.047564167433613816, 0.010850575204346926, null], \"z\": [0.041370235927608634, -0.003919914442102045, null], \"line\": {\"width\": 1, \"color\": \"white\"}, \"hoverinfo\": \"none\", \"mode\": \"lines\"}, {\"type\": \"scatter3d\", \"x\": [0.19247254099181169, 0.05481943499907112, null], \"y\": [-0.047564167433613816, -0.061170050688860673, null], \"z\": [0.041370235927608634, -0.0148324707403163, null], \"line\": {\"width\": 1, \"color\": \"white\"}, \"hoverinfo\": \"none\", \"mode\": \"lines\"}, {\"type\": \"scatter3d\", \"x\": [0.12169561560229054, 0.1491090764705074, null], \"y\": [-0.04187796712183215, 0.10091051911798132, null], \"z\": [-0.05425244435338347, -0.03670661615221019, null], \"line\": {\"width\": 1, \"color\": \"white\"}, \"hoverinfo\": \"none\", \"mode\": \"lines\"}, {\"type\": \"scatter3d\", \"x\": [0.12169561560229054, 0.02898842012282331, null], \"y\": [-0.04187796712183215, 0.0013474462159668336, null], \"z\": [-0.05425244435338347, 0.1168506455324738, null], \"line\": {\"width\": 1, \"color\": \"white\"}, \"hoverinfo\": \"none\", \"mode\": \"lines\"}, {\"type\": \"scatter3d\", \"x\": [0.12169561560229054, 0.10041847163453094, null], \"y\": [-0.04187796712183215, 0.11743237110551957, null], \"z\": [-0.05425244435338347, 0.099332588018368, null], \"line\": {\"width\": 1, \"color\": \"white\"}, \"hoverinfo\": \"none\", \"mode\": \"lines\"}, {\"type\": \"scatter3d\", \"x\": [0.12169561560229054, -0.058433738424554044, null], \"y\": [-0.04187796712183215, -0.01179025137682218, null], \"z\": [-0.05425244435338347, -0.021510363207252674, null], \"line\": {\"width\": 1, \"color\": \"white\"}, \"hoverinfo\": \"none\", \"mode\": \"lines\"}, {\"type\": \"scatter3d\", \"x\": [0.12169561560229054, 0.10481593019714143, null], \"y\": [-0.04187796712183215, 0.04710618729610153, null], \"z\": [-0.05425244435338347, 0.14805961750399171, null], \"line\": {\"width\": 1, \"color\": \"white\"}, \"hoverinfo\": \"none\", \"mode\": \"lines\"}, {\"type\": \"scatter3d\", \"x\": [0.12169561560229054, 0.07139446778532593, null], \"y\": [-0.04187796712183215, 0.12838531173079115, null], \"z\": [-0.05425244435338347, 0.01606052036642238, null], \"line\": {\"width\": 1, \"color\": \"white\"}, \"hoverinfo\": \"none\", \"mode\": \"lines\"}, {\"type\": \"scatter3d\", \"x\": [0.12169561560229054, 0.2040653545386135, null], \"y\": [-0.04187796712183215, 0.03867151303375133, null], \"z\": [-0.05425244435338347, -0.015719654999540707, null], \"line\": {\"width\": 1, \"color\": \"white\"}, \"hoverinfo\": \"none\", \"mode\": \"lines\"}, {\"type\": \"scatter3d\", \"x\": [0.12169561560229054, 0.08698956797436821, null], \"y\": [-0.04187796712183215, -0.03818543608748077, null], \"z\": [-0.05425244435338347, 0.12656041357925446, null], \"line\": {\"width\": 1, \"color\": \"white\"}, \"hoverinfo\": \"none\", \"mode\": \"lines\"}, {\"type\": \"scatter3d\", \"x\": [0.12169561560229054, 0.17301966995753737, null], \"y\": [-0.04187796712183215, 0.03343395264610534, null], \"z\": [-0.05425244435338347, 0.09502498228342302, null], \"line\": {\"width\": 1, \"color\": \"white\"}, \"hoverinfo\": \"none\", \"mode\": \"lines\"}, {\"type\": \"scatter3d\", \"x\": [0.12169561560229054, 0.05111763959501187, null], \"y\": [-0.04187796712183215, 0.061827624122324565, null], \"z\": [-0.05425244435338347, 0.1073852653359946, null], \"line\": {\"width\": 1, \"color\": \"white\"}, \"hoverinfo\": \"none\", \"mode\": \"lines\"}, {\"type\": \"scatter3d\", \"x\": [0.12169561560229054, 0.08171157809820943, null], \"y\": [-0.04187796712183215, 0.09062485247644866, null], \"z\": [-0.05425244435338347, -0.04819826574401871, null], \"line\": {\"width\": 1, \"color\": \"white\"}, \"hoverinfo\": \"none\", \"mode\": \"lines\"}, {\"type\": \"scatter3d\", \"x\": [0.12169561560229054, 0.20049981714077705, null], \"y\": [-0.04187796712183215, 0.09296284826576588, null], \"z\": [-0.05425244435338347, 0.02762900578252081, null], \"line\": {\"width\": 1, \"color\": \"white\"}, \"hoverinfo\": \"none\", \"mode\": \"lines\"}, {\"type\": \"scatter3d\", \"x\": [0.12169561560229054, 0.22161962706438096, null], \"y\": [-0.04187796712183215, 0.012632380227110142, null], \"z\": [-0.05425244435338347, 0.06240550933931012, null], \"line\": {\"width\": 1, \"color\": \"white\"}, \"hoverinfo\": \"none\", \"mode\": \"lines\"}, {\"type\": \"scatter3d\", \"x\": [0.12169561560229054, 0.12657890072753847, null], \"y\": [-0.04187796712183215, -0.0840705418669723, null], \"z\": [-0.05425244435338347, 0.011079308003001428, null], \"line\": {\"width\": 1, \"color\": \"white\"}, \"hoverinfo\": \"none\", \"mode\": \"lines\"}, {\"type\": \"scatter3d\", \"x\": [0.12169561560229054, 0.06694941049076106, null], \"y\": [-0.04187796712183215, 0.010850575204346926, null], \"z\": [-0.05425244435338347, -0.003919914442102045, null], \"line\": {\"width\": 1, \"color\": \"white\"}, \"hoverinfo\": \"none\", \"mode\": \"lines\"}, {\"type\": \"scatter3d\", \"x\": [0.12169561560229054, 0.1495837050966847, null], \"y\": [-0.04187796712183215, 0.031659920785054606, null], \"z\": [-0.05425244435338347, -0.07161070361086974, null], \"line\": {\"width\": 1, \"color\": \"white\"}, \"hoverinfo\": \"none\", \"mode\": \"lines\"}, {\"type\": \"scatter3d\", \"x\": [0.12169561560229054, 0.020499246096886727, null], \"y\": [-0.04187796712183215, 0.09634161498327377, null], \"z\": [-0.05425244435338347, 0.06514604016159398, null], \"line\": {\"width\": 1, \"color\": \"white\"}, \"hoverinfo\": \"none\", \"mode\": \"lines\"}, {\"type\": \"scatter3d\", \"x\": [0.12169561560229054, 0.14448585718302293, null], \"y\": [-0.04187796712183215, -0.0724728161365025, null], \"z\": [-0.05425244435338347, 0.08521470911714414, null], \"line\": {\"width\": 1, \"color\": \"white\"}, \"hoverinfo\": \"none\", \"mode\": \"lines\"}, {\"type\": \"scatter3d\", \"x\": [0.12169561560229054, 0.06553395185952163, null], \"y\": [-0.04187796712183215, -0.07765335082962689, null], \"z\": [-0.05425244435338347, 0.06509022858251749, null], \"line\": {\"width\": 1, \"color\": \"white\"}, \"hoverinfo\": \"none\", \"mode\": \"lines\"}, {\"type\": \"scatter3d\", \"x\": [0.12169561560229054, 0.0676826826973529, null], \"y\": [-0.04187796712183215, 0.020027382280947637, null], \"z\": [-0.05425244435338347, -0.07349607635658016, null], \"line\": {\"width\": 1, \"color\": \"white\"}, \"hoverinfo\": \"none\", \"mode\": \"lines\"}, {\"type\": \"scatter3d\", \"x\": [0.12169561560229054, 0.1733446336774246, null], \"y\": [-0.04187796712183215, 0.09270320526187634, null], \"z\": [-0.05425244435338347, 0.10995807748237776, null], \"line\": {\"width\": 1, \"color\": \"white\"}, \"hoverinfo\": \"none\", \"mode\": \"lines\"}, {\"type\": \"scatter3d\", \"x\": [0.12169561560229054, 0.01320629538927007, null], \"y\": [-0.04187796712183215, 0.06653968755803646, null], \"z\": [-0.05425244435338347, -0.0023844290418191267, null], \"line\": {\"width\": 1, \"color\": \"white\"}, \"hoverinfo\": \"none\", \"mode\": \"lines\"}, {\"type\": \"scatter3d\", \"x\": [0.12169561560229054, 0.15571362449872603, null], \"y\": [-0.04187796712183215, -0.01373139735063719, null], \"z\": [-0.05425244435338347, 0.1333715053169754, null], \"line\": {\"width\": 1, \"color\": \"white\"}, \"hoverinfo\": \"none\", \"mode\": \"lines\"}, {\"type\": \"scatter3d\", \"x\": [0.12169561560229054, 0.19011359226042795, null], \"y\": [-0.04187796712183215, -0.03157750363351596, null], \"z\": [-0.05425244435338347, -0.02876449690571877, null], \"line\": {\"width\": 1, \"color\": \"white\"}, \"hoverinfo\": \"none\", \"mode\": \"lines\"}, {\"type\": \"scatter3d\", \"x\": [0.12169561560229054, 0.1396991382998311, null], \"y\": [-0.04187796712183215, 0.13211039749676276, null], \"z\": [-0.05425244435338347, 0.036667504346245154, null], \"line\": {\"width\": 1, \"color\": \"white\"}, \"hoverinfo\": \"none\", \"mode\": \"lines\"}, {\"type\": \"scatter3d\", \"x\": [0.12169561560229054, 0.05481943499907112, null], \"y\": [-0.04187796712183215, -0.061170050688860673, null], \"z\": [-0.05425244435338347, -0.0148324707403163, null], \"line\": {\"width\": 1, \"color\": \"white\"}, \"hoverinfo\": \"none\", \"mode\": \"lines\"}, {\"type\": \"scatter3d\", \"x\": [0.10041847163453094, 0.1491090764705074, null], \"y\": [0.11743237110551957, 0.10091051911798132, null], \"z\": [0.099332588018368, -0.03670661615221019, null], \"line\": {\"width\": 1, \"color\": \"white\"}, \"hoverinfo\": \"none\", \"mode\": \"lines\"}, {\"type\": \"scatter3d\", \"x\": [0.10041847163453094, 0.02898842012282331, null], \"y\": [0.11743237110551957, 0.0013474462159668336, null], \"z\": [0.099332588018368, 0.1168506455324738, null], \"line\": {\"width\": 1, \"color\": \"white\"}, \"hoverinfo\": \"none\", \"mode\": \"lines\"}, {\"type\": \"scatter3d\", \"x\": [0.10041847163453094, 0.2040653545386135, null], \"y\": [0.11743237110551957, 0.03867151303375133, null], \"z\": [0.099332588018368, -0.015719654999540707, null], \"line\": {\"width\": 1, \"color\": \"white\"}, \"hoverinfo\": \"none\", \"mode\": \"lines\"}, {\"type\": \"scatter3d\", \"x\": [0.10041847163453094, 0.10481593019714143, null], \"y\": [0.11743237110551957, 0.04710618729610153, null], \"z\": [0.099332588018368, 0.14805961750399171, null], \"line\": {\"width\": 1, \"color\": \"white\"}, \"hoverinfo\": \"none\", \"mode\": \"lines\"}, {\"type\": \"scatter3d\", \"x\": [0.10041847163453094, 0.1495837050966847, null], \"y\": [0.11743237110551957, 0.031659920785054606, null], \"z\": [0.099332588018368, -0.07161070361086974, null], \"line\": {\"width\": 1, \"color\": \"white\"}, \"hoverinfo\": \"none\", \"mode\": \"lines\"}, {\"type\": \"scatter3d\", \"x\": [0.10041847163453094, 0.06553395185952163, null], \"y\": [0.11743237110551957, -0.07765335082962689, null], \"z\": [0.099332588018368, 0.06509022858251749, null], \"line\": {\"width\": 1, \"color\": \"white\"}, \"hoverinfo\": \"none\", \"mode\": \"lines\"}, {\"type\": \"scatter3d\", \"x\": [0.10041847163453094, 0.17301966995753737, null], \"y\": [0.11743237110551957, 0.03343395264610534, null], \"z\": [0.099332588018368, 0.09502498228342302, null], \"line\": {\"width\": 1, \"color\": \"white\"}, \"hoverinfo\": \"none\", \"mode\": \"lines\"}, {\"type\": \"scatter3d\", \"x\": [0.10041847163453094, 0.0676826826973529, null], \"y\": [0.11743237110551957, 0.020027382280947637, null], \"z\": [0.099332588018368, -0.07349607635658016, null], \"line\": {\"width\": 1, \"color\": \"white\"}, \"hoverinfo\": \"none\", \"mode\": \"lines\"}, {\"type\": \"scatter3d\", \"x\": [0.10041847163453094, 0.12657890072753847, null], \"y\": [0.11743237110551957, -0.0840705418669723, null], \"z\": [0.099332588018368, 0.011079308003001428, null], \"line\": {\"width\": 1, \"color\": \"white\"}, \"hoverinfo\": \"none\", \"mode\": \"lines\"}, {\"type\": \"scatter3d\", \"x\": [0.10041847163453094, 0.1733446336774246, null], \"y\": [0.11743237110551957, 0.09270320526187634, null], \"z\": [0.099332588018368, 0.10995807748237776, null], \"line\": {\"width\": 1, \"color\": \"white\"}, \"hoverinfo\": \"none\", \"mode\": \"lines\"}, {\"type\": \"scatter3d\", \"x\": [0.10041847163453094, 0.01320629538927007, null], \"y\": [0.11743237110551957, 0.06653968755803646, null], \"z\": [0.099332588018368, -0.0023844290418191267, null], \"line\": {\"width\": 1, \"color\": \"white\"}, \"hoverinfo\": \"none\", \"mode\": \"lines\"}, {\"type\": \"scatter3d\", \"x\": [0.10041847163453094, 0.15571362449872603, null], \"y\": [0.11743237110551957, -0.01373139735063719, null], \"z\": [0.099332588018368, 0.1333715053169754, null], \"line\": {\"width\": 1, \"color\": \"white\"}, \"hoverinfo\": \"none\", \"mode\": \"lines\"}, {\"type\": \"scatter3d\", \"x\": [0.10041847163453094, 0.22161962706438096, null], \"y\": [0.11743237110551957, 0.012632380227110142, null], \"z\": [0.099332588018368, 0.06240550933931012, null], \"line\": {\"width\": 1, \"color\": \"white\"}, \"hoverinfo\": \"none\", \"mode\": \"lines\"}, {\"type\": \"scatter3d\", \"x\": [0.10041847163453094, 0.020499246096886727, null], \"y\": [0.11743237110551957, 0.09634161498327377, null], \"z\": [0.099332588018368, 0.06514604016159398, null], \"line\": {\"width\": 1, \"color\": \"white\"}, \"hoverinfo\": \"none\", \"mode\": \"lines\"}, {\"type\": \"scatter3d\", \"x\": [0.10041847163453094, 0.14448585718302293, null], \"y\": [0.11743237110551957, -0.0724728161365025, null], \"z\": [0.099332588018368, 0.08521470911714414, null], \"line\": {\"width\": 1, \"color\": \"white\"}, \"hoverinfo\": \"none\", \"mode\": \"lines\"}, {\"type\": \"scatter3d\", \"x\": [0.10041847163453094, 0.20049981714077705, null], \"y\": [0.11743237110551957, 0.09296284826576588, null], \"z\": [0.099332588018368, 0.02762900578252081, null], \"line\": {\"width\": 1, \"color\": \"white\"}, \"hoverinfo\": \"none\", \"mode\": \"lines\"}, {\"type\": \"scatter3d\", \"x\": [0.10041847163453094, 0.19011359226042795, null], \"y\": [0.11743237110551957, -0.03157750363351596, null], \"z\": [0.099332588018368, -0.02876449690571877, null], \"line\": {\"width\": 1, \"color\": \"white\"}, \"hoverinfo\": \"none\", \"mode\": \"lines\"}, {\"type\": \"scatter3d\", \"x\": [0.10041847163453094, -0.058433738424554044, null], \"y\": [0.11743237110551957, -0.01179025137682218, null], \"z\": [0.099332588018368, -0.021510363207252674, null], \"line\": {\"width\": 1, \"color\": \"white\"}, \"hoverinfo\": \"none\", \"mode\": \"lines\"}, {\"type\": \"scatter3d\", \"x\": [0.10041847163453094, 0.08171157809820943, null], \"y\": [0.11743237110551957, 0.09062485247644866, null], \"z\": [0.099332588018368, -0.04819826574401871, null], \"line\": {\"width\": 1, \"color\": \"white\"}, \"hoverinfo\": \"none\", \"mode\": \"lines\"}, {\"type\": \"scatter3d\", \"x\": [0.10041847163453094, 0.05111763959501187, null], \"y\": [0.11743237110551957, 0.061827624122324565, null], \"z\": [0.099332588018368, 0.1073852653359946, null], \"line\": {\"width\": 1, \"color\": \"white\"}, \"hoverinfo\": \"none\", \"mode\": \"lines\"}, {\"type\": \"scatter3d\", \"x\": [0.10041847163453094, 0.1396991382998311, null], \"y\": [0.11743237110551957, 0.13211039749676276, null], \"z\": [0.099332588018368, 0.036667504346245154, null], \"line\": {\"width\": 1, \"color\": \"white\"}, \"hoverinfo\": \"none\", \"mode\": \"lines\"}, {\"type\": \"scatter3d\", \"x\": [0.10041847163453094, 0.08698956797436821, null], \"y\": [0.11743237110551957, -0.03818543608748077, null], \"z\": [0.099332588018368, 0.12656041357925446, null], \"line\": {\"width\": 1, \"color\": \"white\"}, \"hoverinfo\": \"none\", \"mode\": \"lines\"}, {\"type\": \"scatter3d\", \"x\": [0.10041847163453094, 0.07139446778532593, null], \"y\": [0.11743237110551957, 0.12838531173079115, null], \"z\": [0.099332588018368, 0.01606052036642238, null], \"line\": {\"width\": 1, \"color\": \"white\"}, \"hoverinfo\": \"none\", \"mode\": \"lines\"}, {\"type\": \"scatter3d\", \"x\": [0.10041847163453094, 0.06694941049076106, null], \"y\": [0.11743237110551957, 0.010850575204346926, null], \"z\": [0.099332588018368, -0.003919914442102045, null], \"line\": {\"width\": 1, \"color\": \"white\"}, \"hoverinfo\": \"none\", \"mode\": \"lines\"}, {\"type\": \"scatter3d\", \"x\": [0.10041847163453094, 0.05481943499907112, null], \"y\": [0.11743237110551957, -0.061170050688860673, null], \"z\": [0.099332588018368, -0.0148324707403163, null], \"line\": {\"width\": 1, \"color\": \"white\"}, \"hoverinfo\": \"none\", \"mode\": \"lines\"}, {\"type\": \"scatter3d\", \"x\": [0.1491090764705074, 0.2040653545386135, null], \"y\": [0.10091051911798132, 0.03867151303375133, null], \"z\": [-0.03670661615221019, -0.015719654999540707, null], \"line\": {\"width\": 1, \"color\": \"white\"}, \"hoverinfo\": \"none\", \"mode\": \"lines\"}, {\"type\": \"scatter3d\", \"x\": [0.1491090764705074, 0.05481943499907112, null], \"y\": [0.10091051911798132, -0.061170050688860673, null], \"z\": [-0.03670661615221019, -0.0148324707403163, null], \"line\": {\"width\": 1, \"color\": \"white\"}, \"hoverinfo\": \"none\", \"mode\": \"lines\"}, {\"type\": \"scatter3d\", \"x\": [0.1491090764705074, 0.10481593019714143, null], \"y\": [0.10091051911798132, 0.04710618729610153, null], \"z\": [-0.03670661615221019, 0.14805961750399171, null], \"line\": {\"width\": 1, \"color\": \"white\"}, \"hoverinfo\": \"none\", \"mode\": \"lines\"}, {\"type\": \"scatter3d\", \"x\": [0.1491090764705074, 0.1495837050966847, null], \"y\": [0.10091051911798132, 0.031659920785054606, null], \"z\": [-0.03670661615221019, -0.07161070361086974, null], \"line\": {\"width\": 1, \"color\": \"white\"}, \"hoverinfo\": \"none\", \"mode\": \"lines\"}, {\"type\": \"scatter3d\", \"x\": [0.1491090764705074, 0.06553395185952163, null], \"y\": [0.10091051911798132, -0.07765335082962689, null], \"z\": [-0.03670661615221019, 0.06509022858251749, null], \"line\": {\"width\": 1, \"color\": \"white\"}, \"hoverinfo\": \"none\", \"mode\": \"lines\"}, {\"type\": \"scatter3d\", \"x\": [0.1491090764705074, 0.17301966995753737, null], \"y\": [0.10091051911798132, 0.03343395264610534, null], \"z\": [-0.03670661615221019, 0.09502498228342302, null], \"line\": {\"width\": 1, \"color\": \"white\"}, \"hoverinfo\": \"none\", \"mode\": \"lines\"}, {\"type\": \"scatter3d\", \"x\": [0.1491090764705074, 0.0676826826973529, null], \"y\": [0.10091051911798132, 0.020027382280947637, null], \"z\": [-0.03670661615221019, -0.07349607635658016, null], \"line\": {\"width\": 1, \"color\": \"white\"}, \"hoverinfo\": \"none\", \"mode\": \"lines\"}, {\"type\": \"scatter3d\", \"x\": [0.1491090764705074, 0.12657890072753847, null], \"y\": [0.10091051911798132, -0.0840705418669723, null], \"z\": [-0.03670661615221019, 0.011079308003001428, null], \"line\": {\"width\": 1, \"color\": \"white\"}, \"hoverinfo\": \"none\", \"mode\": \"lines\"}, {\"type\": \"scatter3d\", \"x\": [0.1491090764705074, 0.1733446336774246, null], \"y\": [0.10091051911798132, 0.09270320526187634, null], \"z\": [-0.03670661615221019, 0.10995807748237776, null], \"line\": {\"width\": 1, \"color\": \"white\"}, \"hoverinfo\": \"none\", \"mode\": \"lines\"}, {\"type\": \"scatter3d\", \"x\": [0.1491090764705074, 0.01320629538927007, null], \"y\": [0.10091051911798132, 0.06653968755803646, null], \"z\": [-0.03670661615221019, -0.0023844290418191267, null], \"line\": {\"width\": 1, \"color\": \"white\"}, \"hoverinfo\": \"none\", \"mode\": \"lines\"}, {\"type\": \"scatter3d\", \"x\": [0.1491090764705074, 0.15571362449872603, null], \"y\": [0.10091051911798132, -0.01373139735063719, null], \"z\": [-0.03670661615221019, 0.1333715053169754, null], \"line\": {\"width\": 1, \"color\": \"white\"}, \"hoverinfo\": \"none\", \"mode\": \"lines\"}, {\"type\": \"scatter3d\", \"x\": [0.1491090764705074, 0.22161962706438096, null], \"y\": [0.10091051911798132, 0.012632380227110142, null], \"z\": [-0.03670661615221019, 0.06240550933931012, null], \"line\": {\"width\": 1, \"color\": \"white\"}, \"hoverinfo\": \"none\", \"mode\": \"lines\"}, {\"type\": \"scatter3d\", \"x\": [0.1491090764705074, 0.020499246096886727, null], \"y\": [0.10091051911798132, 0.09634161498327377, null], \"z\": [-0.03670661615221019, 0.06514604016159398, null], \"line\": {\"width\": 1, \"color\": \"white\"}, \"hoverinfo\": \"none\", \"mode\": \"lines\"}, {\"type\": \"scatter3d\", \"x\": [0.1491090764705074, 0.14448585718302293, null], \"y\": [0.10091051911798132, -0.0724728161365025, null], \"z\": [-0.03670661615221019, 0.08521470911714414, null], \"line\": {\"width\": 1, \"color\": \"white\"}, \"hoverinfo\": \"none\", \"mode\": \"lines\"}, {\"type\": \"scatter3d\", \"x\": [0.1491090764705074, 0.20049981714077705, null], \"y\": [0.10091051911798132, 0.09296284826576588, null], \"z\": [-0.03670661615221019, 0.02762900578252081, null], \"line\": {\"width\": 1, \"color\": \"white\"}, \"hoverinfo\": \"none\", \"mode\": \"lines\"}, {\"type\": \"scatter3d\", \"x\": [0.1491090764705074, 0.02898842012282331, null], \"y\": [0.10091051911798132, 0.0013474462159668336, null], \"z\": [-0.03670661615221019, 0.1168506455324738, null], \"line\": {\"width\": 1, \"color\": \"white\"}, \"hoverinfo\": \"none\", \"mode\": \"lines\"}, {\"type\": \"scatter3d\", \"x\": [0.1491090764705074, 0.19011359226042795, null], \"y\": [0.10091051911798132, -0.03157750363351596, null], \"z\": [-0.03670661615221019, -0.02876449690571877, null], \"line\": {\"width\": 1, \"color\": \"white\"}, \"hoverinfo\": \"none\", \"mode\": \"lines\"}, {\"type\": \"scatter3d\", \"x\": [0.1491090764705074, -0.058433738424554044, null], \"y\": [0.10091051911798132, -0.01179025137682218, null], \"z\": [-0.03670661615221019, -0.021510363207252674, null], \"line\": {\"width\": 1, \"color\": \"white\"}, \"hoverinfo\": \"none\", \"mode\": \"lines\"}, {\"type\": \"scatter3d\", \"x\": [0.1491090764705074, 0.08171157809820943, null], \"y\": [0.10091051911798132, 0.09062485247644866, null], \"z\": [-0.03670661615221019, -0.04819826574401871, null], \"line\": {\"width\": 1, \"color\": \"white\"}, \"hoverinfo\": \"none\", \"mode\": \"lines\"}, {\"type\": \"scatter3d\", \"x\": [0.1491090764705074, 0.05111763959501187, null], \"y\": [0.10091051911798132, 0.061827624122324565, null], \"z\": [-0.03670661615221019, 0.1073852653359946, null], \"line\": {\"width\": 1, \"color\": \"white\"}, \"hoverinfo\": \"none\", \"mode\": \"lines\"}, {\"type\": \"scatter3d\", \"x\": [0.1491090764705074, 0.1396991382998311, null], \"y\": [0.10091051911798132, 0.13211039749676276, null], \"z\": [-0.03670661615221019, 0.036667504346245154, null], \"line\": {\"width\": 1, \"color\": \"white\"}, \"hoverinfo\": \"none\", \"mode\": \"lines\"}, {\"type\": \"scatter3d\", \"x\": [0.1491090764705074, 0.08698956797436821, null], \"y\": [0.10091051911798132, -0.03818543608748077, null], \"z\": [-0.03670661615221019, 0.12656041357925446, null], \"line\": {\"width\": 1, \"color\": \"white\"}, \"hoverinfo\": \"none\", \"mode\": \"lines\"}, {\"type\": \"scatter3d\", \"x\": [0.1491090764705074, 0.07139446778532593, null], \"y\": [0.10091051911798132, 0.12838531173079115, null], \"z\": [-0.03670661615221019, 0.01606052036642238, null], \"line\": {\"width\": 1, \"color\": \"white\"}, \"hoverinfo\": \"none\", \"mode\": \"lines\"}, {\"type\": \"scatter3d\", \"x\": [0.1491090764705074, 0.06694941049076106, null], \"y\": [0.10091051911798132, 0.010850575204346926, null], \"z\": [-0.03670661615221019, -0.003919914442102045, null], \"line\": {\"width\": 1, \"color\": \"white\"}, \"hoverinfo\": \"none\", \"mode\": \"lines\"}, {\"type\": \"scatter3d\", \"x\": [0.10481593019714143, 0.02898842012282331, null], \"y\": [0.04710618729610153, 0.0013474462159668336, null], \"z\": [0.14805961750399171, 0.1168506455324738, null], \"line\": {\"width\": 1, \"color\": \"white\"}, \"hoverinfo\": \"none\", \"mode\": \"lines\"}, {\"type\": \"scatter3d\", \"x\": [0.10481593019714143, -0.058433738424554044, null], \"y\": [0.04710618729610153, -0.01179025137682218, null], \"z\": [0.14805961750399171, -0.021510363207252674, null], \"line\": {\"width\": 1, \"color\": \"white\"}, \"hoverinfo\": \"none\", \"mode\": \"lines\"}, {\"type\": \"scatter3d\", \"x\": [0.10481593019714143, 0.2040653545386135, null], \"y\": [0.04710618729610153, 0.03867151303375133, null], \"z\": [0.14805961750399171, -0.015719654999540707, null], \"line\": {\"width\": 1, \"color\": \"white\"}, \"hoverinfo\": \"none\", \"mode\": \"lines\"}, {\"type\": \"scatter3d\", \"x\": [0.10481593019714143, 0.1495837050966847, null], \"y\": [0.04710618729610153, 0.031659920785054606, null], \"z\": [0.14805961750399171, -0.07161070361086974, null], \"line\": {\"width\": 1, \"color\": \"white\"}, \"hoverinfo\": \"none\", \"mode\": \"lines\"}, {\"type\": \"scatter3d\", \"x\": [0.10481593019714143, 0.06553395185952163, null], \"y\": [0.04710618729610153, -0.07765335082962689, null], \"z\": [0.14805961750399171, 0.06509022858251749, null], \"line\": {\"width\": 1, \"color\": \"white\"}, \"hoverinfo\": \"none\", \"mode\": \"lines\"}, {\"type\": \"scatter3d\", \"x\": [0.10481593019714143, 0.17301966995753737, null], \"y\": [0.04710618729610153, 0.03343395264610534, null], \"z\": [0.14805961750399171, 0.09502498228342302, null], \"line\": {\"width\": 1, \"color\": \"white\"}, \"hoverinfo\": \"none\", \"mode\": \"lines\"}, {\"type\": \"scatter3d\", \"x\": [0.10481593019714143, 0.0676826826973529, null], \"y\": [0.04710618729610153, 0.020027382280947637, null], \"z\": [0.14805961750399171, -0.07349607635658016, null], \"line\": {\"width\": 1, \"color\": \"white\"}, \"hoverinfo\": \"none\", \"mode\": \"lines\"}, {\"type\": \"scatter3d\", \"x\": [0.10481593019714143, 0.12657890072753847, null], \"y\": [0.04710618729610153, -0.0840705418669723, null], \"z\": [0.14805961750399171, 0.011079308003001428, null], \"line\": {\"width\": 1, \"color\": \"white\"}, \"hoverinfo\": \"none\", \"mode\": \"lines\"}, {\"type\": \"scatter3d\", \"x\": [0.10481593019714143, 0.1733446336774246, null], \"y\": [0.04710618729610153, 0.09270320526187634, null], \"z\": [0.14805961750399171, 0.10995807748237776, null], \"line\": {\"width\": 1, \"color\": \"white\"}, \"hoverinfo\": \"none\", \"mode\": \"lines\"}, {\"type\": \"scatter3d\", \"x\": [0.10481593019714143, 0.01320629538927007, null], \"y\": [0.04710618729610153, 0.06653968755803646, null], \"z\": [0.14805961750399171, -0.0023844290418191267, null], \"line\": {\"width\": 1, \"color\": \"white\"}, \"hoverinfo\": \"none\", \"mode\": \"lines\"}, {\"type\": \"scatter3d\", \"x\": [0.10481593019714143, 0.15571362449872603, null], \"y\": [0.04710618729610153, -0.01373139735063719, null], \"z\": [0.14805961750399171, 0.1333715053169754, null], \"line\": {\"width\": 1, \"color\": \"white\"}, \"hoverinfo\": \"none\", \"mode\": \"lines\"}, {\"type\": \"scatter3d\", \"x\": [0.10481593019714143, 0.22161962706438096, null], \"y\": [0.04710618729610153, 0.012632380227110142, null], \"z\": [0.14805961750399171, 0.06240550933931012, null], \"line\": {\"width\": 1, \"color\": \"white\"}, \"hoverinfo\": \"none\", \"mode\": \"lines\"}, {\"type\": \"scatter3d\", \"x\": [0.10481593019714143, 0.020499246096886727, null], \"y\": [0.04710618729610153, 0.09634161498327377, null], \"z\": [0.14805961750399171, 0.06514604016159398, null], \"line\": {\"width\": 1, \"color\": \"white\"}, \"hoverinfo\": \"none\", \"mode\": \"lines\"}, {\"type\": \"scatter3d\", \"x\": [0.10481593019714143, 0.14448585718302293, null], \"y\": [0.04710618729610153, -0.0724728161365025, null], \"z\": [0.14805961750399171, 0.08521470911714414, null], \"line\": {\"width\": 1, \"color\": \"white\"}, \"hoverinfo\": \"none\", \"mode\": \"lines\"}, {\"type\": \"scatter3d\", \"x\": [0.10481593019714143, 0.20049981714077705, null], \"y\": [0.04710618729610153, 0.09296284826576588, null], \"z\": [0.14805961750399171, 0.02762900578252081, null], \"line\": {\"width\": 1, \"color\": \"white\"}, \"hoverinfo\": \"none\", \"mode\": \"lines\"}, {\"type\": \"scatter3d\", \"x\": [0.10481593019714143, 0.19011359226042795, null], \"y\": [0.04710618729610153, -0.03157750363351596, null], \"z\": [0.14805961750399171, -0.02876449690571877, null], \"line\": {\"width\": 1, \"color\": \"white\"}, \"hoverinfo\": \"none\", \"mode\": \"lines\"}, {\"type\": \"scatter3d\", \"x\": [0.10481593019714143, 0.08171157809820943, null], \"y\": [0.04710618729610153, 0.09062485247644866, null], \"z\": [0.14805961750399171, -0.04819826574401871, null], \"line\": {\"width\": 1, \"color\": \"white\"}, \"hoverinfo\": \"none\", \"mode\": \"lines\"}, {\"type\": \"scatter3d\", \"x\": [0.10481593019714143, 0.05111763959501187, null], \"y\": [0.04710618729610153, 0.061827624122324565, null], \"z\": [0.14805961750399171, 0.1073852653359946, null], \"line\": {\"width\": 1, \"color\": \"white\"}, \"hoverinfo\": \"none\", \"mode\": \"lines\"}, {\"type\": \"scatter3d\", \"x\": [0.10481593019714143, 0.1396991382998311, null], \"y\": [0.04710618729610153, 0.13211039749676276, null], \"z\": [0.14805961750399171, 0.036667504346245154, null], \"line\": {\"width\": 1, \"color\": \"white\"}, \"hoverinfo\": \"none\", \"mode\": \"lines\"}, {\"type\": \"scatter3d\", \"x\": [0.10481593019714143, 0.08698956797436821, null], \"y\": [0.04710618729610153, -0.03818543608748077, null], \"z\": [0.14805961750399171, 0.12656041357925446, null], \"line\": {\"width\": 1, \"color\": \"white\"}, \"hoverinfo\": \"none\", \"mode\": \"lines\"}, {\"type\": \"scatter3d\", \"x\": [0.10481593019714143, 0.07139446778532593, null], \"y\": [0.04710618729610153, 0.12838531173079115, null], \"z\": [0.14805961750399171, 0.01606052036642238, null], \"line\": {\"width\": 1, \"color\": \"white\"}, \"hoverinfo\": \"none\", \"mode\": \"lines\"}, {\"type\": \"scatter3d\", \"x\": [0.10481593019714143, 0.06694941049076106, null], \"y\": [0.04710618729610153, 0.010850575204346926, null], \"z\": [0.14805961750399171, -0.003919914442102045, null], \"line\": {\"width\": 1, \"color\": \"white\"}, \"hoverinfo\": \"none\", \"mode\": \"lines\"}, {\"type\": \"scatter3d\", \"x\": [0.10481593019714143, 0.05481943499907112, null], \"y\": [0.04710618729610153, -0.061170050688860673, null], \"z\": [0.14805961750399171, -0.0148324707403163, null], \"line\": {\"width\": 1, \"color\": \"white\"}, \"hoverinfo\": \"none\", \"mode\": \"lines\"}, {\"type\": \"scatter3d\", \"x\": [0.1495837050966847, 0.02898842012282331, null], \"y\": [0.031659920785054606, 0.0013474462159668336, null], \"z\": [-0.07161070361086974, 0.1168506455324738, null], \"line\": {\"width\": 1, \"color\": \"white\"}, \"hoverinfo\": \"none\", \"mode\": \"lines\"}, {\"type\": \"scatter3d\", \"x\": [0.1495837050966847, -0.058433738424554044, null], \"y\": [0.031659920785054606, -0.01179025137682218, null], \"z\": [-0.07161070361086974, -0.021510363207252674, null], \"line\": {\"width\": 1, \"color\": \"white\"}, \"hoverinfo\": \"none\", \"mode\": \"lines\"}, {\"type\": \"scatter3d\", \"x\": [0.1495837050966847, 0.07139446778532593, null], \"y\": [0.031659920785054606, 0.12838531173079115, null], \"z\": [-0.07161070361086974, 0.01606052036642238, null], \"line\": {\"width\": 1, \"color\": \"white\"}, \"hoverinfo\": \"none\", \"mode\": \"lines\"}, {\"type\": \"scatter3d\", \"x\": [0.1495837050966847, 0.2040653545386135, null], \"y\": [0.031659920785054606, 0.03867151303375133, null], \"z\": [-0.07161070361086974, -0.015719654999540707, null], \"line\": {\"width\": 1, \"color\": \"white\"}, \"hoverinfo\": \"none\", \"mode\": \"lines\"}, {\"type\": \"scatter3d\", \"x\": [0.1495837050966847, 0.08698956797436821, null], \"y\": [0.031659920785054606, -0.03818543608748077, null], \"z\": [-0.07161070361086974, 0.12656041357925446, null], \"line\": {\"width\": 1, \"color\": \"white\"}, \"hoverinfo\": \"none\", \"mode\": \"lines\"}, {\"type\": \"scatter3d\", \"x\": [0.1495837050966847, 0.17301966995753737, null], \"y\": [0.031659920785054606, 0.03343395264610534, null], \"z\": [-0.07161070361086974, 0.09502498228342302, null], \"line\": {\"width\": 1, \"color\": \"white\"}, \"hoverinfo\": \"none\", \"mode\": \"lines\"}, {\"type\": \"scatter3d\", \"x\": [0.1495837050966847, 0.05111763959501187, null], \"y\": [0.031659920785054606, 0.061827624122324565, null], \"z\": [-0.07161070361086974, 0.1073852653359946, null], \"line\": {\"width\": 1, \"color\": \"white\"}, \"hoverinfo\": \"none\", \"mode\": \"lines\"}, {\"type\": \"scatter3d\", \"x\": [0.1495837050966847, 0.08171157809820943, null], \"y\": [0.031659920785054606, 0.09062485247644866, null], \"z\": [-0.07161070361086974, -0.04819826574401871, null], \"line\": {\"width\": 1, \"color\": \"white\"}, \"hoverinfo\": \"none\", \"mode\": \"lines\"}, {\"type\": \"scatter3d\", \"x\": [0.1495837050966847, 0.20049981714077705, null], \"y\": [0.031659920785054606, 0.09296284826576588, null], \"z\": [-0.07161070361086974, 0.02762900578252081, null], \"line\": {\"width\": 1, \"color\": \"white\"}, \"hoverinfo\": \"none\", \"mode\": \"lines\"}, {\"type\": \"scatter3d\", \"x\": [0.1495837050966847, 0.22161962706438096, null], \"y\": [0.031659920785054606, 0.012632380227110142, null], \"z\": [-0.07161070361086974, 0.06240550933931012, null], \"line\": {\"width\": 1, \"color\": \"white\"}, \"hoverinfo\": \"none\", \"mode\": \"lines\"}, {\"type\": \"scatter3d\", \"x\": [0.1495837050966847, 0.12657890072753847, null], \"y\": [0.031659920785054606, -0.0840705418669723, null], \"z\": [-0.07161070361086974, 0.011079308003001428, null], \"line\": {\"width\": 1, \"color\": \"white\"}, \"hoverinfo\": \"none\", \"mode\": \"lines\"}, {\"type\": \"scatter3d\", \"x\": [0.1495837050966847, 0.06694941049076106, null], \"y\": [0.031659920785054606, 0.010850575204346926, null], \"z\": [-0.07161070361086974, -0.003919914442102045, null], \"line\": {\"width\": 1, \"color\": \"white\"}, \"hoverinfo\": \"none\", \"mode\": \"lines\"}, {\"type\": \"scatter3d\", \"x\": [0.1495837050966847, 0.06553395185952163, null], \"y\": [0.031659920785054606, -0.07765335082962689, null], \"z\": [-0.07161070361086974, 0.06509022858251749, null], \"line\": {\"width\": 1, \"color\": \"white\"}, \"hoverinfo\": \"none\", \"mode\": \"lines\"}, {\"type\": \"scatter3d\", \"x\": [0.1495837050966847, 0.0676826826973529, null], \"y\": [0.031659920785054606, 0.020027382280947637, null], \"z\": [-0.07161070361086974, -0.07349607635658016, null], \"line\": {\"width\": 1, \"color\": \"white\"}, \"hoverinfo\": \"none\", \"mode\": \"lines\"}, {\"type\": \"scatter3d\", \"x\": [0.1495837050966847, 0.1733446336774246, null], \"y\": [0.031659920785054606, 0.09270320526187634, null], \"z\": [-0.07161070361086974, 0.10995807748237776, null], \"line\": {\"width\": 1, \"color\": \"white\"}, \"hoverinfo\": \"none\", \"mode\": \"lines\"}, {\"type\": \"scatter3d\", \"x\": [0.1495837050966847, 0.01320629538927007, null], \"y\": [0.031659920785054606, 0.06653968755803646, null], \"z\": [-0.07161070361086974, -0.0023844290418191267, null], \"line\": {\"width\": 1, \"color\": \"white\"}, \"hoverinfo\": \"none\", \"mode\": \"lines\"}, {\"type\": \"scatter3d\", \"x\": [0.1495837050966847, 0.15571362449872603, null], \"y\": [0.031659920785054606, -0.01373139735063719, null], \"z\": [-0.07161070361086974, 0.1333715053169754, null], \"line\": {\"width\": 1, \"color\": \"white\"}, \"hoverinfo\": \"none\", \"mode\": \"lines\"}, {\"type\": \"scatter3d\", \"x\": [0.1495837050966847, 0.020499246096886727, null], \"y\": [0.031659920785054606, 0.09634161498327377, null], \"z\": [-0.07161070361086974, 0.06514604016159398, null], \"line\": {\"width\": 1, \"color\": \"white\"}, \"hoverinfo\": \"none\", \"mode\": \"lines\"}, {\"type\": \"scatter3d\", \"x\": [0.1495837050966847, 0.14448585718302293, null], \"y\": [0.031659920785054606, -0.0724728161365025, null], \"z\": [-0.07161070361086974, 0.08521470911714414, null], \"line\": {\"width\": 1, \"color\": \"white\"}, \"hoverinfo\": \"none\", \"mode\": \"lines\"}, {\"type\": \"scatter3d\", \"x\": [0.1495837050966847, 0.19011359226042795, null], \"y\": [0.031659920785054606, -0.03157750363351596, null], \"z\": [-0.07161070361086974, -0.02876449690571877, null], \"line\": {\"width\": 1, \"color\": \"white\"}, \"hoverinfo\": \"none\", \"mode\": \"lines\"}, {\"type\": \"scatter3d\", \"x\": [0.1495837050966847, 0.1396991382998311, null], \"y\": [0.031659920785054606, 0.13211039749676276, null], \"z\": [-0.07161070361086974, 0.036667504346245154, null], \"line\": {\"width\": 1, \"color\": \"white\"}, \"hoverinfo\": \"none\", \"mode\": \"lines\"}, {\"type\": \"scatter3d\", \"x\": [0.1495837050966847, 0.05481943499907112, null], \"y\": [0.031659920785054606, -0.061170050688860673, null], \"z\": [-0.07161070361086974, -0.0148324707403163, null], \"line\": {\"width\": 1, \"color\": \"white\"}, \"hoverinfo\": \"none\", \"mode\": \"lines\"}, {\"type\": \"scatter3d\", \"x\": [-0.6503147056557225, -0.9805995752100826, null], \"y\": [-0.1438887532973297, -0.18453633941306008, null], \"z\": [-0.2125913945161545, -0.37734384494269435, null], \"line\": {\"width\": 2, \"color\": \"black\"}, \"hoverinfo\": \"none\", \"mode\": \"lines\"}, {\"type\": \"scatter3d\", \"x\": [-0.6503147056557225, -0.4771484822888056, null], \"y\": [-0.1438887532973297, -0.09159752374745991, null], \"z\": [-0.2125913945161545, -0.1748618697926978, null], \"line\": {\"width\": 2, \"color\": \"black\"}, \"hoverinfo\": \"none\", \"mode\": \"lines\"}, {\"type\": \"scatter3d\", \"x\": [-0.6503147056557225, -1.0, null], \"y\": [-0.1438887532973297, -0.25786235501046123, null], \"z\": [-0.2125913945161545, -0.26206402322297556, null], \"line\": {\"width\": 1, \"color\": \"white\"}, \"hoverinfo\": \"none\", \"mode\": \"lines\"}, {\"type\": \"scatter3d\", \"x\": [-0.6503147056557225, -0.058433738424554044, null], \"y\": [-0.1438887532973297, -0.01179025137682218, null], \"z\": [-0.2125913945161545, -0.021510363207252674, null], \"line\": {\"width\": 1, \"color\": \"white\"}, \"hoverinfo\": \"none\", \"mode\": \"lines\"}, {\"type\": \"scatter3d\", \"x\": [0.06553395185952163, 0.02898842012282331, null], \"y\": [-0.07765335082962689, 0.0013474462159668336, null], \"z\": [0.06509022858251749, 0.1168506455324738, null], \"line\": {\"width\": 1, \"color\": \"white\"}, \"hoverinfo\": \"none\", \"mode\": \"lines\"}, {\"type\": \"scatter3d\", \"x\": [0.06553395185952163, -0.058433738424554044, null], \"y\": [-0.07765335082962689, -0.01179025137682218, null], \"z\": [0.06509022858251749, -0.021510363207252674, null], \"line\": {\"width\": 1, \"color\": \"white\"}, \"hoverinfo\": \"none\", \"mode\": \"lines\"}, {\"type\": \"scatter3d\", \"x\": [0.06553395185952163, 0.07139446778532593, null], \"y\": [-0.07765335082962689, 0.12838531173079115, null], \"z\": [0.06509022858251749, 0.01606052036642238, null], \"line\": {\"width\": 1, \"color\": \"white\"}, \"hoverinfo\": \"none\", \"mode\": \"lines\"}, {\"type\": \"scatter3d\", \"x\": [0.06553395185952163, 0.2040653545386135, null], \"y\": [-0.07765335082962689, 0.03867151303375133, null], \"z\": [0.06509022858251749, -0.015719654999540707, null], \"line\": {\"width\": 1, \"color\": \"white\"}, \"hoverinfo\": \"none\", \"mode\": \"lines\"}, {\"type\": \"scatter3d\", \"x\": [0.06553395185952163, 0.08698956797436821, null], \"y\": [-0.07765335082962689, -0.03818543608748077, null], \"z\": [0.06509022858251749, 0.12656041357925446, null], \"line\": {\"width\": 1, \"color\": \"white\"}, \"hoverinfo\": \"none\", \"mode\": \"lines\"}, {\"type\": \"scatter3d\", \"x\": [0.06553395185952163, 0.17301966995753737, null], \"y\": [-0.07765335082962689, 0.03343395264610534, null], \"z\": [0.06509022858251749, 0.09502498228342302, null], \"line\": {\"width\": 1, \"color\": \"white\"}, \"hoverinfo\": \"none\", \"mode\": \"lines\"}, {\"type\": \"scatter3d\", \"x\": [0.06553395185952163, 0.05111763959501187, null], \"y\": [-0.07765335082962689, 0.061827624122324565, null], \"z\": [0.06509022858251749, 0.1073852653359946, null], \"line\": {\"width\": 1, \"color\": \"white\"}, \"hoverinfo\": \"none\", \"mode\": \"lines\"}, {\"type\": \"scatter3d\", \"x\": [0.06553395185952163, 0.08171157809820943, null], \"y\": [-0.07765335082962689, 0.09062485247644866, null], \"z\": [0.06509022858251749, -0.04819826574401871, null], \"line\": {\"width\": 1, \"color\": \"white\"}, \"hoverinfo\": \"none\", \"mode\": \"lines\"}, {\"type\": \"scatter3d\", \"x\": [0.06553395185952163, 0.20049981714077705, null], \"y\": [-0.07765335082962689, 0.09296284826576588, null], \"z\": [0.06509022858251749, 0.02762900578252081, null], \"line\": {\"width\": 1, \"color\": \"white\"}, \"hoverinfo\": \"none\", \"mode\": \"lines\"}, {\"type\": \"scatter3d\", \"x\": [0.06553395185952163, 0.22161962706438096, null], \"y\": [-0.07765335082962689, 0.012632380227110142, null], \"z\": [0.06509022858251749, 0.06240550933931012, null], \"line\": {\"width\": 1, \"color\": \"white\"}, \"hoverinfo\": \"none\", \"mode\": \"lines\"}, {\"type\": \"scatter3d\", \"x\": [0.06553395185952163, 0.12657890072753847, null], \"y\": [-0.07765335082962689, -0.0840705418669723, null], \"z\": [0.06509022858251749, 0.011079308003001428, null], \"line\": {\"width\": 1, \"color\": \"white\"}, \"hoverinfo\": \"none\", \"mode\": \"lines\"}, {\"type\": \"scatter3d\", \"x\": [0.06553395185952163, 0.06694941049076106, null], \"y\": [-0.07765335082962689, 0.010850575204346926, null], \"z\": [0.06509022858251749, -0.003919914442102045, null], \"line\": {\"width\": 1, \"color\": \"white\"}, \"hoverinfo\": \"none\", \"mode\": \"lines\"}, {\"type\": \"scatter3d\", \"x\": [0.06553395185952163, 0.020499246096886727, null], \"y\": [-0.07765335082962689, 0.09634161498327377, null], \"z\": [0.06509022858251749, 0.06514604016159398, null], \"line\": {\"width\": 1, \"color\": \"white\"}, \"hoverinfo\": \"none\", \"mode\": \"lines\"}, {\"type\": \"scatter3d\", \"x\": [0.06553395185952163, 0.14448585718302293, null], \"y\": [-0.07765335082962689, -0.0724728161365025, null], \"z\": [0.06509022858251749, 0.08521470911714414, null], \"line\": {\"width\": 1, \"color\": \"white\"}, \"hoverinfo\": \"none\", \"mode\": \"lines\"}, {\"type\": \"scatter3d\", \"x\": [0.06553395185952163, 0.0676826826973529, null], \"y\": [-0.07765335082962689, 0.020027382280947637, null], \"z\": [0.06509022858251749, -0.07349607635658016, null], \"line\": {\"width\": 1, \"color\": \"white\"}, \"hoverinfo\": \"none\", \"mode\": \"lines\"}, {\"type\": \"scatter3d\", \"x\": [0.06553395185952163, 0.1733446336774246, null], \"y\": [-0.07765335082962689, 0.09270320526187634, null], \"z\": [0.06509022858251749, 0.10995807748237776, null], \"line\": {\"width\": 1, \"color\": \"white\"}, \"hoverinfo\": \"none\", \"mode\": \"lines\"}, {\"type\": \"scatter3d\", \"x\": [0.06553395185952163, 0.01320629538927007, null], \"y\": [-0.07765335082962689, 0.06653968755803646, null], \"z\": [0.06509022858251749, -0.0023844290418191267, null], \"line\": {\"width\": 1, \"color\": \"white\"}, \"hoverinfo\": \"none\", \"mode\": \"lines\"}, {\"type\": \"scatter3d\", \"x\": [0.06553395185952163, 0.15571362449872603, null], \"y\": [-0.07765335082962689, -0.01373139735063719, null], \"z\": [0.06509022858251749, 0.1333715053169754, null], \"line\": {\"width\": 1, \"color\": \"white\"}, \"hoverinfo\": \"none\", \"mode\": \"lines\"}, {\"type\": \"scatter3d\", \"x\": [0.06553395185952163, 0.19011359226042795, null], \"y\": [-0.07765335082962689, -0.03157750363351596, null], \"z\": [0.06509022858251749, -0.02876449690571877, null], \"line\": {\"width\": 1, \"color\": \"white\"}, \"hoverinfo\": \"none\", \"mode\": \"lines\"}, {\"type\": \"scatter3d\", \"x\": [0.06553395185952163, 0.1396991382998311, null], \"y\": [-0.07765335082962689, 0.13211039749676276, null], \"z\": [0.06509022858251749, 0.036667504346245154, null], \"line\": {\"width\": 1, \"color\": \"white\"}, \"hoverinfo\": \"none\", \"mode\": \"lines\"}, {\"type\": \"scatter3d\", \"x\": [0.06553395185952163, 0.05481943499907112, null], \"y\": [-0.07765335082962689, -0.061170050688860673, null], \"z\": [0.06509022858251749, -0.0148324707403163, null], \"line\": {\"width\": 1, \"color\": \"white\"}, \"hoverinfo\": \"none\", \"mode\": \"lines\"}, {\"type\": \"scatter3d\", \"x\": [0.17301966995753737, 0.02898842012282331, null], \"y\": [0.03343395264610534, 0.0013474462159668336, null], \"z\": [0.09502498228342302, 0.1168506455324738, null], \"line\": {\"width\": 1, \"color\": \"white\"}, \"hoverinfo\": \"none\", \"mode\": \"lines\"}, {\"type\": \"scatter3d\", \"x\": [0.17301966995753737, -0.058433738424554044, null], \"y\": [0.03343395264610534, -0.01179025137682218, null], \"z\": [0.09502498228342302, -0.021510363207252674, null], \"line\": {\"width\": 1, \"color\": \"white\"}, \"hoverinfo\": \"none\", \"mode\": \"lines\"}, {\"type\": \"scatter3d\", \"x\": [0.17301966995753737, 0.07139446778532593, null], \"y\": [0.03343395264610534, 0.12838531173079115, null], \"z\": [0.09502498228342302, 0.01606052036642238, null], \"line\": {\"width\": 1, \"color\": \"white\"}, \"hoverinfo\": \"none\", \"mode\": \"lines\"}, {\"type\": \"scatter3d\", \"x\": [0.17301966995753737, 0.2040653545386135, null], \"y\": [0.03343395264610534, 0.03867151303375133, null], \"z\": [0.09502498228342302, -0.015719654999540707, null], \"line\": {\"width\": 1, \"color\": \"white\"}, \"hoverinfo\": \"none\", \"mode\": \"lines\"}, {\"type\": \"scatter3d\", \"x\": [0.17301966995753737, 0.08698956797436821, null], \"y\": [0.03343395264610534, -0.03818543608748077, null], \"z\": [0.09502498228342302, 0.12656041357925446, null], \"line\": {\"width\": 1, \"color\": \"white\"}, \"hoverinfo\": \"none\", \"mode\": \"lines\"}, {\"type\": \"scatter3d\", \"x\": [0.17301966995753737, 0.0676826826973529, null], \"y\": [0.03343395264610534, 0.020027382280947637, null], \"z\": [0.09502498228342302, -0.07349607635658016, null], \"line\": {\"width\": 1, \"color\": \"white\"}, \"hoverinfo\": \"none\", \"mode\": \"lines\"}, {\"type\": \"scatter3d\", \"x\": [0.17301966995753737, 0.12657890072753847, null], \"y\": [0.03343395264610534, -0.0840705418669723, null], \"z\": [0.09502498228342302, 0.011079308003001428, null], \"line\": {\"width\": 1, \"color\": \"white\"}, \"hoverinfo\": \"none\", \"mode\": \"lines\"}, {\"type\": \"scatter3d\", \"x\": [0.17301966995753737, 0.1733446336774246, null], \"y\": [0.03343395264610534, 0.09270320526187634, null], \"z\": [0.09502498228342302, 0.10995807748237776, null], \"line\": {\"width\": 1, \"color\": \"white\"}, \"hoverinfo\": \"none\", \"mode\": \"lines\"}, {\"type\": \"scatter3d\", \"x\": [0.17301966995753737, 0.01320629538927007, null], \"y\": [0.03343395264610534, 0.06653968755803646, null], \"z\": [0.09502498228342302, -0.0023844290418191267, null], \"line\": {\"width\": 1, \"color\": \"white\"}, \"hoverinfo\": \"none\", \"mode\": \"lines\"}, {\"type\": \"scatter3d\", \"x\": [0.17301966995753737, 0.15571362449872603, null], \"y\": [0.03343395264610534, -0.01373139735063719, null], \"z\": [0.09502498228342302, 0.1333715053169754, null], \"line\": {\"width\": 1, \"color\": \"white\"}, \"hoverinfo\": \"none\", \"mode\": \"lines\"}, {\"type\": \"scatter3d\", \"x\": [0.17301966995753737, 0.22161962706438096, null], \"y\": [0.03343395264610534, 0.012632380227110142, null], \"z\": [0.09502498228342302, 0.06240550933931012, null], \"line\": {\"width\": 1, \"color\": \"white\"}, \"hoverinfo\": \"none\", \"mode\": \"lines\"}, {\"type\": \"scatter3d\", \"x\": [0.17301966995753737, 0.020499246096886727, null], \"y\": [0.03343395264610534, 0.09634161498327377, null], \"z\": [0.09502498228342302, 0.06514604016159398, null], \"line\": {\"width\": 1, \"color\": \"white\"}, \"hoverinfo\": \"none\", \"mode\": \"lines\"}, {\"type\": \"scatter3d\", \"x\": [0.17301966995753737, 0.14448585718302293, null], \"y\": [0.03343395264610534, -0.0724728161365025, null], \"z\": [0.09502498228342302, 0.08521470911714414, null], \"line\": {\"width\": 1, \"color\": \"white\"}, \"hoverinfo\": \"none\", \"mode\": \"lines\"}, {\"type\": \"scatter3d\", \"x\": [0.17301966995753737, 0.20049981714077705, null], \"y\": [0.03343395264610534, 0.09296284826576588, null], \"z\": [0.09502498228342302, 0.02762900578252081, null], \"line\": {\"width\": 1, \"color\": \"white\"}, \"hoverinfo\": \"none\", \"mode\": \"lines\"}, {\"type\": \"scatter3d\", \"x\": [0.17301966995753737, 0.19011359226042795, null], \"y\": [0.03343395264610534, -0.03157750363351596, null], \"z\": [0.09502498228342302, -0.02876449690571877, null], \"line\": {\"width\": 1, \"color\": \"white\"}, \"hoverinfo\": \"none\", \"mode\": \"lines\"}, {\"type\": \"scatter3d\", \"x\": [0.17301966995753737, 0.08171157809820943, null], \"y\": [0.03343395264610534, 0.09062485247644866, null], \"z\": [0.09502498228342302, -0.04819826574401871, null], \"line\": {\"width\": 1, \"color\": \"white\"}, \"hoverinfo\": \"none\", \"mode\": \"lines\"}, {\"type\": \"scatter3d\", \"x\": [0.17301966995753737, 0.05111763959501187, null], \"y\": [0.03343395264610534, 0.061827624122324565, null], \"z\": [0.09502498228342302, 0.1073852653359946, null], \"line\": {\"width\": 1, \"color\": \"white\"}, \"hoverinfo\": \"none\", \"mode\": \"lines\"}, {\"type\": \"scatter3d\", \"x\": [0.17301966995753737, 0.1396991382998311, null], \"y\": [0.03343395264610534, 0.13211039749676276, null], \"z\": [0.09502498228342302, 0.036667504346245154, null], \"line\": {\"width\": 1, \"color\": \"white\"}, \"hoverinfo\": \"none\", \"mode\": \"lines\"}, {\"type\": \"scatter3d\", \"x\": [0.17301966995753737, 0.06694941049076106, null], \"y\": [0.03343395264610534, 0.010850575204346926, null], \"z\": [0.09502498228342302, -0.003919914442102045, null], \"line\": {\"width\": 1, \"color\": \"white\"}, \"hoverinfo\": \"none\", \"mode\": \"lines\"}, {\"type\": \"scatter3d\", \"x\": [0.17301966995753737, 0.05481943499907112, null], \"y\": [0.03343395264610534, -0.061170050688860673, null], \"z\": [0.09502498228342302, -0.0148324707403163, null], \"line\": {\"width\": 1, \"color\": \"white\"}, \"hoverinfo\": \"none\", \"mode\": \"lines\"}, {\"type\": \"scatter3d\", \"x\": [0.0676826826973529, 0.02898842012282331, null], \"y\": [0.020027382280947637, 0.0013474462159668336, null], \"z\": [-0.07349607635658016, 0.1168506455324738, null], \"line\": {\"width\": 1, \"color\": \"white\"}, \"hoverinfo\": \"none\", \"mode\": \"lines\"}, {\"type\": \"scatter3d\", \"x\": [0.0676826826973529, -0.058433738424554044, null], \"y\": [0.020027382280947637, -0.01179025137682218, null], \"z\": [-0.07349607635658016, -0.021510363207252674, null], \"line\": {\"width\": 1, \"color\": \"white\"}, \"hoverinfo\": \"none\", \"mode\": \"lines\"}, {\"type\": \"scatter3d\", \"x\": [0.0676826826973529, 0.07139446778532593, null], \"y\": [0.020027382280947637, 0.12838531173079115, null], \"z\": [-0.07349607635658016, 0.01606052036642238, null], \"line\": {\"width\": 1, \"color\": \"white\"}, \"hoverinfo\": \"none\", \"mode\": \"lines\"}, {\"type\": \"scatter3d\", \"x\": [0.0676826826973529, 0.2040653545386135, null], \"y\": [0.020027382280947637, 0.03867151303375133, null], \"z\": [-0.07349607635658016, -0.015719654999540707, null], \"line\": {\"width\": 1, \"color\": \"white\"}, \"hoverinfo\": \"none\", \"mode\": \"lines\"}, {\"type\": \"scatter3d\", \"x\": [0.0676826826973529, 0.08698956797436821, null], \"y\": [0.020027382280947637, -0.03818543608748077, null], \"z\": [-0.07349607635658016, 0.12656041357925446, null], \"line\": {\"width\": 1, \"color\": \"white\"}, \"hoverinfo\": \"none\", \"mode\": \"lines\"}, {\"type\": \"scatter3d\", \"x\": [0.0676826826973529, 0.05111763959501187, null], \"y\": [0.020027382280947637, 0.061827624122324565, null], \"z\": [-0.07349607635658016, 0.1073852653359946, null], \"line\": {\"width\": 1, \"color\": \"white\"}, \"hoverinfo\": \"none\", \"mode\": \"lines\"}, {\"type\": \"scatter3d\", \"x\": [0.0676826826973529, 0.08171157809820943, null], \"y\": [0.020027382280947637, 0.09062485247644866, null], \"z\": [-0.07349607635658016, -0.04819826574401871, null], \"line\": {\"width\": 1, \"color\": \"white\"}, \"hoverinfo\": \"none\", \"mode\": \"lines\"}, {\"type\": \"scatter3d\", \"x\": [0.0676826826973529, 0.20049981714077705, null], \"y\": [0.020027382280947637, 0.09296284826576588, null], \"z\": [-0.07349607635658016, 0.02762900578252081, null], \"line\": {\"width\": 1, \"color\": \"white\"}, \"hoverinfo\": \"none\", \"mode\": \"lines\"}, {\"type\": \"scatter3d\", \"x\": [0.0676826826973529, 0.22161962706438096, null], \"y\": [0.020027382280947637, 0.012632380227110142, null], \"z\": [-0.07349607635658016, 0.06240550933931012, null], \"line\": {\"width\": 1, \"color\": \"white\"}, \"hoverinfo\": \"none\", \"mode\": \"lines\"}, {\"type\": \"scatter3d\", \"x\": [0.0676826826973529, 0.12657890072753847, null], \"y\": [0.020027382280947637, -0.0840705418669723, null], \"z\": [-0.07349607635658016, 0.011079308003001428, null], \"line\": {\"width\": 1, \"color\": \"white\"}, \"hoverinfo\": \"none\", \"mode\": \"lines\"}, {\"type\": \"scatter3d\", \"x\": [0.0676826826973529, 0.06694941049076106, null], \"y\": [0.020027382280947637, 0.010850575204346926, null], \"z\": [-0.07349607635658016, -0.003919914442102045, null], \"line\": {\"width\": 1, \"color\": \"white\"}, \"hoverinfo\": \"none\", \"mode\": \"lines\"}, {\"type\": \"scatter3d\", \"x\": [0.0676826826973529, 0.020499246096886727, null], \"y\": [0.020027382280947637, 0.09634161498327377, null], \"z\": [-0.07349607635658016, 0.06514604016159398, null], \"line\": {\"width\": 1, \"color\": \"white\"}, \"hoverinfo\": \"none\", \"mode\": \"lines\"}, {\"type\": \"scatter3d\", \"x\": [0.0676826826973529, 0.14448585718302293, null], \"y\": [0.020027382280947637, -0.0724728161365025, null], \"z\": [-0.07349607635658016, 0.08521470911714414, null], \"line\": {\"width\": 1, \"color\": \"white\"}, \"hoverinfo\": \"none\", \"mode\": \"lines\"}, {\"type\": \"scatter3d\", \"x\": [0.0676826826973529, 0.1733446336774246, null], \"y\": [0.020027382280947637, 0.09270320526187634, null], \"z\": [-0.07349607635658016, 0.10995807748237776, null], \"line\": {\"width\": 1, \"color\": \"white\"}, \"hoverinfo\": \"none\", \"mode\": \"lines\"}, {\"type\": \"scatter3d\", \"x\": [0.0676826826973529, 0.01320629538927007, null], \"y\": [0.020027382280947637, 0.06653968755803646, null], \"z\": [-0.07349607635658016, -0.0023844290418191267, null], \"line\": {\"width\": 1, \"color\": \"white\"}, \"hoverinfo\": \"none\", \"mode\": \"lines\"}, {\"type\": \"scatter3d\", \"x\": [0.0676826826973529, 0.15571362449872603, null], \"y\": [0.020027382280947637, -0.01373139735063719, null], \"z\": [-0.07349607635658016, 0.1333715053169754, null], \"line\": {\"width\": 1, \"color\": \"white\"}, \"hoverinfo\": \"none\", \"mode\": \"lines\"}, {\"type\": \"scatter3d\", \"x\": [0.0676826826973529, 0.19011359226042795, null], \"y\": [0.020027382280947637, -0.03157750363351596, null], \"z\": [-0.07349607635658016, -0.02876449690571877, null], \"line\": {\"width\": 1, \"color\": \"white\"}, \"hoverinfo\": \"none\", \"mode\": \"lines\"}, {\"type\": \"scatter3d\", \"x\": [0.0676826826973529, 0.1396991382998311, null], \"y\": [0.020027382280947637, 0.13211039749676276, null], \"z\": [-0.07349607635658016, 0.036667504346245154, null], \"line\": {\"width\": 1, \"color\": \"white\"}, \"hoverinfo\": \"none\", \"mode\": \"lines\"}, {\"type\": \"scatter3d\", \"x\": [0.0676826826973529, 0.05481943499907112, null], \"y\": [0.020027382280947637, -0.061170050688860673, null], \"z\": [-0.07349607635658016, -0.0148324707403163, null], \"line\": {\"width\": 1, \"color\": \"white\"}, \"hoverinfo\": \"none\", \"mode\": \"lines\"}, {\"type\": \"scatter3d\", \"x\": [0.12657890072753847, 0.02898842012282331, null], \"y\": [-0.0840705418669723, 0.0013474462159668336, null], \"z\": [0.011079308003001428, 0.1168506455324738, null], \"line\": {\"width\": 1, \"color\": \"white\"}, \"hoverinfo\": \"none\", \"mode\": \"lines\"}, {\"type\": \"scatter3d\", \"x\": [0.12657890072753847, -0.058433738424554044, null], \"y\": [-0.0840705418669723, -0.01179025137682218, null], \"z\": [0.011079308003001428, -0.021510363207252674, null], \"line\": {\"width\": 1, \"color\": \"white\"}, \"hoverinfo\": \"none\", \"mode\": \"lines\"}, {\"type\": \"scatter3d\", \"x\": [0.12657890072753847, 0.07139446778532593, null], \"y\": [-0.0840705418669723, 0.12838531173079115, null], \"z\": [0.011079308003001428, 0.01606052036642238, null], \"line\": {\"width\": 1, \"color\": \"white\"}, \"hoverinfo\": \"none\", \"mode\": \"lines\"}, {\"type\": \"scatter3d\", \"x\": [0.12657890072753847, 0.2040653545386135, null], \"y\": [-0.0840705418669723, 0.03867151303375133, null], \"z\": [0.011079308003001428, -0.015719654999540707, null], \"line\": {\"width\": 1, \"color\": \"white\"}, \"hoverinfo\": \"none\", \"mode\": \"lines\"}, {\"type\": \"scatter3d\", \"x\": [0.12657890072753847, 0.08698956797436821, null], \"y\": [-0.0840705418669723, -0.03818543608748077, null], \"z\": [0.011079308003001428, 0.12656041357925446, null], \"line\": {\"width\": 1, \"color\": \"white\"}, \"hoverinfo\": \"none\", \"mode\": \"lines\"}, {\"type\": \"scatter3d\", \"x\": [0.12657890072753847, 0.05111763959501187, null], \"y\": [-0.0840705418669723, 0.061827624122324565, null], \"z\": [0.011079308003001428, 0.1073852653359946, null], \"line\": {\"width\": 1, \"color\": \"white\"}, \"hoverinfo\": \"none\", \"mode\": \"lines\"}, {\"type\": \"scatter3d\", \"x\": [0.12657890072753847, 0.08171157809820943, null], \"y\": [-0.0840705418669723, 0.09062485247644866, null], \"z\": [0.011079308003001428, -0.04819826574401871, null], \"line\": {\"width\": 1, \"color\": \"white\"}, \"hoverinfo\": \"none\", \"mode\": \"lines\"}, {\"type\": \"scatter3d\", \"x\": [0.12657890072753847, 0.20049981714077705, null], \"y\": [-0.0840705418669723, 0.09296284826576588, null], \"z\": [0.011079308003001428, 0.02762900578252081, null], \"line\": {\"width\": 1, \"color\": \"white\"}, \"hoverinfo\": \"none\", \"mode\": \"lines\"}, {\"type\": \"scatter3d\", \"x\": [0.12657890072753847, 0.22161962706438096, null], \"y\": [-0.0840705418669723, 0.012632380227110142, null], \"z\": [0.011079308003001428, 0.06240550933931012, null], \"line\": {\"width\": 1, \"color\": \"white\"}, \"hoverinfo\": \"none\", \"mode\": \"lines\"}, {\"type\": \"scatter3d\", \"x\": [0.12657890072753847, 0.1733446336774246, null], \"y\": [-0.0840705418669723, 0.09270320526187634, null], \"z\": [0.011079308003001428, 0.10995807748237776, null], \"line\": {\"width\": 1, \"color\": \"white\"}, \"hoverinfo\": \"none\", \"mode\": \"lines\"}, {\"type\": \"scatter3d\", \"x\": [0.12657890072753847, 0.01320629538927007, null], \"y\": [-0.0840705418669723, 0.06653968755803646, null], \"z\": [0.011079308003001428, -0.0023844290418191267, null], \"line\": {\"width\": 1, \"color\": \"white\"}, \"hoverinfo\": \"none\", \"mode\": \"lines\"}, {\"type\": \"scatter3d\", \"x\": [0.12657890072753847, 0.15571362449872603, null], \"y\": [-0.0840705418669723, -0.01373139735063719, null], \"z\": [0.011079308003001428, 0.1333715053169754, null], \"line\": {\"width\": 1, \"color\": \"white\"}, \"hoverinfo\": \"none\", \"mode\": \"lines\"}, {\"type\": \"scatter3d\", \"x\": [0.12657890072753847, 0.020499246096886727, null], \"y\": [-0.0840705418669723, 0.09634161498327377, null], \"z\": [0.011079308003001428, 0.06514604016159398, null], \"line\": {\"width\": 1, \"color\": \"white\"}, \"hoverinfo\": \"none\", \"mode\": \"lines\"}, {\"type\": \"scatter3d\", \"x\": [0.12657890072753847, 0.14448585718302293, null], \"y\": [-0.0840705418669723, -0.0724728161365025, null], \"z\": [0.011079308003001428, 0.08521470911714414, null], \"line\": {\"width\": 1, \"color\": \"white\"}, \"hoverinfo\": \"none\", \"mode\": \"lines\"}, {\"type\": \"scatter3d\", \"x\": [0.12657890072753847, 0.19011359226042795, null], \"y\": [-0.0840705418669723, -0.03157750363351596, null], \"z\": [0.011079308003001428, -0.02876449690571877, null], \"line\": {\"width\": 1, \"color\": \"white\"}, \"hoverinfo\": \"none\", \"mode\": \"lines\"}, {\"type\": \"scatter3d\", \"x\": [0.12657890072753847, 0.1396991382998311, null], \"y\": [-0.0840705418669723, 0.13211039749676276, null], \"z\": [0.011079308003001428, 0.036667504346245154, null], \"line\": {\"width\": 1, \"color\": \"white\"}, \"hoverinfo\": \"none\", \"mode\": \"lines\"}, {\"type\": \"scatter3d\", \"x\": [0.12657890072753847, 0.06694941049076106, null], \"y\": [-0.0840705418669723, 0.010850575204346926, null], \"z\": [0.011079308003001428, -0.003919914442102045, null], \"line\": {\"width\": 1, \"color\": \"white\"}, \"hoverinfo\": \"none\", \"mode\": \"lines\"}, {\"type\": \"scatter3d\", \"x\": [0.12657890072753847, 0.05481943499907112, null], \"y\": [-0.0840705418669723, -0.061170050688860673, null], \"z\": [0.011079308003001428, -0.0148324707403163, null], \"line\": {\"width\": 1, \"color\": \"white\"}, \"hoverinfo\": \"none\", \"mode\": \"lines\"}, {\"type\": \"scatter3d\", \"x\": [0.06694941049076106, 0.02898842012282331, null], \"y\": [0.010850575204346926, 0.0013474462159668336, null], \"z\": [-0.003919914442102045, 0.1168506455324738, null], \"line\": {\"width\": 1, \"color\": \"white\"}, \"hoverinfo\": \"none\", \"mode\": \"lines\"}, {\"type\": \"scatter3d\", \"x\": [0.06694941049076106, -0.058433738424554044, null], \"y\": [0.010850575204346926, -0.01179025137682218, null], \"z\": [-0.003919914442102045, -0.021510363207252674, null], \"line\": {\"width\": 1, \"color\": \"white\"}, \"hoverinfo\": \"none\", \"mode\": \"lines\"}, {\"type\": \"scatter3d\", \"x\": [0.06694941049076106, 0.07139446778532593, null], \"y\": [0.010850575204346926, 0.12838531173079115, null], \"z\": [-0.003919914442102045, 0.01606052036642238, null], \"line\": {\"width\": 1, \"color\": \"white\"}, \"hoverinfo\": \"none\", \"mode\": \"lines\"}, {\"type\": \"scatter3d\", \"x\": [0.06694941049076106, 0.2040653545386135, null], \"y\": [0.010850575204346926, 0.03867151303375133, null], \"z\": [-0.003919914442102045, -0.015719654999540707, null], \"line\": {\"width\": 1, \"color\": \"white\"}, \"hoverinfo\": \"none\", \"mode\": \"lines\"}, {\"type\": \"scatter3d\", \"x\": [0.06694941049076106, 0.08698956797436821, null], \"y\": [0.010850575204346926, -0.03818543608748077, null], \"z\": [-0.003919914442102045, 0.12656041357925446, null], \"line\": {\"width\": 1, \"color\": \"white\"}, \"hoverinfo\": \"none\", \"mode\": \"lines\"}, {\"type\": \"scatter3d\", \"x\": [0.06694941049076106, 0.05111763959501187, null], \"y\": [0.010850575204346926, 0.061827624122324565, null], \"z\": [-0.003919914442102045, 0.1073852653359946, null], \"line\": {\"width\": 1, \"color\": \"white\"}, \"hoverinfo\": \"none\", \"mode\": \"lines\"}, {\"type\": \"scatter3d\", \"x\": [0.06694941049076106, 0.08171157809820943, null], \"y\": [0.010850575204346926, 0.09062485247644866, null], \"z\": [-0.003919914442102045, -0.04819826574401871, null], \"line\": {\"width\": 1, \"color\": \"white\"}, \"hoverinfo\": \"none\", \"mode\": \"lines\"}, {\"type\": \"scatter3d\", \"x\": [0.06694941049076106, 0.20049981714077705, null], \"y\": [0.010850575204346926, 0.09296284826576588, null], \"z\": [-0.003919914442102045, 0.02762900578252081, null], \"line\": {\"width\": 1, \"color\": \"white\"}, \"hoverinfo\": \"none\", \"mode\": \"lines\"}, {\"type\": \"scatter3d\", \"x\": [0.06694941049076106, 0.22161962706438096, null], \"y\": [0.010850575204346926, 0.012632380227110142, null], \"z\": [-0.003919914442102045, 0.06240550933931012, null], \"line\": {\"width\": 1, \"color\": \"white\"}, \"hoverinfo\": \"none\", \"mode\": \"lines\"}, {\"type\": \"scatter3d\", \"x\": [0.06694941049076106, 0.1733446336774246, null], \"y\": [0.010850575204346926, 0.09270320526187634, null], \"z\": [-0.003919914442102045, 0.10995807748237776, null], \"line\": {\"width\": 1, \"color\": \"white\"}, \"hoverinfo\": \"none\", \"mode\": \"lines\"}, {\"type\": \"scatter3d\", \"x\": [0.06694941049076106, 0.01320629538927007, null], \"y\": [0.010850575204346926, 0.06653968755803646, null], \"z\": [-0.003919914442102045, -0.0023844290418191267, null], \"line\": {\"width\": 1, \"color\": \"white\"}, \"hoverinfo\": \"none\", \"mode\": \"lines\"}, {\"type\": \"scatter3d\", \"x\": [0.06694941049076106, 0.15571362449872603, null], \"y\": [0.010850575204346926, -0.01373139735063719, null], \"z\": [-0.003919914442102045, 0.1333715053169754, null], \"line\": {\"width\": 1, \"color\": \"white\"}, \"hoverinfo\": \"none\", \"mode\": \"lines\"}, {\"type\": \"scatter3d\", \"x\": [0.06694941049076106, 0.020499246096886727, null], \"y\": [0.010850575204346926, 0.09634161498327377, null], \"z\": [-0.003919914442102045, 0.06514604016159398, null], \"line\": {\"width\": 1, \"color\": \"white\"}, \"hoverinfo\": \"none\", \"mode\": \"lines\"}, {\"type\": \"scatter3d\", \"x\": [0.06694941049076106, 0.14448585718302293, null], \"y\": [0.010850575204346926, -0.0724728161365025, null], \"z\": [-0.003919914442102045, 0.08521470911714414, null], \"line\": {\"width\": 1, \"color\": \"white\"}, \"hoverinfo\": \"none\", \"mode\": \"lines\"}, {\"type\": \"scatter3d\", \"x\": [0.06694941049076106, 0.19011359226042795, null], \"y\": [0.010850575204346926, -0.03157750363351596, null], \"z\": [-0.003919914442102045, -0.02876449690571877, null], \"line\": {\"width\": 1, \"color\": \"white\"}, \"hoverinfo\": \"none\", \"mode\": \"lines\"}, {\"type\": \"scatter3d\", \"x\": [0.06694941049076106, 0.1396991382998311, null], \"y\": [0.010850575204346926, 0.13211039749676276, null], \"z\": [-0.003919914442102045, 0.036667504346245154, null], \"line\": {\"width\": 1, \"color\": \"white\"}, \"hoverinfo\": \"none\", \"mode\": \"lines\"}, {\"type\": \"scatter3d\", \"x\": [0.06694941049076106, 0.05481943499907112, null], \"y\": [0.010850575204346926, -0.061170050688860673, null], \"z\": [-0.003919914442102045, -0.0148324707403163, null], \"line\": {\"width\": 1, \"color\": \"white\"}, \"hoverinfo\": \"none\", \"mode\": \"lines\"}, {\"type\": \"scatter3d\", \"x\": [0.1733446336774246, 0.02898842012282331, null], \"y\": [0.09270320526187634, 0.0013474462159668336, null], \"z\": [0.10995807748237776, 0.1168506455324738, null], \"line\": {\"width\": 1, \"color\": \"white\"}, \"hoverinfo\": \"none\", \"mode\": \"lines\"}, {\"type\": \"scatter3d\", \"x\": [0.1733446336774246, -0.058433738424554044, null], \"y\": [0.09270320526187634, -0.01179025137682218, null], \"z\": [0.10995807748237776, -0.021510363207252674, null], \"line\": {\"width\": 1, \"color\": \"white\"}, \"hoverinfo\": \"none\", \"mode\": \"lines\"}, {\"type\": \"scatter3d\", \"x\": [0.1733446336774246, 0.07139446778532593, null], \"y\": [0.09270320526187634, 0.12838531173079115, null], \"z\": [0.10995807748237776, 0.01606052036642238, null], \"line\": {\"width\": 1, \"color\": \"white\"}, \"hoverinfo\": \"none\", \"mode\": \"lines\"}, {\"type\": \"scatter3d\", \"x\": [0.1733446336774246, 0.2040653545386135, null], \"y\": [0.09270320526187634, 0.03867151303375133, null], \"z\": [0.10995807748237776, -0.015719654999540707, null], \"line\": {\"width\": 1, \"color\": \"white\"}, \"hoverinfo\": \"none\", \"mode\": \"lines\"}, {\"type\": \"scatter3d\", \"x\": [0.1733446336774246, 0.08698956797436821, null], \"y\": [0.09270320526187634, -0.03818543608748077, null], \"z\": [0.10995807748237776, 0.12656041357925446, null], \"line\": {\"width\": 1, \"color\": \"white\"}, \"hoverinfo\": \"none\", \"mode\": \"lines\"}, {\"type\": \"scatter3d\", \"x\": [0.1733446336774246, 0.05111763959501187, null], \"y\": [0.09270320526187634, 0.061827624122324565, null], \"z\": [0.10995807748237776, 0.1073852653359946, null], \"line\": {\"width\": 1, \"color\": \"white\"}, \"hoverinfo\": \"none\", \"mode\": \"lines\"}, {\"type\": \"scatter3d\", \"x\": [0.1733446336774246, 0.08171157809820943, null], \"y\": [0.09270320526187634, 0.09062485247644866, null], \"z\": [0.10995807748237776, -0.04819826574401871, null], \"line\": {\"width\": 1, \"color\": \"white\"}, \"hoverinfo\": \"none\", \"mode\": \"lines\"}, {\"type\": \"scatter3d\", \"x\": [0.1733446336774246, 0.20049981714077705, null], \"y\": [0.09270320526187634, 0.09296284826576588, null], \"z\": [0.10995807748237776, 0.02762900578252081, null], \"line\": {\"width\": 1, \"color\": \"white\"}, \"hoverinfo\": \"none\", \"mode\": \"lines\"}, {\"type\": \"scatter3d\", \"x\": [0.1733446336774246, 0.22161962706438096, null], \"y\": [0.09270320526187634, 0.012632380227110142, null], \"z\": [0.10995807748237776, 0.06240550933931012, null], \"line\": {\"width\": 1, \"color\": \"white\"}, \"hoverinfo\": \"none\", \"mode\": \"lines\"}, {\"type\": \"scatter3d\", \"x\": [0.1733446336774246, 0.020499246096886727, null], \"y\": [0.09270320526187634, 0.09634161498327377, null], \"z\": [0.10995807748237776, 0.06514604016159398, null], \"line\": {\"width\": 1, \"color\": \"white\"}, \"hoverinfo\": \"none\", \"mode\": \"lines\"}, {\"type\": \"scatter3d\", \"x\": [0.1733446336774246, 0.14448585718302293, null], \"y\": [0.09270320526187634, -0.0724728161365025, null], \"z\": [0.10995807748237776, 0.08521470911714414, null], \"line\": {\"width\": 1, \"color\": \"white\"}, \"hoverinfo\": \"none\", \"mode\": \"lines\"}, {\"type\": \"scatter3d\", \"x\": [0.1733446336774246, 0.05481943499907112, null], \"y\": [0.09270320526187634, -0.061170050688860673, null], \"z\": [0.10995807748237776, -0.0148324707403163, null], \"line\": {\"width\": 1, \"color\": \"white\"}, \"hoverinfo\": \"none\", \"mode\": \"lines\"}, {\"type\": \"scatter3d\", \"x\": [0.1733446336774246, 0.19011359226042795, null], \"y\": [0.09270320526187634, -0.03157750363351596, null], \"z\": [0.10995807748237776, -0.02876449690571877, null], \"line\": {\"width\": 1, \"color\": \"white\"}, \"hoverinfo\": \"none\", \"mode\": \"lines\"}, {\"type\": \"scatter3d\", \"x\": [0.1733446336774246, 0.1396991382998311, null], \"y\": [0.09270320526187634, 0.13211039749676276, null], \"z\": [0.10995807748237776, 0.036667504346245154, null], \"line\": {\"width\": 1, \"color\": \"white\"}, \"hoverinfo\": \"none\", \"mode\": \"lines\"}, {\"type\": \"scatter3d\", \"x\": [0.1733446336774246, 0.15571362449872603, null], \"y\": [0.09270320526187634, -0.01373139735063719, null], \"z\": [0.10995807748237776, 0.1333715053169754, null], \"line\": {\"width\": 1, \"color\": \"white\"}, \"hoverinfo\": \"none\", \"mode\": \"lines\"}, {\"type\": \"scatter3d\", \"x\": [0.1733446336774246, 0.01320629538927007, null], \"y\": [0.09270320526187634, 0.06653968755803646, null], \"z\": [0.10995807748237776, -0.0023844290418191267, null], \"line\": {\"width\": 1, \"color\": \"white\"}, \"hoverinfo\": \"none\", \"mode\": \"lines\"}, {\"type\": \"scatter3d\", \"x\": [0.01320629538927007, 0.02898842012282331, null], \"y\": [0.06653968755803646, 0.0013474462159668336, null], \"z\": [-0.0023844290418191267, 0.1168506455324738, null], \"line\": {\"width\": 1, \"color\": \"white\"}, \"hoverinfo\": \"none\", \"mode\": \"lines\"}, {\"type\": \"scatter3d\", \"x\": [0.01320629538927007, -0.058433738424554044, null], \"y\": [0.06653968755803646, -0.01179025137682218, null], \"z\": [-0.0023844290418191267, -0.021510363207252674, null], \"line\": {\"width\": 1, \"color\": \"white\"}, \"hoverinfo\": \"none\", \"mode\": \"lines\"}, {\"type\": \"scatter3d\", \"x\": [0.01320629538927007, 0.07139446778532593, null], \"y\": [0.06653968755803646, 0.12838531173079115, null], \"z\": [-0.0023844290418191267, 0.01606052036642238, null], \"line\": {\"width\": 1, \"color\": \"white\"}, \"hoverinfo\": \"none\", \"mode\": \"lines\"}, {\"type\": \"scatter3d\", \"x\": [0.01320629538927007, 0.2040653545386135, null], \"y\": [0.06653968755803646, 0.03867151303375133, null], \"z\": [-0.0023844290418191267, -0.015719654999540707, null], \"line\": {\"width\": 1, \"color\": \"white\"}, \"hoverinfo\": \"none\", \"mode\": \"lines\"}, {\"type\": \"scatter3d\", \"x\": [0.01320629538927007, 0.08698956797436821, null], \"y\": [0.06653968755803646, -0.03818543608748077, null], \"z\": [-0.0023844290418191267, 0.12656041357925446, null], \"line\": {\"width\": 1, \"color\": \"white\"}, \"hoverinfo\": \"none\", \"mode\": \"lines\"}, {\"type\": \"scatter3d\", \"x\": [0.01320629538927007, 0.05111763959501187, null], \"y\": [0.06653968755803646, 0.061827624122324565, null], \"z\": [-0.0023844290418191267, 0.1073852653359946, null], \"line\": {\"width\": 1, \"color\": \"white\"}, \"hoverinfo\": \"none\", \"mode\": \"lines\"}, {\"type\": \"scatter3d\", \"x\": [0.01320629538927007, 0.08171157809820943, null], \"y\": [0.06653968755803646, 0.09062485247644866, null], \"z\": [-0.0023844290418191267, -0.04819826574401871, null], \"line\": {\"width\": 1, \"color\": \"white\"}, \"hoverinfo\": \"none\", \"mode\": \"lines\"}, {\"type\": \"scatter3d\", \"x\": [0.01320629538927007, 0.20049981714077705, null], \"y\": [0.06653968755803646, 0.09296284826576588, null], \"z\": [-0.0023844290418191267, 0.02762900578252081, null], \"line\": {\"width\": 1, \"color\": \"white\"}, \"hoverinfo\": \"none\", \"mode\": \"lines\"}, {\"type\": \"scatter3d\", \"x\": [0.01320629538927007, 0.22161962706438096, null], \"y\": [0.06653968755803646, 0.012632380227110142, null], \"z\": [-0.0023844290418191267, 0.06240550933931012, null], \"line\": {\"width\": 1, \"color\": \"white\"}, \"hoverinfo\": \"none\", \"mode\": \"lines\"}, {\"type\": \"scatter3d\", \"x\": [0.01320629538927007, 0.020499246096886727, null], \"y\": [0.06653968755803646, 0.09634161498327377, null], \"z\": [-0.0023844290418191267, 0.06514604016159398, null], \"line\": {\"width\": 1, \"color\": \"white\"}, \"hoverinfo\": \"none\", \"mode\": \"lines\"}, {\"type\": \"scatter3d\", \"x\": [0.01320629538927007, 0.14448585718302293, null], \"y\": [0.06653968755803646, -0.0724728161365025, null], \"z\": [-0.0023844290418191267, 0.08521470911714414, null], \"line\": {\"width\": 1, \"color\": \"white\"}, \"hoverinfo\": \"none\", \"mode\": \"lines\"}, {\"type\": \"scatter3d\", \"x\": [0.01320629538927007, 0.05481943499907112, null], \"y\": [0.06653968755803646, -0.061170050688860673, null], \"z\": [-0.0023844290418191267, -0.0148324707403163, null], \"line\": {\"width\": 1, \"color\": \"white\"}, \"hoverinfo\": \"none\", \"mode\": \"lines\"}, {\"type\": \"scatter3d\", \"x\": [0.01320629538927007, 0.19011359226042795, null], \"y\": [0.06653968755803646, -0.03157750363351596, null], \"z\": [-0.0023844290418191267, -0.02876449690571877, null], \"line\": {\"width\": 1, \"color\": \"white\"}, \"hoverinfo\": \"none\", \"mode\": \"lines\"}, {\"type\": \"scatter3d\", \"x\": [0.01320629538927007, 0.1396991382998311, null], \"y\": [0.06653968755803646, 0.13211039749676276, null], \"z\": [-0.0023844290418191267, 0.036667504346245154, null], \"line\": {\"width\": 1, \"color\": \"white\"}, \"hoverinfo\": \"none\", \"mode\": \"lines\"}, {\"type\": \"scatter3d\", \"x\": [0.01320629538927007, 0.15571362449872603, null], \"y\": [0.06653968755803646, -0.01373139735063719, null], \"z\": [-0.0023844290418191267, 0.1333715053169754, null], \"line\": {\"width\": 1, \"color\": \"white\"}, \"hoverinfo\": \"none\", \"mode\": \"lines\"}, {\"type\": \"scatter3d\", \"x\": [0.15571362449872603, 0.02898842012282331, null], \"y\": [-0.01373139735063719, 0.0013474462159668336, null], \"z\": [0.1333715053169754, 0.1168506455324738, null], \"line\": {\"width\": 1, \"color\": \"white\"}, \"hoverinfo\": \"none\", \"mode\": \"lines\"}, {\"type\": \"scatter3d\", \"x\": [0.15571362449872603, -0.058433738424554044, null], \"y\": [-0.01373139735063719, -0.01179025137682218, null], \"z\": [0.1333715053169754, -0.021510363207252674, null], \"line\": {\"width\": 1, \"color\": \"white\"}, \"hoverinfo\": \"none\", \"mode\": \"lines\"}, {\"type\": \"scatter3d\", \"x\": [0.15571362449872603, 0.07139446778532593, null], \"y\": [-0.01373139735063719, 0.12838531173079115, null], \"z\": [0.1333715053169754, 0.01606052036642238, null], \"line\": {\"width\": 1, \"color\": \"white\"}, \"hoverinfo\": \"none\", \"mode\": \"lines\"}, {\"type\": \"scatter3d\", \"x\": [0.15571362449872603, 0.2040653545386135, null], \"y\": [-0.01373139735063719, 0.03867151303375133, null], \"z\": [0.1333715053169754, -0.015719654999540707, null], \"line\": {\"width\": 1, \"color\": \"white\"}, \"hoverinfo\": \"none\", \"mode\": \"lines\"}, {\"type\": \"scatter3d\", \"x\": [0.15571362449872603, 0.08698956797436821, null], \"y\": [-0.01373139735063719, -0.03818543608748077, null], \"z\": [0.1333715053169754, 0.12656041357925446, null], \"line\": {\"width\": 1, \"color\": \"white\"}, \"hoverinfo\": \"none\", \"mode\": \"lines\"}, {\"type\": \"scatter3d\", \"x\": [0.15571362449872603, 0.05111763959501187, null], \"y\": [-0.01373139735063719, 0.061827624122324565, null], \"z\": [0.1333715053169754, 0.1073852653359946, null], \"line\": {\"width\": 1, \"color\": \"white\"}, \"hoverinfo\": \"none\", \"mode\": \"lines\"}, {\"type\": \"scatter3d\", \"x\": [0.15571362449872603, 0.08171157809820943, null], \"y\": [-0.01373139735063719, 0.09062485247644866, null], \"z\": [0.1333715053169754, -0.04819826574401871, null], \"line\": {\"width\": 1, \"color\": \"white\"}, \"hoverinfo\": \"none\", \"mode\": \"lines\"}, {\"type\": \"scatter3d\", \"x\": [0.15571362449872603, 0.20049981714077705, null], \"y\": [-0.01373139735063719, 0.09296284826576588, null], \"z\": [0.1333715053169754, 0.02762900578252081, null], \"line\": {\"width\": 1, \"color\": \"white\"}, \"hoverinfo\": \"none\", \"mode\": \"lines\"}, {\"type\": \"scatter3d\", \"x\": [0.15571362449872603, 0.22161962706438096, null], \"y\": [-0.01373139735063719, 0.012632380227110142, null], \"z\": [0.1333715053169754, 0.06240550933931012, null], \"line\": {\"width\": 1, \"color\": \"white\"}, \"hoverinfo\": \"none\", \"mode\": \"lines\"}, {\"type\": \"scatter3d\", \"x\": [0.15571362449872603, 0.020499246096886727, null], \"y\": [-0.01373139735063719, 0.09634161498327377, null], \"z\": [0.1333715053169754, 0.06514604016159398, null], \"line\": {\"width\": 1, \"color\": \"white\"}, \"hoverinfo\": \"none\", \"mode\": \"lines\"}, {\"type\": \"scatter3d\", \"x\": [0.15571362449872603, 0.14448585718302293, null], \"y\": [-0.01373139735063719, -0.0724728161365025, null], \"z\": [0.1333715053169754, 0.08521470911714414, null], \"line\": {\"width\": 1, \"color\": \"white\"}, \"hoverinfo\": \"none\", \"mode\": \"lines\"}, {\"type\": \"scatter3d\", \"x\": [0.15571362449872603, 0.05481943499907112, null], \"y\": [-0.01373139735063719, -0.061170050688860673, null], \"z\": [0.1333715053169754, -0.0148324707403163, null], \"line\": {\"width\": 1, \"color\": \"white\"}, \"hoverinfo\": \"none\", \"mode\": \"lines\"}, {\"type\": \"scatter3d\", \"x\": [0.15571362449872603, 0.19011359226042795, null], \"y\": [-0.01373139735063719, -0.03157750363351596, null], \"z\": [0.1333715053169754, -0.02876449690571877, null], \"line\": {\"width\": 1, \"color\": \"white\"}, \"hoverinfo\": \"none\", \"mode\": \"lines\"}, {\"type\": \"scatter3d\", \"x\": [0.15571362449872603, 0.1396991382998311, null], \"y\": [-0.01373139735063719, 0.13211039749676276, null], \"z\": [0.1333715053169754, 0.036667504346245154, null], \"line\": {\"width\": 1, \"color\": \"white\"}, \"hoverinfo\": \"none\", \"mode\": \"lines\"}, {\"type\": \"scatter3d\", \"x\": [0.22161962706438096, 0.02898842012282331, null], \"y\": [0.012632380227110142, 0.0013474462159668336, null], \"z\": [0.06240550933931012, 0.1168506455324738, null], \"line\": {\"width\": 1, \"color\": \"white\"}, \"hoverinfo\": \"none\", \"mode\": \"lines\"}, {\"type\": \"scatter3d\", \"x\": [0.22161962706438096, -0.058433738424554044, null], \"y\": [0.012632380227110142, -0.01179025137682218, null], \"z\": [0.06240550933931012, -0.021510363207252674, null], \"line\": {\"width\": 1, \"color\": \"white\"}, \"hoverinfo\": \"none\", \"mode\": \"lines\"}, {\"type\": \"scatter3d\", \"x\": [0.22161962706438096, 0.07139446778532593, null], \"y\": [0.012632380227110142, 0.12838531173079115, null], \"z\": [0.06240550933931012, 0.01606052036642238, null], \"line\": {\"width\": 1, \"color\": \"white\"}, \"hoverinfo\": \"none\", \"mode\": \"lines\"}, {\"type\": \"scatter3d\", \"x\": [0.22161962706438096, 0.2040653545386135, null], \"y\": [0.012632380227110142, 0.03867151303375133, null], \"z\": [0.06240550933931012, -0.015719654999540707, null], \"line\": {\"width\": 1, \"color\": \"white\"}, \"hoverinfo\": \"none\", \"mode\": \"lines\"}, {\"type\": \"scatter3d\", \"x\": [0.22161962706438096, 0.08698956797436821, null], \"y\": [0.012632380227110142, -0.03818543608748077, null], \"z\": [0.06240550933931012, 0.12656041357925446, null], \"line\": {\"width\": 1, \"color\": \"white\"}, \"hoverinfo\": \"none\", \"mode\": \"lines\"}, {\"type\": \"scatter3d\", \"x\": [0.22161962706438096, 0.05111763959501187, null], \"y\": [0.012632380227110142, 0.061827624122324565, null], \"z\": [0.06240550933931012, 0.1073852653359946, null], \"line\": {\"width\": 1, \"color\": \"white\"}, \"hoverinfo\": \"none\", \"mode\": \"lines\"}, {\"type\": \"scatter3d\", \"x\": [0.22161962706438096, 0.08171157809820943, null], \"y\": [0.012632380227110142, 0.09062485247644866, null], \"z\": [0.06240550933931012, -0.04819826574401871, null], \"line\": {\"width\": 1, \"color\": \"white\"}, \"hoverinfo\": \"none\", \"mode\": \"lines\"}, {\"type\": \"scatter3d\", \"x\": [0.22161962706438096, 0.20049981714077705, null], \"y\": [0.012632380227110142, 0.09296284826576588, null], \"z\": [0.06240550933931012, 0.02762900578252081, null], \"line\": {\"width\": 1, \"color\": \"white\"}, \"hoverinfo\": \"none\", \"mode\": \"lines\"}, {\"type\": \"scatter3d\", \"x\": [0.22161962706438096, 0.020499246096886727, null], \"y\": [0.012632380227110142, 0.09634161498327377, null], \"z\": [0.06240550933931012, 0.06514604016159398, null], \"line\": {\"width\": 1, \"color\": \"white\"}, \"hoverinfo\": \"none\", \"mode\": \"lines\"}, {\"type\": \"scatter3d\", \"x\": [0.22161962706438096, 0.14448585718302293, null], \"y\": [0.012632380227110142, -0.0724728161365025, null], \"z\": [0.06240550933931012, 0.08521470911714414, null], \"line\": {\"width\": 1, \"color\": \"white\"}, \"hoverinfo\": \"none\", \"mode\": \"lines\"}, {\"type\": \"scatter3d\", \"x\": [0.22161962706438096, 0.19011359226042795, null], \"y\": [0.012632380227110142, -0.03157750363351596, null], \"z\": [0.06240550933931012, -0.02876449690571877, null], \"line\": {\"width\": 1, \"color\": \"white\"}, \"hoverinfo\": \"none\", \"mode\": \"lines\"}, {\"type\": \"scatter3d\", \"x\": [0.22161962706438096, 0.1396991382998311, null], \"y\": [0.012632380227110142, 0.13211039749676276, null], \"z\": [0.06240550933931012, 0.036667504346245154, null], \"line\": {\"width\": 1, \"color\": \"white\"}, \"hoverinfo\": \"none\", \"mode\": \"lines\"}, {\"type\": \"scatter3d\", \"x\": [0.22161962706438096, 0.05481943499907112, null], \"y\": [0.012632380227110142, -0.061170050688860673, null], \"z\": [0.06240550933931012, -0.0148324707403163, null], \"line\": {\"width\": 1, \"color\": \"white\"}, \"hoverinfo\": \"none\", \"mode\": \"lines\"}, {\"type\": \"scatter3d\", \"x\": [0.020499246096886727, 0.02898842012282331, null], \"y\": [0.09634161498327377, 0.0013474462159668336, null], \"z\": [0.06514604016159398, 0.1168506455324738, null], \"line\": {\"width\": 1, \"color\": \"white\"}, \"hoverinfo\": \"none\", \"mode\": \"lines\"}, {\"type\": \"scatter3d\", \"x\": [0.020499246096886727, -0.058433738424554044, null], \"y\": [0.09634161498327377, -0.01179025137682218, null], \"z\": [0.06514604016159398, -0.021510363207252674, null], \"line\": {\"width\": 1, \"color\": \"white\"}, \"hoverinfo\": \"none\", \"mode\": \"lines\"}, {\"type\": \"scatter3d\", \"x\": [0.020499246096886727, 0.07139446778532593, null], \"y\": [0.09634161498327377, 0.12838531173079115, null], \"z\": [0.06514604016159398, 0.01606052036642238, null], \"line\": {\"width\": 1, \"color\": \"white\"}, \"hoverinfo\": \"none\", \"mode\": \"lines\"}, {\"type\": \"scatter3d\", \"x\": [0.020499246096886727, 0.2040653545386135, null], \"y\": [0.09634161498327377, 0.03867151303375133, null], \"z\": [0.06514604016159398, -0.015719654999540707, null], \"line\": {\"width\": 1, \"color\": \"white\"}, \"hoverinfo\": \"none\", \"mode\": \"lines\"}, {\"type\": \"scatter3d\", \"x\": [0.020499246096886727, 0.08698956797436821, null], \"y\": [0.09634161498327377, -0.03818543608748077, null], \"z\": [0.06514604016159398, 0.12656041357925446, null], \"line\": {\"width\": 1, \"color\": \"white\"}, \"hoverinfo\": \"none\", \"mode\": \"lines\"}, {\"type\": \"scatter3d\", \"x\": [0.020499246096886727, 0.05111763959501187, null], \"y\": [0.09634161498327377, 0.061827624122324565, null], \"z\": [0.06514604016159398, 0.1073852653359946, null], \"line\": {\"width\": 1, \"color\": \"white\"}, \"hoverinfo\": \"none\", \"mode\": \"lines\"}, {\"type\": \"scatter3d\", \"x\": [0.020499246096886727, 0.08171157809820943, null], \"y\": [0.09634161498327377, 0.09062485247644866, null], \"z\": [0.06514604016159398, -0.04819826574401871, null], \"line\": {\"width\": 1, \"color\": \"white\"}, \"hoverinfo\": \"none\", \"mode\": \"lines\"}, {\"type\": \"scatter3d\", \"x\": [0.020499246096886727, 0.20049981714077705, null], \"y\": [0.09634161498327377, 0.09296284826576588, null], \"z\": [0.06514604016159398, 0.02762900578252081, null], \"line\": {\"width\": 1, \"color\": \"white\"}, \"hoverinfo\": \"none\", \"mode\": \"lines\"}, {\"type\": \"scatter3d\", \"x\": [0.020499246096886727, 0.14448585718302293, null], \"y\": [0.09634161498327377, -0.0724728161365025, null], \"z\": [0.06514604016159398, 0.08521470911714414, null], \"line\": {\"width\": 1, \"color\": \"white\"}, \"hoverinfo\": \"none\", \"mode\": \"lines\"}, {\"type\": \"scatter3d\", \"x\": [0.020499246096886727, 0.19011359226042795, null], \"y\": [0.09634161498327377, -0.03157750363351596, null], \"z\": [0.06514604016159398, -0.02876449690571877, null], \"line\": {\"width\": 1, \"color\": \"white\"}, \"hoverinfo\": \"none\", \"mode\": \"lines\"}, {\"type\": \"scatter3d\", \"x\": [0.020499246096886727, 0.1396991382998311, null], \"y\": [0.09634161498327377, 0.13211039749676276, null], \"z\": [0.06514604016159398, 0.036667504346245154, null], \"line\": {\"width\": 1, \"color\": \"white\"}, \"hoverinfo\": \"none\", \"mode\": \"lines\"}, {\"type\": \"scatter3d\", \"x\": [0.020499246096886727, 0.05481943499907112, null], \"y\": [0.09634161498327377, -0.061170050688860673, null], \"z\": [0.06514604016159398, -0.0148324707403163, null], \"line\": {\"width\": 1, \"color\": \"white\"}, \"hoverinfo\": \"none\", \"mode\": \"lines\"}, {\"type\": \"scatter3d\", \"x\": [0.14448585718302293, 0.02898842012282331, null], \"y\": [-0.0724728161365025, 0.0013474462159668336, null], \"z\": [0.08521470911714414, 0.1168506455324738, null], \"line\": {\"width\": 1, \"color\": \"white\"}, \"hoverinfo\": \"none\", \"mode\": \"lines\"}, {\"type\": \"scatter3d\", \"x\": [0.14448585718302293, -0.058433738424554044, null], \"y\": [-0.0724728161365025, -0.01179025137682218, null], \"z\": [0.08521470911714414, -0.021510363207252674, null], \"line\": {\"width\": 1, \"color\": \"white\"}, \"hoverinfo\": \"none\", \"mode\": \"lines\"}, {\"type\": \"scatter3d\", \"x\": [0.14448585718302293, 0.07139446778532593, null], \"y\": [-0.0724728161365025, 0.12838531173079115, null], \"z\": [0.08521470911714414, 0.01606052036642238, null], \"line\": {\"width\": 1, \"color\": \"white\"}, \"hoverinfo\": \"none\", \"mode\": \"lines\"}, {\"type\": \"scatter3d\", \"x\": [0.14448585718302293, 0.2040653545386135, null], \"y\": [-0.0724728161365025, 0.03867151303375133, null], \"z\": [0.08521470911714414, -0.015719654999540707, null], \"line\": {\"width\": 1, \"color\": \"white\"}, \"hoverinfo\": \"none\", \"mode\": \"lines\"}, {\"type\": \"scatter3d\", \"x\": [0.14448585718302293, 0.08698956797436821, null], \"y\": [-0.0724728161365025, -0.03818543608748077, null], \"z\": [0.08521470911714414, 0.12656041357925446, null], \"line\": {\"width\": 1, \"color\": \"white\"}, \"hoverinfo\": \"none\", \"mode\": \"lines\"}, {\"type\": \"scatter3d\", \"x\": [0.14448585718302293, 0.05111763959501187, null], \"y\": [-0.0724728161365025, 0.061827624122324565, null], \"z\": [0.08521470911714414, 0.1073852653359946, null], \"line\": {\"width\": 1, \"color\": \"white\"}, \"hoverinfo\": \"none\", \"mode\": \"lines\"}, {\"type\": \"scatter3d\", \"x\": [0.14448585718302293, 0.08171157809820943, null], \"y\": [-0.0724728161365025, 0.09062485247644866, null], \"z\": [0.08521470911714414, -0.04819826574401871, null], \"line\": {\"width\": 1, \"color\": \"white\"}, \"hoverinfo\": \"none\", \"mode\": \"lines\"}, {\"type\": \"scatter3d\", \"x\": [0.14448585718302293, 0.20049981714077705, null], \"y\": [-0.0724728161365025, 0.09296284826576588, null], \"z\": [0.08521470911714414, 0.02762900578252081, null], \"line\": {\"width\": 1, \"color\": \"white\"}, \"hoverinfo\": \"none\", \"mode\": \"lines\"}, {\"type\": \"scatter3d\", \"x\": [0.14448585718302293, 0.19011359226042795, null], \"y\": [-0.0724728161365025, -0.03157750363351596, null], \"z\": [0.08521470911714414, -0.02876449690571877, null], \"line\": {\"width\": 1, \"color\": \"white\"}, \"hoverinfo\": \"none\", \"mode\": \"lines\"}, {\"type\": \"scatter3d\", \"x\": [0.14448585718302293, 0.1396991382998311, null], \"y\": [-0.0724728161365025, 0.13211039749676276, null], \"z\": [0.08521470911714414, 0.036667504346245154, null], \"line\": {\"width\": 1, \"color\": \"white\"}, \"hoverinfo\": \"none\", \"mode\": \"lines\"}, {\"type\": \"scatter3d\", \"x\": [0.14448585718302293, 0.05481943499907112, null], \"y\": [-0.0724728161365025, -0.061170050688860673, null], \"z\": [0.08521470911714414, -0.0148324707403163, null], \"line\": {\"width\": 1, \"color\": \"white\"}, \"hoverinfo\": \"none\", \"mode\": \"lines\"}, {\"type\": \"scatter3d\", \"x\": [0.20049981714077705, 0.02898842012282331, null], \"y\": [0.09296284826576588, 0.0013474462159668336, null], \"z\": [0.02762900578252081, 0.1168506455324738, null], \"line\": {\"width\": 1, \"color\": \"white\"}, \"hoverinfo\": \"none\", \"mode\": \"lines\"}, {\"type\": \"scatter3d\", \"x\": [0.20049981714077705, -0.058433738424554044, null], \"y\": [0.09296284826576588, -0.01179025137682218, null], \"z\": [0.02762900578252081, -0.021510363207252674, null], \"line\": {\"width\": 1, \"color\": \"white\"}, \"hoverinfo\": \"none\", \"mode\": \"lines\"}, {\"type\": \"scatter3d\", \"x\": [0.20049981714077705, 0.07139446778532593, null], \"y\": [0.09296284826576588, 0.12838531173079115, null], \"z\": [0.02762900578252081, 0.01606052036642238, null], \"line\": {\"width\": 1, \"color\": \"white\"}, \"hoverinfo\": \"none\", \"mode\": \"lines\"}, {\"type\": \"scatter3d\", \"x\": [0.20049981714077705, 0.2040653545386135, null], \"y\": [0.09296284826576588, 0.03867151303375133, null], \"z\": [0.02762900578252081, -0.015719654999540707, null], \"line\": {\"width\": 1, \"color\": \"white\"}, \"hoverinfo\": \"none\", \"mode\": \"lines\"}, {\"type\": \"scatter3d\", \"x\": [0.20049981714077705, 0.08698956797436821, null], \"y\": [0.09296284826576588, -0.03818543608748077, null], \"z\": [0.02762900578252081, 0.12656041357925446, null], \"line\": {\"width\": 1, \"color\": \"white\"}, \"hoverinfo\": \"none\", \"mode\": \"lines\"}, {\"type\": \"scatter3d\", \"x\": [0.20049981714077705, 0.05111763959501187, null], \"y\": [0.09296284826576588, 0.061827624122324565, null], \"z\": [0.02762900578252081, 0.1073852653359946, null], \"line\": {\"width\": 1, \"color\": \"white\"}, \"hoverinfo\": \"none\", \"mode\": \"lines\"}, {\"type\": \"scatter3d\", \"x\": [0.20049981714077705, 0.08171157809820943, null], \"y\": [0.09296284826576588, 0.09062485247644866, null], \"z\": [0.02762900578252081, -0.04819826574401871, null], \"line\": {\"width\": 1, \"color\": \"white\"}, \"hoverinfo\": \"none\", \"mode\": \"lines\"}, {\"type\": \"scatter3d\", \"x\": [0.20049981714077705, 0.19011359226042795, null], \"y\": [0.09296284826576588, -0.03157750363351596, null], \"z\": [0.02762900578252081, -0.02876449690571877, null], \"line\": {\"width\": 1, \"color\": \"white\"}, \"hoverinfo\": \"none\", \"mode\": \"lines\"}, {\"type\": \"scatter3d\", \"x\": [0.20049981714077705, 0.1396991382998311, null], \"y\": [0.09296284826576588, 0.13211039749676276, null], \"z\": [0.02762900578252081, 0.036667504346245154, null], \"line\": {\"width\": 1, \"color\": \"white\"}, \"hoverinfo\": \"none\", \"mode\": \"lines\"}, {\"type\": \"scatter3d\", \"x\": [0.20049981714077705, 0.05481943499907112, null], \"y\": [0.09296284826576588, -0.061170050688860673, null], \"z\": [0.02762900578252081, -0.0148324707403163, null], \"line\": {\"width\": 1, \"color\": \"white\"}, \"hoverinfo\": \"none\", \"mode\": \"lines\"}, {\"type\": \"scatter3d\", \"x\": [0.02898842012282331, 0.19011359226042795, null], \"y\": [0.0013474462159668336, -0.03157750363351596, null], \"z\": [0.1168506455324738, -0.02876449690571877, null], \"line\": {\"width\": 1, \"color\": \"white\"}, \"hoverinfo\": \"none\", \"mode\": \"lines\"}, {\"type\": \"scatter3d\", \"x\": [0.02898842012282331, -0.058433738424554044, null], \"y\": [0.0013474462159668336, -0.01179025137682218, null], \"z\": [0.1168506455324738, -0.021510363207252674, null], \"line\": {\"width\": 1, \"color\": \"white\"}, \"hoverinfo\": \"none\", \"mode\": \"lines\"}, {\"type\": \"scatter3d\", \"x\": [0.02898842012282331, 0.08171157809820943, null], \"y\": [0.0013474462159668336, 0.09062485247644866, null], \"z\": [0.1168506455324738, -0.04819826574401871, null], \"line\": {\"width\": 1, \"color\": \"white\"}, \"hoverinfo\": \"none\", \"mode\": \"lines\"}, {\"type\": \"scatter3d\", \"x\": [0.02898842012282331, 0.05111763959501187, null], \"y\": [0.0013474462159668336, 0.061827624122324565, null], \"z\": [0.1168506455324738, 0.1073852653359946, null], \"line\": {\"width\": 1, \"color\": \"white\"}, \"hoverinfo\": \"none\", \"mode\": \"lines\"}, {\"type\": \"scatter3d\", \"x\": [0.02898842012282331, 0.1396991382998311, null], \"y\": [0.0013474462159668336, 0.13211039749676276, null], \"z\": [0.1168506455324738, 0.036667504346245154, null], \"line\": {\"width\": 1, \"color\": \"white\"}, \"hoverinfo\": \"none\", \"mode\": \"lines\"}, {\"type\": \"scatter3d\", \"x\": [0.02898842012282331, 0.08698956797436821, null], \"y\": [0.0013474462159668336, -0.03818543608748077, null], \"z\": [0.1168506455324738, 0.12656041357925446, null], \"line\": {\"width\": 1, \"color\": \"white\"}, \"hoverinfo\": \"none\", \"mode\": \"lines\"}, {\"type\": \"scatter3d\", \"x\": [0.02898842012282331, 0.07139446778532593, null], \"y\": [0.0013474462159668336, 0.12838531173079115, null], \"z\": [0.1168506455324738, 0.01606052036642238, null], \"line\": {\"width\": 1, \"color\": \"white\"}, \"hoverinfo\": \"none\", \"mode\": \"lines\"}, {\"type\": \"scatter3d\", \"x\": [0.02898842012282331, 0.2040653545386135, null], \"y\": [0.0013474462159668336, 0.03867151303375133, null], \"z\": [0.1168506455324738, -0.015719654999540707, null], \"line\": {\"width\": 1, \"color\": \"white\"}, \"hoverinfo\": \"none\", \"mode\": \"lines\"}, {\"type\": \"scatter3d\", \"x\": [0.02898842012282331, 0.05481943499907112, null], \"y\": [0.0013474462159668336, -0.061170050688860673, null], \"z\": [0.1168506455324738, -0.0148324707403163, null], \"line\": {\"width\": 1, \"color\": \"white\"}, \"hoverinfo\": \"none\", \"mode\": \"lines\"}, {\"type\": \"scatter3d\", \"x\": [-0.4771484822888056, -0.058433738424554044, null], \"y\": [-0.09159752374745991, -0.01179025137682218, null], \"z\": [-0.1748618697926978, -0.021510363207252674, null], \"line\": {\"width\": 1, \"color\": \"white\"}, \"hoverinfo\": \"none\", \"mode\": \"lines\"}, {\"type\": \"scatter3d\", \"x\": [0.19011359226042795, -0.058433738424554044, null], \"y\": [-0.03157750363351596, -0.01179025137682218, null], \"z\": [-0.02876449690571877, -0.021510363207252674, null], \"line\": {\"width\": 1, \"color\": \"white\"}, \"hoverinfo\": \"none\", \"mode\": \"lines\"}, {\"type\": \"scatter3d\", \"x\": [0.19011359226042795, 0.07139446778532593, null], \"y\": [-0.03157750363351596, 0.12838531173079115, null], \"z\": [-0.02876449690571877, 0.01606052036642238, null], \"line\": {\"width\": 1, \"color\": \"white\"}, \"hoverinfo\": \"none\", \"mode\": \"lines\"}, {\"type\": \"scatter3d\", \"x\": [0.19011359226042795, 0.2040653545386135, null], \"y\": [-0.03157750363351596, 0.03867151303375133, null], \"z\": [-0.02876449690571877, -0.015719654999540707, null], \"line\": {\"width\": 1, \"color\": \"white\"}, \"hoverinfo\": \"none\", \"mode\": \"lines\"}, {\"type\": \"scatter3d\", \"x\": [0.19011359226042795, 0.08698956797436821, null], \"y\": [-0.03157750363351596, -0.03818543608748077, null], \"z\": [-0.02876449690571877, 0.12656041357925446, null], \"line\": {\"width\": 1, \"color\": \"white\"}, \"hoverinfo\": \"none\", \"mode\": \"lines\"}, {\"type\": \"scatter3d\", \"x\": [0.19011359226042795, 0.05111763959501187, null], \"y\": [-0.03157750363351596, 0.061827624122324565, null], \"z\": [-0.02876449690571877, 0.1073852653359946, null], \"line\": {\"width\": 1, \"color\": \"white\"}, \"hoverinfo\": \"none\", \"mode\": \"lines\"}, {\"type\": \"scatter3d\", \"x\": [0.19011359226042795, 0.08171157809820943, null], \"y\": [-0.03157750363351596, 0.09062485247644866, null], \"z\": [-0.02876449690571877, -0.04819826574401871, null], \"line\": {\"width\": 1, \"color\": \"white\"}, \"hoverinfo\": \"none\", \"mode\": \"lines\"}, {\"type\": \"scatter3d\", \"x\": [0.19011359226042795, 0.05481943499907112, null], \"y\": [-0.03157750363351596, -0.061170050688860673, null], \"z\": [-0.02876449690571877, -0.0148324707403163, null], \"line\": {\"width\": 1, \"color\": \"white\"}, \"hoverinfo\": \"none\", \"mode\": \"lines\"}, {\"type\": \"scatter3d\", \"x\": [0.19011359226042795, 0.1396991382998311, null], \"y\": [-0.03157750363351596, 0.13211039749676276, null], \"z\": [-0.02876449690571877, 0.036667504346245154, null], \"line\": {\"width\": 1, \"color\": \"white\"}, \"hoverinfo\": \"none\", \"mode\": \"lines\"}, {\"type\": \"scatter3d\", \"x\": [-0.058433738424554044, 0.2040653545386135, null], \"y\": [-0.01179025137682218, 0.03867151303375133, null], \"z\": [-0.021510363207252674, -0.015719654999540707, null], \"line\": {\"width\": 1, \"color\": \"white\"}, \"hoverinfo\": \"none\", \"mode\": \"lines\"}, {\"type\": \"scatter3d\", \"x\": [-0.058433738424554044, 0.08171157809820943, null], \"y\": [-0.01179025137682218, 0.09062485247644866, null], \"z\": [-0.021510363207252674, -0.04819826574401871, null], \"line\": {\"width\": 1, \"color\": \"white\"}, \"hoverinfo\": \"none\", \"mode\": \"lines\"}, {\"type\": \"scatter3d\", \"x\": [-0.058433738424554044, 0.05111763959501187, null], \"y\": [-0.01179025137682218, 0.061827624122324565, null], \"z\": [-0.021510363207252674, 0.1073852653359946, null], \"line\": {\"width\": 1, \"color\": \"white\"}, \"hoverinfo\": \"none\", \"mode\": \"lines\"}, {\"type\": \"scatter3d\", \"x\": [-0.058433738424554044, 0.1396991382998311, null], \"y\": [-0.01179025137682218, 0.13211039749676276, null], \"z\": [-0.021510363207252674, 0.036667504346245154, null], \"line\": {\"width\": 1, \"color\": \"white\"}, \"hoverinfo\": \"none\", \"mode\": \"lines\"}, {\"type\": \"scatter3d\", \"x\": [-0.058433738424554044, 0.08698956797436821, null], \"y\": [-0.01179025137682218, -0.03818543608748077, null], \"z\": [-0.021510363207252674, 0.12656041357925446, null], \"line\": {\"width\": 1, \"color\": \"white\"}, \"hoverinfo\": \"none\", \"mode\": \"lines\"}, {\"type\": \"scatter3d\", \"x\": [-0.058433738424554044, 0.07139446778532593, null], \"y\": [-0.01179025137682218, 0.12838531173079115, null], \"z\": [-0.021510363207252674, 0.01606052036642238, null], \"line\": {\"width\": 1, \"color\": \"white\"}, \"hoverinfo\": \"none\", \"mode\": \"lines\"}, {\"type\": \"scatter3d\", \"x\": [-0.058433738424554044, 0.05481943499907112, null], \"y\": [-0.01179025137682218, -0.061170050688860673, null], \"z\": [-0.021510363207252674, -0.0148324707403163, null], \"line\": {\"width\": 1, \"color\": \"white\"}, \"hoverinfo\": \"none\", \"mode\": \"lines\"}, {\"type\": \"scatter3d\", \"x\": [0.08171157809820943, 0.07139446778532593, null], \"y\": [0.09062485247644866, 0.12838531173079115, null], \"z\": [-0.04819826574401871, 0.01606052036642238, null], \"line\": {\"width\": 1, \"color\": \"white\"}, \"hoverinfo\": \"none\", \"mode\": \"lines\"}, {\"type\": \"scatter3d\", \"x\": [0.08171157809820943, 0.2040653545386135, null], \"y\": [0.09062485247644866, 0.03867151303375133, null], \"z\": [-0.04819826574401871, -0.015719654999540707, null], \"line\": {\"width\": 1, \"color\": \"white\"}, \"hoverinfo\": \"none\", \"mode\": \"lines\"}, {\"type\": \"scatter3d\", \"x\": [0.08171157809820943, 0.08698956797436821, null], \"y\": [0.09062485247644866, -0.03818543608748077, null], \"z\": [-0.04819826574401871, 0.12656041357925446, null], \"line\": {\"width\": 1, \"color\": \"white\"}, \"hoverinfo\": \"none\", \"mode\": \"lines\"}, {\"type\": \"scatter3d\", \"x\": [0.08171157809820943, 0.05111763959501187, null], \"y\": [0.09062485247644866, 0.061827624122324565, null], \"z\": [-0.04819826574401871, 0.1073852653359946, null], \"line\": {\"width\": 1, \"color\": \"white\"}, \"hoverinfo\": \"none\", \"mode\": \"lines\"}, {\"type\": \"scatter3d\", \"x\": [0.08171157809820943, 0.1396991382998311, null], \"y\": [0.09062485247644866, 0.13211039749676276, null], \"z\": [-0.04819826574401871, 0.036667504346245154, null], \"line\": {\"width\": 1, \"color\": \"white\"}, \"hoverinfo\": \"none\", \"mode\": \"lines\"}, {\"type\": \"scatter3d\", \"x\": [0.08171157809820943, 0.05481943499907112, null], \"y\": [0.09062485247644866, -0.061170050688860673, null], \"z\": [-0.04819826574401871, -0.0148324707403163, null], \"line\": {\"width\": 1, \"color\": \"white\"}, \"hoverinfo\": \"none\", \"mode\": \"lines\"}, {\"type\": \"scatter3d\", \"x\": [0.05111763959501187, 0.07139446778532593, null], \"y\": [0.061827624122324565, 0.12838531173079115, null], \"z\": [0.1073852653359946, 0.01606052036642238, null], \"line\": {\"width\": 1, \"color\": \"white\"}, \"hoverinfo\": \"none\", \"mode\": \"lines\"}, {\"type\": \"scatter3d\", \"x\": [0.05111763959501187, 0.2040653545386135, null], \"y\": [0.061827624122324565, 0.03867151303375133, null], \"z\": [0.1073852653359946, -0.015719654999540707, null], \"line\": {\"width\": 1, \"color\": \"white\"}, \"hoverinfo\": \"none\", \"mode\": \"lines\"}, {\"type\": \"scatter3d\", \"x\": [0.05111763959501187, 0.08698956797436821, null], \"y\": [0.061827624122324565, -0.03818543608748077, null], \"z\": [0.1073852653359946, 0.12656041357925446, null], \"line\": {\"width\": 1, \"color\": \"white\"}, \"hoverinfo\": \"none\", \"mode\": \"lines\"}, {\"type\": \"scatter3d\", \"x\": [0.05111763959501187, 0.1396991382998311, null], \"y\": [0.061827624122324565, 0.13211039749676276, null], \"z\": [0.1073852653359946, 0.036667504346245154, null], \"line\": {\"width\": 1, \"color\": \"white\"}, \"hoverinfo\": \"none\", \"mode\": \"lines\"}, {\"type\": \"scatter3d\", \"x\": [0.05111763959501187, 0.05481943499907112, null], \"y\": [0.061827624122324565, -0.061170050688860673, null], \"z\": [0.1073852653359946, -0.0148324707403163, null], \"line\": {\"width\": 1, \"color\": \"white\"}, \"hoverinfo\": \"none\", \"mode\": \"lines\"}, {\"type\": \"scatter3d\", \"x\": [0.1396991382998311, 0.07139446778532593, null], \"y\": [0.13211039749676276, 0.12838531173079115, null], \"z\": [0.036667504346245154, 0.01606052036642238, null], \"line\": {\"width\": 1, \"color\": \"white\"}, \"hoverinfo\": \"none\", \"mode\": \"lines\"}, {\"type\": \"scatter3d\", \"x\": [0.1396991382998311, 0.2040653545386135, null], \"y\": [0.13211039749676276, 0.03867151303375133, null], \"z\": [0.036667504346245154, -0.015719654999540707, null], \"line\": {\"width\": 1, \"color\": \"white\"}, \"hoverinfo\": \"none\", \"mode\": \"lines\"}, {\"type\": \"scatter3d\", \"x\": [0.1396991382998311, 0.08698956797436821, null], \"y\": [0.13211039749676276, -0.03818543608748077, null], \"z\": [0.036667504346245154, 0.12656041357925446, null], \"line\": {\"width\": 1, \"color\": \"white\"}, \"hoverinfo\": \"none\", \"mode\": \"lines\"}, {\"type\": \"scatter3d\", \"x\": [0.1396991382998311, 0.05481943499907112, null], \"y\": [0.13211039749676276, -0.061170050688860673, null], \"z\": [0.036667504346245154, -0.0148324707403163, null], \"line\": {\"width\": 1, \"color\": \"white\"}, \"hoverinfo\": \"none\", \"mode\": \"lines\"}, {\"type\": \"scatter3d\", \"x\": [0.08698956797436821, 0.07139446778532593, null], \"y\": [-0.03818543608748077, 0.12838531173079115, null], \"z\": [0.12656041357925446, 0.01606052036642238, null], \"line\": {\"width\": 1, \"color\": \"white\"}, \"hoverinfo\": \"none\", \"mode\": \"lines\"}, {\"type\": \"scatter3d\", \"x\": [0.08698956797436821, 0.2040653545386135, null], \"y\": [-0.03818543608748077, 0.03867151303375133, null], \"z\": [0.12656041357925446, -0.015719654999540707, null], \"line\": {\"width\": 1, \"color\": \"white\"}, \"hoverinfo\": \"none\", \"mode\": \"lines\"}, {\"type\": \"scatter3d\", \"x\": [0.08698956797436821, 0.05481943499907112, null], \"y\": [-0.03818543608748077, -0.061170050688860673, null], \"z\": [0.12656041357925446, -0.0148324707403163, null], \"line\": {\"width\": 1, \"color\": \"white\"}, \"hoverinfo\": \"none\", \"mode\": \"lines\"}, {\"type\": \"scatter3d\", \"x\": [-1.0, -0.9805995752100826, null], \"y\": [-0.25786235501046123, -0.18453633941306008, null], \"z\": [-0.26206402322297556, -0.37734384494269435, null], \"line\": {\"width\": 1, \"color\": \"white\"}, \"hoverinfo\": \"none\", \"mode\": \"lines\"}, {\"type\": \"scatter3d\", \"x\": [0.07139446778532593, 0.2040653545386135, null], \"y\": [0.12838531173079115, 0.03867151303375133, null], \"z\": [0.01606052036642238, -0.015719654999540707, null], \"line\": {\"width\": 1, \"color\": \"white\"}, \"hoverinfo\": \"none\", \"mode\": \"lines\"}, {\"type\": \"scatter3d\", \"x\": [0.07139446778532593, 0.05481943499907112, null], \"y\": [0.12838531173079115, -0.061170050688860673, null], \"z\": [0.01606052036642238, -0.0148324707403163, null], \"line\": {\"width\": 1, \"color\": \"white\"}, \"hoverinfo\": \"none\", \"mode\": \"lines\"}, {\"type\": \"scatter3d\", \"x\": [0.2040653545386135, 0.05481943499907112, null], \"y\": [0.03867151303375133, -0.061170050688860673, null], \"z\": [-0.015719654999540707, -0.0148324707403163, null], \"line\": {\"width\": 1, \"color\": \"white\"}, \"hoverinfo\": \"none\", \"mode\": \"lines\"}, {\"type\": \"scatter3d\", \"x\": [0.010368251129315977, 0.19247254099181169, 0.12169561560229054, 0.10041847163453094, 0.1491090764705074, 0.10481593019714143, 0.1495837050966847, -0.6503147056557225, 0.06553395185952163, 0.17301966995753737, 0.0676826826973529, 0.12657890072753847, 0.06694941049076106, 0.1733446336774246, 0.01320629538927007, 0.15571362449872603, 0.22161962706438096, 0.020499246096886727, 0.14448585718302293, 0.20049981714077705, 0.02898842012282331, -0.4771484822888056, 0.19011359226042795, -0.058433738424554044, 0.08171157809820943, 0.05111763959501187, 0.1396991382998311, 0.08698956797436821, -1.0, 0.07139446778532593, 0.2040653545386135, 0.05481943499907112, -0.9805995752100826], \"y\": [-0.01758933581398996, -0.047564167433613816, -0.04187796712183215, 0.11743237110551957, 0.10091051911798132, 0.04710618729610153, 0.031659920785054606, -0.1438887532973297, -0.07765335082962689, 0.03343395264610534, 0.020027382280947637, -0.0840705418669723, 0.010850575204346926, 0.09270320526187634, 0.06653968755803646, -0.01373139735063719, 0.012632380227110142, 0.09634161498327377, -0.0724728161365025, 0.09296284826576588, 0.0013474462159668336, -0.09159752374745991, -0.03157750363351596, -0.01179025137682218, 0.09062485247644866, 0.061827624122324565, 0.13211039749676276, -0.03818543608748077, -0.25786235501046123, 0.12838531173079115, 0.03867151303375133, -0.061170050688860673, -0.18453633941306008], \"z\": [0.05105041134911236, 0.041370235927608634, -0.05425244435338347, 0.099332588018368, -0.03670661615221019, 0.14805961750399171, -0.07161070361086974, -0.2125913945161545, 0.06509022858251749, 0.09502498228342302, -0.07349607635658016, 0.011079308003001428, -0.003919914442102045, 0.10995807748237776, -0.0023844290418191267, 0.1333715053169754, 0.06240550933931012, 0.06514604016159398, 0.08521470911714414, 0.02762900578252081, 0.1168506455324738, -0.1748618697926978, -0.02876449690571877, -0.021510363207252674, -0.04819826574401871, 0.1073852653359946, 0.036667504346245154, 0.12656041357925446, -0.26206402322297556, 0.01606052036642238, -0.015719654999540707, -0.0148324707403163, -0.37734384494269435], \"text\": [\"Peter  Mendoza Witness\", \"Jackie M Munez Witness\", \"James  Tyrone Witness\", \"Chris L Patterson Witness\", \"Laura C Alvarez Witness\", \"Olivia L Lynch Witness\", \"Brenda  Ricardo Witness\", \"Elizabeth T Baker Suspect\", \"Maria  Marques Witness\", \"Amber Lynn Harris Witness\", \"Kenneth K Shores Witness\", \"Timothy  West Witness\", \"Betriz A Valera-Galeana Witness\", \"Thomas G Evenson Witness\", \"Young  Chon Witness\", \"Taryn J Howard Witness\", \"Tom  Williams Witness\", \"Charles A Grimm Witness\", \"Debbie A Krout Witness\", \"Shawn Michael Peters Witness\", \"Robert David Hanson Victim\", \"Herman Jd Rene Levant Suspect\", \"Mary M Gomiez Witness\", \"Deborah A Jefferson Witness\", \"Ricardo Perez Martinez-Perez Witness\", \"Maria G Martinez Witness\", \"Oswald  Reyes Witness\", \"Paul  Smith Witness\", \"Chris T Haycock Witness\", \"Juan  Munez Witness\", \"Mark Joseph Umlauf Victim\", \"Mario  Garcias Witness\", \"Talia P Thomas Suspect\"], \"mode\": \"markers\", \"hoverinfo\": \"text\", \"marker\": {\"showscale\": false, \"colorscale\": \"Portland\", \"reversescale\": true, \"opacity\": 1, \"color\": [2, 2, 2, 2, 2, 2, 2, 0, 2, 2, 2, 2, 2, 2, 2, 2, 2, 2, 2, 2, 1, 0, 2, 2, 2, 2, 2, 2, 2, 2, 1, 2, 3], \"size\": [32.3134328358209, 32.3134328358209, 32.3134328358209, 32.3134328358209, 33.125, 32.846153846153854, 32.3134328358209, 26.2621359223301, 32.3134328358209, 32.3134328358209, 32.3134328358209, 32.3134328358209, 32.3134328358209, 32.3134328358209, 32.3134328358209, 32.3134328358209, 32.3134328358209, 32.3134328358209, 32.3134328358209, 32.3134328358209, 35.0, 26.04761904761905, 32.3134328358209, 33.41269841269841, 32.3134328358209, 32.3134328358209, 32.3134328358209, 32.3134328358209, 22.891156462585034, 32.3134328358209, 32.3134328358209, 32.3134328358209, 22.891156462585034], \"line\": {\"width\": 2}}}], {\"title\": \"<br>Criminal network graph made with Python\", \"titlefont\": {\"size\": 16}, \"showlegend\": false, \"hovermode\": \"closest\", \"margin\": {\"b\": 20, \"l\": 5, \"r\": 5, \"t\": 40}, \"scene\": {\"xaxis\": {\"visible\": false, \"showgrid\": false, \"zeroline\": false, \"showticklabels\": false}, \"yaxis\": {\"visible\": false, \"showgrid\": false, \"zeroline\": false, \"showticklabels\": false}, \"zaxis\": {\"visible\": false, \"showgrid\": false}}}, {\"showLink\": true, \"linkText\": \"Export to plot.ly\"})});</script>"
      ],
      "text/vnd.plotly.v1+html": [
       "<div id=\"9669cf63-ee51-488d-aee3-b60d689ccb36\" style=\"height: 525px; width: 100%;\" class=\"plotly-graph-div\"></div><script type=\"text/javascript\">require([\"plotly\"], function(Plotly) { window.PLOTLYENV=window.PLOTLYENV || {};window.PLOTLYENV.BASE_URL=\"https://plot.ly\";Plotly.newPlot(\"9669cf63-ee51-488d-aee3-b60d689ccb36\", [{\"type\": \"scatter3d\", \"x\": [0.010368251129315977, 0.1491090764705074, null], \"y\": [-0.01758933581398996, 0.10091051911798132, null], \"z\": [0.05105041134911236, -0.03670661615221019, null], \"line\": {\"width\": 1, \"color\": \"white\"}, \"hoverinfo\": \"none\", \"mode\": \"lines\"}, {\"type\": \"scatter3d\", \"x\": [0.010368251129315977, 0.02898842012282331, null], \"y\": [-0.01758933581398996, 0.0013474462159668336, null], \"z\": [0.05105041134911236, 0.1168506455324738, null], \"line\": {\"width\": 1, \"color\": \"white\"}, \"hoverinfo\": \"none\", \"mode\": \"lines\"}, {\"type\": \"scatter3d\", \"x\": [0.010368251129315977, 0.10041847163453094, null], \"y\": [-0.01758933581398996, 0.11743237110551957, null], \"z\": [0.05105041134911236, 0.099332588018368, null], \"line\": {\"width\": 1, \"color\": \"white\"}, \"hoverinfo\": \"none\", \"mode\": \"lines\"}, {\"type\": \"scatter3d\", \"x\": [0.010368251129315977, -0.058433738424554044, null], \"y\": [-0.01758933581398996, -0.01179025137682218, null], \"z\": [0.05105041134911236, -0.021510363207252674, null], \"line\": {\"width\": 1, \"color\": \"white\"}, \"hoverinfo\": \"none\", \"mode\": \"lines\"}, {\"type\": \"scatter3d\", \"x\": [0.010368251129315977, 0.10481593019714143, null], \"y\": [-0.01758933581398996, 0.04710618729610153, null], \"z\": [0.05105041134911236, 0.14805961750399171, null], \"line\": {\"width\": 1, \"color\": \"white\"}, \"hoverinfo\": \"none\", \"mode\": \"lines\"}, {\"type\": \"scatter3d\", \"x\": [0.010368251129315977, 0.07139446778532593, null], \"y\": [-0.01758933581398996, 0.12838531173079115, null], \"z\": [0.05105041134911236, 0.01606052036642238, null], \"line\": {\"width\": 1, \"color\": \"white\"}, \"hoverinfo\": \"none\", \"mode\": \"lines\"}, {\"type\": \"scatter3d\", \"x\": [0.010368251129315977, 0.2040653545386135, null], \"y\": [-0.01758933581398996, 0.03867151303375133, null], \"z\": [0.05105041134911236, -0.015719654999540707, null], \"line\": {\"width\": 1, \"color\": \"white\"}, \"hoverinfo\": \"none\", \"mode\": \"lines\"}, {\"type\": \"scatter3d\", \"x\": [0.010368251129315977, 0.08698956797436821, null], \"y\": [-0.01758933581398996, -0.03818543608748077, null], \"z\": [0.05105041134911236, 0.12656041357925446, null], \"line\": {\"width\": 1, \"color\": \"white\"}, \"hoverinfo\": \"none\", \"mode\": \"lines\"}, {\"type\": \"scatter3d\", \"x\": [0.010368251129315977, 0.17301966995753737, null], \"y\": [-0.01758933581398996, 0.03343395264610534, null], \"z\": [0.05105041134911236, 0.09502498228342302, null], \"line\": {\"width\": 1, \"color\": \"white\"}, \"hoverinfo\": \"none\", \"mode\": \"lines\"}, {\"type\": \"scatter3d\", \"x\": [0.010368251129315977, 0.19247254099181169, null], \"y\": [-0.01758933581398996, -0.047564167433613816, null], \"z\": [0.05105041134911236, 0.041370235927608634, null], \"line\": {\"width\": 1, \"color\": \"white\"}, \"hoverinfo\": \"none\", \"mode\": \"lines\"}, {\"type\": \"scatter3d\", \"x\": [0.010368251129315977, 0.05111763959501187, null], \"y\": [-0.01758933581398996, 0.061827624122324565, null], \"z\": [0.05105041134911236, 0.1073852653359946, null], \"line\": {\"width\": 1, \"color\": \"white\"}, \"hoverinfo\": \"none\", \"mode\": \"lines\"}, {\"type\": \"scatter3d\", \"x\": [0.010368251129315977, 0.08171157809820943, null], \"y\": [-0.01758933581398996, 0.09062485247644866, null], \"z\": [0.05105041134911236, -0.04819826574401871, null], \"line\": {\"width\": 1, \"color\": \"white\"}, \"hoverinfo\": \"none\", \"mode\": \"lines\"}, {\"type\": \"scatter3d\", \"x\": [0.010368251129315977, 0.20049981714077705, null], \"y\": [-0.01758933581398996, 0.09296284826576588, null], \"z\": [0.05105041134911236, 0.02762900578252081, null], \"line\": {\"width\": 1, \"color\": \"white\"}, \"hoverinfo\": \"none\", \"mode\": \"lines\"}, {\"type\": \"scatter3d\", \"x\": [0.010368251129315977, 0.22161962706438096, null], \"y\": [-0.01758933581398996, 0.012632380227110142, null], \"z\": [0.05105041134911236, 0.06240550933931012, null], \"line\": {\"width\": 1, \"color\": \"white\"}, \"hoverinfo\": \"none\", \"mode\": \"lines\"}, {\"type\": \"scatter3d\", \"x\": [0.010368251129315977, 0.12657890072753847, null], \"y\": [-0.01758933581398996, -0.0840705418669723, null], \"z\": [0.05105041134911236, 0.011079308003001428, null], \"line\": {\"width\": 1, \"color\": \"white\"}, \"hoverinfo\": \"none\", \"mode\": \"lines\"}, {\"type\": \"scatter3d\", \"x\": [0.010368251129315977, 0.12169561560229054, null], \"y\": [-0.01758933581398996, -0.04187796712183215, null], \"z\": [0.05105041134911236, -0.05425244435338347, null], \"line\": {\"width\": 1, \"color\": \"white\"}, \"hoverinfo\": \"none\", \"mode\": \"lines\"}, {\"type\": \"scatter3d\", \"x\": [0.010368251129315977, 0.1495837050966847, null], \"y\": [-0.01758933581398996, 0.031659920785054606, null], \"z\": [0.05105041134911236, -0.07161070361086974, null], \"line\": {\"width\": 1, \"color\": \"white\"}, \"hoverinfo\": \"none\", \"mode\": \"lines\"}, {\"type\": \"scatter3d\", \"x\": [0.010368251129315977, 0.06553395185952163, null], \"y\": [-0.01758933581398996, -0.07765335082962689, null], \"z\": [0.05105041134911236, 0.06509022858251749, null], \"line\": {\"width\": 1, \"color\": \"white\"}, \"hoverinfo\": \"none\", \"mode\": \"lines\"}, {\"type\": \"scatter3d\", \"x\": [0.010368251129315977, 0.0676826826973529, null], \"y\": [-0.01758933581398996, 0.020027382280947637, null], \"z\": [0.05105041134911236, -0.07349607635658016, null], \"line\": {\"width\": 1, \"color\": \"white\"}, \"hoverinfo\": \"none\", \"mode\": \"lines\"}, {\"type\": \"scatter3d\", \"x\": [0.010368251129315977, 0.1733446336774246, null], \"y\": [-0.01758933581398996, 0.09270320526187634, null], \"z\": [0.05105041134911236, 0.10995807748237776, null], \"line\": {\"width\": 1, \"color\": \"white\"}, \"hoverinfo\": \"none\", \"mode\": \"lines\"}, {\"type\": \"scatter3d\", \"x\": [0.010368251129315977, 0.01320629538927007, null], \"y\": [-0.01758933581398996, 0.06653968755803646, null], \"z\": [0.05105041134911236, -0.0023844290418191267, null], \"line\": {\"width\": 1, \"color\": \"white\"}, \"hoverinfo\": \"none\", \"mode\": \"lines\"}, {\"type\": \"scatter3d\", \"x\": [0.010368251129315977, 0.15571362449872603, null], \"y\": [-0.01758933581398996, -0.01373139735063719, null], \"z\": [0.05105041134911236, 0.1333715053169754, null], \"line\": {\"width\": 1, \"color\": \"white\"}, \"hoverinfo\": \"none\", \"mode\": \"lines\"}, {\"type\": \"scatter3d\", \"x\": [0.010368251129315977, 0.020499246096886727, null], \"y\": [-0.01758933581398996, 0.09634161498327377, null], \"z\": [0.05105041134911236, 0.06514604016159398, null], \"line\": {\"width\": 1, \"color\": \"white\"}, \"hoverinfo\": \"none\", \"mode\": \"lines\"}, {\"type\": \"scatter3d\", \"x\": [0.010368251129315977, 0.14448585718302293, null], \"y\": [-0.01758933581398996, -0.0724728161365025, null], \"z\": [0.05105041134911236, 0.08521470911714414, null], \"line\": {\"width\": 1, \"color\": \"white\"}, \"hoverinfo\": \"none\", \"mode\": \"lines\"}, {\"type\": \"scatter3d\", \"x\": [0.010368251129315977, 0.19011359226042795, null], \"y\": [-0.01758933581398996, -0.03157750363351596, null], \"z\": [0.05105041134911236, -0.02876449690571877, null], \"line\": {\"width\": 1, \"color\": \"white\"}, \"hoverinfo\": \"none\", \"mode\": \"lines\"}, {\"type\": \"scatter3d\", \"x\": [0.010368251129315977, 0.1396991382998311, null], \"y\": [-0.01758933581398996, 0.13211039749676276, null], \"z\": [0.05105041134911236, 0.036667504346245154, null], \"line\": {\"width\": 1, \"color\": \"white\"}, \"hoverinfo\": \"none\", \"mode\": \"lines\"}, {\"type\": \"scatter3d\", \"x\": [0.010368251129315977, 0.06694941049076106, null], \"y\": [-0.01758933581398996, 0.010850575204346926, null], \"z\": [0.05105041134911236, -0.003919914442102045, null], \"line\": {\"width\": 1, \"color\": \"white\"}, \"hoverinfo\": \"none\", \"mode\": \"lines\"}, {\"type\": \"scatter3d\", \"x\": [0.010368251129315977, 0.05481943499907112, null], \"y\": [-0.01758933581398996, -0.061170050688860673, null], \"z\": [0.05105041134911236, -0.0148324707403163, null], \"line\": {\"width\": 1, \"color\": \"white\"}, \"hoverinfo\": \"none\", \"mode\": \"lines\"}, {\"type\": \"scatter3d\", \"x\": [0.19247254099181169, 0.1491090764705074, null], \"y\": [-0.047564167433613816, 0.10091051911798132, null], \"z\": [0.041370235927608634, -0.03670661615221019, null], \"line\": {\"width\": 1, \"color\": \"white\"}, \"hoverinfo\": \"none\", \"mode\": \"lines\"}, {\"type\": \"scatter3d\", \"x\": [0.19247254099181169, 0.02898842012282331, null], \"y\": [-0.047564167433613816, 0.0013474462159668336, null], \"z\": [0.041370235927608634, 0.1168506455324738, null], \"line\": {\"width\": 1, \"color\": \"white\"}, \"hoverinfo\": \"none\", \"mode\": \"lines\"}, {\"type\": \"scatter3d\", \"x\": [0.19247254099181169, 0.10041847163453094, null], \"y\": [-0.047564167433613816, 0.11743237110551957, null], \"z\": [0.041370235927608634, 0.099332588018368, null], \"line\": {\"width\": 1, \"color\": \"white\"}, \"hoverinfo\": \"none\", \"mode\": \"lines\"}, {\"type\": \"scatter3d\", \"x\": [0.19247254099181169, -0.058433738424554044, null], \"y\": [-0.047564167433613816, -0.01179025137682218, null], \"z\": [0.041370235927608634, -0.021510363207252674, null], \"line\": {\"width\": 1, \"color\": \"white\"}, \"hoverinfo\": \"none\", \"mode\": \"lines\"}, {\"type\": \"scatter3d\", \"x\": [0.19247254099181169, 0.10481593019714143, null], \"y\": [-0.047564167433613816, 0.04710618729610153, null], \"z\": [0.041370235927608634, 0.14805961750399171, null], \"line\": {\"width\": 1, \"color\": \"white\"}, \"hoverinfo\": \"none\", \"mode\": \"lines\"}, {\"type\": \"scatter3d\", \"x\": [0.19247254099181169, 0.07139446778532593, null], \"y\": [-0.047564167433613816, 0.12838531173079115, null], \"z\": [0.041370235927608634, 0.01606052036642238, null], \"line\": {\"width\": 1, \"color\": \"white\"}, \"hoverinfo\": \"none\", \"mode\": \"lines\"}, {\"type\": \"scatter3d\", \"x\": [0.19247254099181169, 0.2040653545386135, null], \"y\": [-0.047564167433613816, 0.03867151303375133, null], \"z\": [0.041370235927608634, -0.015719654999540707, null], \"line\": {\"width\": 1, \"color\": \"white\"}, \"hoverinfo\": \"none\", \"mode\": \"lines\"}, {\"type\": \"scatter3d\", \"x\": [0.19247254099181169, 0.08698956797436821, null], \"y\": [-0.047564167433613816, -0.03818543608748077, null], \"z\": [0.041370235927608634, 0.12656041357925446, null], \"line\": {\"width\": 1, \"color\": \"white\"}, \"hoverinfo\": \"none\", \"mode\": \"lines\"}, {\"type\": \"scatter3d\", \"x\": [0.19247254099181169, 0.17301966995753737, null], \"y\": [-0.047564167433613816, 0.03343395264610534, null], \"z\": [0.041370235927608634, 0.09502498228342302, null], \"line\": {\"width\": 1, \"color\": \"white\"}, \"hoverinfo\": \"none\", \"mode\": \"lines\"}, {\"type\": \"scatter3d\", \"x\": [0.19247254099181169, 0.12169561560229054, null], \"y\": [-0.047564167433613816, -0.04187796712183215, null], \"z\": [0.041370235927608634, -0.05425244435338347, null], \"line\": {\"width\": 1, \"color\": \"white\"}, \"hoverinfo\": \"none\", \"mode\": \"lines\"}, {\"type\": \"scatter3d\", \"x\": [0.19247254099181169, 0.1495837050966847, null], \"y\": [-0.047564167433613816, 0.031659920785054606, null], \"z\": [0.041370235927608634, -0.07161070361086974, null], \"line\": {\"width\": 1, \"color\": \"white\"}, \"hoverinfo\": \"none\", \"mode\": \"lines\"}, {\"type\": \"scatter3d\", \"x\": [0.19247254099181169, 0.06553395185952163, null], \"y\": [-0.047564167433613816, -0.07765335082962689, null], \"z\": [0.041370235927608634, 0.06509022858251749, null], \"line\": {\"width\": 1, \"color\": \"white\"}, \"hoverinfo\": \"none\", \"mode\": \"lines\"}, {\"type\": \"scatter3d\", \"x\": [0.19247254099181169, 0.0676826826973529, null], \"y\": [-0.047564167433613816, 0.020027382280947637, null], \"z\": [0.041370235927608634, -0.07349607635658016, null], \"line\": {\"width\": 1, \"color\": \"white\"}, \"hoverinfo\": \"none\", \"mode\": \"lines\"}, {\"type\": \"scatter3d\", \"x\": [0.19247254099181169, 0.12657890072753847, null], \"y\": [-0.047564167433613816, -0.0840705418669723, null], \"z\": [0.041370235927608634, 0.011079308003001428, null], \"line\": {\"width\": 1, \"color\": \"white\"}, \"hoverinfo\": \"none\", \"mode\": \"lines\"}, {\"type\": \"scatter3d\", \"x\": [0.19247254099181169, 0.1733446336774246, null], \"y\": [-0.047564167433613816, 0.09270320526187634, null], \"z\": [0.041370235927608634, 0.10995807748237776, null], \"line\": {\"width\": 1, \"color\": \"white\"}, \"hoverinfo\": \"none\", \"mode\": \"lines\"}, {\"type\": \"scatter3d\", \"x\": [0.19247254099181169, 0.01320629538927007, null], \"y\": [-0.047564167433613816, 0.06653968755803646, null], \"z\": [0.041370235927608634, -0.0023844290418191267, null], \"line\": {\"width\": 1, \"color\": \"white\"}, \"hoverinfo\": \"none\", \"mode\": \"lines\"}, {\"type\": \"scatter3d\", \"x\": [0.19247254099181169, 0.15571362449872603, null], \"y\": [-0.047564167433613816, -0.01373139735063719, null], \"z\": [0.041370235927608634, 0.1333715053169754, null], \"line\": {\"width\": 1, \"color\": \"white\"}, \"hoverinfo\": \"none\", \"mode\": \"lines\"}, {\"type\": \"scatter3d\", \"x\": [0.19247254099181169, 0.22161962706438096, null], \"y\": [-0.047564167433613816, 0.012632380227110142, null], \"z\": [0.041370235927608634, 0.06240550933931012, null], \"line\": {\"width\": 1, \"color\": \"white\"}, \"hoverinfo\": \"none\", \"mode\": \"lines\"}, {\"type\": \"scatter3d\", \"x\": [0.19247254099181169, 0.020499246096886727, null], \"y\": [-0.047564167433613816, 0.09634161498327377, null], \"z\": [0.041370235927608634, 0.06514604016159398, null], \"line\": {\"width\": 1, \"color\": \"white\"}, \"hoverinfo\": \"none\", \"mode\": \"lines\"}, {\"type\": \"scatter3d\", \"x\": [0.19247254099181169, 0.14448585718302293, null], \"y\": [-0.047564167433613816, -0.0724728161365025, null], \"z\": [0.041370235927608634, 0.08521470911714414, null], \"line\": {\"width\": 1, \"color\": \"white\"}, \"hoverinfo\": \"none\", \"mode\": \"lines\"}, {\"type\": \"scatter3d\", \"x\": [0.19247254099181169, 0.20049981714077705, null], \"y\": [-0.047564167433613816, 0.09296284826576588, null], \"z\": [0.041370235927608634, 0.02762900578252081, null], \"line\": {\"width\": 1, \"color\": \"white\"}, \"hoverinfo\": \"none\", \"mode\": \"lines\"}, {\"type\": \"scatter3d\", \"x\": [0.19247254099181169, 0.19011359226042795, null], \"y\": [-0.047564167433613816, -0.03157750363351596, null], \"z\": [0.041370235927608634, -0.02876449690571877, null], \"line\": {\"width\": 1, \"color\": \"white\"}, \"hoverinfo\": \"none\", \"mode\": \"lines\"}, {\"type\": \"scatter3d\", \"x\": [0.19247254099181169, 0.08171157809820943, null], \"y\": [-0.047564167433613816, 0.09062485247644866, null], \"z\": [0.041370235927608634, -0.04819826574401871, null], \"line\": {\"width\": 1, \"color\": \"white\"}, \"hoverinfo\": \"none\", \"mode\": \"lines\"}, {\"type\": \"scatter3d\", \"x\": [0.19247254099181169, 0.05111763959501187, null], \"y\": [-0.047564167433613816, 0.061827624122324565, null], \"z\": [0.041370235927608634, 0.1073852653359946, null], \"line\": {\"width\": 1, \"color\": \"white\"}, \"hoverinfo\": \"none\", \"mode\": \"lines\"}, {\"type\": \"scatter3d\", \"x\": [0.19247254099181169, 0.1396991382998311, null], \"y\": [-0.047564167433613816, 0.13211039749676276, null], \"z\": [0.041370235927608634, 0.036667504346245154, null], \"line\": {\"width\": 1, \"color\": \"white\"}, \"hoverinfo\": \"none\", \"mode\": \"lines\"}, {\"type\": \"scatter3d\", \"x\": [0.19247254099181169, 0.06694941049076106, null], \"y\": [-0.047564167433613816, 0.010850575204346926, null], \"z\": [0.041370235927608634, -0.003919914442102045, null], \"line\": {\"width\": 1, \"color\": \"white\"}, \"hoverinfo\": \"none\", \"mode\": \"lines\"}, {\"type\": \"scatter3d\", \"x\": [0.19247254099181169, 0.05481943499907112, null], \"y\": [-0.047564167433613816, -0.061170050688860673, null], \"z\": [0.041370235927608634, -0.0148324707403163, null], \"line\": {\"width\": 1, \"color\": \"white\"}, \"hoverinfo\": \"none\", \"mode\": \"lines\"}, {\"type\": \"scatter3d\", \"x\": [0.12169561560229054, 0.1491090764705074, null], \"y\": [-0.04187796712183215, 0.10091051911798132, null], \"z\": [-0.05425244435338347, -0.03670661615221019, null], \"line\": {\"width\": 1, \"color\": \"white\"}, \"hoverinfo\": \"none\", \"mode\": \"lines\"}, {\"type\": \"scatter3d\", \"x\": [0.12169561560229054, 0.02898842012282331, null], \"y\": [-0.04187796712183215, 0.0013474462159668336, null], \"z\": [-0.05425244435338347, 0.1168506455324738, null], \"line\": {\"width\": 1, \"color\": \"white\"}, \"hoverinfo\": \"none\", \"mode\": \"lines\"}, {\"type\": \"scatter3d\", \"x\": [0.12169561560229054, 0.10041847163453094, null], \"y\": [-0.04187796712183215, 0.11743237110551957, null], \"z\": [-0.05425244435338347, 0.099332588018368, null], \"line\": {\"width\": 1, \"color\": \"white\"}, \"hoverinfo\": \"none\", \"mode\": \"lines\"}, {\"type\": \"scatter3d\", \"x\": [0.12169561560229054, -0.058433738424554044, null], \"y\": [-0.04187796712183215, -0.01179025137682218, null], \"z\": [-0.05425244435338347, -0.021510363207252674, null], \"line\": {\"width\": 1, \"color\": \"white\"}, \"hoverinfo\": \"none\", \"mode\": \"lines\"}, {\"type\": \"scatter3d\", \"x\": [0.12169561560229054, 0.10481593019714143, null], \"y\": [-0.04187796712183215, 0.04710618729610153, null], \"z\": [-0.05425244435338347, 0.14805961750399171, null], \"line\": {\"width\": 1, \"color\": \"white\"}, \"hoverinfo\": \"none\", \"mode\": \"lines\"}, {\"type\": \"scatter3d\", \"x\": [0.12169561560229054, 0.07139446778532593, null], \"y\": [-0.04187796712183215, 0.12838531173079115, null], \"z\": [-0.05425244435338347, 0.01606052036642238, null], \"line\": {\"width\": 1, \"color\": \"white\"}, \"hoverinfo\": \"none\", \"mode\": \"lines\"}, {\"type\": \"scatter3d\", \"x\": [0.12169561560229054, 0.2040653545386135, null], \"y\": [-0.04187796712183215, 0.03867151303375133, null], \"z\": [-0.05425244435338347, -0.015719654999540707, null], \"line\": {\"width\": 1, \"color\": \"white\"}, \"hoverinfo\": \"none\", \"mode\": \"lines\"}, {\"type\": \"scatter3d\", \"x\": [0.12169561560229054, 0.08698956797436821, null], \"y\": [-0.04187796712183215, -0.03818543608748077, null], \"z\": [-0.05425244435338347, 0.12656041357925446, null], \"line\": {\"width\": 1, \"color\": \"white\"}, \"hoverinfo\": \"none\", \"mode\": \"lines\"}, {\"type\": \"scatter3d\", \"x\": [0.12169561560229054, 0.17301966995753737, null], \"y\": [-0.04187796712183215, 0.03343395264610534, null], \"z\": [-0.05425244435338347, 0.09502498228342302, null], \"line\": {\"width\": 1, \"color\": \"white\"}, \"hoverinfo\": \"none\", \"mode\": \"lines\"}, {\"type\": \"scatter3d\", \"x\": [0.12169561560229054, 0.05111763959501187, null], \"y\": [-0.04187796712183215, 0.061827624122324565, null], \"z\": [-0.05425244435338347, 0.1073852653359946, null], \"line\": {\"width\": 1, \"color\": \"white\"}, \"hoverinfo\": \"none\", \"mode\": \"lines\"}, {\"type\": \"scatter3d\", \"x\": [0.12169561560229054, 0.08171157809820943, null], \"y\": [-0.04187796712183215, 0.09062485247644866, null], \"z\": [-0.05425244435338347, -0.04819826574401871, null], \"line\": {\"width\": 1, \"color\": \"white\"}, \"hoverinfo\": \"none\", \"mode\": \"lines\"}, {\"type\": \"scatter3d\", \"x\": [0.12169561560229054, 0.20049981714077705, null], \"y\": [-0.04187796712183215, 0.09296284826576588, null], \"z\": [-0.05425244435338347, 0.02762900578252081, null], \"line\": {\"width\": 1, \"color\": \"white\"}, \"hoverinfo\": \"none\", \"mode\": \"lines\"}, {\"type\": \"scatter3d\", \"x\": [0.12169561560229054, 0.22161962706438096, null], \"y\": [-0.04187796712183215, 0.012632380227110142, null], \"z\": [-0.05425244435338347, 0.06240550933931012, null], \"line\": {\"width\": 1, \"color\": \"white\"}, \"hoverinfo\": \"none\", \"mode\": \"lines\"}, {\"type\": \"scatter3d\", \"x\": [0.12169561560229054, 0.12657890072753847, null], \"y\": [-0.04187796712183215, -0.0840705418669723, null], \"z\": [-0.05425244435338347, 0.011079308003001428, null], \"line\": {\"width\": 1, \"color\": \"white\"}, \"hoverinfo\": \"none\", \"mode\": \"lines\"}, {\"type\": \"scatter3d\", \"x\": [0.12169561560229054, 0.06694941049076106, null], \"y\": [-0.04187796712183215, 0.010850575204346926, null], \"z\": [-0.05425244435338347, -0.003919914442102045, null], \"line\": {\"width\": 1, \"color\": \"white\"}, \"hoverinfo\": \"none\", \"mode\": \"lines\"}, {\"type\": \"scatter3d\", \"x\": [0.12169561560229054, 0.1495837050966847, null], \"y\": [-0.04187796712183215, 0.031659920785054606, null], \"z\": [-0.05425244435338347, -0.07161070361086974, null], \"line\": {\"width\": 1, \"color\": \"white\"}, \"hoverinfo\": \"none\", \"mode\": \"lines\"}, {\"type\": \"scatter3d\", \"x\": [0.12169561560229054, 0.020499246096886727, null], \"y\": [-0.04187796712183215, 0.09634161498327377, null], \"z\": [-0.05425244435338347, 0.06514604016159398, null], \"line\": {\"width\": 1, \"color\": \"white\"}, \"hoverinfo\": \"none\", \"mode\": \"lines\"}, {\"type\": \"scatter3d\", \"x\": [0.12169561560229054, 0.14448585718302293, null], \"y\": [-0.04187796712183215, -0.0724728161365025, null], \"z\": [-0.05425244435338347, 0.08521470911714414, null], \"line\": {\"width\": 1, \"color\": \"white\"}, \"hoverinfo\": \"none\", \"mode\": \"lines\"}, {\"type\": \"scatter3d\", \"x\": [0.12169561560229054, 0.06553395185952163, null], \"y\": [-0.04187796712183215, -0.07765335082962689, null], \"z\": [-0.05425244435338347, 0.06509022858251749, null], \"line\": {\"width\": 1, \"color\": \"white\"}, \"hoverinfo\": \"none\", \"mode\": \"lines\"}, {\"type\": \"scatter3d\", \"x\": [0.12169561560229054, 0.0676826826973529, null], \"y\": [-0.04187796712183215, 0.020027382280947637, null], \"z\": [-0.05425244435338347, -0.07349607635658016, null], \"line\": {\"width\": 1, \"color\": \"white\"}, \"hoverinfo\": \"none\", \"mode\": \"lines\"}, {\"type\": \"scatter3d\", \"x\": [0.12169561560229054, 0.1733446336774246, null], \"y\": [-0.04187796712183215, 0.09270320526187634, null], \"z\": [-0.05425244435338347, 0.10995807748237776, null], \"line\": {\"width\": 1, \"color\": \"white\"}, \"hoverinfo\": \"none\", \"mode\": \"lines\"}, {\"type\": \"scatter3d\", \"x\": [0.12169561560229054, 0.01320629538927007, null], \"y\": [-0.04187796712183215, 0.06653968755803646, null], \"z\": [-0.05425244435338347, -0.0023844290418191267, null], \"line\": {\"width\": 1, \"color\": \"white\"}, \"hoverinfo\": \"none\", \"mode\": \"lines\"}, {\"type\": \"scatter3d\", \"x\": [0.12169561560229054, 0.15571362449872603, null], \"y\": [-0.04187796712183215, -0.01373139735063719, null], \"z\": [-0.05425244435338347, 0.1333715053169754, null], \"line\": {\"width\": 1, \"color\": \"white\"}, \"hoverinfo\": \"none\", \"mode\": \"lines\"}, {\"type\": \"scatter3d\", \"x\": [0.12169561560229054, 0.19011359226042795, null], \"y\": [-0.04187796712183215, -0.03157750363351596, null], \"z\": [-0.05425244435338347, -0.02876449690571877, null], \"line\": {\"width\": 1, \"color\": \"white\"}, \"hoverinfo\": \"none\", \"mode\": \"lines\"}, {\"type\": \"scatter3d\", \"x\": [0.12169561560229054, 0.1396991382998311, null], \"y\": [-0.04187796712183215, 0.13211039749676276, null], \"z\": [-0.05425244435338347, 0.036667504346245154, null], \"line\": {\"width\": 1, \"color\": \"white\"}, \"hoverinfo\": \"none\", \"mode\": \"lines\"}, {\"type\": \"scatter3d\", \"x\": [0.12169561560229054, 0.05481943499907112, null], \"y\": [-0.04187796712183215, -0.061170050688860673, null], \"z\": [-0.05425244435338347, -0.0148324707403163, null], \"line\": {\"width\": 1, \"color\": \"white\"}, \"hoverinfo\": \"none\", \"mode\": \"lines\"}, {\"type\": \"scatter3d\", \"x\": [0.10041847163453094, 0.1491090764705074, null], \"y\": [0.11743237110551957, 0.10091051911798132, null], \"z\": [0.099332588018368, -0.03670661615221019, null], \"line\": {\"width\": 1, \"color\": \"white\"}, \"hoverinfo\": \"none\", \"mode\": \"lines\"}, {\"type\": \"scatter3d\", \"x\": [0.10041847163453094, 0.02898842012282331, null], \"y\": [0.11743237110551957, 0.0013474462159668336, null], \"z\": [0.099332588018368, 0.1168506455324738, null], \"line\": {\"width\": 1, \"color\": \"white\"}, \"hoverinfo\": \"none\", \"mode\": \"lines\"}, {\"type\": \"scatter3d\", \"x\": [0.10041847163453094, 0.2040653545386135, null], \"y\": [0.11743237110551957, 0.03867151303375133, null], \"z\": [0.099332588018368, -0.015719654999540707, null], \"line\": {\"width\": 1, \"color\": \"white\"}, \"hoverinfo\": \"none\", \"mode\": \"lines\"}, {\"type\": \"scatter3d\", \"x\": [0.10041847163453094, 0.10481593019714143, null], \"y\": [0.11743237110551957, 0.04710618729610153, null], \"z\": [0.099332588018368, 0.14805961750399171, null], \"line\": {\"width\": 1, \"color\": \"white\"}, \"hoverinfo\": \"none\", \"mode\": \"lines\"}, {\"type\": \"scatter3d\", \"x\": [0.10041847163453094, 0.1495837050966847, null], \"y\": [0.11743237110551957, 0.031659920785054606, null], \"z\": [0.099332588018368, -0.07161070361086974, null], \"line\": {\"width\": 1, \"color\": \"white\"}, \"hoverinfo\": \"none\", \"mode\": \"lines\"}, {\"type\": \"scatter3d\", \"x\": [0.10041847163453094, 0.06553395185952163, null], \"y\": [0.11743237110551957, -0.07765335082962689, null], \"z\": [0.099332588018368, 0.06509022858251749, null], \"line\": {\"width\": 1, \"color\": \"white\"}, \"hoverinfo\": \"none\", \"mode\": \"lines\"}, {\"type\": \"scatter3d\", \"x\": [0.10041847163453094, 0.17301966995753737, null], \"y\": [0.11743237110551957, 0.03343395264610534, null], \"z\": [0.099332588018368, 0.09502498228342302, null], \"line\": {\"width\": 1, \"color\": \"white\"}, \"hoverinfo\": \"none\", \"mode\": \"lines\"}, {\"type\": \"scatter3d\", \"x\": [0.10041847163453094, 0.0676826826973529, null], \"y\": [0.11743237110551957, 0.020027382280947637, null], \"z\": [0.099332588018368, -0.07349607635658016, null], \"line\": {\"width\": 1, \"color\": \"white\"}, \"hoverinfo\": \"none\", \"mode\": \"lines\"}, {\"type\": \"scatter3d\", \"x\": [0.10041847163453094, 0.12657890072753847, null], \"y\": [0.11743237110551957, -0.0840705418669723, null], \"z\": [0.099332588018368, 0.011079308003001428, null], \"line\": {\"width\": 1, \"color\": \"white\"}, \"hoverinfo\": \"none\", \"mode\": \"lines\"}, {\"type\": \"scatter3d\", \"x\": [0.10041847163453094, 0.1733446336774246, null], \"y\": [0.11743237110551957, 0.09270320526187634, null], \"z\": [0.099332588018368, 0.10995807748237776, null], \"line\": {\"width\": 1, \"color\": \"white\"}, \"hoverinfo\": \"none\", \"mode\": \"lines\"}, {\"type\": \"scatter3d\", \"x\": [0.10041847163453094, 0.01320629538927007, null], \"y\": [0.11743237110551957, 0.06653968755803646, null], \"z\": [0.099332588018368, -0.0023844290418191267, null], \"line\": {\"width\": 1, \"color\": \"white\"}, \"hoverinfo\": \"none\", \"mode\": \"lines\"}, {\"type\": \"scatter3d\", \"x\": [0.10041847163453094, 0.15571362449872603, null], \"y\": [0.11743237110551957, -0.01373139735063719, null], \"z\": [0.099332588018368, 0.1333715053169754, null], \"line\": {\"width\": 1, \"color\": \"white\"}, \"hoverinfo\": \"none\", \"mode\": \"lines\"}, {\"type\": \"scatter3d\", \"x\": [0.10041847163453094, 0.22161962706438096, null], \"y\": [0.11743237110551957, 0.012632380227110142, null], \"z\": [0.099332588018368, 0.06240550933931012, null], \"line\": {\"width\": 1, \"color\": \"white\"}, \"hoverinfo\": \"none\", \"mode\": \"lines\"}, {\"type\": \"scatter3d\", \"x\": [0.10041847163453094, 0.020499246096886727, null], \"y\": [0.11743237110551957, 0.09634161498327377, null], \"z\": [0.099332588018368, 0.06514604016159398, null], \"line\": {\"width\": 1, \"color\": \"white\"}, \"hoverinfo\": \"none\", \"mode\": \"lines\"}, {\"type\": \"scatter3d\", \"x\": [0.10041847163453094, 0.14448585718302293, null], \"y\": [0.11743237110551957, -0.0724728161365025, null], \"z\": [0.099332588018368, 0.08521470911714414, null], \"line\": {\"width\": 1, \"color\": \"white\"}, \"hoverinfo\": \"none\", \"mode\": \"lines\"}, {\"type\": \"scatter3d\", \"x\": [0.10041847163453094, 0.20049981714077705, null], \"y\": [0.11743237110551957, 0.09296284826576588, null], \"z\": [0.099332588018368, 0.02762900578252081, null], \"line\": {\"width\": 1, \"color\": \"white\"}, \"hoverinfo\": \"none\", \"mode\": \"lines\"}, {\"type\": \"scatter3d\", \"x\": [0.10041847163453094, 0.19011359226042795, null], \"y\": [0.11743237110551957, -0.03157750363351596, null], \"z\": [0.099332588018368, -0.02876449690571877, null], \"line\": {\"width\": 1, \"color\": \"white\"}, \"hoverinfo\": \"none\", \"mode\": \"lines\"}, {\"type\": \"scatter3d\", \"x\": [0.10041847163453094, -0.058433738424554044, null], \"y\": [0.11743237110551957, -0.01179025137682218, null], \"z\": [0.099332588018368, -0.021510363207252674, null], \"line\": {\"width\": 1, \"color\": \"white\"}, \"hoverinfo\": \"none\", \"mode\": \"lines\"}, {\"type\": \"scatter3d\", \"x\": [0.10041847163453094, 0.08171157809820943, null], \"y\": [0.11743237110551957, 0.09062485247644866, null], \"z\": [0.099332588018368, -0.04819826574401871, null], \"line\": {\"width\": 1, \"color\": \"white\"}, \"hoverinfo\": \"none\", \"mode\": \"lines\"}, {\"type\": \"scatter3d\", \"x\": [0.10041847163453094, 0.05111763959501187, null], \"y\": [0.11743237110551957, 0.061827624122324565, null], \"z\": [0.099332588018368, 0.1073852653359946, null], \"line\": {\"width\": 1, \"color\": \"white\"}, \"hoverinfo\": \"none\", \"mode\": \"lines\"}, {\"type\": \"scatter3d\", \"x\": [0.10041847163453094, 0.1396991382998311, null], \"y\": [0.11743237110551957, 0.13211039749676276, null], \"z\": [0.099332588018368, 0.036667504346245154, null], \"line\": {\"width\": 1, \"color\": \"white\"}, \"hoverinfo\": \"none\", \"mode\": \"lines\"}, {\"type\": \"scatter3d\", \"x\": [0.10041847163453094, 0.08698956797436821, null], \"y\": [0.11743237110551957, -0.03818543608748077, null], \"z\": [0.099332588018368, 0.12656041357925446, null], \"line\": {\"width\": 1, \"color\": \"white\"}, \"hoverinfo\": \"none\", \"mode\": \"lines\"}, {\"type\": \"scatter3d\", \"x\": [0.10041847163453094, 0.07139446778532593, null], \"y\": [0.11743237110551957, 0.12838531173079115, null], \"z\": [0.099332588018368, 0.01606052036642238, null], \"line\": {\"width\": 1, \"color\": \"white\"}, \"hoverinfo\": \"none\", \"mode\": \"lines\"}, {\"type\": \"scatter3d\", \"x\": [0.10041847163453094, 0.06694941049076106, null], \"y\": [0.11743237110551957, 0.010850575204346926, null], \"z\": [0.099332588018368, -0.003919914442102045, null], \"line\": {\"width\": 1, \"color\": \"white\"}, \"hoverinfo\": \"none\", \"mode\": \"lines\"}, {\"type\": \"scatter3d\", \"x\": [0.10041847163453094, 0.05481943499907112, null], \"y\": [0.11743237110551957, -0.061170050688860673, null], \"z\": [0.099332588018368, -0.0148324707403163, null], \"line\": {\"width\": 1, \"color\": \"white\"}, \"hoverinfo\": \"none\", \"mode\": \"lines\"}, {\"type\": \"scatter3d\", \"x\": [0.1491090764705074, 0.2040653545386135, null], \"y\": [0.10091051911798132, 0.03867151303375133, null], \"z\": [-0.03670661615221019, -0.015719654999540707, null], \"line\": {\"width\": 1, \"color\": \"white\"}, \"hoverinfo\": \"none\", \"mode\": \"lines\"}, {\"type\": \"scatter3d\", \"x\": [0.1491090764705074, 0.05481943499907112, null], \"y\": [0.10091051911798132, -0.061170050688860673, null], \"z\": [-0.03670661615221019, -0.0148324707403163, null], \"line\": {\"width\": 1, \"color\": \"white\"}, \"hoverinfo\": \"none\", \"mode\": \"lines\"}, {\"type\": \"scatter3d\", \"x\": [0.1491090764705074, 0.10481593019714143, null], \"y\": [0.10091051911798132, 0.04710618729610153, null], \"z\": [-0.03670661615221019, 0.14805961750399171, null], \"line\": {\"width\": 1, \"color\": \"white\"}, \"hoverinfo\": \"none\", \"mode\": \"lines\"}, {\"type\": \"scatter3d\", \"x\": [0.1491090764705074, 0.1495837050966847, null], \"y\": [0.10091051911798132, 0.031659920785054606, null], \"z\": [-0.03670661615221019, -0.07161070361086974, null], \"line\": {\"width\": 1, \"color\": \"white\"}, \"hoverinfo\": \"none\", \"mode\": \"lines\"}, {\"type\": \"scatter3d\", \"x\": [0.1491090764705074, 0.06553395185952163, null], \"y\": [0.10091051911798132, -0.07765335082962689, null], \"z\": [-0.03670661615221019, 0.06509022858251749, null], \"line\": {\"width\": 1, \"color\": \"white\"}, \"hoverinfo\": \"none\", \"mode\": \"lines\"}, {\"type\": \"scatter3d\", \"x\": [0.1491090764705074, 0.17301966995753737, null], \"y\": [0.10091051911798132, 0.03343395264610534, null], \"z\": [-0.03670661615221019, 0.09502498228342302, null], \"line\": {\"width\": 1, \"color\": \"white\"}, \"hoverinfo\": \"none\", \"mode\": \"lines\"}, {\"type\": \"scatter3d\", \"x\": [0.1491090764705074, 0.0676826826973529, null], \"y\": [0.10091051911798132, 0.020027382280947637, null], \"z\": [-0.03670661615221019, -0.07349607635658016, null], \"line\": {\"width\": 1, \"color\": \"white\"}, \"hoverinfo\": \"none\", \"mode\": \"lines\"}, {\"type\": \"scatter3d\", \"x\": [0.1491090764705074, 0.12657890072753847, null], \"y\": [0.10091051911798132, -0.0840705418669723, null], \"z\": [-0.03670661615221019, 0.011079308003001428, null], \"line\": {\"width\": 1, \"color\": \"white\"}, \"hoverinfo\": \"none\", \"mode\": \"lines\"}, {\"type\": \"scatter3d\", \"x\": [0.1491090764705074, 0.1733446336774246, null], \"y\": [0.10091051911798132, 0.09270320526187634, null], \"z\": [-0.03670661615221019, 0.10995807748237776, null], \"line\": {\"width\": 1, \"color\": \"white\"}, \"hoverinfo\": \"none\", \"mode\": \"lines\"}, {\"type\": \"scatter3d\", \"x\": [0.1491090764705074, 0.01320629538927007, null], \"y\": [0.10091051911798132, 0.06653968755803646, null], \"z\": [-0.03670661615221019, -0.0023844290418191267, null], \"line\": {\"width\": 1, \"color\": \"white\"}, \"hoverinfo\": \"none\", \"mode\": \"lines\"}, {\"type\": \"scatter3d\", \"x\": [0.1491090764705074, 0.15571362449872603, null], \"y\": [0.10091051911798132, -0.01373139735063719, null], \"z\": [-0.03670661615221019, 0.1333715053169754, null], \"line\": {\"width\": 1, \"color\": \"white\"}, \"hoverinfo\": \"none\", \"mode\": \"lines\"}, {\"type\": \"scatter3d\", \"x\": [0.1491090764705074, 0.22161962706438096, null], \"y\": [0.10091051911798132, 0.012632380227110142, null], \"z\": [-0.03670661615221019, 0.06240550933931012, null], \"line\": {\"width\": 1, \"color\": \"white\"}, \"hoverinfo\": \"none\", \"mode\": \"lines\"}, {\"type\": \"scatter3d\", \"x\": [0.1491090764705074, 0.020499246096886727, null], \"y\": [0.10091051911798132, 0.09634161498327377, null], \"z\": [-0.03670661615221019, 0.06514604016159398, null], \"line\": {\"width\": 1, \"color\": \"white\"}, \"hoverinfo\": \"none\", \"mode\": \"lines\"}, {\"type\": \"scatter3d\", \"x\": [0.1491090764705074, 0.14448585718302293, null], \"y\": [0.10091051911798132, -0.0724728161365025, null], \"z\": [-0.03670661615221019, 0.08521470911714414, null], \"line\": {\"width\": 1, \"color\": \"white\"}, \"hoverinfo\": \"none\", \"mode\": \"lines\"}, {\"type\": \"scatter3d\", \"x\": [0.1491090764705074, 0.20049981714077705, null], \"y\": [0.10091051911798132, 0.09296284826576588, null], \"z\": [-0.03670661615221019, 0.02762900578252081, null], \"line\": {\"width\": 1, \"color\": \"white\"}, \"hoverinfo\": \"none\", \"mode\": \"lines\"}, {\"type\": \"scatter3d\", \"x\": [0.1491090764705074, 0.02898842012282331, null], \"y\": [0.10091051911798132, 0.0013474462159668336, null], \"z\": [-0.03670661615221019, 0.1168506455324738, null], \"line\": {\"width\": 1, \"color\": \"white\"}, \"hoverinfo\": \"none\", \"mode\": \"lines\"}, {\"type\": \"scatter3d\", \"x\": [0.1491090764705074, 0.19011359226042795, null], \"y\": [0.10091051911798132, -0.03157750363351596, null], \"z\": [-0.03670661615221019, -0.02876449690571877, null], \"line\": {\"width\": 1, \"color\": \"white\"}, \"hoverinfo\": \"none\", \"mode\": \"lines\"}, {\"type\": \"scatter3d\", \"x\": [0.1491090764705074, -0.058433738424554044, null], \"y\": [0.10091051911798132, -0.01179025137682218, null], \"z\": [-0.03670661615221019, -0.021510363207252674, null], \"line\": {\"width\": 1, \"color\": \"white\"}, \"hoverinfo\": \"none\", \"mode\": \"lines\"}, {\"type\": \"scatter3d\", \"x\": [0.1491090764705074, 0.08171157809820943, null], \"y\": [0.10091051911798132, 0.09062485247644866, null], \"z\": [-0.03670661615221019, -0.04819826574401871, null], \"line\": {\"width\": 1, \"color\": \"white\"}, \"hoverinfo\": \"none\", \"mode\": \"lines\"}, {\"type\": \"scatter3d\", \"x\": [0.1491090764705074, 0.05111763959501187, null], \"y\": [0.10091051911798132, 0.061827624122324565, null], \"z\": [-0.03670661615221019, 0.1073852653359946, null], \"line\": {\"width\": 1, \"color\": \"white\"}, \"hoverinfo\": \"none\", \"mode\": \"lines\"}, {\"type\": \"scatter3d\", \"x\": [0.1491090764705074, 0.1396991382998311, null], \"y\": [0.10091051911798132, 0.13211039749676276, null], \"z\": [-0.03670661615221019, 0.036667504346245154, null], \"line\": {\"width\": 1, \"color\": \"white\"}, \"hoverinfo\": \"none\", \"mode\": \"lines\"}, {\"type\": \"scatter3d\", \"x\": [0.1491090764705074, 0.08698956797436821, null], \"y\": [0.10091051911798132, -0.03818543608748077, null], \"z\": [-0.03670661615221019, 0.12656041357925446, null], \"line\": {\"width\": 1, \"color\": \"white\"}, \"hoverinfo\": \"none\", \"mode\": \"lines\"}, {\"type\": \"scatter3d\", \"x\": [0.1491090764705074, 0.07139446778532593, null], \"y\": [0.10091051911798132, 0.12838531173079115, null], \"z\": [-0.03670661615221019, 0.01606052036642238, null], \"line\": {\"width\": 1, \"color\": \"white\"}, \"hoverinfo\": \"none\", \"mode\": \"lines\"}, {\"type\": \"scatter3d\", \"x\": [0.1491090764705074, 0.06694941049076106, null], \"y\": [0.10091051911798132, 0.010850575204346926, null], \"z\": [-0.03670661615221019, -0.003919914442102045, null], \"line\": {\"width\": 1, \"color\": \"white\"}, \"hoverinfo\": \"none\", \"mode\": \"lines\"}, {\"type\": \"scatter3d\", \"x\": [0.10481593019714143, 0.02898842012282331, null], \"y\": [0.04710618729610153, 0.0013474462159668336, null], \"z\": [0.14805961750399171, 0.1168506455324738, null], \"line\": {\"width\": 1, \"color\": \"white\"}, \"hoverinfo\": \"none\", \"mode\": \"lines\"}, {\"type\": \"scatter3d\", \"x\": [0.10481593019714143, -0.058433738424554044, null], \"y\": [0.04710618729610153, -0.01179025137682218, null], \"z\": [0.14805961750399171, -0.021510363207252674, null], \"line\": {\"width\": 1, \"color\": \"white\"}, \"hoverinfo\": \"none\", \"mode\": \"lines\"}, {\"type\": \"scatter3d\", \"x\": [0.10481593019714143, 0.2040653545386135, null], \"y\": [0.04710618729610153, 0.03867151303375133, null], \"z\": [0.14805961750399171, -0.015719654999540707, null], \"line\": {\"width\": 1, \"color\": \"white\"}, \"hoverinfo\": \"none\", \"mode\": \"lines\"}, {\"type\": \"scatter3d\", \"x\": [0.10481593019714143, 0.1495837050966847, null], \"y\": [0.04710618729610153, 0.031659920785054606, null], \"z\": [0.14805961750399171, -0.07161070361086974, null], \"line\": {\"width\": 1, \"color\": \"white\"}, \"hoverinfo\": \"none\", \"mode\": \"lines\"}, {\"type\": \"scatter3d\", \"x\": [0.10481593019714143, 0.06553395185952163, null], \"y\": [0.04710618729610153, -0.07765335082962689, null], \"z\": [0.14805961750399171, 0.06509022858251749, null], \"line\": {\"width\": 1, \"color\": \"white\"}, \"hoverinfo\": \"none\", \"mode\": \"lines\"}, {\"type\": \"scatter3d\", \"x\": [0.10481593019714143, 0.17301966995753737, null], \"y\": [0.04710618729610153, 0.03343395264610534, null], \"z\": [0.14805961750399171, 0.09502498228342302, null], \"line\": {\"width\": 1, \"color\": \"white\"}, \"hoverinfo\": \"none\", \"mode\": \"lines\"}, {\"type\": \"scatter3d\", \"x\": [0.10481593019714143, 0.0676826826973529, null], \"y\": [0.04710618729610153, 0.020027382280947637, null], \"z\": [0.14805961750399171, -0.07349607635658016, null], \"line\": {\"width\": 1, \"color\": \"white\"}, \"hoverinfo\": \"none\", \"mode\": \"lines\"}, {\"type\": \"scatter3d\", \"x\": [0.10481593019714143, 0.12657890072753847, null], \"y\": [0.04710618729610153, -0.0840705418669723, null], \"z\": [0.14805961750399171, 0.011079308003001428, null], \"line\": {\"width\": 1, \"color\": \"white\"}, \"hoverinfo\": \"none\", \"mode\": \"lines\"}, {\"type\": \"scatter3d\", \"x\": [0.10481593019714143, 0.1733446336774246, null], \"y\": [0.04710618729610153, 0.09270320526187634, null], \"z\": [0.14805961750399171, 0.10995807748237776, null], \"line\": {\"width\": 1, \"color\": \"white\"}, \"hoverinfo\": \"none\", \"mode\": \"lines\"}, {\"type\": \"scatter3d\", \"x\": [0.10481593019714143, 0.01320629538927007, null], \"y\": [0.04710618729610153, 0.06653968755803646, null], \"z\": [0.14805961750399171, -0.0023844290418191267, null], \"line\": {\"width\": 1, \"color\": \"white\"}, \"hoverinfo\": \"none\", \"mode\": \"lines\"}, {\"type\": \"scatter3d\", \"x\": [0.10481593019714143, 0.15571362449872603, null], \"y\": [0.04710618729610153, -0.01373139735063719, null], \"z\": [0.14805961750399171, 0.1333715053169754, null], \"line\": {\"width\": 1, \"color\": \"white\"}, \"hoverinfo\": \"none\", \"mode\": \"lines\"}, {\"type\": \"scatter3d\", \"x\": [0.10481593019714143, 0.22161962706438096, null], \"y\": [0.04710618729610153, 0.012632380227110142, null], \"z\": [0.14805961750399171, 0.06240550933931012, null], \"line\": {\"width\": 1, \"color\": \"white\"}, \"hoverinfo\": \"none\", \"mode\": \"lines\"}, {\"type\": \"scatter3d\", \"x\": [0.10481593019714143, 0.020499246096886727, null], \"y\": [0.04710618729610153, 0.09634161498327377, null], \"z\": [0.14805961750399171, 0.06514604016159398, null], \"line\": {\"width\": 1, \"color\": \"white\"}, \"hoverinfo\": \"none\", \"mode\": \"lines\"}, {\"type\": \"scatter3d\", \"x\": [0.10481593019714143, 0.14448585718302293, null], \"y\": [0.04710618729610153, -0.0724728161365025, null], \"z\": [0.14805961750399171, 0.08521470911714414, null], \"line\": {\"width\": 1, \"color\": \"white\"}, \"hoverinfo\": \"none\", \"mode\": \"lines\"}, {\"type\": \"scatter3d\", \"x\": [0.10481593019714143, 0.20049981714077705, null], \"y\": [0.04710618729610153, 0.09296284826576588, null], \"z\": [0.14805961750399171, 0.02762900578252081, null], \"line\": {\"width\": 1, \"color\": \"white\"}, \"hoverinfo\": \"none\", \"mode\": \"lines\"}, {\"type\": \"scatter3d\", \"x\": [0.10481593019714143, 0.19011359226042795, null], \"y\": [0.04710618729610153, -0.03157750363351596, null], \"z\": [0.14805961750399171, -0.02876449690571877, null], \"line\": {\"width\": 1, \"color\": \"white\"}, \"hoverinfo\": \"none\", \"mode\": \"lines\"}, {\"type\": \"scatter3d\", \"x\": [0.10481593019714143, 0.08171157809820943, null], \"y\": [0.04710618729610153, 0.09062485247644866, null], \"z\": [0.14805961750399171, -0.04819826574401871, null], \"line\": {\"width\": 1, \"color\": \"white\"}, \"hoverinfo\": \"none\", \"mode\": \"lines\"}, {\"type\": \"scatter3d\", \"x\": [0.10481593019714143, 0.05111763959501187, null], \"y\": [0.04710618729610153, 0.061827624122324565, null], \"z\": [0.14805961750399171, 0.1073852653359946, null], \"line\": {\"width\": 1, \"color\": \"white\"}, \"hoverinfo\": \"none\", \"mode\": \"lines\"}, {\"type\": \"scatter3d\", \"x\": [0.10481593019714143, 0.1396991382998311, null], \"y\": [0.04710618729610153, 0.13211039749676276, null], \"z\": [0.14805961750399171, 0.036667504346245154, null], \"line\": {\"width\": 1, \"color\": \"white\"}, \"hoverinfo\": \"none\", \"mode\": \"lines\"}, {\"type\": \"scatter3d\", \"x\": [0.10481593019714143, 0.08698956797436821, null], \"y\": [0.04710618729610153, -0.03818543608748077, null], \"z\": [0.14805961750399171, 0.12656041357925446, null], \"line\": {\"width\": 1, \"color\": \"white\"}, \"hoverinfo\": \"none\", \"mode\": \"lines\"}, {\"type\": \"scatter3d\", \"x\": [0.10481593019714143, 0.07139446778532593, null], \"y\": [0.04710618729610153, 0.12838531173079115, null], \"z\": [0.14805961750399171, 0.01606052036642238, null], \"line\": {\"width\": 1, \"color\": \"white\"}, \"hoverinfo\": \"none\", \"mode\": \"lines\"}, {\"type\": \"scatter3d\", \"x\": [0.10481593019714143, 0.06694941049076106, null], \"y\": [0.04710618729610153, 0.010850575204346926, null], \"z\": [0.14805961750399171, -0.003919914442102045, null], \"line\": {\"width\": 1, \"color\": \"white\"}, \"hoverinfo\": \"none\", \"mode\": \"lines\"}, {\"type\": \"scatter3d\", \"x\": [0.10481593019714143, 0.05481943499907112, null], \"y\": [0.04710618729610153, -0.061170050688860673, null], \"z\": [0.14805961750399171, -0.0148324707403163, null], \"line\": {\"width\": 1, \"color\": \"white\"}, \"hoverinfo\": \"none\", \"mode\": \"lines\"}, {\"type\": \"scatter3d\", \"x\": [0.1495837050966847, 0.02898842012282331, null], \"y\": [0.031659920785054606, 0.0013474462159668336, null], \"z\": [-0.07161070361086974, 0.1168506455324738, null], \"line\": {\"width\": 1, \"color\": \"white\"}, \"hoverinfo\": \"none\", \"mode\": \"lines\"}, {\"type\": \"scatter3d\", \"x\": [0.1495837050966847, -0.058433738424554044, null], \"y\": [0.031659920785054606, -0.01179025137682218, null], \"z\": [-0.07161070361086974, -0.021510363207252674, null], \"line\": {\"width\": 1, \"color\": \"white\"}, \"hoverinfo\": \"none\", \"mode\": \"lines\"}, {\"type\": \"scatter3d\", \"x\": [0.1495837050966847, 0.07139446778532593, null], \"y\": [0.031659920785054606, 0.12838531173079115, null], \"z\": [-0.07161070361086974, 0.01606052036642238, null], \"line\": {\"width\": 1, \"color\": \"white\"}, \"hoverinfo\": \"none\", \"mode\": \"lines\"}, {\"type\": \"scatter3d\", \"x\": [0.1495837050966847, 0.2040653545386135, null], \"y\": [0.031659920785054606, 0.03867151303375133, null], \"z\": [-0.07161070361086974, -0.015719654999540707, null], \"line\": {\"width\": 1, \"color\": \"white\"}, \"hoverinfo\": \"none\", \"mode\": \"lines\"}, {\"type\": \"scatter3d\", \"x\": [0.1495837050966847, 0.08698956797436821, null], \"y\": [0.031659920785054606, -0.03818543608748077, null], \"z\": [-0.07161070361086974, 0.12656041357925446, null], \"line\": {\"width\": 1, \"color\": \"white\"}, \"hoverinfo\": \"none\", \"mode\": \"lines\"}, {\"type\": \"scatter3d\", \"x\": [0.1495837050966847, 0.17301966995753737, null], \"y\": [0.031659920785054606, 0.03343395264610534, null], \"z\": [-0.07161070361086974, 0.09502498228342302, null], \"line\": {\"width\": 1, \"color\": \"white\"}, \"hoverinfo\": \"none\", \"mode\": \"lines\"}, {\"type\": \"scatter3d\", \"x\": [0.1495837050966847, 0.05111763959501187, null], \"y\": [0.031659920785054606, 0.061827624122324565, null], \"z\": [-0.07161070361086974, 0.1073852653359946, null], \"line\": {\"width\": 1, \"color\": \"white\"}, \"hoverinfo\": \"none\", \"mode\": \"lines\"}, {\"type\": \"scatter3d\", \"x\": [0.1495837050966847, 0.08171157809820943, null], \"y\": [0.031659920785054606, 0.09062485247644866, null], \"z\": [-0.07161070361086974, -0.04819826574401871, null], \"line\": {\"width\": 1, \"color\": \"white\"}, \"hoverinfo\": \"none\", \"mode\": \"lines\"}, {\"type\": \"scatter3d\", \"x\": [0.1495837050966847, 0.20049981714077705, null], \"y\": [0.031659920785054606, 0.09296284826576588, null], \"z\": [-0.07161070361086974, 0.02762900578252081, null], \"line\": {\"width\": 1, \"color\": \"white\"}, \"hoverinfo\": \"none\", \"mode\": \"lines\"}, {\"type\": \"scatter3d\", \"x\": [0.1495837050966847, 0.22161962706438096, null], \"y\": [0.031659920785054606, 0.012632380227110142, null], \"z\": [-0.07161070361086974, 0.06240550933931012, null], \"line\": {\"width\": 1, \"color\": \"white\"}, \"hoverinfo\": \"none\", \"mode\": \"lines\"}, {\"type\": \"scatter3d\", \"x\": [0.1495837050966847, 0.12657890072753847, null], \"y\": [0.031659920785054606, -0.0840705418669723, null], \"z\": [-0.07161070361086974, 0.011079308003001428, null], \"line\": {\"width\": 1, \"color\": \"white\"}, \"hoverinfo\": \"none\", \"mode\": \"lines\"}, {\"type\": \"scatter3d\", \"x\": [0.1495837050966847, 0.06694941049076106, null], \"y\": [0.031659920785054606, 0.010850575204346926, null], \"z\": [-0.07161070361086974, -0.003919914442102045, null], \"line\": {\"width\": 1, \"color\": \"white\"}, \"hoverinfo\": \"none\", \"mode\": \"lines\"}, {\"type\": \"scatter3d\", \"x\": [0.1495837050966847, 0.06553395185952163, null], \"y\": [0.031659920785054606, -0.07765335082962689, null], \"z\": [-0.07161070361086974, 0.06509022858251749, null], \"line\": {\"width\": 1, \"color\": \"white\"}, \"hoverinfo\": \"none\", \"mode\": \"lines\"}, {\"type\": \"scatter3d\", \"x\": [0.1495837050966847, 0.0676826826973529, null], \"y\": [0.031659920785054606, 0.020027382280947637, null], \"z\": [-0.07161070361086974, -0.07349607635658016, null], \"line\": {\"width\": 1, \"color\": \"white\"}, \"hoverinfo\": \"none\", \"mode\": \"lines\"}, {\"type\": \"scatter3d\", \"x\": [0.1495837050966847, 0.1733446336774246, null], \"y\": [0.031659920785054606, 0.09270320526187634, null], \"z\": [-0.07161070361086974, 0.10995807748237776, null], \"line\": {\"width\": 1, \"color\": \"white\"}, \"hoverinfo\": \"none\", \"mode\": \"lines\"}, {\"type\": \"scatter3d\", \"x\": [0.1495837050966847, 0.01320629538927007, null], \"y\": [0.031659920785054606, 0.06653968755803646, null], \"z\": [-0.07161070361086974, -0.0023844290418191267, null], \"line\": {\"width\": 1, \"color\": \"white\"}, \"hoverinfo\": \"none\", \"mode\": \"lines\"}, {\"type\": \"scatter3d\", \"x\": [0.1495837050966847, 0.15571362449872603, null], \"y\": [0.031659920785054606, -0.01373139735063719, null], \"z\": [-0.07161070361086974, 0.1333715053169754, null], \"line\": {\"width\": 1, \"color\": \"white\"}, \"hoverinfo\": \"none\", \"mode\": \"lines\"}, {\"type\": \"scatter3d\", \"x\": [0.1495837050966847, 0.020499246096886727, null], \"y\": [0.031659920785054606, 0.09634161498327377, null], \"z\": [-0.07161070361086974, 0.06514604016159398, null], \"line\": {\"width\": 1, \"color\": \"white\"}, \"hoverinfo\": \"none\", \"mode\": \"lines\"}, {\"type\": \"scatter3d\", \"x\": [0.1495837050966847, 0.14448585718302293, null], \"y\": [0.031659920785054606, -0.0724728161365025, null], \"z\": [-0.07161070361086974, 0.08521470911714414, null], \"line\": {\"width\": 1, \"color\": \"white\"}, \"hoverinfo\": \"none\", \"mode\": \"lines\"}, {\"type\": \"scatter3d\", \"x\": [0.1495837050966847, 0.19011359226042795, null], \"y\": [0.031659920785054606, -0.03157750363351596, null], \"z\": [-0.07161070361086974, -0.02876449690571877, null], \"line\": {\"width\": 1, \"color\": \"white\"}, \"hoverinfo\": \"none\", \"mode\": \"lines\"}, {\"type\": \"scatter3d\", \"x\": [0.1495837050966847, 0.1396991382998311, null], \"y\": [0.031659920785054606, 0.13211039749676276, null], \"z\": [-0.07161070361086974, 0.036667504346245154, null], \"line\": {\"width\": 1, \"color\": \"white\"}, \"hoverinfo\": \"none\", \"mode\": \"lines\"}, {\"type\": \"scatter3d\", \"x\": [0.1495837050966847, 0.05481943499907112, null], \"y\": [0.031659920785054606, -0.061170050688860673, null], \"z\": [-0.07161070361086974, -0.0148324707403163, null], \"line\": {\"width\": 1, \"color\": \"white\"}, \"hoverinfo\": \"none\", \"mode\": \"lines\"}, {\"type\": \"scatter3d\", \"x\": [-0.6503147056557225, -0.9805995752100826, null], \"y\": [-0.1438887532973297, -0.18453633941306008, null], \"z\": [-0.2125913945161545, -0.37734384494269435, null], \"line\": {\"width\": 2, \"color\": \"black\"}, \"hoverinfo\": \"none\", \"mode\": \"lines\"}, {\"type\": \"scatter3d\", \"x\": [-0.6503147056557225, -0.4771484822888056, null], \"y\": [-0.1438887532973297, -0.09159752374745991, null], \"z\": [-0.2125913945161545, -0.1748618697926978, null], \"line\": {\"width\": 2, \"color\": \"black\"}, \"hoverinfo\": \"none\", \"mode\": \"lines\"}, {\"type\": \"scatter3d\", \"x\": [-0.6503147056557225, -1.0, null], \"y\": [-0.1438887532973297, -0.25786235501046123, null], \"z\": [-0.2125913945161545, -0.26206402322297556, null], \"line\": {\"width\": 1, \"color\": \"white\"}, \"hoverinfo\": \"none\", \"mode\": \"lines\"}, {\"type\": \"scatter3d\", \"x\": [-0.6503147056557225, -0.058433738424554044, null], \"y\": [-0.1438887532973297, -0.01179025137682218, null], \"z\": [-0.2125913945161545, -0.021510363207252674, null], \"line\": {\"width\": 1, \"color\": \"white\"}, \"hoverinfo\": \"none\", \"mode\": \"lines\"}, {\"type\": \"scatter3d\", \"x\": [0.06553395185952163, 0.02898842012282331, null], \"y\": [-0.07765335082962689, 0.0013474462159668336, null], \"z\": [0.06509022858251749, 0.1168506455324738, null], \"line\": {\"width\": 1, \"color\": \"white\"}, \"hoverinfo\": \"none\", \"mode\": \"lines\"}, {\"type\": \"scatter3d\", \"x\": [0.06553395185952163, -0.058433738424554044, null], \"y\": [-0.07765335082962689, -0.01179025137682218, null], \"z\": [0.06509022858251749, -0.021510363207252674, null], \"line\": {\"width\": 1, \"color\": \"white\"}, \"hoverinfo\": \"none\", \"mode\": \"lines\"}, {\"type\": \"scatter3d\", \"x\": [0.06553395185952163, 0.07139446778532593, null], \"y\": [-0.07765335082962689, 0.12838531173079115, null], \"z\": [0.06509022858251749, 0.01606052036642238, null], \"line\": {\"width\": 1, \"color\": \"white\"}, \"hoverinfo\": \"none\", \"mode\": \"lines\"}, {\"type\": \"scatter3d\", \"x\": [0.06553395185952163, 0.2040653545386135, null], \"y\": [-0.07765335082962689, 0.03867151303375133, null], \"z\": [0.06509022858251749, -0.015719654999540707, null], \"line\": {\"width\": 1, \"color\": \"white\"}, \"hoverinfo\": \"none\", \"mode\": \"lines\"}, {\"type\": \"scatter3d\", \"x\": [0.06553395185952163, 0.08698956797436821, null], \"y\": [-0.07765335082962689, -0.03818543608748077, null], \"z\": [0.06509022858251749, 0.12656041357925446, null], \"line\": {\"width\": 1, \"color\": \"white\"}, \"hoverinfo\": \"none\", \"mode\": \"lines\"}, {\"type\": \"scatter3d\", \"x\": [0.06553395185952163, 0.17301966995753737, null], \"y\": [-0.07765335082962689, 0.03343395264610534, null], \"z\": [0.06509022858251749, 0.09502498228342302, null], \"line\": {\"width\": 1, \"color\": \"white\"}, \"hoverinfo\": \"none\", \"mode\": \"lines\"}, {\"type\": \"scatter3d\", \"x\": [0.06553395185952163, 0.05111763959501187, null], \"y\": [-0.07765335082962689, 0.061827624122324565, null], \"z\": [0.06509022858251749, 0.1073852653359946, null], \"line\": {\"width\": 1, \"color\": \"white\"}, \"hoverinfo\": \"none\", \"mode\": \"lines\"}, {\"type\": \"scatter3d\", \"x\": [0.06553395185952163, 0.08171157809820943, null], \"y\": [-0.07765335082962689, 0.09062485247644866, null], \"z\": [0.06509022858251749, -0.04819826574401871, null], \"line\": {\"width\": 1, \"color\": \"white\"}, \"hoverinfo\": \"none\", \"mode\": \"lines\"}, {\"type\": \"scatter3d\", \"x\": [0.06553395185952163, 0.20049981714077705, null], \"y\": [-0.07765335082962689, 0.09296284826576588, null], \"z\": [0.06509022858251749, 0.02762900578252081, null], \"line\": {\"width\": 1, \"color\": \"white\"}, \"hoverinfo\": \"none\", \"mode\": \"lines\"}, {\"type\": \"scatter3d\", \"x\": [0.06553395185952163, 0.22161962706438096, null], \"y\": [-0.07765335082962689, 0.012632380227110142, null], \"z\": [0.06509022858251749, 0.06240550933931012, null], \"line\": {\"width\": 1, \"color\": \"white\"}, \"hoverinfo\": \"none\", \"mode\": \"lines\"}, {\"type\": \"scatter3d\", \"x\": [0.06553395185952163, 0.12657890072753847, null], \"y\": [-0.07765335082962689, -0.0840705418669723, null], \"z\": [0.06509022858251749, 0.011079308003001428, null], \"line\": {\"width\": 1, \"color\": \"white\"}, \"hoverinfo\": \"none\", \"mode\": \"lines\"}, {\"type\": \"scatter3d\", \"x\": [0.06553395185952163, 0.06694941049076106, null], \"y\": [-0.07765335082962689, 0.010850575204346926, null], \"z\": [0.06509022858251749, -0.003919914442102045, null], \"line\": {\"width\": 1, \"color\": \"white\"}, \"hoverinfo\": \"none\", \"mode\": \"lines\"}, {\"type\": \"scatter3d\", \"x\": [0.06553395185952163, 0.020499246096886727, null], \"y\": [-0.07765335082962689, 0.09634161498327377, null], \"z\": [0.06509022858251749, 0.06514604016159398, null], \"line\": {\"width\": 1, \"color\": \"white\"}, \"hoverinfo\": \"none\", \"mode\": \"lines\"}, {\"type\": \"scatter3d\", \"x\": [0.06553395185952163, 0.14448585718302293, null], \"y\": [-0.07765335082962689, -0.0724728161365025, null], \"z\": [0.06509022858251749, 0.08521470911714414, null], \"line\": {\"width\": 1, \"color\": \"white\"}, \"hoverinfo\": \"none\", \"mode\": \"lines\"}, {\"type\": \"scatter3d\", \"x\": [0.06553395185952163, 0.0676826826973529, null], \"y\": [-0.07765335082962689, 0.020027382280947637, null], \"z\": [0.06509022858251749, -0.07349607635658016, null], \"line\": {\"width\": 1, \"color\": \"white\"}, \"hoverinfo\": \"none\", \"mode\": \"lines\"}, {\"type\": \"scatter3d\", \"x\": [0.06553395185952163, 0.1733446336774246, null], \"y\": [-0.07765335082962689, 0.09270320526187634, null], \"z\": [0.06509022858251749, 0.10995807748237776, null], \"line\": {\"width\": 1, \"color\": \"white\"}, \"hoverinfo\": \"none\", \"mode\": \"lines\"}, {\"type\": \"scatter3d\", \"x\": [0.06553395185952163, 0.01320629538927007, null], \"y\": [-0.07765335082962689, 0.06653968755803646, null], \"z\": [0.06509022858251749, -0.0023844290418191267, null], \"line\": {\"width\": 1, \"color\": \"white\"}, \"hoverinfo\": \"none\", \"mode\": \"lines\"}, {\"type\": \"scatter3d\", \"x\": [0.06553395185952163, 0.15571362449872603, null], \"y\": [-0.07765335082962689, -0.01373139735063719, null], \"z\": [0.06509022858251749, 0.1333715053169754, null], \"line\": {\"width\": 1, \"color\": \"white\"}, \"hoverinfo\": \"none\", \"mode\": \"lines\"}, {\"type\": \"scatter3d\", \"x\": [0.06553395185952163, 0.19011359226042795, null], \"y\": [-0.07765335082962689, -0.03157750363351596, null], \"z\": [0.06509022858251749, -0.02876449690571877, null], \"line\": {\"width\": 1, \"color\": \"white\"}, \"hoverinfo\": \"none\", \"mode\": \"lines\"}, {\"type\": \"scatter3d\", \"x\": [0.06553395185952163, 0.1396991382998311, null], \"y\": [-0.07765335082962689, 0.13211039749676276, null], \"z\": [0.06509022858251749, 0.036667504346245154, null], \"line\": {\"width\": 1, \"color\": \"white\"}, \"hoverinfo\": \"none\", \"mode\": \"lines\"}, {\"type\": \"scatter3d\", \"x\": [0.06553395185952163, 0.05481943499907112, null], \"y\": [-0.07765335082962689, -0.061170050688860673, null], \"z\": [0.06509022858251749, -0.0148324707403163, null], \"line\": {\"width\": 1, \"color\": \"white\"}, \"hoverinfo\": \"none\", \"mode\": \"lines\"}, {\"type\": \"scatter3d\", \"x\": [0.17301966995753737, 0.02898842012282331, null], \"y\": [0.03343395264610534, 0.0013474462159668336, null], \"z\": [0.09502498228342302, 0.1168506455324738, null], \"line\": {\"width\": 1, \"color\": \"white\"}, \"hoverinfo\": \"none\", \"mode\": \"lines\"}, {\"type\": \"scatter3d\", \"x\": [0.17301966995753737, -0.058433738424554044, null], \"y\": [0.03343395264610534, -0.01179025137682218, null], \"z\": [0.09502498228342302, -0.021510363207252674, null], \"line\": {\"width\": 1, \"color\": \"white\"}, \"hoverinfo\": \"none\", \"mode\": \"lines\"}, {\"type\": \"scatter3d\", \"x\": [0.17301966995753737, 0.07139446778532593, null], \"y\": [0.03343395264610534, 0.12838531173079115, null], \"z\": [0.09502498228342302, 0.01606052036642238, null], \"line\": {\"width\": 1, \"color\": \"white\"}, \"hoverinfo\": \"none\", \"mode\": \"lines\"}, {\"type\": \"scatter3d\", \"x\": [0.17301966995753737, 0.2040653545386135, null], \"y\": [0.03343395264610534, 0.03867151303375133, null], \"z\": [0.09502498228342302, -0.015719654999540707, null], \"line\": {\"width\": 1, \"color\": \"white\"}, \"hoverinfo\": \"none\", \"mode\": \"lines\"}, {\"type\": \"scatter3d\", \"x\": [0.17301966995753737, 0.08698956797436821, null], \"y\": [0.03343395264610534, -0.03818543608748077, null], \"z\": [0.09502498228342302, 0.12656041357925446, null], \"line\": {\"width\": 1, \"color\": \"white\"}, \"hoverinfo\": \"none\", \"mode\": \"lines\"}, {\"type\": \"scatter3d\", \"x\": [0.17301966995753737, 0.0676826826973529, null], \"y\": [0.03343395264610534, 0.020027382280947637, null], \"z\": [0.09502498228342302, -0.07349607635658016, null], \"line\": {\"width\": 1, \"color\": \"white\"}, \"hoverinfo\": \"none\", \"mode\": \"lines\"}, {\"type\": \"scatter3d\", \"x\": [0.17301966995753737, 0.12657890072753847, null], \"y\": [0.03343395264610534, -0.0840705418669723, null], \"z\": [0.09502498228342302, 0.011079308003001428, null], \"line\": {\"width\": 1, \"color\": \"white\"}, \"hoverinfo\": \"none\", \"mode\": \"lines\"}, {\"type\": \"scatter3d\", \"x\": [0.17301966995753737, 0.1733446336774246, null], \"y\": [0.03343395264610534, 0.09270320526187634, null], \"z\": [0.09502498228342302, 0.10995807748237776, null], \"line\": {\"width\": 1, \"color\": \"white\"}, \"hoverinfo\": \"none\", \"mode\": \"lines\"}, {\"type\": \"scatter3d\", \"x\": [0.17301966995753737, 0.01320629538927007, null], \"y\": [0.03343395264610534, 0.06653968755803646, null], \"z\": [0.09502498228342302, -0.0023844290418191267, null], \"line\": {\"width\": 1, \"color\": \"white\"}, \"hoverinfo\": \"none\", \"mode\": \"lines\"}, {\"type\": \"scatter3d\", \"x\": [0.17301966995753737, 0.15571362449872603, null], \"y\": [0.03343395264610534, -0.01373139735063719, null], \"z\": [0.09502498228342302, 0.1333715053169754, null], \"line\": {\"width\": 1, \"color\": \"white\"}, \"hoverinfo\": \"none\", \"mode\": \"lines\"}, {\"type\": \"scatter3d\", \"x\": [0.17301966995753737, 0.22161962706438096, null], \"y\": [0.03343395264610534, 0.012632380227110142, null], \"z\": [0.09502498228342302, 0.06240550933931012, null], \"line\": {\"width\": 1, \"color\": \"white\"}, \"hoverinfo\": \"none\", \"mode\": \"lines\"}, {\"type\": \"scatter3d\", \"x\": [0.17301966995753737, 0.020499246096886727, null], \"y\": [0.03343395264610534, 0.09634161498327377, null], \"z\": [0.09502498228342302, 0.06514604016159398, null], \"line\": {\"width\": 1, \"color\": \"white\"}, \"hoverinfo\": \"none\", \"mode\": \"lines\"}, {\"type\": \"scatter3d\", \"x\": [0.17301966995753737, 0.14448585718302293, null], \"y\": [0.03343395264610534, -0.0724728161365025, null], \"z\": [0.09502498228342302, 0.08521470911714414, null], \"line\": {\"width\": 1, \"color\": \"white\"}, \"hoverinfo\": \"none\", \"mode\": \"lines\"}, {\"type\": \"scatter3d\", \"x\": [0.17301966995753737, 0.20049981714077705, null], \"y\": [0.03343395264610534, 0.09296284826576588, null], \"z\": [0.09502498228342302, 0.02762900578252081, null], \"line\": {\"width\": 1, \"color\": \"white\"}, \"hoverinfo\": \"none\", \"mode\": \"lines\"}, {\"type\": \"scatter3d\", \"x\": [0.17301966995753737, 0.19011359226042795, null], \"y\": [0.03343395264610534, -0.03157750363351596, null], \"z\": [0.09502498228342302, -0.02876449690571877, null], \"line\": {\"width\": 1, \"color\": \"white\"}, \"hoverinfo\": \"none\", \"mode\": \"lines\"}, {\"type\": \"scatter3d\", \"x\": [0.17301966995753737, 0.08171157809820943, null], \"y\": [0.03343395264610534, 0.09062485247644866, null], \"z\": [0.09502498228342302, -0.04819826574401871, null], \"line\": {\"width\": 1, \"color\": \"white\"}, \"hoverinfo\": \"none\", \"mode\": \"lines\"}, {\"type\": \"scatter3d\", \"x\": [0.17301966995753737, 0.05111763959501187, null], \"y\": [0.03343395264610534, 0.061827624122324565, null], \"z\": [0.09502498228342302, 0.1073852653359946, null], \"line\": {\"width\": 1, \"color\": \"white\"}, \"hoverinfo\": \"none\", \"mode\": \"lines\"}, {\"type\": \"scatter3d\", \"x\": [0.17301966995753737, 0.1396991382998311, null], \"y\": [0.03343395264610534, 0.13211039749676276, null], \"z\": [0.09502498228342302, 0.036667504346245154, null], \"line\": {\"width\": 1, \"color\": \"white\"}, \"hoverinfo\": \"none\", \"mode\": \"lines\"}, {\"type\": \"scatter3d\", \"x\": [0.17301966995753737, 0.06694941049076106, null], \"y\": [0.03343395264610534, 0.010850575204346926, null], \"z\": [0.09502498228342302, -0.003919914442102045, null], \"line\": {\"width\": 1, \"color\": \"white\"}, \"hoverinfo\": \"none\", \"mode\": \"lines\"}, {\"type\": \"scatter3d\", \"x\": [0.17301966995753737, 0.05481943499907112, null], \"y\": [0.03343395264610534, -0.061170050688860673, null], \"z\": [0.09502498228342302, -0.0148324707403163, null], \"line\": {\"width\": 1, \"color\": \"white\"}, \"hoverinfo\": \"none\", \"mode\": \"lines\"}, {\"type\": \"scatter3d\", \"x\": [0.0676826826973529, 0.02898842012282331, null], \"y\": [0.020027382280947637, 0.0013474462159668336, null], \"z\": [-0.07349607635658016, 0.1168506455324738, null], \"line\": {\"width\": 1, \"color\": \"white\"}, \"hoverinfo\": \"none\", \"mode\": \"lines\"}, {\"type\": \"scatter3d\", \"x\": [0.0676826826973529, -0.058433738424554044, null], \"y\": [0.020027382280947637, -0.01179025137682218, null], \"z\": [-0.07349607635658016, -0.021510363207252674, null], \"line\": {\"width\": 1, \"color\": \"white\"}, \"hoverinfo\": \"none\", \"mode\": \"lines\"}, {\"type\": \"scatter3d\", \"x\": [0.0676826826973529, 0.07139446778532593, null], \"y\": [0.020027382280947637, 0.12838531173079115, null], \"z\": [-0.07349607635658016, 0.01606052036642238, null], \"line\": {\"width\": 1, \"color\": \"white\"}, \"hoverinfo\": \"none\", \"mode\": \"lines\"}, {\"type\": \"scatter3d\", \"x\": [0.0676826826973529, 0.2040653545386135, null], \"y\": [0.020027382280947637, 0.03867151303375133, null], \"z\": [-0.07349607635658016, -0.015719654999540707, null], \"line\": {\"width\": 1, \"color\": \"white\"}, \"hoverinfo\": \"none\", \"mode\": \"lines\"}, {\"type\": \"scatter3d\", \"x\": [0.0676826826973529, 0.08698956797436821, null], \"y\": [0.020027382280947637, -0.03818543608748077, null], \"z\": [-0.07349607635658016, 0.12656041357925446, null], \"line\": {\"width\": 1, \"color\": \"white\"}, \"hoverinfo\": \"none\", \"mode\": \"lines\"}, {\"type\": \"scatter3d\", \"x\": [0.0676826826973529, 0.05111763959501187, null], \"y\": [0.020027382280947637, 0.061827624122324565, null], \"z\": [-0.07349607635658016, 0.1073852653359946, null], \"line\": {\"width\": 1, \"color\": \"white\"}, \"hoverinfo\": \"none\", \"mode\": \"lines\"}, {\"type\": \"scatter3d\", \"x\": [0.0676826826973529, 0.08171157809820943, null], \"y\": [0.020027382280947637, 0.09062485247644866, null], \"z\": [-0.07349607635658016, -0.04819826574401871, null], \"line\": {\"width\": 1, \"color\": \"white\"}, \"hoverinfo\": \"none\", \"mode\": \"lines\"}, {\"type\": \"scatter3d\", \"x\": [0.0676826826973529, 0.20049981714077705, null], \"y\": [0.020027382280947637, 0.09296284826576588, null], \"z\": [-0.07349607635658016, 0.02762900578252081, null], \"line\": {\"width\": 1, \"color\": \"white\"}, \"hoverinfo\": \"none\", \"mode\": \"lines\"}, {\"type\": \"scatter3d\", \"x\": [0.0676826826973529, 0.22161962706438096, null], \"y\": [0.020027382280947637, 0.012632380227110142, null], \"z\": [-0.07349607635658016, 0.06240550933931012, null], \"line\": {\"width\": 1, \"color\": \"white\"}, \"hoverinfo\": \"none\", \"mode\": \"lines\"}, {\"type\": \"scatter3d\", \"x\": [0.0676826826973529, 0.12657890072753847, null], \"y\": [0.020027382280947637, -0.0840705418669723, null], \"z\": [-0.07349607635658016, 0.011079308003001428, null], \"line\": {\"width\": 1, \"color\": \"white\"}, \"hoverinfo\": \"none\", \"mode\": \"lines\"}, {\"type\": \"scatter3d\", \"x\": [0.0676826826973529, 0.06694941049076106, null], \"y\": [0.020027382280947637, 0.010850575204346926, null], \"z\": [-0.07349607635658016, -0.003919914442102045, null], \"line\": {\"width\": 1, \"color\": \"white\"}, \"hoverinfo\": \"none\", \"mode\": \"lines\"}, {\"type\": \"scatter3d\", \"x\": [0.0676826826973529, 0.020499246096886727, null], \"y\": [0.020027382280947637, 0.09634161498327377, null], \"z\": [-0.07349607635658016, 0.06514604016159398, null], \"line\": {\"width\": 1, \"color\": \"white\"}, \"hoverinfo\": \"none\", \"mode\": \"lines\"}, {\"type\": \"scatter3d\", \"x\": [0.0676826826973529, 0.14448585718302293, null], \"y\": [0.020027382280947637, -0.0724728161365025, null], \"z\": [-0.07349607635658016, 0.08521470911714414, null], \"line\": {\"width\": 1, \"color\": \"white\"}, \"hoverinfo\": \"none\", \"mode\": \"lines\"}, {\"type\": \"scatter3d\", \"x\": [0.0676826826973529, 0.1733446336774246, null], \"y\": [0.020027382280947637, 0.09270320526187634, null], \"z\": [-0.07349607635658016, 0.10995807748237776, null], \"line\": {\"width\": 1, \"color\": \"white\"}, \"hoverinfo\": \"none\", \"mode\": \"lines\"}, {\"type\": \"scatter3d\", \"x\": [0.0676826826973529, 0.01320629538927007, null], \"y\": [0.020027382280947637, 0.06653968755803646, null], \"z\": [-0.07349607635658016, -0.0023844290418191267, null], \"line\": {\"width\": 1, \"color\": \"white\"}, \"hoverinfo\": \"none\", \"mode\": \"lines\"}, {\"type\": \"scatter3d\", \"x\": [0.0676826826973529, 0.15571362449872603, null], \"y\": [0.020027382280947637, -0.01373139735063719, null], \"z\": [-0.07349607635658016, 0.1333715053169754, null], \"line\": {\"width\": 1, \"color\": \"white\"}, \"hoverinfo\": \"none\", \"mode\": \"lines\"}, {\"type\": \"scatter3d\", \"x\": [0.0676826826973529, 0.19011359226042795, null], \"y\": [0.020027382280947637, -0.03157750363351596, null], \"z\": [-0.07349607635658016, -0.02876449690571877, null], \"line\": {\"width\": 1, \"color\": \"white\"}, \"hoverinfo\": \"none\", \"mode\": \"lines\"}, {\"type\": \"scatter3d\", \"x\": [0.0676826826973529, 0.1396991382998311, null], \"y\": [0.020027382280947637, 0.13211039749676276, null], \"z\": [-0.07349607635658016, 0.036667504346245154, null], \"line\": {\"width\": 1, \"color\": \"white\"}, \"hoverinfo\": \"none\", \"mode\": \"lines\"}, {\"type\": \"scatter3d\", \"x\": [0.0676826826973529, 0.05481943499907112, null], \"y\": [0.020027382280947637, -0.061170050688860673, null], \"z\": [-0.07349607635658016, -0.0148324707403163, null], \"line\": {\"width\": 1, \"color\": \"white\"}, \"hoverinfo\": \"none\", \"mode\": \"lines\"}, {\"type\": \"scatter3d\", \"x\": [0.12657890072753847, 0.02898842012282331, null], \"y\": [-0.0840705418669723, 0.0013474462159668336, null], \"z\": [0.011079308003001428, 0.1168506455324738, null], \"line\": {\"width\": 1, \"color\": \"white\"}, \"hoverinfo\": \"none\", \"mode\": \"lines\"}, {\"type\": \"scatter3d\", \"x\": [0.12657890072753847, -0.058433738424554044, null], \"y\": [-0.0840705418669723, -0.01179025137682218, null], \"z\": [0.011079308003001428, -0.021510363207252674, null], \"line\": {\"width\": 1, \"color\": \"white\"}, \"hoverinfo\": \"none\", \"mode\": \"lines\"}, {\"type\": \"scatter3d\", \"x\": [0.12657890072753847, 0.07139446778532593, null], \"y\": [-0.0840705418669723, 0.12838531173079115, null], \"z\": [0.011079308003001428, 0.01606052036642238, null], \"line\": {\"width\": 1, \"color\": \"white\"}, \"hoverinfo\": \"none\", \"mode\": \"lines\"}, {\"type\": \"scatter3d\", \"x\": [0.12657890072753847, 0.2040653545386135, null], \"y\": [-0.0840705418669723, 0.03867151303375133, null], \"z\": [0.011079308003001428, -0.015719654999540707, null], \"line\": {\"width\": 1, \"color\": \"white\"}, \"hoverinfo\": \"none\", \"mode\": \"lines\"}, {\"type\": \"scatter3d\", \"x\": [0.12657890072753847, 0.08698956797436821, null], \"y\": [-0.0840705418669723, -0.03818543608748077, null], \"z\": [0.011079308003001428, 0.12656041357925446, null], \"line\": {\"width\": 1, \"color\": \"white\"}, \"hoverinfo\": \"none\", \"mode\": \"lines\"}, {\"type\": \"scatter3d\", \"x\": [0.12657890072753847, 0.05111763959501187, null], \"y\": [-0.0840705418669723, 0.061827624122324565, null], \"z\": [0.011079308003001428, 0.1073852653359946, null], \"line\": {\"width\": 1, \"color\": \"white\"}, \"hoverinfo\": \"none\", \"mode\": \"lines\"}, {\"type\": \"scatter3d\", \"x\": [0.12657890072753847, 0.08171157809820943, null], \"y\": [-0.0840705418669723, 0.09062485247644866, null], \"z\": [0.011079308003001428, -0.04819826574401871, null], \"line\": {\"width\": 1, \"color\": \"white\"}, \"hoverinfo\": \"none\", \"mode\": \"lines\"}, {\"type\": \"scatter3d\", \"x\": [0.12657890072753847, 0.20049981714077705, null], \"y\": [-0.0840705418669723, 0.09296284826576588, null], \"z\": [0.011079308003001428, 0.02762900578252081, null], \"line\": {\"width\": 1, \"color\": \"white\"}, \"hoverinfo\": \"none\", \"mode\": \"lines\"}, {\"type\": \"scatter3d\", \"x\": [0.12657890072753847, 0.22161962706438096, null], \"y\": [-0.0840705418669723, 0.012632380227110142, null], \"z\": [0.011079308003001428, 0.06240550933931012, null], \"line\": {\"width\": 1, \"color\": \"white\"}, \"hoverinfo\": \"none\", \"mode\": \"lines\"}, {\"type\": \"scatter3d\", \"x\": [0.12657890072753847, 0.1733446336774246, null], \"y\": [-0.0840705418669723, 0.09270320526187634, null], \"z\": [0.011079308003001428, 0.10995807748237776, null], \"line\": {\"width\": 1, \"color\": \"white\"}, \"hoverinfo\": \"none\", \"mode\": \"lines\"}, {\"type\": \"scatter3d\", \"x\": [0.12657890072753847, 0.01320629538927007, null], \"y\": [-0.0840705418669723, 0.06653968755803646, null], \"z\": [0.011079308003001428, -0.0023844290418191267, null], \"line\": {\"width\": 1, \"color\": \"white\"}, \"hoverinfo\": \"none\", \"mode\": \"lines\"}, {\"type\": \"scatter3d\", \"x\": [0.12657890072753847, 0.15571362449872603, null], \"y\": [-0.0840705418669723, -0.01373139735063719, null], \"z\": [0.011079308003001428, 0.1333715053169754, null], \"line\": {\"width\": 1, \"color\": \"white\"}, \"hoverinfo\": \"none\", \"mode\": \"lines\"}, {\"type\": \"scatter3d\", \"x\": [0.12657890072753847, 0.020499246096886727, null], \"y\": [-0.0840705418669723, 0.09634161498327377, null], \"z\": [0.011079308003001428, 0.06514604016159398, null], \"line\": {\"width\": 1, \"color\": \"white\"}, \"hoverinfo\": \"none\", \"mode\": \"lines\"}, {\"type\": \"scatter3d\", \"x\": [0.12657890072753847, 0.14448585718302293, null], \"y\": [-0.0840705418669723, -0.0724728161365025, null], \"z\": [0.011079308003001428, 0.08521470911714414, null], \"line\": {\"width\": 1, \"color\": \"white\"}, \"hoverinfo\": \"none\", \"mode\": \"lines\"}, {\"type\": \"scatter3d\", \"x\": [0.12657890072753847, 0.19011359226042795, null], \"y\": [-0.0840705418669723, -0.03157750363351596, null], \"z\": [0.011079308003001428, -0.02876449690571877, null], \"line\": {\"width\": 1, \"color\": \"white\"}, \"hoverinfo\": \"none\", \"mode\": \"lines\"}, {\"type\": \"scatter3d\", \"x\": [0.12657890072753847, 0.1396991382998311, null], \"y\": [-0.0840705418669723, 0.13211039749676276, null], \"z\": [0.011079308003001428, 0.036667504346245154, null], \"line\": {\"width\": 1, \"color\": \"white\"}, \"hoverinfo\": \"none\", \"mode\": \"lines\"}, {\"type\": \"scatter3d\", \"x\": [0.12657890072753847, 0.06694941049076106, null], \"y\": [-0.0840705418669723, 0.010850575204346926, null], \"z\": [0.011079308003001428, -0.003919914442102045, null], \"line\": {\"width\": 1, \"color\": \"white\"}, \"hoverinfo\": \"none\", \"mode\": \"lines\"}, {\"type\": \"scatter3d\", \"x\": [0.12657890072753847, 0.05481943499907112, null], \"y\": [-0.0840705418669723, -0.061170050688860673, null], \"z\": [0.011079308003001428, -0.0148324707403163, null], \"line\": {\"width\": 1, \"color\": \"white\"}, \"hoverinfo\": \"none\", \"mode\": \"lines\"}, {\"type\": \"scatter3d\", \"x\": [0.06694941049076106, 0.02898842012282331, null], \"y\": [0.010850575204346926, 0.0013474462159668336, null], \"z\": [-0.003919914442102045, 0.1168506455324738, null], \"line\": {\"width\": 1, \"color\": \"white\"}, \"hoverinfo\": \"none\", \"mode\": \"lines\"}, {\"type\": \"scatter3d\", \"x\": [0.06694941049076106, -0.058433738424554044, null], \"y\": [0.010850575204346926, -0.01179025137682218, null], \"z\": [-0.003919914442102045, -0.021510363207252674, null], \"line\": {\"width\": 1, \"color\": \"white\"}, \"hoverinfo\": \"none\", \"mode\": \"lines\"}, {\"type\": \"scatter3d\", \"x\": [0.06694941049076106, 0.07139446778532593, null], \"y\": [0.010850575204346926, 0.12838531173079115, null], \"z\": [-0.003919914442102045, 0.01606052036642238, null], \"line\": {\"width\": 1, \"color\": \"white\"}, \"hoverinfo\": \"none\", \"mode\": \"lines\"}, {\"type\": \"scatter3d\", \"x\": [0.06694941049076106, 0.2040653545386135, null], \"y\": [0.010850575204346926, 0.03867151303375133, null], \"z\": [-0.003919914442102045, -0.015719654999540707, null], \"line\": {\"width\": 1, \"color\": \"white\"}, \"hoverinfo\": \"none\", \"mode\": \"lines\"}, {\"type\": \"scatter3d\", \"x\": [0.06694941049076106, 0.08698956797436821, null], \"y\": [0.010850575204346926, -0.03818543608748077, null], \"z\": [-0.003919914442102045, 0.12656041357925446, null], \"line\": {\"width\": 1, \"color\": \"white\"}, \"hoverinfo\": \"none\", \"mode\": \"lines\"}, {\"type\": \"scatter3d\", \"x\": [0.06694941049076106, 0.05111763959501187, null], \"y\": [0.010850575204346926, 0.061827624122324565, null], \"z\": [-0.003919914442102045, 0.1073852653359946, null], \"line\": {\"width\": 1, \"color\": \"white\"}, \"hoverinfo\": \"none\", \"mode\": \"lines\"}, {\"type\": \"scatter3d\", \"x\": [0.06694941049076106, 0.08171157809820943, null], \"y\": [0.010850575204346926, 0.09062485247644866, null], \"z\": [-0.003919914442102045, -0.04819826574401871, null], \"line\": {\"width\": 1, \"color\": \"white\"}, \"hoverinfo\": \"none\", \"mode\": \"lines\"}, {\"type\": \"scatter3d\", \"x\": [0.06694941049076106, 0.20049981714077705, null], \"y\": [0.010850575204346926, 0.09296284826576588, null], \"z\": [-0.003919914442102045, 0.02762900578252081, null], \"line\": {\"width\": 1, \"color\": \"white\"}, \"hoverinfo\": \"none\", \"mode\": \"lines\"}, {\"type\": \"scatter3d\", \"x\": [0.06694941049076106, 0.22161962706438096, null], \"y\": [0.010850575204346926, 0.012632380227110142, null], \"z\": [-0.003919914442102045, 0.06240550933931012, null], \"line\": {\"width\": 1, \"color\": \"white\"}, \"hoverinfo\": \"none\", \"mode\": \"lines\"}, {\"type\": \"scatter3d\", \"x\": [0.06694941049076106, 0.1733446336774246, null], \"y\": [0.010850575204346926, 0.09270320526187634, null], \"z\": [-0.003919914442102045, 0.10995807748237776, null], \"line\": {\"width\": 1, \"color\": \"white\"}, \"hoverinfo\": \"none\", \"mode\": \"lines\"}, {\"type\": \"scatter3d\", \"x\": [0.06694941049076106, 0.01320629538927007, null], \"y\": [0.010850575204346926, 0.06653968755803646, null], \"z\": [-0.003919914442102045, -0.0023844290418191267, null], \"line\": {\"width\": 1, \"color\": \"white\"}, \"hoverinfo\": \"none\", \"mode\": \"lines\"}, {\"type\": \"scatter3d\", \"x\": [0.06694941049076106, 0.15571362449872603, null], \"y\": [0.010850575204346926, -0.01373139735063719, null], \"z\": [-0.003919914442102045, 0.1333715053169754, null], \"line\": {\"width\": 1, \"color\": \"white\"}, \"hoverinfo\": \"none\", \"mode\": \"lines\"}, {\"type\": \"scatter3d\", \"x\": [0.06694941049076106, 0.020499246096886727, null], \"y\": [0.010850575204346926, 0.09634161498327377, null], \"z\": [-0.003919914442102045, 0.06514604016159398, null], \"line\": {\"width\": 1, \"color\": \"white\"}, \"hoverinfo\": \"none\", \"mode\": \"lines\"}, {\"type\": \"scatter3d\", \"x\": [0.06694941049076106, 0.14448585718302293, null], \"y\": [0.010850575204346926, -0.0724728161365025, null], \"z\": [-0.003919914442102045, 0.08521470911714414, null], \"line\": {\"width\": 1, \"color\": \"white\"}, \"hoverinfo\": \"none\", \"mode\": \"lines\"}, {\"type\": \"scatter3d\", \"x\": [0.06694941049076106, 0.19011359226042795, null], \"y\": [0.010850575204346926, -0.03157750363351596, null], \"z\": [-0.003919914442102045, -0.02876449690571877, null], \"line\": {\"width\": 1, \"color\": \"white\"}, \"hoverinfo\": \"none\", \"mode\": \"lines\"}, {\"type\": \"scatter3d\", \"x\": [0.06694941049076106, 0.1396991382998311, null], \"y\": [0.010850575204346926, 0.13211039749676276, null], \"z\": [-0.003919914442102045, 0.036667504346245154, null], \"line\": {\"width\": 1, \"color\": \"white\"}, \"hoverinfo\": \"none\", \"mode\": \"lines\"}, {\"type\": \"scatter3d\", \"x\": [0.06694941049076106, 0.05481943499907112, null], \"y\": [0.010850575204346926, -0.061170050688860673, null], \"z\": [-0.003919914442102045, -0.0148324707403163, null], \"line\": {\"width\": 1, \"color\": \"white\"}, \"hoverinfo\": \"none\", \"mode\": \"lines\"}, {\"type\": \"scatter3d\", \"x\": [0.1733446336774246, 0.02898842012282331, null], \"y\": [0.09270320526187634, 0.0013474462159668336, null], \"z\": [0.10995807748237776, 0.1168506455324738, null], \"line\": {\"width\": 1, \"color\": \"white\"}, \"hoverinfo\": \"none\", \"mode\": \"lines\"}, {\"type\": \"scatter3d\", \"x\": [0.1733446336774246, -0.058433738424554044, null], \"y\": [0.09270320526187634, -0.01179025137682218, null], \"z\": [0.10995807748237776, -0.021510363207252674, null], \"line\": {\"width\": 1, \"color\": \"white\"}, \"hoverinfo\": \"none\", \"mode\": \"lines\"}, {\"type\": \"scatter3d\", \"x\": [0.1733446336774246, 0.07139446778532593, null], \"y\": [0.09270320526187634, 0.12838531173079115, null], \"z\": [0.10995807748237776, 0.01606052036642238, null], \"line\": {\"width\": 1, \"color\": \"white\"}, \"hoverinfo\": \"none\", \"mode\": \"lines\"}, {\"type\": \"scatter3d\", \"x\": [0.1733446336774246, 0.2040653545386135, null], \"y\": [0.09270320526187634, 0.03867151303375133, null], \"z\": [0.10995807748237776, -0.015719654999540707, null], \"line\": {\"width\": 1, \"color\": \"white\"}, \"hoverinfo\": \"none\", \"mode\": \"lines\"}, {\"type\": \"scatter3d\", \"x\": [0.1733446336774246, 0.08698956797436821, null], \"y\": [0.09270320526187634, -0.03818543608748077, null], \"z\": [0.10995807748237776, 0.12656041357925446, null], \"line\": {\"width\": 1, \"color\": \"white\"}, \"hoverinfo\": \"none\", \"mode\": \"lines\"}, {\"type\": \"scatter3d\", \"x\": [0.1733446336774246, 0.05111763959501187, null], \"y\": [0.09270320526187634, 0.061827624122324565, null], \"z\": [0.10995807748237776, 0.1073852653359946, null], \"line\": {\"width\": 1, \"color\": \"white\"}, \"hoverinfo\": \"none\", \"mode\": \"lines\"}, {\"type\": \"scatter3d\", \"x\": [0.1733446336774246, 0.08171157809820943, null], \"y\": [0.09270320526187634, 0.09062485247644866, null], \"z\": [0.10995807748237776, -0.04819826574401871, null], \"line\": {\"width\": 1, \"color\": \"white\"}, \"hoverinfo\": \"none\", \"mode\": \"lines\"}, {\"type\": \"scatter3d\", \"x\": [0.1733446336774246, 0.20049981714077705, null], \"y\": [0.09270320526187634, 0.09296284826576588, null], \"z\": [0.10995807748237776, 0.02762900578252081, null], \"line\": {\"width\": 1, \"color\": \"white\"}, \"hoverinfo\": \"none\", \"mode\": \"lines\"}, {\"type\": \"scatter3d\", \"x\": [0.1733446336774246, 0.22161962706438096, null], \"y\": [0.09270320526187634, 0.012632380227110142, null], \"z\": [0.10995807748237776, 0.06240550933931012, null], \"line\": {\"width\": 1, \"color\": \"white\"}, \"hoverinfo\": \"none\", \"mode\": \"lines\"}, {\"type\": \"scatter3d\", \"x\": [0.1733446336774246, 0.020499246096886727, null], \"y\": [0.09270320526187634, 0.09634161498327377, null], \"z\": [0.10995807748237776, 0.06514604016159398, null], \"line\": {\"width\": 1, \"color\": \"white\"}, \"hoverinfo\": \"none\", \"mode\": \"lines\"}, {\"type\": \"scatter3d\", \"x\": [0.1733446336774246, 0.14448585718302293, null], \"y\": [0.09270320526187634, -0.0724728161365025, null], \"z\": [0.10995807748237776, 0.08521470911714414, null], \"line\": {\"width\": 1, \"color\": \"white\"}, \"hoverinfo\": \"none\", \"mode\": \"lines\"}, {\"type\": \"scatter3d\", \"x\": [0.1733446336774246, 0.05481943499907112, null], \"y\": [0.09270320526187634, -0.061170050688860673, null], \"z\": [0.10995807748237776, -0.0148324707403163, null], \"line\": {\"width\": 1, \"color\": \"white\"}, \"hoverinfo\": \"none\", \"mode\": \"lines\"}, {\"type\": \"scatter3d\", \"x\": [0.1733446336774246, 0.19011359226042795, null], \"y\": [0.09270320526187634, -0.03157750363351596, null], \"z\": [0.10995807748237776, -0.02876449690571877, null], \"line\": {\"width\": 1, \"color\": \"white\"}, \"hoverinfo\": \"none\", \"mode\": \"lines\"}, {\"type\": \"scatter3d\", \"x\": [0.1733446336774246, 0.1396991382998311, null], \"y\": [0.09270320526187634, 0.13211039749676276, null], \"z\": [0.10995807748237776, 0.036667504346245154, null], \"line\": {\"width\": 1, \"color\": \"white\"}, \"hoverinfo\": \"none\", \"mode\": \"lines\"}, {\"type\": \"scatter3d\", \"x\": [0.1733446336774246, 0.15571362449872603, null], \"y\": [0.09270320526187634, -0.01373139735063719, null], \"z\": [0.10995807748237776, 0.1333715053169754, null], \"line\": {\"width\": 1, \"color\": \"white\"}, \"hoverinfo\": \"none\", \"mode\": \"lines\"}, {\"type\": \"scatter3d\", \"x\": [0.1733446336774246, 0.01320629538927007, null], \"y\": [0.09270320526187634, 0.06653968755803646, null], \"z\": [0.10995807748237776, -0.0023844290418191267, null], \"line\": {\"width\": 1, \"color\": \"white\"}, \"hoverinfo\": \"none\", \"mode\": \"lines\"}, {\"type\": \"scatter3d\", \"x\": [0.01320629538927007, 0.02898842012282331, null], \"y\": [0.06653968755803646, 0.0013474462159668336, null], \"z\": [-0.0023844290418191267, 0.1168506455324738, null], \"line\": {\"width\": 1, \"color\": \"white\"}, \"hoverinfo\": \"none\", \"mode\": \"lines\"}, {\"type\": \"scatter3d\", \"x\": [0.01320629538927007, -0.058433738424554044, null], \"y\": [0.06653968755803646, -0.01179025137682218, null], \"z\": [-0.0023844290418191267, -0.021510363207252674, null], \"line\": {\"width\": 1, \"color\": \"white\"}, \"hoverinfo\": \"none\", \"mode\": \"lines\"}, {\"type\": \"scatter3d\", \"x\": [0.01320629538927007, 0.07139446778532593, null], \"y\": [0.06653968755803646, 0.12838531173079115, null], \"z\": [-0.0023844290418191267, 0.01606052036642238, null], \"line\": {\"width\": 1, \"color\": \"white\"}, \"hoverinfo\": \"none\", \"mode\": \"lines\"}, {\"type\": \"scatter3d\", \"x\": [0.01320629538927007, 0.2040653545386135, null], \"y\": [0.06653968755803646, 0.03867151303375133, null], \"z\": [-0.0023844290418191267, -0.015719654999540707, null], \"line\": {\"width\": 1, \"color\": \"white\"}, \"hoverinfo\": \"none\", \"mode\": \"lines\"}, {\"type\": \"scatter3d\", \"x\": [0.01320629538927007, 0.08698956797436821, null], \"y\": [0.06653968755803646, -0.03818543608748077, null], \"z\": [-0.0023844290418191267, 0.12656041357925446, null], \"line\": {\"width\": 1, \"color\": \"white\"}, \"hoverinfo\": \"none\", \"mode\": \"lines\"}, {\"type\": \"scatter3d\", \"x\": [0.01320629538927007, 0.05111763959501187, null], \"y\": [0.06653968755803646, 0.061827624122324565, null], \"z\": [-0.0023844290418191267, 0.1073852653359946, null], \"line\": {\"width\": 1, \"color\": \"white\"}, \"hoverinfo\": \"none\", \"mode\": \"lines\"}, {\"type\": \"scatter3d\", \"x\": [0.01320629538927007, 0.08171157809820943, null], \"y\": [0.06653968755803646, 0.09062485247644866, null], \"z\": [-0.0023844290418191267, -0.04819826574401871, null], \"line\": {\"width\": 1, \"color\": \"white\"}, \"hoverinfo\": \"none\", \"mode\": \"lines\"}, {\"type\": \"scatter3d\", \"x\": [0.01320629538927007, 0.20049981714077705, null], \"y\": [0.06653968755803646, 0.09296284826576588, null], \"z\": [-0.0023844290418191267, 0.02762900578252081, null], \"line\": {\"width\": 1, \"color\": \"white\"}, \"hoverinfo\": \"none\", \"mode\": \"lines\"}, {\"type\": \"scatter3d\", \"x\": [0.01320629538927007, 0.22161962706438096, null], \"y\": [0.06653968755803646, 0.012632380227110142, null], \"z\": [-0.0023844290418191267, 0.06240550933931012, null], \"line\": {\"width\": 1, \"color\": \"white\"}, \"hoverinfo\": \"none\", \"mode\": \"lines\"}, {\"type\": \"scatter3d\", \"x\": [0.01320629538927007, 0.020499246096886727, null], \"y\": [0.06653968755803646, 0.09634161498327377, null], \"z\": [-0.0023844290418191267, 0.06514604016159398, null], \"line\": {\"width\": 1, \"color\": \"white\"}, \"hoverinfo\": \"none\", \"mode\": \"lines\"}, {\"type\": \"scatter3d\", \"x\": [0.01320629538927007, 0.14448585718302293, null], \"y\": [0.06653968755803646, -0.0724728161365025, null], \"z\": [-0.0023844290418191267, 0.08521470911714414, null], \"line\": {\"width\": 1, \"color\": \"white\"}, \"hoverinfo\": \"none\", \"mode\": \"lines\"}, {\"type\": \"scatter3d\", \"x\": [0.01320629538927007, 0.05481943499907112, null], \"y\": [0.06653968755803646, -0.061170050688860673, null], \"z\": [-0.0023844290418191267, -0.0148324707403163, null], \"line\": {\"width\": 1, \"color\": \"white\"}, \"hoverinfo\": \"none\", \"mode\": \"lines\"}, {\"type\": \"scatter3d\", \"x\": [0.01320629538927007, 0.19011359226042795, null], \"y\": [0.06653968755803646, -0.03157750363351596, null], \"z\": [-0.0023844290418191267, -0.02876449690571877, null], \"line\": {\"width\": 1, \"color\": \"white\"}, \"hoverinfo\": \"none\", \"mode\": \"lines\"}, {\"type\": \"scatter3d\", \"x\": [0.01320629538927007, 0.1396991382998311, null], \"y\": [0.06653968755803646, 0.13211039749676276, null], \"z\": [-0.0023844290418191267, 0.036667504346245154, null], \"line\": {\"width\": 1, \"color\": \"white\"}, \"hoverinfo\": \"none\", \"mode\": \"lines\"}, {\"type\": \"scatter3d\", \"x\": [0.01320629538927007, 0.15571362449872603, null], \"y\": [0.06653968755803646, -0.01373139735063719, null], \"z\": [-0.0023844290418191267, 0.1333715053169754, null], \"line\": {\"width\": 1, \"color\": \"white\"}, \"hoverinfo\": \"none\", \"mode\": \"lines\"}, {\"type\": \"scatter3d\", \"x\": [0.15571362449872603, 0.02898842012282331, null], \"y\": [-0.01373139735063719, 0.0013474462159668336, null], \"z\": [0.1333715053169754, 0.1168506455324738, null], \"line\": {\"width\": 1, \"color\": \"white\"}, \"hoverinfo\": \"none\", \"mode\": \"lines\"}, {\"type\": \"scatter3d\", \"x\": [0.15571362449872603, -0.058433738424554044, null], \"y\": [-0.01373139735063719, -0.01179025137682218, null], \"z\": [0.1333715053169754, -0.021510363207252674, null], \"line\": {\"width\": 1, \"color\": \"white\"}, \"hoverinfo\": \"none\", \"mode\": \"lines\"}, {\"type\": \"scatter3d\", \"x\": [0.15571362449872603, 0.07139446778532593, null], \"y\": [-0.01373139735063719, 0.12838531173079115, null], \"z\": [0.1333715053169754, 0.01606052036642238, null], \"line\": {\"width\": 1, \"color\": \"white\"}, \"hoverinfo\": \"none\", \"mode\": \"lines\"}, {\"type\": \"scatter3d\", \"x\": [0.15571362449872603, 0.2040653545386135, null], \"y\": [-0.01373139735063719, 0.03867151303375133, null], \"z\": [0.1333715053169754, -0.015719654999540707, null], \"line\": {\"width\": 1, \"color\": \"white\"}, \"hoverinfo\": \"none\", \"mode\": \"lines\"}, {\"type\": \"scatter3d\", \"x\": [0.15571362449872603, 0.08698956797436821, null], \"y\": [-0.01373139735063719, -0.03818543608748077, null], \"z\": [0.1333715053169754, 0.12656041357925446, null], \"line\": {\"width\": 1, \"color\": \"white\"}, \"hoverinfo\": \"none\", \"mode\": \"lines\"}, {\"type\": \"scatter3d\", \"x\": [0.15571362449872603, 0.05111763959501187, null], \"y\": [-0.01373139735063719, 0.061827624122324565, null], \"z\": [0.1333715053169754, 0.1073852653359946, null], \"line\": {\"width\": 1, \"color\": \"white\"}, \"hoverinfo\": \"none\", \"mode\": \"lines\"}, {\"type\": \"scatter3d\", \"x\": [0.15571362449872603, 0.08171157809820943, null], \"y\": [-0.01373139735063719, 0.09062485247644866, null], \"z\": [0.1333715053169754, -0.04819826574401871, null], \"line\": {\"width\": 1, \"color\": \"white\"}, \"hoverinfo\": \"none\", \"mode\": \"lines\"}, {\"type\": \"scatter3d\", \"x\": [0.15571362449872603, 0.20049981714077705, null], \"y\": [-0.01373139735063719, 0.09296284826576588, null], \"z\": [0.1333715053169754, 0.02762900578252081, null], \"line\": {\"width\": 1, \"color\": \"white\"}, \"hoverinfo\": \"none\", \"mode\": \"lines\"}, {\"type\": \"scatter3d\", \"x\": [0.15571362449872603, 0.22161962706438096, null], \"y\": [-0.01373139735063719, 0.012632380227110142, null], \"z\": [0.1333715053169754, 0.06240550933931012, null], \"line\": {\"width\": 1, \"color\": \"white\"}, \"hoverinfo\": \"none\", \"mode\": \"lines\"}, {\"type\": \"scatter3d\", \"x\": [0.15571362449872603, 0.020499246096886727, null], \"y\": [-0.01373139735063719, 0.09634161498327377, null], \"z\": [0.1333715053169754, 0.06514604016159398, null], \"line\": {\"width\": 1, \"color\": \"white\"}, \"hoverinfo\": \"none\", \"mode\": \"lines\"}, {\"type\": \"scatter3d\", \"x\": [0.15571362449872603, 0.14448585718302293, null], \"y\": [-0.01373139735063719, -0.0724728161365025, null], \"z\": [0.1333715053169754, 0.08521470911714414, null], \"line\": {\"width\": 1, \"color\": \"white\"}, \"hoverinfo\": \"none\", \"mode\": \"lines\"}, {\"type\": \"scatter3d\", \"x\": [0.15571362449872603, 0.05481943499907112, null], \"y\": [-0.01373139735063719, -0.061170050688860673, null], \"z\": [0.1333715053169754, -0.0148324707403163, null], \"line\": {\"width\": 1, \"color\": \"white\"}, \"hoverinfo\": \"none\", \"mode\": \"lines\"}, {\"type\": \"scatter3d\", \"x\": [0.15571362449872603, 0.19011359226042795, null], \"y\": [-0.01373139735063719, -0.03157750363351596, null], \"z\": [0.1333715053169754, -0.02876449690571877, null], \"line\": {\"width\": 1, \"color\": \"white\"}, \"hoverinfo\": \"none\", \"mode\": \"lines\"}, {\"type\": \"scatter3d\", \"x\": [0.15571362449872603, 0.1396991382998311, null], \"y\": [-0.01373139735063719, 0.13211039749676276, null], \"z\": [0.1333715053169754, 0.036667504346245154, null], \"line\": {\"width\": 1, \"color\": \"white\"}, \"hoverinfo\": \"none\", \"mode\": \"lines\"}, {\"type\": \"scatter3d\", \"x\": [0.22161962706438096, 0.02898842012282331, null], \"y\": [0.012632380227110142, 0.0013474462159668336, null], \"z\": [0.06240550933931012, 0.1168506455324738, null], \"line\": {\"width\": 1, \"color\": \"white\"}, \"hoverinfo\": \"none\", \"mode\": \"lines\"}, {\"type\": \"scatter3d\", \"x\": [0.22161962706438096, -0.058433738424554044, null], \"y\": [0.012632380227110142, -0.01179025137682218, null], \"z\": [0.06240550933931012, -0.021510363207252674, null], \"line\": {\"width\": 1, \"color\": \"white\"}, \"hoverinfo\": \"none\", \"mode\": \"lines\"}, {\"type\": \"scatter3d\", \"x\": [0.22161962706438096, 0.07139446778532593, null], \"y\": [0.012632380227110142, 0.12838531173079115, null], \"z\": [0.06240550933931012, 0.01606052036642238, null], \"line\": {\"width\": 1, \"color\": \"white\"}, \"hoverinfo\": \"none\", \"mode\": \"lines\"}, {\"type\": \"scatter3d\", \"x\": [0.22161962706438096, 0.2040653545386135, null], \"y\": [0.012632380227110142, 0.03867151303375133, null], \"z\": [0.06240550933931012, -0.015719654999540707, null], \"line\": {\"width\": 1, \"color\": \"white\"}, \"hoverinfo\": \"none\", \"mode\": \"lines\"}, {\"type\": \"scatter3d\", \"x\": [0.22161962706438096, 0.08698956797436821, null], \"y\": [0.012632380227110142, -0.03818543608748077, null], \"z\": [0.06240550933931012, 0.12656041357925446, null], \"line\": {\"width\": 1, \"color\": \"white\"}, \"hoverinfo\": \"none\", \"mode\": \"lines\"}, {\"type\": \"scatter3d\", \"x\": [0.22161962706438096, 0.05111763959501187, null], \"y\": [0.012632380227110142, 0.061827624122324565, null], \"z\": [0.06240550933931012, 0.1073852653359946, null], \"line\": {\"width\": 1, \"color\": \"white\"}, \"hoverinfo\": \"none\", \"mode\": \"lines\"}, {\"type\": \"scatter3d\", \"x\": [0.22161962706438096, 0.08171157809820943, null], \"y\": [0.012632380227110142, 0.09062485247644866, null], \"z\": [0.06240550933931012, -0.04819826574401871, null], \"line\": {\"width\": 1, \"color\": \"white\"}, \"hoverinfo\": \"none\", \"mode\": \"lines\"}, {\"type\": \"scatter3d\", \"x\": [0.22161962706438096, 0.20049981714077705, null], \"y\": [0.012632380227110142, 0.09296284826576588, null], \"z\": [0.06240550933931012, 0.02762900578252081, null], \"line\": {\"width\": 1, \"color\": \"white\"}, \"hoverinfo\": \"none\", \"mode\": \"lines\"}, {\"type\": \"scatter3d\", \"x\": [0.22161962706438096, 0.020499246096886727, null], \"y\": [0.012632380227110142, 0.09634161498327377, null], \"z\": [0.06240550933931012, 0.06514604016159398, null], \"line\": {\"width\": 1, \"color\": \"white\"}, \"hoverinfo\": \"none\", \"mode\": \"lines\"}, {\"type\": \"scatter3d\", \"x\": [0.22161962706438096, 0.14448585718302293, null], \"y\": [0.012632380227110142, -0.0724728161365025, null], \"z\": [0.06240550933931012, 0.08521470911714414, null], \"line\": {\"width\": 1, \"color\": \"white\"}, \"hoverinfo\": \"none\", \"mode\": \"lines\"}, {\"type\": \"scatter3d\", \"x\": [0.22161962706438096, 0.19011359226042795, null], \"y\": [0.012632380227110142, -0.03157750363351596, null], \"z\": [0.06240550933931012, -0.02876449690571877, null], \"line\": {\"width\": 1, \"color\": \"white\"}, \"hoverinfo\": \"none\", \"mode\": \"lines\"}, {\"type\": \"scatter3d\", \"x\": [0.22161962706438096, 0.1396991382998311, null], \"y\": [0.012632380227110142, 0.13211039749676276, null], \"z\": [0.06240550933931012, 0.036667504346245154, null], \"line\": {\"width\": 1, \"color\": \"white\"}, \"hoverinfo\": \"none\", \"mode\": \"lines\"}, {\"type\": \"scatter3d\", \"x\": [0.22161962706438096, 0.05481943499907112, null], \"y\": [0.012632380227110142, -0.061170050688860673, null], \"z\": [0.06240550933931012, -0.0148324707403163, null], \"line\": {\"width\": 1, \"color\": \"white\"}, \"hoverinfo\": \"none\", \"mode\": \"lines\"}, {\"type\": \"scatter3d\", \"x\": [0.020499246096886727, 0.02898842012282331, null], \"y\": [0.09634161498327377, 0.0013474462159668336, null], \"z\": [0.06514604016159398, 0.1168506455324738, null], \"line\": {\"width\": 1, \"color\": \"white\"}, \"hoverinfo\": \"none\", \"mode\": \"lines\"}, {\"type\": \"scatter3d\", \"x\": [0.020499246096886727, -0.058433738424554044, null], \"y\": [0.09634161498327377, -0.01179025137682218, null], \"z\": [0.06514604016159398, -0.021510363207252674, null], \"line\": {\"width\": 1, \"color\": \"white\"}, \"hoverinfo\": \"none\", \"mode\": \"lines\"}, {\"type\": \"scatter3d\", \"x\": [0.020499246096886727, 0.07139446778532593, null], \"y\": [0.09634161498327377, 0.12838531173079115, null], \"z\": [0.06514604016159398, 0.01606052036642238, null], \"line\": {\"width\": 1, \"color\": \"white\"}, \"hoverinfo\": \"none\", \"mode\": \"lines\"}, {\"type\": \"scatter3d\", \"x\": [0.020499246096886727, 0.2040653545386135, null], \"y\": [0.09634161498327377, 0.03867151303375133, null], \"z\": [0.06514604016159398, -0.015719654999540707, null], \"line\": {\"width\": 1, \"color\": \"white\"}, \"hoverinfo\": \"none\", \"mode\": \"lines\"}, {\"type\": \"scatter3d\", \"x\": [0.020499246096886727, 0.08698956797436821, null], \"y\": [0.09634161498327377, -0.03818543608748077, null], \"z\": [0.06514604016159398, 0.12656041357925446, null], \"line\": {\"width\": 1, \"color\": \"white\"}, \"hoverinfo\": \"none\", \"mode\": \"lines\"}, {\"type\": \"scatter3d\", \"x\": [0.020499246096886727, 0.05111763959501187, null], \"y\": [0.09634161498327377, 0.061827624122324565, null], \"z\": [0.06514604016159398, 0.1073852653359946, null], \"line\": {\"width\": 1, \"color\": \"white\"}, \"hoverinfo\": \"none\", \"mode\": \"lines\"}, {\"type\": \"scatter3d\", \"x\": [0.020499246096886727, 0.08171157809820943, null], \"y\": [0.09634161498327377, 0.09062485247644866, null], \"z\": [0.06514604016159398, -0.04819826574401871, null], \"line\": {\"width\": 1, \"color\": \"white\"}, \"hoverinfo\": \"none\", \"mode\": \"lines\"}, {\"type\": \"scatter3d\", \"x\": [0.020499246096886727, 0.20049981714077705, null], \"y\": [0.09634161498327377, 0.09296284826576588, null], \"z\": [0.06514604016159398, 0.02762900578252081, null], \"line\": {\"width\": 1, \"color\": \"white\"}, \"hoverinfo\": \"none\", \"mode\": \"lines\"}, {\"type\": \"scatter3d\", \"x\": [0.020499246096886727, 0.14448585718302293, null], \"y\": [0.09634161498327377, -0.0724728161365025, null], \"z\": [0.06514604016159398, 0.08521470911714414, null], \"line\": {\"width\": 1, \"color\": \"white\"}, \"hoverinfo\": \"none\", \"mode\": \"lines\"}, {\"type\": \"scatter3d\", \"x\": [0.020499246096886727, 0.19011359226042795, null], \"y\": [0.09634161498327377, -0.03157750363351596, null], \"z\": [0.06514604016159398, -0.02876449690571877, null], \"line\": {\"width\": 1, \"color\": \"white\"}, \"hoverinfo\": \"none\", \"mode\": \"lines\"}, {\"type\": \"scatter3d\", \"x\": [0.020499246096886727, 0.1396991382998311, null], \"y\": [0.09634161498327377, 0.13211039749676276, null], \"z\": [0.06514604016159398, 0.036667504346245154, null], \"line\": {\"width\": 1, \"color\": \"white\"}, \"hoverinfo\": \"none\", \"mode\": \"lines\"}, {\"type\": \"scatter3d\", \"x\": [0.020499246096886727, 0.05481943499907112, null], \"y\": [0.09634161498327377, -0.061170050688860673, null], \"z\": [0.06514604016159398, -0.0148324707403163, null], \"line\": {\"width\": 1, \"color\": \"white\"}, \"hoverinfo\": \"none\", \"mode\": \"lines\"}, {\"type\": \"scatter3d\", \"x\": [0.14448585718302293, 0.02898842012282331, null], \"y\": [-0.0724728161365025, 0.0013474462159668336, null], \"z\": [0.08521470911714414, 0.1168506455324738, null], \"line\": {\"width\": 1, \"color\": \"white\"}, \"hoverinfo\": \"none\", \"mode\": \"lines\"}, {\"type\": \"scatter3d\", \"x\": [0.14448585718302293, -0.058433738424554044, null], \"y\": [-0.0724728161365025, -0.01179025137682218, null], \"z\": [0.08521470911714414, -0.021510363207252674, null], \"line\": {\"width\": 1, \"color\": \"white\"}, \"hoverinfo\": \"none\", \"mode\": \"lines\"}, {\"type\": \"scatter3d\", \"x\": [0.14448585718302293, 0.07139446778532593, null], \"y\": [-0.0724728161365025, 0.12838531173079115, null], \"z\": [0.08521470911714414, 0.01606052036642238, null], \"line\": {\"width\": 1, \"color\": \"white\"}, \"hoverinfo\": \"none\", \"mode\": \"lines\"}, {\"type\": \"scatter3d\", \"x\": [0.14448585718302293, 0.2040653545386135, null], \"y\": [-0.0724728161365025, 0.03867151303375133, null], \"z\": [0.08521470911714414, -0.015719654999540707, null], \"line\": {\"width\": 1, \"color\": \"white\"}, \"hoverinfo\": \"none\", \"mode\": \"lines\"}, {\"type\": \"scatter3d\", \"x\": [0.14448585718302293, 0.08698956797436821, null], \"y\": [-0.0724728161365025, -0.03818543608748077, null], \"z\": [0.08521470911714414, 0.12656041357925446, null], \"line\": {\"width\": 1, \"color\": \"white\"}, \"hoverinfo\": \"none\", \"mode\": \"lines\"}, {\"type\": \"scatter3d\", \"x\": [0.14448585718302293, 0.05111763959501187, null], \"y\": [-0.0724728161365025, 0.061827624122324565, null], \"z\": [0.08521470911714414, 0.1073852653359946, null], \"line\": {\"width\": 1, \"color\": \"white\"}, \"hoverinfo\": \"none\", \"mode\": \"lines\"}, {\"type\": \"scatter3d\", \"x\": [0.14448585718302293, 0.08171157809820943, null], \"y\": [-0.0724728161365025, 0.09062485247644866, null], \"z\": [0.08521470911714414, -0.04819826574401871, null], \"line\": {\"width\": 1, \"color\": \"white\"}, \"hoverinfo\": \"none\", \"mode\": \"lines\"}, {\"type\": \"scatter3d\", \"x\": [0.14448585718302293, 0.20049981714077705, null], \"y\": [-0.0724728161365025, 0.09296284826576588, null], \"z\": [0.08521470911714414, 0.02762900578252081, null], \"line\": {\"width\": 1, \"color\": \"white\"}, \"hoverinfo\": \"none\", \"mode\": \"lines\"}, {\"type\": \"scatter3d\", \"x\": [0.14448585718302293, 0.19011359226042795, null], \"y\": [-0.0724728161365025, -0.03157750363351596, null], \"z\": [0.08521470911714414, -0.02876449690571877, null], \"line\": {\"width\": 1, \"color\": \"white\"}, \"hoverinfo\": \"none\", \"mode\": \"lines\"}, {\"type\": \"scatter3d\", \"x\": [0.14448585718302293, 0.1396991382998311, null], \"y\": [-0.0724728161365025, 0.13211039749676276, null], \"z\": [0.08521470911714414, 0.036667504346245154, null], \"line\": {\"width\": 1, \"color\": \"white\"}, \"hoverinfo\": \"none\", \"mode\": \"lines\"}, {\"type\": \"scatter3d\", \"x\": [0.14448585718302293, 0.05481943499907112, null], \"y\": [-0.0724728161365025, -0.061170050688860673, null], \"z\": [0.08521470911714414, -0.0148324707403163, null], \"line\": {\"width\": 1, \"color\": \"white\"}, \"hoverinfo\": \"none\", \"mode\": \"lines\"}, {\"type\": \"scatter3d\", \"x\": [0.20049981714077705, 0.02898842012282331, null], \"y\": [0.09296284826576588, 0.0013474462159668336, null], \"z\": [0.02762900578252081, 0.1168506455324738, null], \"line\": {\"width\": 1, \"color\": \"white\"}, \"hoverinfo\": \"none\", \"mode\": \"lines\"}, {\"type\": \"scatter3d\", \"x\": [0.20049981714077705, -0.058433738424554044, null], \"y\": [0.09296284826576588, -0.01179025137682218, null], \"z\": [0.02762900578252081, -0.021510363207252674, null], \"line\": {\"width\": 1, \"color\": \"white\"}, \"hoverinfo\": \"none\", \"mode\": \"lines\"}, {\"type\": \"scatter3d\", \"x\": [0.20049981714077705, 0.07139446778532593, null], \"y\": [0.09296284826576588, 0.12838531173079115, null], \"z\": [0.02762900578252081, 0.01606052036642238, null], \"line\": {\"width\": 1, \"color\": \"white\"}, \"hoverinfo\": \"none\", \"mode\": \"lines\"}, {\"type\": \"scatter3d\", \"x\": [0.20049981714077705, 0.2040653545386135, null], \"y\": [0.09296284826576588, 0.03867151303375133, null], \"z\": [0.02762900578252081, -0.015719654999540707, null], \"line\": {\"width\": 1, \"color\": \"white\"}, \"hoverinfo\": \"none\", \"mode\": \"lines\"}, {\"type\": \"scatter3d\", \"x\": [0.20049981714077705, 0.08698956797436821, null], \"y\": [0.09296284826576588, -0.03818543608748077, null], \"z\": [0.02762900578252081, 0.12656041357925446, null], \"line\": {\"width\": 1, \"color\": \"white\"}, \"hoverinfo\": \"none\", \"mode\": \"lines\"}, {\"type\": \"scatter3d\", \"x\": [0.20049981714077705, 0.05111763959501187, null], \"y\": [0.09296284826576588, 0.061827624122324565, null], \"z\": [0.02762900578252081, 0.1073852653359946, null], \"line\": {\"width\": 1, \"color\": \"white\"}, \"hoverinfo\": \"none\", \"mode\": \"lines\"}, {\"type\": \"scatter3d\", \"x\": [0.20049981714077705, 0.08171157809820943, null], \"y\": [0.09296284826576588, 0.09062485247644866, null], \"z\": [0.02762900578252081, -0.04819826574401871, null], \"line\": {\"width\": 1, \"color\": \"white\"}, \"hoverinfo\": \"none\", \"mode\": \"lines\"}, {\"type\": \"scatter3d\", \"x\": [0.20049981714077705, 0.19011359226042795, null], \"y\": [0.09296284826576588, -0.03157750363351596, null], \"z\": [0.02762900578252081, -0.02876449690571877, null], \"line\": {\"width\": 1, \"color\": \"white\"}, \"hoverinfo\": \"none\", \"mode\": \"lines\"}, {\"type\": \"scatter3d\", \"x\": [0.20049981714077705, 0.1396991382998311, null], \"y\": [0.09296284826576588, 0.13211039749676276, null], \"z\": [0.02762900578252081, 0.036667504346245154, null], \"line\": {\"width\": 1, \"color\": \"white\"}, \"hoverinfo\": \"none\", \"mode\": \"lines\"}, {\"type\": \"scatter3d\", \"x\": [0.20049981714077705, 0.05481943499907112, null], \"y\": [0.09296284826576588, -0.061170050688860673, null], \"z\": [0.02762900578252081, -0.0148324707403163, null], \"line\": {\"width\": 1, \"color\": \"white\"}, \"hoverinfo\": \"none\", \"mode\": \"lines\"}, {\"type\": \"scatter3d\", \"x\": [0.02898842012282331, 0.19011359226042795, null], \"y\": [0.0013474462159668336, -0.03157750363351596, null], \"z\": [0.1168506455324738, -0.02876449690571877, null], \"line\": {\"width\": 1, \"color\": \"white\"}, \"hoverinfo\": \"none\", \"mode\": \"lines\"}, {\"type\": \"scatter3d\", \"x\": [0.02898842012282331, -0.058433738424554044, null], \"y\": [0.0013474462159668336, -0.01179025137682218, null], \"z\": [0.1168506455324738, -0.021510363207252674, null], \"line\": {\"width\": 1, \"color\": \"white\"}, \"hoverinfo\": \"none\", \"mode\": \"lines\"}, {\"type\": \"scatter3d\", \"x\": [0.02898842012282331, 0.08171157809820943, null], \"y\": [0.0013474462159668336, 0.09062485247644866, null], \"z\": [0.1168506455324738, -0.04819826574401871, null], \"line\": {\"width\": 1, \"color\": \"white\"}, \"hoverinfo\": \"none\", \"mode\": \"lines\"}, {\"type\": \"scatter3d\", \"x\": [0.02898842012282331, 0.05111763959501187, null], \"y\": [0.0013474462159668336, 0.061827624122324565, null], \"z\": [0.1168506455324738, 0.1073852653359946, null], \"line\": {\"width\": 1, \"color\": \"white\"}, \"hoverinfo\": \"none\", \"mode\": \"lines\"}, {\"type\": \"scatter3d\", \"x\": [0.02898842012282331, 0.1396991382998311, null], \"y\": [0.0013474462159668336, 0.13211039749676276, null], \"z\": [0.1168506455324738, 0.036667504346245154, null], \"line\": {\"width\": 1, \"color\": \"white\"}, \"hoverinfo\": \"none\", \"mode\": \"lines\"}, {\"type\": \"scatter3d\", \"x\": [0.02898842012282331, 0.08698956797436821, null], \"y\": [0.0013474462159668336, -0.03818543608748077, null], \"z\": [0.1168506455324738, 0.12656041357925446, null], \"line\": {\"width\": 1, \"color\": \"white\"}, \"hoverinfo\": \"none\", \"mode\": \"lines\"}, {\"type\": \"scatter3d\", \"x\": [0.02898842012282331, 0.07139446778532593, null], \"y\": [0.0013474462159668336, 0.12838531173079115, null], \"z\": [0.1168506455324738, 0.01606052036642238, null], \"line\": {\"width\": 1, \"color\": \"white\"}, \"hoverinfo\": \"none\", \"mode\": \"lines\"}, {\"type\": \"scatter3d\", \"x\": [0.02898842012282331, 0.2040653545386135, null], \"y\": [0.0013474462159668336, 0.03867151303375133, null], \"z\": [0.1168506455324738, -0.015719654999540707, null], \"line\": {\"width\": 1, \"color\": \"white\"}, \"hoverinfo\": \"none\", \"mode\": \"lines\"}, {\"type\": \"scatter3d\", \"x\": [0.02898842012282331, 0.05481943499907112, null], \"y\": [0.0013474462159668336, -0.061170050688860673, null], \"z\": [0.1168506455324738, -0.0148324707403163, null], \"line\": {\"width\": 1, \"color\": \"white\"}, \"hoverinfo\": \"none\", \"mode\": \"lines\"}, {\"type\": \"scatter3d\", \"x\": [-0.4771484822888056, -0.058433738424554044, null], \"y\": [-0.09159752374745991, -0.01179025137682218, null], \"z\": [-0.1748618697926978, -0.021510363207252674, null], \"line\": {\"width\": 1, \"color\": \"white\"}, \"hoverinfo\": \"none\", \"mode\": \"lines\"}, {\"type\": \"scatter3d\", \"x\": [0.19011359226042795, -0.058433738424554044, null], \"y\": [-0.03157750363351596, -0.01179025137682218, null], \"z\": [-0.02876449690571877, -0.021510363207252674, null], \"line\": {\"width\": 1, \"color\": \"white\"}, \"hoverinfo\": \"none\", \"mode\": \"lines\"}, {\"type\": \"scatter3d\", \"x\": [0.19011359226042795, 0.07139446778532593, null], \"y\": [-0.03157750363351596, 0.12838531173079115, null], \"z\": [-0.02876449690571877, 0.01606052036642238, null], \"line\": {\"width\": 1, \"color\": \"white\"}, \"hoverinfo\": \"none\", \"mode\": \"lines\"}, {\"type\": \"scatter3d\", \"x\": [0.19011359226042795, 0.2040653545386135, null], \"y\": [-0.03157750363351596, 0.03867151303375133, null], \"z\": [-0.02876449690571877, -0.015719654999540707, null], \"line\": {\"width\": 1, \"color\": \"white\"}, \"hoverinfo\": \"none\", \"mode\": \"lines\"}, {\"type\": \"scatter3d\", \"x\": [0.19011359226042795, 0.08698956797436821, null], \"y\": [-0.03157750363351596, -0.03818543608748077, null], \"z\": [-0.02876449690571877, 0.12656041357925446, null], \"line\": {\"width\": 1, \"color\": \"white\"}, \"hoverinfo\": \"none\", \"mode\": \"lines\"}, {\"type\": \"scatter3d\", \"x\": [0.19011359226042795, 0.05111763959501187, null], \"y\": [-0.03157750363351596, 0.061827624122324565, null], \"z\": [-0.02876449690571877, 0.1073852653359946, null], \"line\": {\"width\": 1, \"color\": \"white\"}, \"hoverinfo\": \"none\", \"mode\": \"lines\"}, {\"type\": \"scatter3d\", \"x\": [0.19011359226042795, 0.08171157809820943, null], \"y\": [-0.03157750363351596, 0.09062485247644866, null], \"z\": [-0.02876449690571877, -0.04819826574401871, null], \"line\": {\"width\": 1, \"color\": \"white\"}, \"hoverinfo\": \"none\", \"mode\": \"lines\"}, {\"type\": \"scatter3d\", \"x\": [0.19011359226042795, 0.05481943499907112, null], \"y\": [-0.03157750363351596, -0.061170050688860673, null], \"z\": [-0.02876449690571877, -0.0148324707403163, null], \"line\": {\"width\": 1, \"color\": \"white\"}, \"hoverinfo\": \"none\", \"mode\": \"lines\"}, {\"type\": \"scatter3d\", \"x\": [0.19011359226042795, 0.1396991382998311, null], \"y\": [-0.03157750363351596, 0.13211039749676276, null], \"z\": [-0.02876449690571877, 0.036667504346245154, null], \"line\": {\"width\": 1, \"color\": \"white\"}, \"hoverinfo\": \"none\", \"mode\": \"lines\"}, {\"type\": \"scatter3d\", \"x\": [-0.058433738424554044, 0.2040653545386135, null], \"y\": [-0.01179025137682218, 0.03867151303375133, null], \"z\": [-0.021510363207252674, -0.015719654999540707, null], \"line\": {\"width\": 1, \"color\": \"white\"}, \"hoverinfo\": \"none\", \"mode\": \"lines\"}, {\"type\": \"scatter3d\", \"x\": [-0.058433738424554044, 0.08171157809820943, null], \"y\": [-0.01179025137682218, 0.09062485247644866, null], \"z\": [-0.021510363207252674, -0.04819826574401871, null], \"line\": {\"width\": 1, \"color\": \"white\"}, \"hoverinfo\": \"none\", \"mode\": \"lines\"}, {\"type\": \"scatter3d\", \"x\": [-0.058433738424554044, 0.05111763959501187, null], \"y\": [-0.01179025137682218, 0.061827624122324565, null], \"z\": [-0.021510363207252674, 0.1073852653359946, null], \"line\": {\"width\": 1, \"color\": \"white\"}, \"hoverinfo\": \"none\", \"mode\": \"lines\"}, {\"type\": \"scatter3d\", \"x\": [-0.058433738424554044, 0.1396991382998311, null], \"y\": [-0.01179025137682218, 0.13211039749676276, null], \"z\": [-0.021510363207252674, 0.036667504346245154, null], \"line\": {\"width\": 1, \"color\": \"white\"}, \"hoverinfo\": \"none\", \"mode\": \"lines\"}, {\"type\": \"scatter3d\", \"x\": [-0.058433738424554044, 0.08698956797436821, null], \"y\": [-0.01179025137682218, -0.03818543608748077, null], \"z\": [-0.021510363207252674, 0.12656041357925446, null], \"line\": {\"width\": 1, \"color\": \"white\"}, \"hoverinfo\": \"none\", \"mode\": \"lines\"}, {\"type\": \"scatter3d\", \"x\": [-0.058433738424554044, 0.07139446778532593, null], \"y\": [-0.01179025137682218, 0.12838531173079115, null], \"z\": [-0.021510363207252674, 0.01606052036642238, null], \"line\": {\"width\": 1, \"color\": \"white\"}, \"hoverinfo\": \"none\", \"mode\": \"lines\"}, {\"type\": \"scatter3d\", \"x\": [-0.058433738424554044, 0.05481943499907112, null], \"y\": [-0.01179025137682218, -0.061170050688860673, null], \"z\": [-0.021510363207252674, -0.0148324707403163, null], \"line\": {\"width\": 1, \"color\": \"white\"}, \"hoverinfo\": \"none\", \"mode\": \"lines\"}, {\"type\": \"scatter3d\", \"x\": [0.08171157809820943, 0.07139446778532593, null], \"y\": [0.09062485247644866, 0.12838531173079115, null], \"z\": [-0.04819826574401871, 0.01606052036642238, null], \"line\": {\"width\": 1, \"color\": \"white\"}, \"hoverinfo\": \"none\", \"mode\": \"lines\"}, {\"type\": \"scatter3d\", \"x\": [0.08171157809820943, 0.2040653545386135, null], \"y\": [0.09062485247644866, 0.03867151303375133, null], \"z\": [-0.04819826574401871, -0.015719654999540707, null], \"line\": {\"width\": 1, \"color\": \"white\"}, \"hoverinfo\": \"none\", \"mode\": \"lines\"}, {\"type\": \"scatter3d\", \"x\": [0.08171157809820943, 0.08698956797436821, null], \"y\": [0.09062485247644866, -0.03818543608748077, null], \"z\": [-0.04819826574401871, 0.12656041357925446, null], \"line\": {\"width\": 1, \"color\": \"white\"}, \"hoverinfo\": \"none\", \"mode\": \"lines\"}, {\"type\": \"scatter3d\", \"x\": [0.08171157809820943, 0.05111763959501187, null], \"y\": [0.09062485247644866, 0.061827624122324565, null], \"z\": [-0.04819826574401871, 0.1073852653359946, null], \"line\": {\"width\": 1, \"color\": \"white\"}, \"hoverinfo\": \"none\", \"mode\": \"lines\"}, {\"type\": \"scatter3d\", \"x\": [0.08171157809820943, 0.1396991382998311, null], \"y\": [0.09062485247644866, 0.13211039749676276, null], \"z\": [-0.04819826574401871, 0.036667504346245154, null], \"line\": {\"width\": 1, \"color\": \"white\"}, \"hoverinfo\": \"none\", \"mode\": \"lines\"}, {\"type\": \"scatter3d\", \"x\": [0.08171157809820943, 0.05481943499907112, null], \"y\": [0.09062485247644866, -0.061170050688860673, null], \"z\": [-0.04819826574401871, -0.0148324707403163, null], \"line\": {\"width\": 1, \"color\": \"white\"}, \"hoverinfo\": \"none\", \"mode\": \"lines\"}, {\"type\": \"scatter3d\", \"x\": [0.05111763959501187, 0.07139446778532593, null], \"y\": [0.061827624122324565, 0.12838531173079115, null], \"z\": [0.1073852653359946, 0.01606052036642238, null], \"line\": {\"width\": 1, \"color\": \"white\"}, \"hoverinfo\": \"none\", \"mode\": \"lines\"}, {\"type\": \"scatter3d\", \"x\": [0.05111763959501187, 0.2040653545386135, null], \"y\": [0.061827624122324565, 0.03867151303375133, null], \"z\": [0.1073852653359946, -0.015719654999540707, null], \"line\": {\"width\": 1, \"color\": \"white\"}, \"hoverinfo\": \"none\", \"mode\": \"lines\"}, {\"type\": \"scatter3d\", \"x\": [0.05111763959501187, 0.08698956797436821, null], \"y\": [0.061827624122324565, -0.03818543608748077, null], \"z\": [0.1073852653359946, 0.12656041357925446, null], \"line\": {\"width\": 1, \"color\": \"white\"}, \"hoverinfo\": \"none\", \"mode\": \"lines\"}, {\"type\": \"scatter3d\", \"x\": [0.05111763959501187, 0.1396991382998311, null], \"y\": [0.061827624122324565, 0.13211039749676276, null], \"z\": [0.1073852653359946, 0.036667504346245154, null], \"line\": {\"width\": 1, \"color\": \"white\"}, \"hoverinfo\": \"none\", \"mode\": \"lines\"}, {\"type\": \"scatter3d\", \"x\": [0.05111763959501187, 0.05481943499907112, null], \"y\": [0.061827624122324565, -0.061170050688860673, null], \"z\": [0.1073852653359946, -0.0148324707403163, null], \"line\": {\"width\": 1, \"color\": \"white\"}, \"hoverinfo\": \"none\", \"mode\": \"lines\"}, {\"type\": \"scatter3d\", \"x\": [0.1396991382998311, 0.07139446778532593, null], \"y\": [0.13211039749676276, 0.12838531173079115, null], \"z\": [0.036667504346245154, 0.01606052036642238, null], \"line\": {\"width\": 1, \"color\": \"white\"}, \"hoverinfo\": \"none\", \"mode\": \"lines\"}, {\"type\": \"scatter3d\", \"x\": [0.1396991382998311, 0.2040653545386135, null], \"y\": [0.13211039749676276, 0.03867151303375133, null], \"z\": [0.036667504346245154, -0.015719654999540707, null], \"line\": {\"width\": 1, \"color\": \"white\"}, \"hoverinfo\": \"none\", \"mode\": \"lines\"}, {\"type\": \"scatter3d\", \"x\": [0.1396991382998311, 0.08698956797436821, null], \"y\": [0.13211039749676276, -0.03818543608748077, null], \"z\": [0.036667504346245154, 0.12656041357925446, null], \"line\": {\"width\": 1, \"color\": \"white\"}, \"hoverinfo\": \"none\", \"mode\": \"lines\"}, {\"type\": \"scatter3d\", \"x\": [0.1396991382998311, 0.05481943499907112, null], \"y\": [0.13211039749676276, -0.061170050688860673, null], \"z\": [0.036667504346245154, -0.0148324707403163, null], \"line\": {\"width\": 1, \"color\": \"white\"}, \"hoverinfo\": \"none\", \"mode\": \"lines\"}, {\"type\": \"scatter3d\", \"x\": [0.08698956797436821, 0.07139446778532593, null], \"y\": [-0.03818543608748077, 0.12838531173079115, null], \"z\": [0.12656041357925446, 0.01606052036642238, null], \"line\": {\"width\": 1, \"color\": \"white\"}, \"hoverinfo\": \"none\", \"mode\": \"lines\"}, {\"type\": \"scatter3d\", \"x\": [0.08698956797436821, 0.2040653545386135, null], \"y\": [-0.03818543608748077, 0.03867151303375133, null], \"z\": [0.12656041357925446, -0.015719654999540707, null], \"line\": {\"width\": 1, \"color\": \"white\"}, \"hoverinfo\": \"none\", \"mode\": \"lines\"}, {\"type\": \"scatter3d\", \"x\": [0.08698956797436821, 0.05481943499907112, null], \"y\": [-0.03818543608748077, -0.061170050688860673, null], \"z\": [0.12656041357925446, -0.0148324707403163, null], \"line\": {\"width\": 1, \"color\": \"white\"}, \"hoverinfo\": \"none\", \"mode\": \"lines\"}, {\"type\": \"scatter3d\", \"x\": [-1.0, -0.9805995752100826, null], \"y\": [-0.25786235501046123, -0.18453633941306008, null], \"z\": [-0.26206402322297556, -0.37734384494269435, null], \"line\": {\"width\": 1, \"color\": \"white\"}, \"hoverinfo\": \"none\", \"mode\": \"lines\"}, {\"type\": \"scatter3d\", \"x\": [0.07139446778532593, 0.2040653545386135, null], \"y\": [0.12838531173079115, 0.03867151303375133, null], \"z\": [0.01606052036642238, -0.015719654999540707, null], \"line\": {\"width\": 1, \"color\": \"white\"}, \"hoverinfo\": \"none\", \"mode\": \"lines\"}, {\"type\": \"scatter3d\", \"x\": [0.07139446778532593, 0.05481943499907112, null], \"y\": [0.12838531173079115, -0.061170050688860673, null], \"z\": [0.01606052036642238, -0.0148324707403163, null], \"line\": {\"width\": 1, \"color\": \"white\"}, \"hoverinfo\": \"none\", \"mode\": \"lines\"}, {\"type\": \"scatter3d\", \"x\": [0.2040653545386135, 0.05481943499907112, null], \"y\": [0.03867151303375133, -0.061170050688860673, null], \"z\": [-0.015719654999540707, -0.0148324707403163, null], \"line\": {\"width\": 1, \"color\": \"white\"}, \"hoverinfo\": \"none\", \"mode\": \"lines\"}, {\"type\": \"scatter3d\", \"x\": [0.010368251129315977, 0.19247254099181169, 0.12169561560229054, 0.10041847163453094, 0.1491090764705074, 0.10481593019714143, 0.1495837050966847, -0.6503147056557225, 0.06553395185952163, 0.17301966995753737, 0.0676826826973529, 0.12657890072753847, 0.06694941049076106, 0.1733446336774246, 0.01320629538927007, 0.15571362449872603, 0.22161962706438096, 0.020499246096886727, 0.14448585718302293, 0.20049981714077705, 0.02898842012282331, -0.4771484822888056, 0.19011359226042795, -0.058433738424554044, 0.08171157809820943, 0.05111763959501187, 0.1396991382998311, 0.08698956797436821, -1.0, 0.07139446778532593, 0.2040653545386135, 0.05481943499907112, -0.9805995752100826], \"y\": [-0.01758933581398996, -0.047564167433613816, -0.04187796712183215, 0.11743237110551957, 0.10091051911798132, 0.04710618729610153, 0.031659920785054606, -0.1438887532973297, -0.07765335082962689, 0.03343395264610534, 0.020027382280947637, -0.0840705418669723, 0.010850575204346926, 0.09270320526187634, 0.06653968755803646, -0.01373139735063719, 0.012632380227110142, 0.09634161498327377, -0.0724728161365025, 0.09296284826576588, 0.0013474462159668336, -0.09159752374745991, -0.03157750363351596, -0.01179025137682218, 0.09062485247644866, 0.061827624122324565, 0.13211039749676276, -0.03818543608748077, -0.25786235501046123, 0.12838531173079115, 0.03867151303375133, -0.061170050688860673, -0.18453633941306008], \"z\": [0.05105041134911236, 0.041370235927608634, -0.05425244435338347, 0.099332588018368, -0.03670661615221019, 0.14805961750399171, -0.07161070361086974, -0.2125913945161545, 0.06509022858251749, 0.09502498228342302, -0.07349607635658016, 0.011079308003001428, -0.003919914442102045, 0.10995807748237776, -0.0023844290418191267, 0.1333715053169754, 0.06240550933931012, 0.06514604016159398, 0.08521470911714414, 0.02762900578252081, 0.1168506455324738, -0.1748618697926978, -0.02876449690571877, -0.021510363207252674, -0.04819826574401871, 0.1073852653359946, 0.036667504346245154, 0.12656041357925446, -0.26206402322297556, 0.01606052036642238, -0.015719654999540707, -0.0148324707403163, -0.37734384494269435], \"text\": [\"Peter  Mendoza Witness\", \"Jackie M Munez Witness\", \"James  Tyrone Witness\", \"Chris L Patterson Witness\", \"Laura C Alvarez Witness\", \"Olivia L Lynch Witness\", \"Brenda  Ricardo Witness\", \"Elizabeth T Baker Suspect\", \"Maria  Marques Witness\", \"Amber Lynn Harris Witness\", \"Kenneth K Shores Witness\", \"Timothy  West Witness\", \"Betriz A Valera-Galeana Witness\", \"Thomas G Evenson Witness\", \"Young  Chon Witness\", \"Taryn J Howard Witness\", \"Tom  Williams Witness\", \"Charles A Grimm Witness\", \"Debbie A Krout Witness\", \"Shawn Michael Peters Witness\", \"Robert David Hanson Victim\", \"Herman Jd Rene Levant Suspect\", \"Mary M Gomiez Witness\", \"Deborah A Jefferson Witness\", \"Ricardo Perez Martinez-Perez Witness\", \"Maria G Martinez Witness\", \"Oswald  Reyes Witness\", \"Paul  Smith Witness\", \"Chris T Haycock Witness\", \"Juan  Munez Witness\", \"Mark Joseph Umlauf Victim\", \"Mario  Garcias Witness\", \"Talia P Thomas Suspect\"], \"mode\": \"markers\", \"hoverinfo\": \"text\", \"marker\": {\"showscale\": false, \"colorscale\": \"Portland\", \"reversescale\": true, \"opacity\": 1, \"color\": [2, 2, 2, 2, 2, 2, 2, 0, 2, 2, 2, 2, 2, 2, 2, 2, 2, 2, 2, 2, 1, 0, 2, 2, 2, 2, 2, 2, 2, 2, 1, 2, 3], \"size\": [32.3134328358209, 32.3134328358209, 32.3134328358209, 32.3134328358209, 33.125, 32.846153846153854, 32.3134328358209, 26.2621359223301, 32.3134328358209, 32.3134328358209, 32.3134328358209, 32.3134328358209, 32.3134328358209, 32.3134328358209, 32.3134328358209, 32.3134328358209, 32.3134328358209, 32.3134328358209, 32.3134328358209, 32.3134328358209, 35.0, 26.04761904761905, 32.3134328358209, 33.41269841269841, 32.3134328358209, 32.3134328358209, 32.3134328358209, 32.3134328358209, 22.891156462585034, 32.3134328358209, 32.3134328358209, 32.3134328358209, 22.891156462585034], \"line\": {\"width\": 2}}}], {\"title\": \"<br>Criminal network graph made with Python\", \"titlefont\": {\"size\": 16}, \"showlegend\": false, \"hovermode\": \"closest\", \"margin\": {\"b\": 20, \"l\": 5, \"r\": 5, \"t\": 40}, \"scene\": {\"xaxis\": {\"visible\": false, \"showgrid\": false, \"zeroline\": false, \"showticklabels\": false}, \"yaxis\": {\"visible\": false, \"showgrid\": false, \"zeroline\": false, \"showticklabels\": false}, \"zaxis\": {\"visible\": false, \"showgrid\": false}}}, {\"showLink\": true, \"linkText\": \"Export to plot.ly\"})});</script>"
      ]
     },
     "metadata": {},
     "output_type": "display_data"
    }
   ],
   "source": [
    "fig = Figure(data=data,\n",
    "              layout=Layout(\n",
    "                title='<br>Criminal network graph made with Python',\n",
    "                titlefont=dict(size=16),\n",
    "                showlegend=False,\n",
    "                hovermode='closest',\n",
    "                margin=dict(b=20,l=5,r=5,t=40),\n",
    "                scene = dict(xaxis=XAxis(visible=False, showgrid=False, zeroline=False, showticklabels=False),\n",
    "                yaxis=YAxis(visible=False,showgrid=False, zeroline=False, showticklabels=False),\n",
    "                zaxis=ZAxis(visible=False, showgrid=False))))\n",
    "   \n",
    "offline.iplot(fig, filename='User-graphic')\n",
    "    "
   ]
  },
  {
   "cell_type": "code",
   "execution_count": null,
   "metadata": {
    "collapsed": true,
    "deletable": true,
    "editable": true
   },
   "outputs": [],
   "source": []
  }
 ],
 "metadata": {
  "kernelspec": {
   "display_name": "Python 3",
   "language": "python",
   "name": "python3"
  },
  "language_info": {
   "codemirror_mode": {
    "name": "ipython",
    "version": 3
   },
   "file_extension": ".py",
   "mimetype": "text/x-python",
   "name": "python",
   "nbconvert_exporter": "python",
   "pygments_lexer": "ipython3",
   "version": "3.6.3"
  }
 },
 "nbformat": 4,
 "nbformat_minor": 2
}
